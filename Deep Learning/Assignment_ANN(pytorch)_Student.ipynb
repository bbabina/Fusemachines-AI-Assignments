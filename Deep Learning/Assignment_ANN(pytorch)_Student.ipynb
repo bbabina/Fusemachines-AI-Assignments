{
  "cells": [
    {
      "cell_type": "markdown",
      "metadata": {
        "deletable": false,
        "editable": false,
        "id": "aR1tDEuEeHVe",
        "nbgrader": {
          "cell_type": "markdown",
          "checksum": "cfc327374672421ab58f6375d48a4396",
          "grade": false,
          "grade_id": "cell-0062ba1d0399171b",
          "locked": true,
          "schema_version": 3,
          "solution": false,
          "task": false
        }
      },
      "source": [
        "# Assignment | Artificial Neural Network \n",
        "\n",
        "In this assignment, we will implement artificial neural network to predict the number of sales for a company based on the advertisement platforms like **`TV, Radio and Newspaper`**. After this assignment you will be able to:\n",
        "\n",
        "- Implement simple artificial neural network to perform regression task.\n",
        "\n",
        "We have divided this assignment into a series of steps:\n",
        "1. Import the data\n",
        "2. Preprocess the data\n",
        "3. Build a Deep Neural Network\n",
        "4. Train the model\n",
        "5. Evaluate the model\n",
        "\n",
        "To begin the implementation, let's import the main modules which we have already discussed before."
      ]
    },
    {
      "cell_type": "code",
      "execution_count": null,
      "metadata": {
        "deletable": false,
        "editable": false,
        "id": "DHJmgPypmKqB",
        "nbgrader": {
          "cell_type": "code",
          "checksum": "d035d6a16c34f82de626a9f392d0819b",
          "grade": false,
          "grade_id": "cell-e0d8a41cffa841b8",
          "locked": true,
          "schema_version": 3,
          "solution": false,
          "task": false
        }
      },
      "outputs": [],
      "source": [
        "### READ ONLY  \n",
        "!pip install fuse-grader --upgrade \n",
        "from fusegrader.grader import Grader\n",
        "import os\n",
        "\n",
        "my_file = 'python-l1-4-source.pkl'\n",
        "\n",
        "if os.path.isfile(my_file):\n",
        "    os.remove(my_file)\n",
        "\n",
        "grader = Grader('python-l1-4', 'http://localhost:5000/api/grader/submit-assignment/')"
      ]
    },
    {
      "cell_type": "code",
      "execution_count": null,
      "metadata": {
        "deletable": false,
        "editable": false,
        "id": "vq6pWYLRZBvN",
        "nbgrader": {
          "cell_type": "code",
          "checksum": "ef6fe15d2970a73e96de69f8c1250594",
          "grade": false,
          "grade_id": "cell-d9ac16e2b670a8a7",
          "locked": true,
          "schema_version": 3,
          "solution": false,
          "task": false
        }
      },
      "outputs": [],
      "source": [
        "import numpy as np\n",
        "import pandas as pd\n",
        "import matplotlib.pyplot as plt\n",
        "import torch\n",
        "from torch import nn"
      ]
    },
    {
      "cell_type": "markdown",
      "metadata": {
        "deletable": false,
        "editable": false,
        "id": "B6NvmBQkeHVl",
        "nbgrader": {
          "cell_type": "markdown",
          "checksum": "292e75466915bc6b67362c5daa61c773",
          "grade": false,
          "grade_id": "cell-a4c2dab9411b7f75",
          "locked": true,
          "schema_version": 3,
          "solution": false,
          "task": false
        }
      },
      "source": [
        "## Dataset Description\n",
        "\n",
        "This `Advertisement.csv` dataset consists of the number of units of product sold in 200 different markets. Based on the advertisement budgets in each of these markets for different media channels like `TV`, `Radio`, and `Newspaper`, the number of sold units `sales` is recorded and tallied. \n",
        "\n",
        ">The problem of predicting the number of sales based on the budget allocations in different channels of advertisements presents a **Multiple Linear Regression Problem.**\n",
        "\n",
        "_All the values should be expressed interms of thousands._"
      ]
    },
    {
      "cell_type": "markdown",
      "metadata": {
        "deletable": false,
        "editable": false,
        "id": "HnZWswOKeHVl",
        "nbgrader": {
          "cell_type": "markdown",
          "checksum": "ce8df513b7841cebcaeb6e6865aea8ae",
          "grade": false,
          "grade_id": "cell-6992b6ff63e80222",
          "locked": true,
          "schema_version": 3,
          "solution": false,
          "task": false
        }
      },
      "source": [
        "## Loading the Advertisement Dataset"
      ]
    },
    {
      "cell_type": "code",
      "execution_count": null,
      "metadata": {
        "deletable": false,
        "editable": false,
        "id": "NmRq_Tt-aHC0",
        "nbgrader": {
          "cell_type": "code",
          "checksum": "2bc2f4f08e6fbc66bc76c0676bc857fa",
          "grade": false,
          "grade_id": "cell-32df397e8c07c758",
          "locked": true,
          "schema_version": 3,
          "solution": false,
          "task": false
        }
      },
      "outputs": [],
      "source": [
        "data_path = 'https://www.statlearning.com/s/Advertising.csv'\n",
        "data = pd.read_csv(data_path)\n",
        "print(data)"
      ]
    },
    {
      "cell_type": "markdown",
      "metadata": {
        "deletable": false,
        "editable": false,
        "id": "nORxblaCeHVm",
        "nbgrader": {
          "cell_type": "markdown",
          "checksum": "d91bb38681375c1ca8def5be2c738d78",
          "grade": false,
          "grade_id": "cell-111af231a1049912",
          "locked": true,
          "schema_version": 3,
          "solution": false,
          "task": false
        }
      },
      "source": [
        "**Removing the feature column `Unnamed` as it just repeats the index values**"
      ]
    },
    {
      "cell_type": "code",
      "execution_count": null,
      "metadata": {
        "deletable": false,
        "editable": false,
        "id": "l0W-N3GtaMEw",
        "nbgrader": {
          "cell_type": "code",
          "checksum": "573b742beb20c01a70e1cb6e2184729e",
          "grade": false,
          "grade_id": "cell-f5989ebe58b82551",
          "locked": true,
          "schema_version": 3,
          "solution": false,
          "task": false
        }
      },
      "outputs": [],
      "source": [
        "data.drop(columns=[\"Unnamed: 0\"], inplace=True) \n",
        "print(data)"
      ]
    },
    {
      "cell_type": "markdown",
      "metadata": {
        "deletable": false,
        "editable": false,
        "id": "_b1pwKJEeHVn",
        "nbgrader": {
          "cell_type": "markdown",
          "checksum": "a1e142d94201acc62f9635db38e41702",
          "grade": false,
          "grade_id": "cell-4ec4d6577f678687",
          "locked": true,
          "schema_version": 3,
          "solution": false,
          "task": false
        }
      },
      "source": [
        "As we mentioned above, the values are to be reported in thousands which means that:\n",
        "\n",
        "**With an investment of `230.1K`, `37.8K` and `69.2K` budget in `TV`, `Radio` and `Newspaper` respectively, market indexed `0` sold about `22.1K=22100 units` of product.**\n",
        "\n",
        "### Splitting the data into features and target \n",
        "We will now be splitting the data into fetures (X) and target (y). As discussed earlier the target feature is the `sales` where as `TV`, `Radio` and `Newspaper` budgeting are the feature sets. "
      ]
    },
    {
      "cell_type": "code",
      "execution_count": null,
      "metadata": {
        "deletable": false,
        "editable": false,
        "id": "w08ho9NzaMvn",
        "nbgrader": {
          "cell_type": "code",
          "checksum": "51345d1e6eae7827f5d71a2f87bd50f8",
          "grade": false,
          "grade_id": "cell-d02062696e052ae3",
          "locked": true,
          "schema_version": 3,
          "solution": false,
          "task": false
        }
      },
      "outputs": [],
      "source": [
        "feature_columns = data.columns[:-1]\n",
        "target_column = data.columns[-1]\n",
        "\n",
        "# Feature columns: ['TV', 'Radio', 'Newspaper']\n",
        "X = data[feature_columns]\n",
        "\n",
        "# Target Column: ['Sales']\n",
        "y = data[target_column]\n",
        "\n",
        "print(\"X:\\n{}\\n\".format(X.head()))\n",
        "print(\"y:\\n{}\".format(y.head()))"
      ]
    },
    {
      "cell_type": "markdown",
      "metadata": {
        "deletable": false,
        "editable": false,
        "id": "MkMOeW8QeHVo",
        "nbgrader": {
          "cell_type": "markdown",
          "checksum": "e8a7047e4dbf1ad59b79a16a29a684f4",
          "grade": false,
          "grade_id": "cell-5b8e7ea648c9805f",
          "locked": true,
          "schema_version": 3,
          "solution": false,
          "task": false
        }
      },
      "source": [
        "### Visualising the correlation between features and the target\n",
        "\n",
        "Understanding the data is one of the key steps in developing a successful model. To visualise the **degree and type of relationship** between the features set and the target values, we will be using the **correlation** among them.\n",
        "\n",
        "So, we create a function **`visualize_correlation`** to plot each feature (i.e. **`TV`**, **`radio`** and **`newspaper`**) against the target i.e. **`sales`** using scatter plot and also compute the correlation coefficients to determine the type of correlation for each."
      ]
    },
    {
      "cell_type": "code",
      "execution_count": null,
      "metadata": {
        "deletable": false,
        "editable": false,
        "id": "NK3TSylaaO44",
        "nbgrader": {
          "cell_type": "code",
          "checksum": "54e00262cb7be51c58d79e1a04226079",
          "grade": false,
          "grade_id": "cell-97fbddbae1e0b01f",
          "locked": true,
          "schema_version": 3,
          "solution": false,
          "task": false
        }
      },
      "outputs": [],
      "source": [
        "def visualize_correlation(df, ncols=3):\n",
        "    '''\n",
        "    Visualize the correlation of features of dataframe df with the target\n",
        "    feature using subplots.\n",
        "\n",
        "    Args:\n",
        "        df:    Dataframe object to visualize\n",
        "        ncols: Number of columns for subplot\n",
        "               Default value = 3\n",
        "    '''\n",
        "\n",
        "    # calculate the number of rows\n",
        "    nrows = int(np.ceil((df.shape[1] - 1)/ncols))\n",
        "\n",
        "    plt.figure(figsize=(15, 4))\n",
        "    colors = ['red', 'green', 'blue']\n",
        "    target_variable = df[target_column]\n",
        "    # select all rows and the target columns\n",
        "    \n",
        "    for i, feature_column in enumerate(feature_columns):\n",
        "        plt.subplot(nrows, ncols, i+1)\n",
        "        test_variable = df[feature_column] \n",
        "        corr_coeff = np.corrcoef(test_variable, target_variable)[0,1]\n",
        "        plt.scatter(test_variable, target_variable, c=colors[i], marker ='.')   \n",
        "        plt.title(f'Correlation coefficient: {corr_coeff:.4f}')\n",
        "        plt.xlabel(feature_column)\n",
        "        plt.ylabel(target_column)\n",
        "\n",
        "    plt.show()\n",
        "\n",
        "visualize_correlation(data)"
      ]
    },
    {
      "cell_type": "markdown",
      "metadata": {
        "deletable": false,
        "editable": false,
        "id": "Oa5C_bE3eHVp",
        "nbgrader": {
          "cell_type": "markdown",
          "checksum": "f43b56f5e2d8a03e1d4dbd77b0d378b1",
          "grade": false,
          "grade_id": "cell-175eece4d012904f",
          "locked": true,
          "schema_version": 3,
          "solution": false,
          "task": false
        }
      },
      "source": [
        "From the above figure, we can see that features like **`TV`** and **`radio`** tend to have higher effect on the **`sales`** (high correlation) than the feature **`newspaper`**.The correlation coefficient between `newspaper` and `sales`is also less and the visualisation also shows scattered relationship."
      ]
    },
    {
      "cell_type": "markdown",
      "metadata": {
        "deletable": false,
        "editable": false,
        "id": "bRkkS_q7eHVp",
        "nbgrader": {
          "cell_type": "markdown",
          "checksum": "135788c99d8fb76fc778f62db3eac033",
          "grade": false,
          "grade_id": "cell-ffa90d616dedbb7b",
          "locked": true,
          "schema_version": 3,
          "solution": false,
          "task": false
        }
      },
      "source": [
        "## Exercise 1: Splitting the dataset into training and testing set\n",
        "---\n",
        "<b><div style=\"text-align: right\">[POINTS: 1]</div></b>\n",
        "\n",
        "\n",
        "\n",
        "### Task 1: Split the dataset into training and testing set\n",
        "---\n",
        "\n",
        "<b><div style=\"text-align: right\">[POINTS: 1]</div></b>\n",
        "\n",
        "In this task, you have to split the dataset into training and testing set using `75-25 ratio` and provided random `random seed=7`"
      ]
    },
    {
      "cell_type": "code",
      "execution_count": null,
      "metadata": {
        "deletable": false,
        "id": "oUdhpgwzaR6K",
        "nbgrader": {
          "cell_type": "code",
          "checksum": "593c372ee704c049d2c3ed797310ccf9",
          "grade": false,
          "grade_id": "cell-6d6828c126625be8",
          "locked": false,
          "schema_version": 3,
          "solution": true,
          "task": false
        },
        "tags": [
          "Ex-1-Task-1"
        ]
      },
      "outputs": [],
      "source": [
        "### Ex-1-Task-1\n",
        "from sklearn.model_selection import train_test_split\n",
        "X_train = None\n",
        "X_test = None\n",
        "y_train = None\n",
        "y_test = None\n",
        "\n",
        "random_seed=42\n",
        "\n",
        "\n",
        "### BEGIN SOLUTION\n",
        "# your code here\n",
        "raise NotImplementedError\n",
        "### END SOLUTION"
      ]
    },
    {
      "cell_type": "code",
      "execution_count": null,
      "metadata": {
        "deletable": false,
        "editable": false,
        "id": "pjfuZ0O1pK1-",
        "nbgrader": {
          "cell_type": "code",
          "checksum": "6858520412b49411e6b426a4392bedb1",
          "grade": false,
          "grade_id": "cell-e9cd831c20d9d460",
          "locked": true,
          "schema_version": 3,
          "solution": false,
          "task": false
        }
      },
      "outputs": [],
      "source": [
        "### READ ONLY\n",
        "assert X_train is not None \n",
        "assert X_test is not None\n",
        "assert y_train is not None\n",
        "assert y_test is not None \n",
        "grader.add_case({'ex1_task1':{'X_train':X_train,'X_test':X_test,'y_train':y_train,'y_test':y_test}})"
      ]
    },
    {
      "cell_type": "code",
      "execution_count": null,
      "metadata": {
        "deletable": false,
        "editable": false,
        "id": "SzFidPBOs8Pt",
        "nbgrader": {
          "cell_type": "code",
          "checksum": "a665a87b9922a80540e4707270716efa",
          "grade": false,
          "grade_id": "cell-820b49b8c184eb05",
          "locked": true,
          "schema_version": 3,
          "solution": false,
          "task": false
        }
      },
      "outputs": [],
      "source": [
        "### BEGIN TEMP BLOCK\n",
        "grader.make_pickle()\n",
        "### END TEMP BLOCK"
      ]
    },
    {
      "cell_type": "code",
      "execution_count": null,
      "metadata": {
        "deletable": false,
        "editable": false,
        "id": "OOD079AOtD7b",
        "nbgrader": {
          "cell_type": "code",
          "checksum": "82d9e06775a31774acac7cf5436b73f9",
          "grade": false,
          "grade_id": "cell-e55191e066caaee9",
          "locked": true,
          "schema_version": 3,
          "solution": false,
          "task": false
        }
      },
      "outputs": [],
      "source": [
        "### BEGIN TEMP BLOCK\n",
        "import pickle\n",
        "\n",
        "with open('python-l1-4-source.pkl', 'rb') as f:\n",
        "    pkl = pickle.load(f)\n",
        "### END TEMP BLOCK"
      ]
    },
    {
      "cell_type": "code",
      "execution_count": null,
      "metadata": {
        "deletable": false,
        "editable": false,
        "id": "Df0HGEittKFF",
        "nbgrader": {
          "cell_type": "code",
          "checksum": "f02c15c273852d3d54eddc7fec49a4f1",
          "grade": true,
          "grade_id": "cell-95dea4547325f9d2",
          "locked": true,
          "points": 1,
          "schema_version": 3,
          "solution": false,
          "task": false
        },
        "tags": [
          "Ex-1-Task-1"
        ]
      },
      "outputs": [],
      "source": []
    },
    {
      "cell_type": "markdown",
      "metadata": {
        "deletable": false,
        "editable": false,
        "id": "J0hZ0HvzeHVp",
        "nbgrader": {
          "cell_type": "markdown",
          "checksum": "ca6885379632ddafb42cb0b56032302b",
          "grade": false,
          "grade_id": "cell-2296f76f6ecd9348",
          "locked": true,
          "schema_version": 3,
          "solution": false,
          "task": false
        }
      },
      "source": [
        "### Let's convert dataframe to tensor\n",
        "We convert each of the training and testing features and labels to tensor."
      ]
    },
    {
      "cell_type": "code",
      "execution_count": null,
      "metadata": {
        "deletable": false,
        "editable": false,
        "id": "zonRlv4xeHVp",
        "nbgrader": {
          "cell_type": "code",
          "checksum": "00070eeddce3c4c9ddfd9ac714b0f73f",
          "grade": false,
          "grade_id": "cell-2596389da4c861c4",
          "locked": true,
          "schema_version": 3,
          "solution": false,
          "task": false
        }
      },
      "outputs": [],
      "source": [
        "X = torch.tensor(X_train.values, dtype=torch.float32)\n",
        "Y = torch.tensor(y_train.values, dtype=torch.float32)\n",
        "\n",
        "test_X = torch.tensor(X_test.values, dtype=torch.float32)\n",
        "test_Y = torch.tensor(y_test.values, dtype=torch.float32)\n",
        "test_Y = test_Y.unsqueeze(1)\n",
        "\n",
        "#Let's put the number of training example, and features in separate variable\n",
        "num_samples = X.shape[0]\n",
        "num_features = X.shape[1]"
      ]
    },
    {
      "cell_type": "markdown",
      "metadata": {
        "deletable": false,
        "editable": false,
        "id": "OO66W01meHVq",
        "nbgrader": {
          "cell_type": "markdown",
          "checksum": "f07e80c57dcf1a886c673d35aa535789",
          "grade": false,
          "grade_id": "cell-072531e9a6abdbac",
          "locked": true,
          "schema_version": 3,
          "solution": false,
          "task": false
        }
      },
      "source": [
        "### Task 2: Scaling the training features\n",
        "\n",
        "<b><div style=\"text-align: right\">[POINTS: 1]</div></b>\n",
        "\n",
        "Some input features might have a significantly higher value incompared to other which affects the overall model performance. And, since we are using `mean square error` as our error metrics, it is **a good practice to scale all the features in the same range so that no any feature is dominated by the other.** \n",
        "\n",
        "_Feature Scaling also helps in the convergence speed of the algorithm._\n",
        "\n",
        "We will be using standard scaling provided by **`sklearn.preprocessing.StandardScaler`**.\n",
        "\n",
        "Before scaling, `X_train` looks somethings like this:"
      ]
    },
    {
      "cell_type": "code",
      "execution_count": null,
      "metadata": {
        "deletable": false,
        "editable": false,
        "id": "cLtE1ZnNaWW7",
        "nbgrader": {
          "cell_type": "code",
          "checksum": "c56042a08c52fbdd2d71c6029f518581",
          "grade": false,
          "grade_id": "cell-38d2bc65a69b75e5",
          "locked": true,
          "schema_version": 3,
          "solution": false,
          "task": false
        }
      },
      "outputs": [],
      "source": [
        "from sklearn.preprocessing import StandardScaler"
      ]
    },
    {
      "cell_type": "code",
      "execution_count": null,
      "metadata": {
        "deletable": false,
        "id": "Sa7qpZaOaZle",
        "nbgrader": {
          "cell_type": "code",
          "checksum": "80943927c524c7ade422bb38128198a5",
          "grade": false,
          "grade_id": "cell-79d319240a832487",
          "locked": false,
          "schema_version": 3,
          "solution": true,
          "task": false
        },
        "tags": [
          "Ex-1-Task-2"
        ]
      },
      "outputs": [],
      "source": [
        "### Ex-1-Task-2\n",
        "def normalizes(data_to_normalize):\n",
        "  ### BEGIN SOLUTION\n",
        "  # your code here\n",
        "  raise NotImplementedError\n",
        "  ### END SOLUTION\n",
        "\n",
        "X_train = normalizes(X_train)\n",
        "X_test = normalizes(X_test)"
      ]
    },
    {
      "cell_type": "code",
      "execution_count": null,
      "metadata": {
        "deletable": false,
        "editable": false,
        "id": "XE9mI5Ze6i9o",
        "nbgrader": {
          "cell_type": "code",
          "checksum": "1d3c1d7f95a57b54d6739acd0ed90a76",
          "grade": false,
          "grade_id": "cell-edf53c56305e1f47",
          "locked": true,
          "schema_version": 3,
          "solution": false,
          "task": false
        }
      },
      "outputs": [],
      "source": [
        "### READ ONLY\n",
        "X_train = normalizes(X_train)\n",
        "X_test = normalizes(X_test)\n",
        "grader.add_case({'ex1_task2':{'normalizes_X_train': X_train, 'normalizes_X_test': X_test} })"
      ]
    },
    {
      "cell_type": "code",
      "execution_count": null,
      "metadata": {
        "deletable": false,
        "editable": false,
        "id": "5vTuwq9r6O2n",
        "nbgrader": {
          "cell_type": "code",
          "checksum": "c0c742b0d64651eb6becef67079e2548",
          "grade": false,
          "grade_id": "cell-6f6103815fc795ac",
          "locked": true,
          "schema_version": 3,
          "solution": false,
          "task": false
        }
      },
      "outputs": [],
      "source": [
        "### BEGIN TEMP BLOCK\n",
        "grader.make_pickle()\n",
        "### END TEMP BLOCK"
      ]
    },
    {
      "cell_type": "code",
      "execution_count": null,
      "metadata": {
        "deletable": false,
        "editable": false,
        "id": "0IUKEzKE6UNy",
        "nbgrader": {
          "cell_type": "code",
          "checksum": "b133f1c656bedc5fccfd6b5e8a45eacd",
          "grade": false,
          "grade_id": "cell-536368725789a8cc",
          "locked": true,
          "schema_version": 3,
          "solution": false,
          "task": false
        }
      },
      "outputs": [],
      "source": [
        "### BEGIN TEMP BLOCK\n",
        "import pickle\n",
        "with open('python-l1-4-source.pkl', 'rb') as f:\n",
        "    pkl = pickle.load(f)\n",
        "### END TEMP BLOCK"
      ]
    },
    {
      "cell_type": "code",
      "execution_count": null,
      "metadata": {
        "deletable": false,
        "editable": false,
        "id": "f-YgLCQX6d5t",
        "nbgrader": {
          "cell_type": "code",
          "checksum": "f3140aaeaf5b7855065577449eccc537",
          "grade": true,
          "grade_id": "cell-c9cc230145d2b6c1",
          "locked": true,
          "points": 1,
          "schema_version": 3,
          "solution": false,
          "task": false
        },
        "tags": [
          "Ex-1-Task-2"
        ]
      },
      "outputs": [],
      "source": []
    },
    {
      "cell_type": "code",
      "execution_count": null,
      "metadata": {
        "deletable": false,
        "editable": false,
        "id": "T99vhmuPeHVq",
        "nbgrader": {
          "cell_type": "code",
          "checksum": "88f02ab8df32c2e98ab4ad1da4db927e",
          "grade": false,
          "grade_id": "cell-8491c871b190a729",
          "locked": true,
          "schema_version": 3,
          "solution": false,
          "task": false
        }
      },
      "outputs": [],
      "source": [
        "import torch\n",
        "from torch import nn\n",
        "import matplotlib.pyplot as plt\n",
        "import os\n",
        "import datetime\n",
        "from torch.utils.tensorboard import FileWriter"
      ]
    },
    {
      "cell_type": "markdown",
      "metadata": {
        "deletable": false,
        "editable": false,
        "id": "S6txxinaeHVr",
        "nbgrader": {
          "cell_type": "markdown",
          "checksum": "aaffe0bee265f5e42e8370ca1d10ebe7",
          "grade": false,
          "grade_id": "cell-1f0327c8af97a137",
          "locked": true,
          "schema_version": 3,
          "solution": false,
          "task": false
        }
      },
      "source": [
        "### Tensorboard\n",
        "#### Visualizing Experiment Tracking with Tensorboard"
      ]
    },
    {
      "cell_type": "code",
      "execution_count": null,
      "metadata": {
        "deletable": false,
        "editable": false,
        "id": "eZaL8XvBeHVr",
        "nbgrader": {
          "cell_type": "code",
          "checksum": "cac4082bfebe7ae77a6153af9d343ad7",
          "grade": false,
          "grade_id": "cell-e7b2dbe615397e21",
          "locked": true,
          "schema_version": 3,
          "solution": false,
          "task": false
        }
      },
      "outputs": [],
      "source": [
        "# Load the TensorBoard notebook extension\n",
        "%load_ext tensorboard\n",
        "\n",
        "\n",
        "# Clear any logs from previous runs\n",
        "!rm -rf ./logs/ "
      ]
    },
    {
      "cell_type": "markdown",
      "metadata": {
        "deletable": false,
        "editable": false,
        "id": "IPiqH9WCeHVr",
        "nbgrader": {
          "cell_type": "markdown",
          "checksum": "d8be991bd71b08297e8b89b3d0aba05c",
          "grade": false,
          "grade_id": "cell-eaf2021927713647",
          "locked": true,
          "schema_version": 3,
          "solution": false,
          "task": false
        }
      },
      "source": [
        "### Define the TensorBoard callback."
      ]
    },
    {
      "cell_type": "code",
      "execution_count": null,
      "metadata": {
        "deletable": false,
        "editable": false,
        "id": "HHgOZeAWeHVr",
        "nbgrader": {
          "cell_type": "code",
          "checksum": "f761b6b97f848f2e173ab4f754932c67",
          "grade": false,
          "grade_id": "cell-4275652e2adb9e8c",
          "locked": true,
          "schema_version": 3,
          "solution": false,
          "task": false
        }
      },
      "outputs": [],
      "source": [
        "log_dir = os.path.join(\"logs\", datetime.datetime.now().strftime(\"%Y%m%d-%H%M%S\"))\n",
        "summary_writer = FileWriter(log_dir=log_dir)"
      ]
    },
    {
      "cell_type": "markdown",
      "metadata": {
        "deletable": false,
        "editable": false,
        "id": "PHGgXOffeHVs",
        "nbgrader": {
          "cell_type": "markdown",
          "checksum": "3662974aa1fc2858a433c707a8484ca2",
          "grade": false,
          "grade_id": "cell-5ff240a0ce9c4ca5",
          "locked": true,
          "schema_version": 3,
          "solution": false,
          "task": false
        }
      },
      "source": [
        "In the exercises below, you will implement different componenets of deep learning. Accompannying each exercise is the implementation of the componenets of deep learning.\n",
        "\n",
        "The following components of deep learning is dealt in the project.\n",
        "1. Weight Initialisation\n",
        "2. Activation Function\n",
        "3. Optimisation Algorithm\n",
        "\n",
        "We have a class `Model`, that represents the Weights and biases initialisation along with forward propagation function.It returns the activated ouput from the output layer."
      ]
    },
    {
      "cell_type": "markdown",
      "metadata": {
        "deletable": false,
        "editable": false,
        "id": "bFTBTwxzeHVs",
        "nbgrader": {
          "cell_type": "markdown",
          "checksum": "ed7ade649edfb8f78507bb8d640812c0",
          "grade": false,
          "grade_id": "cell-5da62568995ae957",
          "locked": true,
          "schema_version": 3,
          "solution": false,
          "task": false
        }
      },
      "source": [
        "### Task 1: Weight Initialisation \n",
        "---\n",
        "<b><div style=\"text-align: right\">[POINTS: 2.5]</div></b>\n",
        "\n",
        "Create and initialize the parameters of the 4-layer neural network. \n",
        "\n",
        "Your task is to define instance variables `hidden_1`, `hidden_2`, `hidden_3`, `hidden_4`, `final_output` for weights; where `hidden_1` means weights for first hidden layer and so on. `final_output` represents weights between final layer and the layer before it. These variables must be initialized using truncated_random variable. Variable in tensorflow  defined using `tf.Variable()` must be set trainable and initialized using `tf.random.truncated_normal()` which takes `shape` as input parameter; other parameters should be left default.\n",
        "\n",
        "Similarly, you must define instance variables `hidden_1_bias`, `hidden_2_bias`, `hidden_3_bias`, `hidden_4_bias`, `output_bias`. The bias must be zero initialized. \n",
        "\n",
        "Note: Variables must be left trainable i.e, `Trainable` parameter of Variable must be set `True`.\n",
        "      The shape of the variables must be as per defined on dictionary 'layer_parameter' in the above cell. \n",
        "*****\n",
        "\n"
      ]
    },
    {
      "cell_type": "code",
      "execution_count": null,
      "metadata": {
        "deletable": false,
        "editable": false,
        "id": "Fa2Ggc6tayfj",
        "nbgrader": {
          "cell_type": "code",
          "checksum": "26b4b6a6afe3f6e7588052dd5fb718b4",
          "grade": false,
          "grade_id": "cell-8736b4703d181d48",
          "locked": true,
          "schema_version": 3,
          "solution": false,
          "task": false
        }
      },
      "outputs": [],
      "source": [
        "input_size = num_features\n",
        "hidden_1_shape =  8\n",
        "hidden_2_shape= 6\n",
        "hidden_3_shape= 4\n",
        "hidden_4_shape = 4\n",
        "output_size = 1         "
      ]
    },
    {
      "cell_type": "code",
      "execution_count": null,
      "metadata": {
        "deletable": false,
        "id": "JSOE0Hi6eHVs",
        "nbgrader": {
          "cell_type": "code",
          "checksum": "d44716e99644b21cccb59c8e1968585a",
          "grade": false,
          "grade_id": "cell-20b562adc8ea0965",
          "locked": false,
          "schema_version": 3,
          "solution": true,
          "task": false
        },
        "tags": [
          "Ex-2-Task-1"
        ]
      },
      "outputs": [],
      "source": [
        "### Ex-2-Task-1\n",
        "weights = {\n",
        "    ### BEGIN SOLUTION\n",
        "    # your code here\n",
        "    raise NotImplementedError\n",
        "    ### END SOLUTION\n",
        "}"
      ]
    },
    {
      "cell_type": "code",
      "execution_count": null,
      "metadata": {
        "deletable": false,
        "editable": false,
        "id": "YxqdPxUFFE13",
        "nbgrader": {
          "cell_type": "code",
          "checksum": "8b1569bf17ec1c303511549f317e41c4",
          "grade": false,
          "grade_id": "cell-a42d6a64b8db813b",
          "locked": true,
          "schema_version": 3,
          "solution": false,
          "task": false
        },
        "tags": [
          "Ex-2-Task-1"
        ]
      },
      "outputs": [],
      "source": [
        "# INTENTIONALLY LEFT BLANK\n",
        "### BEGIN TEMP BLOCK\n",
        "weights['hidden_1'] = torch.nn.init.trunc_normal_(torch.empty(input_size,hidden_1_shape, requires_grad=True))\n",
        "weights['hidden_2'] = torch.nn.init.trunc_normal_(torch.empty(hidden_1_shape,hidden_2_shape, requires_grad=True))\n",
        "weights['hidden_3'] = torch.nn.init.trunc_normal_(torch.empty(hidden_2_shape,hidden_3_shape, requires_grad=True))\n",
        "weights['hidden_4'] = torch.nn.init.trunc_normal_(torch.empty(hidden_3_shape,hidden_4_shape, requires_grad=True))\n",
        "weights['output'] = torch.nn.init.trunc_normal_(torch.empty(hidden_4_shape,output_size, requires_grad=True))\n",
        "weights['hidden_1_bias'] = torch.nn.init.trunc_normal_(torch.empty(hidden_1_shape, requires_grad=True))\n",
        "weights['hidden_2_bias'] = torch.nn.init.trunc_normal_(torch.empty(hidden_2_shape, requires_grad=True))\n",
        "weights['hidden_3_bias'] = torch.nn.init.trunc_normal_(torch.empty(hidden_3_shape, requires_grad=True))\n",
        "weights['hidden_4_bias'] = torch.nn.init.trunc_normal_(torch.empty(hidden_4_shape, requires_grad=True))\n",
        "weights['output_bias'] = torch.nn.init.trunc_normal_(torch.empty(output_size, requires_grad=True))\n",
        "\n",
        "grader.add_case({'ex2_task1':{'hidden_1': weights['hidden_1'],\n",
        "                              'hidden_2': weights['hidden_2'],\n",
        "                              'hidden_3': weights['hidden_3'],\n",
        "                              'hidden_4': weights['hidden_4'],\n",
        "                              'output': weights['output'],\n",
        "                              'hidden_1_bias': weights['hidden_1_bias'],\n",
        "                              'hidden_2_bias': weights['hidden_2_bias'],\n",
        "                              'hidden_3_bias': weights['hidden_3_bias'],\n",
        "                              'hidden_4_bias': weights['hidden_4_bias'],\n",
        "                              'output_bias': weights['output_bias']\n",
        "                              }})\n",
        "\n",
        "grader.make_pickle()\n",
        "\n",
        "import pickle\n",
        "with open('python-l1-4-source.pkl', 'rb') as f:\n",
        "    pkl = pickle.load(f)\n",
        "\n",
        "### END TEMP BLOCK"
      ]
    },
    {
      "cell_type": "code",
      "execution_count": null,
      "metadata": {
        "deletable": false,
        "editable": false,
        "nbgrader": {
          "cell_type": "code",
          "checksum": "0d54ab6fab1141b2026bd52b40632b03",
          "grade": true,
          "grade_id": "cell-5e4f894de69766c1",
          "locked": true,
          "points": 2.5,
          "schema_version": 3,
          "solution": false,
          "task": false
        },
        "tags": [
          "Ex-2-Task-1"
        ],
        "id": "_MqX5g7gFZW5"
      },
      "outputs": [],
      "source": [
        "## INTENTIONALLY LEFT BLANK\n"
      ]
    },
    {
      "cell_type": "markdown",
      "metadata": {
        "deletable": false,
        "editable": false,
        "id": "d8LQKws1eHVt",
        "nbgrader": {
          "cell_type": "markdown",
          "checksum": "957e33b22ee2cae06fb314d3da49dc21",
          "grade": false,
          "grade_id": "cell-d998edfc809bef7e",
          "locked": true,
          "schema_version": 3,
          "solution": false,
          "task": false
        }
      },
      "source": [
        "### Task 2: Forward Propagation and Activation Function\n",
        "<b><div style=\"text-align: right\">[POINTS: 1.5]</div></b>\n",
        "\n",
        "---\n",
        "Your task is to write a program that builds neural architecture to perform forward propagation of data through the network. A function forward() takes data as parameter which is the feature tensor.\n",
        "\n",
        "The linear forward module(vectorised over all the samples) computs the following equations:\n",
        "$$ Z_1 = XW_1 +b_1 $$\n",
        "$$ A_1 = Relu(Z_1) $$\n",
        "\n",
        "Note: You must use leaky_relu as the activation function in the hidden layer. This activation can be accessed in tensorflow as tf.nn.leaky_relu().\n",
        "Now that you have initialised your parameters, you will implement forward propagation module.\n"
      ]
    },
    {
      "cell_type": "code",
      "execution_count": null,
      "metadata": {
        "deletable": false,
        "id": "1SN2RHDAeHVu",
        "nbgrader": {
          "cell_type": "code",
          "checksum": "2a62060d1b82682c3d83ddbe96d02ccc",
          "grade": false,
          "grade_id": "cell-c5a60183ba131807",
          "locked": false,
          "schema_version": 3,
          "solution": true,
          "task": false
        },
        "tags": [
          "Ex-2-Task-2"
        ]
      },
      "outputs": [],
      "source": [
        "### Ex-2-Task-2\n",
        "class Model(torch.nn.Module):\n",
        "    \"\"\"The architecture of the deep neural network for regression problem.\n",
        "    \"\"\"\n",
        "    def __init__(self,weights):\n",
        "        \"\"\" Define and initialize the weight matrix, bias matrix and trainable variables.\n",
        "        \n",
        "        Parameters\n",
        "        ----------\n",
        "        Weights: Python dictionary\n",
        "                         Dictionary constaing the weights and bias in each layers.\n",
        "                         \n",
        "        \"\"\"\n",
        "        super(Model, self).__init__()\n",
        "        self.weights = weights\n",
        "\n",
        "        self.hidden_1 = torch.nn.Parameter(weights['hidden_1'])\n",
        "        self.hidden_2 = torch.nn.Parameter(weights['hidden_2'])\n",
        "        self.hidden_3 =  torch.nn.Parameter(weights['hidden_3'])\n",
        "        self.hidden_4 =  torch.nn.Parameter(weights['hidden_4'])\n",
        "        self.final_output =  torch.nn.Parameter(weights['output'])\n",
        "        self.hidden_1_bias = torch.nn.Parameter(weights['hidden_1_bias'])\n",
        "        self.hidden_2_bias = torch.nn.Parameter(weights['hidden_2_bias'])\n",
        "        self.hidden_3_bias = torch.nn.Parameter(weights['hidden_3_bias'])\n",
        "        self.hidden_4_bias = torch.nn.Parameter(weights['hidden_4_bias'])\n",
        "        self.output_bias = torch.nn.Parameter(weights['output_bias'])\n",
        "        self.trainable_variables = [\n",
        "                                self.hidden_1,\n",
        "                                self.hidden_1_bias,\n",
        "                                self.hidden_2,\n",
        "                                self.hidden_2_bias,\n",
        "                                self.hidden_3,\n",
        "                                self.hidden_3_bias,\n",
        "                                self.hidden_4,\n",
        "                                self.hidden_4_bias,\n",
        "                                self.final_output,\n",
        "                                self.output_bias\n",
        "        ]        \n",
        "        \n",
        "    def forward(self,data):\n",
        "        \"\"\" Compute the activation in each layers during forward propagation.\n",
        "        Parameters\n",
        "        ----------\n",
        "        data: Tensor\n",
        "              The tensor of features or data\n",
        "              \n",
        "        Returns\n",
        "        -------\n",
        "        Tensor\n",
        "              An output tensor of size defined by layer_parameter.\n",
        "    \n",
        "        \"\"\"\n",
        "        layer1 = None\n",
        "        layer2 =None\n",
        "        layer3 = None\n",
        "        layer4 = None\n",
        "        final =None\n",
        "        ### BEGIN SOLUTION\n",
        "        # your code here\n",
        "        raise NotImplementedError\n",
        "        ### END SOLUTION\n",
        "        return final\n",
        "\n",
        "    \n",
        "\n",
        "torch.manual_seed(13)\n",
        "model = Model(weights) "
      ]
    },
    {
      "cell_type": "code",
      "execution_count": null,
      "metadata": {
        "deletable": false,
        "editable": false,
        "id": "E771OTLAhrwL",
        "nbgrader": {
          "cell_type": "code",
          "checksum": "c0cf7fb2abc9c9ea25465448ea484ed4",
          "grade": false,
          "grade_id": "cell-3249ab73320348af",
          "locked": true,
          "schema_version": 3,
          "solution": false,
          "task": false
        }
      },
      "outputs": [],
      "source": [
        "### READ ONLY\n",
        "layer1 = torch.nn.functional.leaky_relu(torch.add(torch.matmul(X, weights['hidden_1']), weights['hidden_1_bias']))\n",
        "layer2 = torch.nn.functional.leaky_relu(torch.add(torch.matmul(layer1, weights['hidden_2']), weights['hidden_2_bias']))\n",
        "layer3 = torch.nn.functional.leaky_relu(torch.add(torch.matmul(layer2, weights['hidden_3']), weights['hidden_3_bias']))\n",
        "layer4 = torch.nn.functional.leaky_relu(torch.add(torch.matmul(layer3, weights['hidden_4']), weights['hidden_4_bias']))\n",
        "final = torch.add(torch.matmul(layer4, weights['output']), weights['output_bias'])\n",
        "grader.add_case({'ex2_task2':{'layer1':layer1,'layer2':layer2,'layer3':layer3,'layer4':layer4,'final':final}})"
      ]
    },
    {
      "cell_type": "code",
      "execution_count": null,
      "metadata": {
        "deletable": false,
        "editable": false,
        "id": "qQVGuxlrj9YE",
        "nbgrader": {
          "cell_type": "code",
          "checksum": "fc5c445b80cb2c812a63f3764ed0327f",
          "grade": false,
          "grade_id": "cell-b1fdd587f2294ef6",
          "locked": true,
          "schema_version": 3,
          "solution": false,
          "task": false
        }
      },
      "outputs": [],
      "source": [
        "### BEGIN TEMP BLOCK\n",
        "grader.make_pickle()\n",
        "### END TEMP BLOCK"
      ]
    },
    {
      "cell_type": "code",
      "execution_count": null,
      "metadata": {
        "deletable": false,
        "editable": false,
        "id": "Z4YQhRM8j-hN",
        "nbgrader": {
          "cell_type": "code",
          "checksum": "df7baf0c9098205af5f703d3208280ab",
          "grade": false,
          "grade_id": "cell-42b047b0c780b928",
          "locked": true,
          "schema_version": 3,
          "solution": false,
          "task": false
        }
      },
      "outputs": [],
      "source": [
        "### BEGIN TEMP BLOCK\n",
        "import pickle\n",
        "with open('python-l1-4-source.pkl', 'rb') as f:\n",
        "    pkl = pickle.load(f)\n",
        "### END TEMP BLOCK"
      ]
    },
    {
      "cell_type": "code",
      "execution_count": null,
      "metadata": {
        "deletable": false,
        "editable": false,
        "id": "ilrwzTMKjSQn",
        "nbgrader": {
          "cell_type": "code",
          "checksum": "20953aadfa3fe3fdcc428bc24b43459f",
          "grade": true,
          "grade_id": "cell-54daee51e82d08c5",
          "locked": true,
          "points": 1.5,
          "schema_version": 3,
          "solution": false,
          "task": false
        },
        "tags": [
          "Ex-2-Task-2"
        ]
      },
      "outputs": [],
      "source": []
    },
    {
      "cell_type": "markdown",
      "metadata": {
        "deletable": false,
        "editable": false,
        "id": "aJ8DUgjJeHVu",
        "nbgrader": {
          "cell_type": "markdown",
          "checksum": "590021e16a208a34b5afb445d08fe854",
          "grade": false,
          "grade_id": "cell-71d8a52c63ac7c03",
          "locked": true,
          "schema_version": 3,
          "solution": false,
          "task": false
        }
      },
      "source": [
        "### Loss function\n",
        "We will use mean square error(MSE) as a loss function.\n",
        "$$MSE = \\frac{1}{n}\\sum_{i=0}^n(Y_i-\\hat{Y_i})^2$$\n",
        "Where, $Y_i$ is actual value and $\\hat{Y_i}$ is predicted value.\n",
        "*****\n",
        "\n",
        "### Exercise 3\n",
        "\n",
        "*****\n",
        "\n",
        "### Task 1: Loss Function\n",
        "---\n",
        "<b><div style=\"text-align: right\">[POINTS: 1]</div></b>\n",
        "\n",
        "\n",
        "Your task is to complete the function `loss()`.\n",
        "\n",
        "Note: Your code should implement the mathematical expression specified above."
      ]
    },
    {
      "cell_type": "code",
      "execution_count": null,
      "metadata": {
        "deletable": false,
        "id": "5JNcVpjweHVu",
        "nbgrader": {
          "cell_type": "code",
          "checksum": "522d4700c12fd3fcd68491d9928c4d8a",
          "grade": false,
          "grade_id": "cell-7afcce13811592d7",
          "locked": false,
          "schema_version": 3,
          "solution": true,
          "task": false
        },
        "tags": [
          "Ex-3-Task-1"
        ]
      },
      "outputs": [],
      "source": [
        "### Ex-3-Task-1\n",
        "def loss(predicted_y, target_y):\n",
        "    \"\"\"Mean Square Error between actual and predicted value\n",
        "    \n",
        "    Parameters\n",
        "    ----------\n",
        "    predicted_y: Tensor\n",
        "                 Prediction of labels made by model\n",
        "    target_y: Tensor\n",
        "              Actual labels\n",
        "    \n",
        "    Return\n",
        "    ------\n",
        "    Tensor\n",
        "          Reduced tensor\n",
        "    \n",
        "    \"\"\"\n",
        "    ### BEGIN SOLUTION\n",
        "    # your code here\n",
        "    raise NotImplementedError\n",
        "    ### END SOLUTION"
      ]
    },
    {
      "cell_type": "code",
      "execution_count": null,
      "metadata": {
        "deletable": false,
        "editable": false,
        "id": "v1LWVNw6lvSI",
        "nbgrader": {
          "cell_type": "code",
          "checksum": "4025036ef73547795edda7df7446bdd4",
          "grade": false,
          "grade_id": "cell-41d65aba5319421e",
          "locked": true,
          "schema_version": 3,
          "solution": false,
          "task": false
        }
      },
      "outputs": [],
      "source": [
        "### READ ONLY\n",
        "losses = loss(torch.tensor(y_train.values), Y)\n",
        "grader.add_case({'ex3_task1':{'losses':losses}})"
      ]
    },
    {
      "cell_type": "code",
      "execution_count": null,
      "metadata": {
        "deletable": false,
        "editable": false,
        "id": "GIu27Mb0oyCx",
        "nbgrader": {
          "cell_type": "code",
          "checksum": "d78d82ae5b387fada021114a3df23c0d",
          "grade": false,
          "grade_id": "cell-08a83fda6f55a918",
          "locked": true,
          "schema_version": 3,
          "solution": false,
          "task": false
        }
      },
      "outputs": [],
      "source": [
        "### BEGIN TEMP BLOCK\n",
        "grader.make_pickle()\n",
        "### END TEMP BLOCK"
      ]
    },
    {
      "cell_type": "code",
      "execution_count": null,
      "metadata": {
        "deletable": false,
        "editable": false,
        "id": "lxtBb671o29d",
        "nbgrader": {
          "cell_type": "code",
          "checksum": "ac86e0b5a3713d1c9c454d9517a30fe1",
          "grade": false,
          "grade_id": "cell-006cfc623cca33e3",
          "locked": true,
          "schema_version": 3,
          "solution": false,
          "task": false
        }
      },
      "outputs": [],
      "source": [
        "### BEGIN TEMP BLOCK\n",
        "import pickle\n",
        "with open('python-l1-4-source.pkl', 'rb') as f:\n",
        "    pkl = pickle.load(f)\n",
        "### END TEMP BLOCK"
      ]
    },
    {
      "cell_type": "code",
      "execution_count": null,
      "metadata": {
        "deletable": false,
        "editable": false,
        "id": "RY0VC-Ywo5eq",
        "nbgrader": {
          "cell_type": "code",
          "checksum": "42bfd54e426e464ac716c21a68f9325c",
          "grade": true,
          "grade_id": "cell-adaece726d342d7b",
          "locked": true,
          "points": 1,
          "schema_version": 3,
          "solution": false,
          "task": false
        },
        "tags": [
          "Ex-3-Task-1"
        ]
      },
      "outputs": [],
      "source": []
    },
    {
      "cell_type": "markdown",
      "metadata": {
        "deletable": false,
        "editable": false,
        "id": "ZSq6KLGweHVu",
        "nbgrader": {
          "cell_type": "markdown",
          "checksum": "6cd750ce0dd569f1a1a7dec3c46f3ea8",
          "grade": false,
          "grade_id": "cell-2615d0d9d0ac8e95",
          "locked": true,
          "schema_version": 3,
          "solution": false,
          "task": false
        }
      },
      "source": [
        "### Task 2: Optimisation Algorithm\n",
        "---\n",
        "<b><div style=\"text-align: right\">[POINTS: 1]</div></b>\n",
        "\n",
        "Out of all optimisation Algorithm, we will use Adam for this project.\n",
        "\n",
        "Your task in this exercise is to assign a adam optimizer to optimizer variable."
      ]
    },
    {
      "cell_type": "code",
      "execution_count": null,
      "metadata": {
        "deletable": false,
        "id": "LhjtjM1xeHVv",
        "nbgrader": {
          "cell_type": "code",
          "checksum": "b7cb0d84106cb24885860792d89364f4",
          "grade": false,
          "grade_id": "cell-b9f2c75cff4aeb11",
          "locked": false,
          "schema_version": 3,
          "solution": true,
          "task": false
        },
        "tags": [
          "Ex-3-Task-2"
        ]
      },
      "outputs": [],
      "source": [
        "### Ex-3-Task-2\n",
        "optimizer = None  \n",
        "### BEGIN SOLUTION\n",
        "# your code here\n",
        "raise NotImplementedError\n",
        "### END SOLUTION"
      ]
    },
    {
      "cell_type": "code",
      "execution_count": null,
      "metadata": {
        "deletable": false,
        "editable": false,
        "id": "syEt_No-pzF3",
        "nbgrader": {
          "cell_type": "code",
          "checksum": "d18f1555ac5e708516650056ac45882b",
          "grade": false,
          "grade_id": "cell-d7da29115972448d",
          "locked": true,
          "schema_version": 3,
          "solution": false,
          "task": false
        }
      },
      "outputs": [],
      "source": [
        "### READ ONLY\n",
        "assert optimizer is not None\n",
        "grader.add_case({'ex3_task2':{'optimizer':optimizer}})"
      ]
    },
    {
      "cell_type": "code",
      "execution_count": null,
      "metadata": {
        "deletable": false,
        "editable": false,
        "nbgrader": {
          "cell_type": "code",
          "checksum": "2f8e7ce323ecd1b83b2a801cb25310ec",
          "grade": true,
          "grade_id": "cell-baed705acde4aa6c",
          "locked": true,
          "points": 1,
          "schema_version": 3,
          "solution": false,
          "task": false
        },
        "tags": [
          "Ex-3-Task-2"
        ],
        "id": "cWGwe4A0FZXR"
      },
      "outputs": [],
      "source": [
        "# Intentionally left blank"
      ]
    },
    {
      "cell_type": "markdown",
      "metadata": {
        "deletable": false,
        "editable": false,
        "id": "O7HhebWUeHVv",
        "nbgrader": {
          "cell_type": "markdown",
          "checksum": "365f99df72330c173380910ec6f7febf",
          "grade": false,
          "grade_id": "cell-27e4b6da2cfe0307",
          "locked": true,
          "schema_version": 3,
          "solution": false,
          "task": false
        }
      },
      "source": [
        "###  Task 3: Define function for training\n",
        "<b><div style=\"text-align: right\">[POINTS: 3]</div></b>\n",
        "We will define a function `train()` which takes four parameters: model, training features, training labels, and learning rate.\n",
        "\n",
        "Your tasks:\n",
        "\n",
        "1. Forward pass and Compute loss, then assign it to variable `current_loss`\n",
        "2. Perform backward pass\n",
        "3. Update weights and bias\n",
        "4. Return `current_loss`"
      ]
    },
    {
      "cell_type": "code",
      "execution_count": null,
      "metadata": {
        "deletable": false,
        "id": "XO-F-uzXeHVv",
        "nbgrader": {
          "cell_type": "code",
          "checksum": "f377076d1866bb10690fbb4d51c65b8f",
          "grade": false,
          "grade_id": "cell-561fa1f7e9b8be07",
          "locked": false,
          "schema_version": 3,
          "solution": true,
          "task": false
        },
        "tags": [
          "Ex-3-Task-3"
        ]
      },
      "outputs": [],
      "source": [
        "### Ex-3-Task-3\n",
        "def train(model, inputs, outputs, learning_rate = 0.0001):\n",
        "    \"\"\"A function for training a model which performs both gradient computation and weight update.\n",
        "    \n",
        "    Parameters\n",
        "    ----------\n",
        "    model: Obect\n",
        "           An object of type Model\n",
        "    inputs: Tensor\n",
        "            A tensor of features or independent data\n",
        "    outputs: Tensor\n",
        "             A tensor of actual labels or dependent data\n",
        "    learning_rate: float32, optional\n",
        "                   The learning rate (defautl is 0.0001)\n",
        "                   \n",
        "    Returns:\n",
        "    -------\n",
        "    Tensor\n",
        "          A reduced tensor that gives the loss or error at a each forward pass.\n",
        "    \"\"\"\n",
        "    y_predicted = model(inputs)\n",
        "    y = outputs\n",
        "    current_loss = loss(y_predicted, y)\n",
        "    ### BEGIN SOLUTION\n",
        "    # your code here\n",
        "    raise NotImplementedError\n",
        "    ### END SOLUTION\n",
        "    return current_loss.item()"
      ]
    },
    {
      "cell_type": "code",
      "execution_count": null,
      "metadata": {
        "deletable": false,
        "editable": false,
        "id": "sltv7Csj5krs",
        "nbgrader": {
          "cell_type": "code",
          "checksum": "4e95a0bf62f32cc7b826011b84136adc",
          "grade": false,
          "grade_id": "cell-6dc4b10517478e0b",
          "locked": true,
          "schema_version": 3,
          "solution": false,
          "task": false
        }
      },
      "outputs": [],
      "source": [
        "### READ ONLY\n",
        "X_data = X[:3]\n",
        "y_data = Y[:3]\n",
        "train_model = train(model,X_data,y_data)\n",
        "grader.add_case({'ex3_task3':{'train_model':train_model}})"
      ]
    },
    {
      "cell_type": "code",
      "execution_count": null,
      "metadata": {
        "deletable": false,
        "editable": false,
        "id": "IBUCxgk45krt",
        "nbgrader": {
          "cell_type": "code",
          "checksum": "0c2aef77c8037b1a4b070d3aec1228e6",
          "grade": false,
          "grade_id": "cell-9f511a44174261ed",
          "locked": true,
          "schema_version": 3,
          "solution": false,
          "task": false
        }
      },
      "outputs": [],
      "source": [
        "### BEGIN TEMP BLOCK\n",
        "grader.make_pickle()\n",
        "### END TEMP BLOCK"
      ]
    },
    {
      "cell_type": "code",
      "execution_count": null,
      "metadata": {
        "deletable": false,
        "editable": false,
        "id": "ReaPApaE5krt",
        "nbgrader": {
          "cell_type": "code",
          "checksum": "9b28ebc55eae6c139b559035cadc1195",
          "grade": false,
          "grade_id": "cell-993497434e864709",
          "locked": true,
          "schema_version": 3,
          "solution": false,
          "task": false
        }
      },
      "outputs": [],
      "source": [
        "### BEGIN TEMP BLOCK\n",
        "import pickle\n",
        "with open('python-l1-4-source.pkl', 'rb') as f:\n",
        "    pkl = pickle.load(f)\n",
        "### END TEMP BLOCK"
      ]
    },
    {
      "cell_type": "code",
      "execution_count": null,
      "metadata": {
        "deletable": false,
        "editable": false,
        "id": "bVFSz-em5krt",
        "nbgrader": {
          "cell_type": "code",
          "checksum": "4eb4b7dbc90d1ad72605d32708c58c9a",
          "grade": true,
          "grade_id": "cell-2ff49790d8f76e21",
          "locked": true,
          "points": 3,
          "schema_version": 3,
          "solution": false,
          "task": false
        },
        "tags": [
          "Ex-3-Task-3"
        ]
      },
      "outputs": [],
      "source": []
    },
    {
      "cell_type": "markdown",
      "metadata": {
        "deletable": false,
        "editable": false,
        "id": "P6seAy3IO19U",
        "nbgrader": {
          "cell_type": "markdown",
          "checksum": "b4d2a3229aff99abf038ad6b09603a94",
          "grade": false,
          "grade_id": "cell-cd8d67f78d58a630",
          "locked": true,
          "schema_version": 3,
          "solution": false
        }
      },
      "source": [
        "#### Run training loop\n",
        "In the next section we define hyperparameters like number of epochs, batch size, and learning rate. We will also record the loss each epoch in a variable named `loss_per_epoch`."
      ]
    },
    {
      "cell_type": "code",
      "execution_count": null,
      "metadata": {
        "deletable": false,
        "editable": false,
        "id": "-zuzH3bqbHaa",
        "nbgrader": {
          "cell_type": "code",
          "checksum": "ee71b9b09dc8e01a9ec45732551a2ce8",
          "grade": false,
          "grade_id": "cell-958cac8134b9c874",
          "locked": true,
          "schema_version": 3,
          "solution": false,
          "task": false
        }
      },
      "outputs": [],
      "source": [
        "from torch.utils.tensorboard import SummaryWriter\n",
        "import numpy as np\n",
        "\n",
        "num_epochs = 100\n",
        "batch_size = 8\n",
        "learning_rate = 0.001\n",
        "\n",
        "training_dataset = torch.utils.data.TensorDataset(X, Y)\n",
        "# valid_dataset = torch.utils.data.TensorDataset(X, Y)\n",
        "\n",
        "training_dataloader = torch.utils.data.DataLoader(training_dataset,batch_size=batch_size, shuffle=True)\n",
        "# valid_dataloader = torch.utils.data.DataLoader(valid_dataset, batch_size=batch_size, shuffle=False)\n",
        "\n",
        "loss_per_epoch = []\n",
        "val_loss_per_epoch =[]\n",
        "\n",
        "for i in range(num_epochs):\n",
        "    current_losses = []\n",
        "    for batch, (x_batch, y_batch) in enumerate(training_dataloader):\n",
        "        current_losses.append(train(model, x_batch, y_batch, learning_rate))\n",
        "        \n",
        "    current_loss = np.average(current_losses)\n",
        "    loss_per_epoch.append(current_loss)\n",
        "    validation_loss = loss(model(test_X), test_Y)\n",
        "    val_loss_per_epoch.append(validation_loss)\n",
        "    print(\"Epoch {0}: Training loss= {1}   Validation loss {2}\".format(i+1, current_loss, validation_loss))\n",
        "    \n",
        "    summary_writer = SummaryWriter()\n",
        "    summary_writer.add_scalar('loss_per_epoch', current_loss, global_step=i)\n",
        "    summary_writer.add_scalar('val_loss_per_epoch', validation_loss, global_step=i)"
      ]
    },
    {
      "cell_type": "code",
      "execution_count": null,
      "metadata": {
        "id": "RG0hmFOrbPSF"
      },
      "outputs": [],
      "source": [
        "# let's create plot for training and validation error\n",
        "plt.style.use(\"ggplot\")\n",
        "epoch_iter= [i+1 for i in range(num_epochs)]\n",
        "plt.title(\"Training vs Validation loss\")\n",
        "plt.plot(epoch_iter, loss_per_epoch, c='r', label = \"Training Loss\")\n",
        "plt.plot(epoch_iter, val_loss_per_epoch, c='b',label = \"Validation Loss\")\n",
        "plt.legend()\n",
        "plt.xlabel('Number of epoch')\n",
        "plt.ylabel('Loss')\n",
        "plt.show()"
      ]
    },
    {
      "cell_type": "markdown",
      "metadata": {
        "id": "RLCM1sSy5kru"
      },
      "source": [
        "### Exercise 4\n",
        "\n",
        "<b><div style=\"text-align: right\">[POINTS: 1]</div></b>\n",
        "Your task is to find the predictions made by your model on test data `test_x` and computing error between predicted and actual test labels.\n",
        "\n",
        "Note:  The predicted value must be stored in variable `predicted`\n",
        "     The error value must be stored in variable `error`"
      ]
    },
    {
      "cell_type": "code",
      "execution_count": null,
      "metadata": {
        "deletable": false,
        "id": "fa1XsROaeHVw",
        "nbgrader": {
          "cell_type": "code",
          "checksum": "cd46149b69c334ee1f01ae617479c497",
          "grade": false,
          "grade_id": "cell-3bedbde2a001bf6d",
          "locked": false,
          "schema_version": 3,
          "solution": true,
          "task": false
        },
        "tags": [
          "Ex-4-Task-1"
        ]
      },
      "outputs": [],
      "source": [
        "### Ex-4-Task-1\n",
        "\n",
        "# Let's see the prediction on the test data.\n",
        "predicted = None\n",
        "error = None\n",
        "### BEGIN SOLUTION\n",
        "# your code here\n",
        "raise NotImplementedError\n",
        "### END SOLUTION\n",
        "plt.title(\"Prediction of strength\")\n",
        "plt.scatter(test_Y, predicted.detach().numpy())\n",
        "plt.xlabel(\"Actual Strength\")\n",
        "plt.ylabel(\"Predicted Strength\")\n",
        "lims = [0, 30]\n",
        "plt.xlim(lims)\n",
        "plt.ylim(lims)\n",
        "_ = plt.plot(lims, lims, c='r')\n",
        "plt.show()"
      ]
    },
    {
      "cell_type": "code",
      "execution_count": null,
      "metadata": {
        "deletable": false,
        "editable": false,
        "id": "rFOpKxmM5kru",
        "nbgrader": {
          "cell_type": "code",
          "checksum": "0d0019c8cd4381808c9aa392d43f52db",
          "grade": false,
          "grade_id": "cell-babee588201a10ed",
          "locked": true,
          "schema_version": 3,
          "solution": false,
          "task": false
        }
      },
      "outputs": [],
      "source": [
        "### READ ONLY\n",
        "assert predicted is not None\n",
        "assert error is not None\n",
        "\n",
        "grader.add_case({'ex4_task1':{'predicted':predicted,'error':error}})"
      ]
    },
    {
      "cell_type": "code",
      "execution_count": null,
      "metadata": {
        "deletable": false,
        "editable": false,
        "id": "qPcfmU3L5kru",
        "nbgrader": {
          "cell_type": "code",
          "checksum": "b2cc7aadf6ad297e377616aea97af17a",
          "grade": false,
          "grade_id": "cell-5c529a22058e7e96",
          "locked": true,
          "schema_version": 3,
          "solution": false,
          "task": false
        }
      },
      "outputs": [],
      "source": [
        "### BEGIN TEMP BLOCK\n",
        "grader.make_pickle()\n",
        "### END TEMP BLOCK"
      ]
    },
    {
      "cell_type": "code",
      "execution_count": null,
      "metadata": {
        "deletable": false,
        "editable": false,
        "id": "Sp38vINr5kru",
        "nbgrader": {
          "cell_type": "code",
          "checksum": "9d8600e5d758b2a4598e8d6320d43264",
          "grade": false,
          "grade_id": "cell-8a57e946c501942c",
          "locked": true,
          "schema_version": 3,
          "solution": false,
          "task": false
        }
      },
      "outputs": [],
      "source": [
        "### BEGIN TEMP BLOCK\n",
        "import pickle\n",
        "with open('python-l1-4-source.pkl', 'rb') as f:\n",
        "    pkl = pickle.load(f)\n",
        "### END TEMP BLOCK"
      ]
    },
    {
      "cell_type": "code",
      "execution_count": null,
      "metadata": {
        "deletable": false,
        "editable": false,
        "id": "n_ztjvfH5kru",
        "nbgrader": {
          "cell_type": "code",
          "checksum": "ebe74a9ac9b4d975f36c8471dcaafc73",
          "grade": true,
          "grade_id": "cell-798ed544efcb32a6",
          "locked": true,
          "points": 1,
          "schema_version": 3,
          "solution": false,
          "task": false
        },
        "tags": [
          "Ex-4-Task-1"
        ]
      },
      "outputs": [],
      "source": [
        "# INTIONALLY LEFT BLANK"
      ]
    },
    {
      "cell_type": "code",
      "execution_count": null,
      "metadata": {
        "deletable": false,
        "editable": false,
        "id": "mmnn8JNkeHVw",
        "nbgrader": {
          "cell_type": "code",
          "checksum": "c8b297e5e38365b5dd65be74ac630ef8",
          "grade": false,
          "grade_id": "cell-bc7176e9dbcf5627",
          "locked": true,
          "schema_version": 3,
          "solution": false,
          "task": false
        }
      },
      "outputs": [],
      "source": [
        "print(\"Training loss: \", error.detach().numpy())"
      ]
    },
    {
      "cell_type": "markdown",
      "metadata": {
        "deletable": false,
        "editable": false,
        "id": "1S08x6Lk5krv",
        "nbgrader": {
          "cell_type": "markdown",
          "checksum": "d2a2556a942b4d34da4ede7ec646fe1c",
          "grade": false,
          "grade_id": "cell-7b70fc5ffb87059a",
          "locked": true,
          "schema_version": 3,
          "solution": false,
          "task": false
        }
      },
      "source": [
        "we can visualize tensorboard. It is an advanced experiment tracking tool."
      ]
    },
    {
      "cell_type": "code",
      "execution_count": null,
      "metadata": {
        "deletable": false,
        "editable": false,
        "id": "VOJiYwpWeHVw",
        "nbgrader": {
          "cell_type": "code",
          "checksum": "c12d03790d6abfc73cc06fb4fca1e486",
          "grade": false,
          "grade_id": "cell-fb1967af334186c9",
          "locked": true,
          "schema_version": 3,
          "solution": false,
          "task": false
        }
      },
      "outputs": [],
      "source": [
        "%tensorboard --logdir logs"
      ]
    }
  ],
  "metadata": {
    "colab": {
      "collapsed_sections": [],
      "provenance": []
    },
    "kernelspec": {
      "display_name": "Python 3 (ipykernel)",
      "language": "python",
      "name": "python3"
    },
    "language_info": {
      "codemirror_mode": {
        "name": "ipython",
        "version": 3
      },
      "file_extension": ".py",
      "mimetype": "text/x-python",
      "name": "python",
      "nbconvert_exporter": "python",
      "pygments_lexer": "ipython3",
      "version": "3.7.3"
    }
  },
  "nbformat": 4,
  "nbformat_minor": 0
}