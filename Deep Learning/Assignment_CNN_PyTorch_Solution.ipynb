{
  "cells": [
    {
      "cell_type": "markdown",
      "metadata": {
        "id": "oajiTSAMA-N5"
      },
      "source": [
        "<h1><b>Assignment : CNN Classification on CIFAR-10 using PyTorch</b></h1>\n",
        "\n",
        "Now that you have understood the working of a Convolutional Neural Network with all of its layers, it is now time to implement your knowledge in code. In this assignment, you will build a CNN classifier using PyTorch. \n",
        "\n",
        "In the L1 course, you built a classifier model using the **PyTorch**.What is even more interesting is that, we will be visualizing the intermediate steps and shapes of a CNN in even more detail. \n",
        "\n",
        "In this assignment, we will be using the **'CIFAR10'** dataset from PyTorch datasets. The dataset consists of 60,000 sample images with two default splits: train and test. It contains images from 10 different classes of objects with labels 0-9.\n",
        "Below, you can see the different classes in the cifar10 dataset. It consists of 10 output classes:\n",
        "\n",
        "1. Airplane\n",
        "2. Automobile\n",
        "3. Bird\n",
        "4. Cat\n",
        "5. Deer\n",
        "6. Dog\n",
        "7. Frog\n",
        "8. Horse\n",
        "9. Ship\n",
        "10. Truck"
      ]
    },
    {
      "cell_type": "markdown",
      "metadata": {
        "id": "kZ8ik87fBZKl"
      },
      "source": [
        "<h2><b>Importing Necessary Libraries</b></h2>\n",
        "\n",
        "We will first start my importing the necessary libraries for our assignment. Specific libraries will be imported as we move further."
      ]
    },
    {
      "cell_type": "code",
      "execution_count": 1,
      "metadata": {
        "colab": {
          "base_uri": "https://localhost:8080/"
        },
        "id": "HK4ss5PYe1M4",
        "outputId": "5a3328fd-b0b1-46b5-fc24-2723fa565692"
      },
      "outputs": [
        {
          "output_type": "stream",
          "name": "stdout",
          "text": [
            "1.12.1+cu113\n"
          ]
        }
      ],
      "source": [
        "# imports\n",
        "import os\n",
        "import pickle\n",
        "import numpy as np\n",
        "import torch\n",
        "from torch import nn\n",
        "import torch.nn.functional as F\n",
        "\n",
        "print(torch.__version__)"
      ]
    },
    {
      "cell_type": "markdown",
      "metadata": {
        "id": "mmt5OsayBeRX"
      },
      "source": [
        "<h2><b>Loading the dataset</b></h2>\n",
        "\n",
        "As mentioned before, we will be using the **cifar10 dataset** from torchvision datasets for our classification task. Here, we have loaded the dataset. By default, it is split intro train and test sets. We will now use this default split to separate the dataset into the training and testing data."
      ]
    },
    {
      "cell_type": "code",
      "execution_count": 2,
      "metadata": {
        "colab": {
          "base_uri": "https://localhost:8080/",
          "height": 101,
          "referenced_widgets": [
            "1ef83d9baf33424b9329b86eb08f8384",
            "bbad8d6a30554f4e9132a1e8e757d6a7",
            "ddb51d8c2113441f8190a751f206e80c",
            "64a13f28b73c404c96b9c524f8a5cce2",
            "e147c44568d643dcbbfe98d616194401",
            "43b1b2e09d2f426182b04081129e5d7c",
            "12bf7222f0f24bca8873da041f1d5045",
            "b38f0d4181ce47a0b245f92c60005395",
            "00f2da3ad47b4a23944389fd1e4f23fe",
            "ecc5158313af42b8bc622b1952122e5a",
            "c516e92db73a46c18406b788814615e9"
          ]
        },
        "id": "rQAfvlQWfByy",
        "outputId": "442fffad-2792-4793-9374-c8c396e5bfac"
      },
      "outputs": [
        {
          "output_type": "stream",
          "name": "stdout",
          "text": [
            "Downloading https://www.cs.toronto.edu/~kriz/cifar-10-python.tar.gz to ./data/cifar-10-python.tar.gz\n"
          ]
        },
        {
          "output_type": "display_data",
          "data": {
            "text/plain": [
              "  0%|          | 0/170498071 [00:00<?, ?it/s]"
            ],
            "application/vnd.jupyter.widget-view+json": {
              "version_major": 2,
              "version_minor": 0,
              "model_id": "1ef83d9baf33424b9329b86eb08f8384"
            }
          },
          "metadata": {}
        },
        {
          "output_type": "stream",
          "name": "stdout",
          "text": [
            "Extracting ./data/cifar-10-python.tar.gz to ./data\n",
            "Files already downloaded and verified\n"
          ]
        }
      ],
      "source": [
        "import torchvision\n",
        "import torchvision.transforms as transforms\n",
        "\n",
        "transform = transforms.Compose(\n",
        "    [transforms.ToTensor(),  # To convert to tensor with compatible data type i.e., float32\n",
        "     transforms.Normalize((0.5, 0.5, 0.5), (0.5, 0.5, 0.5))])  # To normalize image\n",
        "\n",
        "trainset = torchvision.datasets.CIFAR10(root='./data', train=True,\n",
        "                                        download=True, transform=transform)\n",
        "testset = torchvision.datasets.CIFAR10(root='./data', train=False,\n",
        "                                       download=True, transform=transform)\n"
      ]
    },
    {
      "cell_type": "markdown",
      "metadata": {
        "id": "mA0-HSUABtJJ"
      },
      "source": [
        "Here, you can see that the dataset contains image samples and labels. Each image is of size `32x32x3`. "
      ]
    },
    {
      "cell_type": "code",
      "execution_count": 3,
      "metadata": {
        "colab": {
          "base_uri": "https://localhost:8080/"
        },
        "id": "xbBb75gtfEP9",
        "outputId": "300ffef6-6fc5-44f9-c58d-e8e7017aea49"
      },
      "outputs": [
        {
          "output_type": "stream",
          "name": "stdout",
          "text": [
            "(50000, 32, 32, 3)\n",
            "(10000, 32, 32, 3)\n"
          ]
        }
      ],
      "source": [
        "print(trainset.data.shape)\n",
        "print(testset.data.shape)"
      ]
    },
    {
      "cell_type": "markdown",
      "metadata": {
        "id": "PRgtUwXxCB37"
      },
      "source": [
        "We can even plot image samples and their labels from one of the sets. Here, we have imported matplotlib pyplot for the plotting operation."
      ]
    },
    {
      "cell_type": "code",
      "execution_count": 4,
      "metadata": {
        "colab": {
          "base_uri": "https://localhost:8080/"
        },
        "id": "TlpM3qC1h_2Y",
        "outputId": "3d2ca12e-53f0-4b0d-c20b-85470c93b038"
      },
      "outputs": [
        {
          "output_type": "execute_result",
          "data": {
            "text/plain": [
              "{'airplane': 0,\n",
              " 'automobile': 1,\n",
              " 'bird': 2,\n",
              " 'cat': 3,\n",
              " 'deer': 4,\n",
              " 'dog': 5,\n",
              " 'frog': 6,\n",
              " 'horse': 7,\n",
              " 'ship': 8,\n",
              " 'truck': 9}"
            ]
          },
          "metadata": {},
          "execution_count": 4
        }
      ],
      "source": [
        "trainset.class_to_idx"
      ]
    },
    {
      "cell_type": "code",
      "execution_count": 5,
      "metadata": {
        "colab": {
          "base_uri": "https://localhost:8080/",
          "height": 545
        },
        "id": "4r_aDRJefHCw",
        "outputId": "7bd374f6-bbd3-446c-fbd5-a0b0fc664a26"
      },
      "outputs": [
        {
          "output_type": "display_data",
          "data": {
            "text/plain": [
              "<Figure size 432x288 with 1 Axes>"
            ],
            "image/png": "[encoded data removed]"
          },
          "metadata": {
            "needs_background": "light"
          }
        },
        {
          "output_type": "display_data",
          "data": {
            "text/plain": [
              "<Figure size 432x288 with 1 Axes>"
            ],
            "image/png": "[encoded data removed]"
          },
          "metadata": {
            "needs_background": "light"
          }
        }
      ],
      "source": [
        "from operator import le\n",
        "import matplotlib.pyplot as plt\n",
        "\n",
        "# Show the first two images and labels from the training set\n",
        "get_label_name = {v: k for k, v in trainset.class_to_idx.items()}\n",
        "np.random.seed(4)\n",
        "for idx in np.random.randint(0, len(trainset), size=2):\n",
        "    image, label = trainset.data[idx], trainset.targets[idx]\n",
        "    plt.figure()\n",
        "    plt.imshow(image)\n",
        "    plt.title(get_label_name[label])"
      ]
    },
    {
      "cell_type": "markdown",
      "metadata": {
        "id": "OKElqqLzTNIw"
      },
      "source": [
        "<h2><b>Exercise 1: Layer Implementations for CNN architecture</b></h2>\n",
        "\n",
        "<b>[POINTS: 6]</b>\n",
        "\n",
        "Now for the exciting part, let us dive into the model building section. But before that, here we will experiment with custom layer building from PyTorch. You will be building three custom layers: <b>Conv2D, Max-pool and Dense layers </b> using nn.Module. The task might look a bit lengthy, but if you follow the instructions step-by-step, you will end up with your very own custom layers. For your ease, we have initialized a Glorot Uniform(Xavier Uniform in PyTorch) initializer with a seed value for parameter initialization.\n"
      ]
    },
    {
      "cell_type": "markdown",
      "metadata": {
        "id": "LZNC9UStCkx2"
      },
      "source": [
        "<h3><b>Task 1:</b></h3>\n",
        "<b>[POINTS: 2]</b>\n",
        "\n",
        "(2 lines of code)\n",
        "\n",
        "Fill in the `forward` function for the custom Conv2D layer class with the following steps:\n",
        "1.   Pass the input through the `F.conv2d`. Use the weights, the bias the padding and the strides initialized in the `__init__` function above.\n",
        "2. Finally, pass the input through a `F.relu` operation.\n",
        "\n",
        "\n",
        "<h3><b>Task 2:</b></h3>\n",
        "<b>[POINTS: 2]</b>\n",
        "\n",
        "(1 line of code)\n",
        "\n",
        "Fill in the `forward` function for the custom MaxPool layer class with the following steps:\n",
        "1.   Pass the input through the `F.max_pool2d`. Use the attributes initialized in the `__init__` function to pass to this function.\n",
        "\n",
        "\n",
        "<h3><b>Task 3:</b></h3>\n",
        "<b>[POINTS: 2]</b>\n",
        "\n",
        "(1 line of code)\n",
        "\n",
        "Fill in the `forward` function for the custom Dense layer class with the following steps:\n",
        "1.   Use the `torch.mm` to multiply the weights with the input and add the result to the bias. Use the weights and bias initialized in the `__init__` function.\n"
      ]
    },
    {
      "cell_type": "code",
      "execution_count": 6,
      "metadata": {
        "id": "DbKq7tZas6RK"
      },
      "outputs": [],
      "source": [
        "### Ex-1-Task-1\n",
        "class Conv2D(nn.Module):\n",
        "    def __init__(self, in_channels, out_channels, kernel_size, stride=1, padding='same'):\n",
        "        \"\"\"\n",
        "        This function initializes the parameters for a conv2D layer\n",
        "\n",
        "        Parameters\n",
        "        ------------\n",
        "        in_channels : int\n",
        "        Number of channels in the input image\n",
        "\n",
        "        out_channels : int\n",
        "        Number of channels produced by the convolution\n",
        "\n",
        "        kernel_size : int or tuple\n",
        "        Size of the convolving kernel \n",
        "\n",
        "        stride : int or tuple\n",
        "        Stride of the convolution. Default: 1\n",
        "\n",
        "        padding: int, tuple or str\n",
        "        Padding added to all four sides of the input. Default: 'same'\n",
        "        \"\"\"\n",
        "        super(Conv2D, self).__init__()\n",
        "        self.in_channels = in_channels\n",
        "        self.out_channels = out_channels\n",
        "        self.kernel_size = (kernel_size, kernel_size) if isinstance(kernel_size, int) else kernel_size\n",
        "        self.stride = stride\n",
        "        self.padding = padding\n",
        "\n",
        "        self.weight = nn.Parameter(\n",
        "            torch.nn.init.xavier_uniform_(\n",
        "                torch.empty(\n",
        "                    (self.out_channels, self.in_channels, *self.kernel_size),\n",
        "                    requires_grad=True\n",
        "                )\n",
        "            )\n",
        "        )\n",
        "        self.bias = nn.Parameter(\n",
        "            torch.zeros((self.out_channels,), requires_grad=True)\n",
        "        )\n",
        "\n",
        "    def forward(self, x):\n",
        "        \"\"\"\n",
        "        This function performs convolution operation on the input\n",
        "        Parameters\n",
        "        ------------\n",
        "        x : tensor, float32\n",
        "        Input image to the convolution layer\n",
        "\n",
        "        Returns\n",
        "        ------------\n",
        "        x : tensor, float32\n",
        "        feature map output from the last layer\n",
        "        \"\"\"\n",
        "        # Exercise 1 | Task 1\n",
        "        ### BEGIN SOLUTION\n",
        "        \n",
        "        conv = F.conv2d(input=x, weight=self.weight, bias=self.bias, stride=self.stride, padding=self.padding)\n",
        "        x=F.relu(conv)\n",
        "        # raise NotImplementedError\n",
        "        ### END SOLUTION\n",
        "        return x"
      ]
    },
    {
      "cell_type": "code",
      "execution_count": 7,
      "metadata": {
        "id": "0wIn94ZFM1CD"
      },
      "outputs": [],
      "source": [
        "# INTENTIONALLY LEFT BLANK"
      ]
    },
    {
      "cell_type": "code",
      "execution_count": 8,
      "metadata": {
        "id": "tUKp4cWBs-lx"
      },
      "outputs": [],
      "source": [
        "### Ex-1-Task-2\n",
        "class MaxPool(nn.Module):\n",
        "    def __init__(self, kernel_size, stride=None, padding=0):\n",
        "        \"\"\"\n",
        "        This function initializes the parameters for a maxpool layer\n",
        "\n",
        "        Parameters\n",
        "        ------------\n",
        "        kernel_size : int\n",
        "        window height and width for the maxpooling window\n",
        "\n",
        "        stride : int\n",
        "        the stride of the window. Default value is kernel_size\n",
        "\n",
        "        padding: int\n",
        "        implicit zero padding to be added on both sides\n",
        "        \"\"\"\n",
        "        super(MaxPool, self).__init__()\n",
        "        self.kernel_size = kernel_size\n",
        "        self.stride = kernel_size if stride is None else stride\n",
        "        self.padding = padding\n",
        "\n",
        "\n",
        "    def forward(self, x): \n",
        "        \"\"\"\n",
        "        This function performs max-pool operation on the input\n",
        "\n",
        "        Parameters\n",
        "        ------------\n",
        "        x : tensor, float32\n",
        "        Input image to the convolution layer\n",
        "\n",
        "        Returns\n",
        "        ------------\n",
        "        x : tensor, float32\n",
        "        max-pooled output from the last layer\n",
        "        \"\"\"\n",
        "        # Exercise 1 | Task 2 \n",
        "        ### BEGIN SOLUTION\n",
        "        x=F.max_pool2d(input=x,kernel_size=self.kernel_size,stride=self.stride,padding=self.padding)\n",
        "        ### END SOLUTION\n",
        "        return x"
      ]
    },
    {
      "cell_type": "code",
      "execution_count": 9,
      "metadata": {
        "id": "t4ybYYosQU78"
      },
      "outputs": [],
      "source": [
        "# INTENTIONALLY LEFT BLANK"
      ]
    },
    {
      "cell_type": "code",
      "execution_count": 10,
      "metadata": {
        "id": "zbQ_AtwDfKsg"
      },
      "outputs": [],
      "source": [
        "### Ex-1-Task-3\n",
        "class Dense(nn.Module):\n",
        "    def __init__(self, in_features, out_features):\n",
        "        \"\"\"\n",
        "        This function initializes the parameters for a dense layer\n",
        "        Parameters\n",
        "        ------------- \n",
        "        in_features : int\n",
        "        shape of the input to the dense layer\n",
        "\n",
        "        out_features : int\n",
        "        number of units in the dense layer\n",
        "        \"\"\"\n",
        "        super(Dense, self).__init__()\n",
        "        self.in_features = in_features\n",
        "        self.out_features =  out_features\n",
        "        \n",
        "        self.weight = nn.Parameter(\n",
        "            torch.nn.init.xavier_uniform_(\n",
        "                torch.empty(\n",
        "                    (self.in_features, self.out_features),\n",
        "                    requires_grad=True,\n",
        "                )\n",
        "            )\n",
        "        )\n",
        "        self.bias = nn.Parameter(\n",
        "            torch.zeros((self.out_features,), requires_grad=True)\n",
        "        )\n",
        "\n",
        "    def forward(self, x):\n",
        "        \"\"\"\n",
        "        This function performs dense operation on the input\n",
        "        Parameters\n",
        "        ------------\n",
        "        x : tensor, float32\n",
        "        Input flattened image to the convolution layer\n",
        "\n",
        "        Returns\n",
        "        ------------\n",
        "        x : tensor, float32\n",
        "        linear operation output from the last layer\n",
        "        \"\"\"\n",
        "        # Exercise 1 | Task 3\n",
        "        ### BEGIN SOLUTION\n",
        "        # mul=torch.mm(torch.transpose(self.weight.t(),0,1),x)\n",
        "        x=torch.add(torch.mm(x,self.weight),self.bias)\n",
        "        ### END SOLUTION\n",
        "        return x"
      ]
    },
    {
      "cell_type": "code",
      "execution_count": 11,
      "metadata": {
        "id": "4kpnCFAfQ-_N"
      },
      "outputs": [],
      "source": [
        "# INTENTIONALLY LEFT BLANK"
      ]
    },
    {
      "cell_type": "markdown",
      "metadata": {
        "id": "gHDratO-TVAJ"
      },
      "source": [
        "<h2><b>Exercise 2: Creating the CNN architecture</b></h2>\n",
        "\n",
        "<b>[POINTS: 4]</b>\n",
        "\n",
        "Now that you've made your custom layers ready, here you will be combining these layers to create a complete CNN model. We have created a Model called `CNNModel` for the purpose. The `__init__` function initializes all the necessary layers required for the model. The `forward` function passes the input through the layers initialized above.\n",
        "\n",
        "<h3><b>Task 1:</b></h3>\n",
        "<b>[POINTS: 2]</b>\n",
        "\n",
        "(3 lines of code)\n",
        "\n",
        "Initialize the `c4, m2 and d1` layers for the model using the custom layers you created above.\n",
        "1.   Use the filter_dim and the remaining elements from the channels and variables list, as the parameters for the `c4` convolution layer.\n",
        "2. Use k = 2 as a parameter for the `m2` maxpooling layer\n",
        "3. Finally, use the remaining elements from the dense_in_features and dense_out_features lists as parameters for the `d1` dense layer.\n",
        "\n",
        "\n",
        "<h3><b>Task 2:</b></h3>\n",
        "<b>[POINTS: 2]</b> \n",
        "\n",
        "(6 lines of code)\n",
        "\n",
        "Pass the input the following series of layers:\n",
        "1. c4\n",
        "2. m2\n",
        "3. dropout\n",
        "4. Reshape layer to flatten the input before passing through the dense layer \n",
        "5. d1\n",
        "6. Relu layer\n",
        "\n"
      ]
    },
    {
      "cell_type": "code",
      "execution_count": 12,
      "metadata": {
        "id": "ex6AB4MSfZyA"
      },
      "outputs": [],
      "source": [
        "### Ex-2-Task-1\n",
        "class CNNModel(nn.Module):\n",
        "    def __init__(self):\n",
        "        \"\"\"\n",
        "        This function initializes the layers for the CNN model\n",
        "        \"\"\"\n",
        "        super(CNNModel, self).__init__()\n",
        "\n",
        "        # parameters for conv layers\n",
        "        filter_dim = 3\n",
        "        in_channels = [3, 16, 32, 32]\n",
        "        out_channels = [16, 32, 32, 64]\n",
        "\n",
        "        # parameters for dense layers\n",
        "        dense_in_features = [4096, 256]\n",
        "        dense_out_features = [256, 10]\n",
        "\n",
        "        # initializing all the layers\n",
        "        self.c1 = Conv2D(in_channels[0], out_channels[0], filter_dim)\n",
        "        self.c2 = Conv2D(in_channels[1], out_channels[1], filter_dim)\n",
        "        self.m1 = MaxPool(2)\n",
        "        self.dropout = nn.Dropout(p=0.25)\n",
        "        self.c3 = Conv2D(in_channels[2], out_channels[2], filter_dim)\n",
        "\n",
        "        self.c4 = None\n",
        "        self.m2 = None\n",
        "        self.d1 = None\n",
        "\n",
        "        # Exercise 2 | Task 1\n",
        "        ### BEGIN SOLUTION\n",
        "        self.c4=Conv2D(in_channels[3], out_channels[3], filter_dim)\n",
        "        self.m2=MaxPool(2)\n",
        "        self.d1=Dense(dense_in_features[0],dense_out_features[0])       \n",
        "        ### END SOLUTION\n",
        "\n",
        "        self.d2 = Dense(dense_in_features[1], dense_out_features[1])"
      ]
    },
    {
      "cell_type": "code",
      "execution_count": 13,
      "metadata": {
        "id": "SA2i6Jvhng4w"
      },
      "outputs": [],
      "source": [
        "### Ex-2-Task-2\n",
        "def forward(self, x):\n",
        "    \"\"\"\n",
        "    This function performs convolutions, relu, max_pooling, dropout, \n",
        "    reshape and dense operations on the input to the model.\n",
        "\n",
        "    Parameters\n",
        "    ------------\n",
        "    x : tensor, float32\n",
        "    Input image to the model\n",
        "\n",
        "    Returns\n",
        "    ------------\n",
        "    x : tensor, float32\n",
        "    output from the last layer\n",
        "\n",
        "    \"\"\"\n",
        "    x = self.c1(x)\n",
        "    x = self.c2(x)\n",
        "    x = self.m1(x)\n",
        "    x = self.dropout(x)\n",
        "\n",
        "    x = self.c3(x)\n",
        "\n",
        "    # Exercise 3 | Task 2\n",
        "    ### BEGIN SOLUTION\n",
        "    x=self.c4(x)\n",
        "    x=self.m2(x)\n",
        "    x=self.dropout(x)\n",
        "    x=x.reshape(x.shape[0],-1)\n",
        "    x=self.d1(x)\n",
        "    x=F.relu(x)    \n",
        "    ### END SOLUTION\n",
        "\n",
        "    x = self.d2(x)\n",
        "\n",
        "    return x\n",
        "\n",
        "CNNModel.forward = forward\n",
        "model = CNNModel()"
      ]
    },
    {
      "cell_type": "code",
      "execution_count": 14,
      "metadata": {
        "id": "aaxAvQCYVXpA"
      },
      "outputs": [],
      "source": [
        "# INTENTIONALLY LEFT BLANK"
      ]
    },
    {
      "cell_type": "code",
      "execution_count": 15,
      "metadata": {
        "id": "KsxadlsLWgQH"
      },
      "outputs": [],
      "source": [
        "# INTENTIONALLY LEFT BLANK"
      ]
    },
    {
      "cell_type": "code",
      "execution_count": 16,
      "metadata": {
        "colab": {
          "base_uri": "https://localhost:8080/"
        },
        "id": "WN7R2z3Mg4kb",
        "outputId": "0b52bb28-bbd0-4a7e-ccba-60c1db9badfe"
      },
      "outputs": [
        {
          "output_type": "execute_result",
          "data": {
            "text/plain": [
              "CNNModel(\n",
              "  (c1): Conv2D()\n",
              "  (c2): Conv2D()\n",
              "  (m1): MaxPool()\n",
              "  (dropout): Dropout(p=0.25, inplace=False)\n",
              "  (c3): Conv2D()\n",
              "  (c4): Conv2D()\n",
              "  (m2): MaxPool()\n",
              "  (d1): Dense()\n",
              "  (d2): Dense()\n",
              ")"
            ]
          },
          "metadata": {},
          "execution_count": 16
        }
      ],
      "source": [
        "example = torch.randn((1, 3, 32,32))\n",
        "output = model(example)\n",
        "model"
      ]
    },
    {
      "cell_type": "markdown",
      "metadata": {
        "id": "bwSUBrgFCtmI"
      },
      "source": [
        "Once we pass the input through the model, we can now check the model summary to visualize all the layers, parameters in each layer and the total number of parameters."
      ]
    },
    {
      "cell_type": "markdown",
      "metadata": {
        "id": "lmldwl7gTl33"
      },
      "source": [
        "<h2><b>Exercise 3: Implement Cost Function</b></h2>\n",
        "\n",
        "<b>[POINTS: 1]</b>\n",
        "\n",
        "Now, you need to compute the cost using a cost function, to check if your model is actually learning or not.\n",
        "Here we will be creating a function to compute the cross-entropy cost $J$, given the actual and predicted labels. The formula for cross entropy loss is given below: $$-\\frac{1}{m} \\sum\\limits_{i = 1}^{m} (y^{(i)}\\log\\left(A^{[L] (i)}\\right) + (1-y^{(i)})\\log\\left(1- A^{[L](i)}\\right)) $$\n",
        "\n",
        "As for this exercise, you will be directly using a built-in Tensorflow function for the cross entropy loss. \n",
        "\n",
        "<h3><b>Task:</b></h3>\n",
        "<b>[POINTS: 1]</b>\n",
        "\n",
        "(1 line of code)\n",
        "\n",
        "Use the `F.cross_entropy` function to calculate the cross entropy loss between the target and predicted output."
      ]
    },
    {
      "cell_type": "code",
      "execution_count": 17,
      "metadata": {
        "id": "q-8Y7jJfi2TP"
      },
      "outputs": [],
      "source": [
        "### Ex-3-Task-1\n",
        "def loss(target_y, predicted_y):\n",
        "    \"\"\"\n",
        "    Cross entropy loss between target and predicted value\n",
        "      \n",
        "    Parameters\n",
        "    ----------\n",
        "    target_y: tensor, float32\n",
        "    Target labels\n",
        "    predicted_y: tensor, float32\n",
        "    Prediction of the classes made by model\n",
        "      \n",
        "    Returns\n",
        "    -------\n",
        "    cost: tensor, float32\n",
        "    The average cross-entropy cost of the mini-batch of inputs\n",
        "      \n",
        "    \"\"\"\n",
        "    cost = None\n",
        "    # Exercise 3\n",
        "    ### BEGIN SOLUTION\n",
        "    cost=F.cross_entropy(predicted_y,target_y)\n",
        "    ### END SOLUTION\n",
        "\n",
        "    return cost"
      ]
    },
    {
      "cell_type": "code",
      "execution_count": 18,
      "metadata": {
        "colab": {
          "base_uri": "https://localhost:8080/"
        },
        "id": "YmbVoqu2D0Gv",
        "outputId": "333e9cc7-f5ad-40d5-8666-6b817bbe050c"
      },
      "outputs": [
        {
          "output_type": "execute_result",
          "data": {
            "text/plain": [
              "(tensor([[-1.2700, -1.7842, -0.6894, -0.0341,  0.2144],\n",
              "         [ 0.5901,  0.8879, -1.1297, -0.8828, -0.5850],\n",
              "         [ 0.7644, -1.0266,  1.3377, -2.0700, -2.2821]]), tensor([4, 0, 1]))"
            ]
          },
          "metadata": {},
          "execution_count": 18
        }
      ],
      "source": [
        "torch.randn(3, 5),torch.randint(5, (3,), dtype=torch.int64)"
      ]
    },
    {
      "cell_type": "code",
      "execution_count": 19,
      "metadata": {
        "colab": {
          "base_uri": "https://localhost:8080/"
        },
        "id": "Exrcyk0UDao9",
        "outputId": "a2872883-8c52-4409-b74a-ab8a95314954"
      },
      "outputs": [
        {
          "output_type": "execute_result",
          "data": {
            "text/plain": [
              "tensor(1.4501)"
            ]
          },
          "metadata": {},
          "execution_count": 19
        }
      ],
      "source": [
        "# Example of target with class indices\n",
        "input = torch.randn(3, 5)\n",
        "target = torch.randint(5, (3,), dtype=torch.int64)\n",
        "F.cross_entropy(input,target)"
      ]
    },
    {
      "cell_type": "code",
      "execution_count": 20,
      "metadata": {
        "id": "dKLJ8fQvqE73"
      },
      "outputs": [],
      "source": [
        "# INTENTIONALLY LEFT BLANK\n",
        "### BEGIN HIDDEN TEST\n",
        "y1 = torch.tensor([1, 0, 1, 0])\n",
        "y2 = torch.tensor([[0.93, 0.07], [0.15, 0.85], [0.3, 0.7], [0.7, 0.3]])\n",
        "assert loss(y1, y2).item() == 0.8355244398117065\n",
        "### END HIDDEN TEST"
      ]
    },
    {
      "cell_type": "markdown",
      "metadata": {
        "id": "9QJeHnT1TuDb"
      },
      "source": [
        "<h2><b>Exercise 4: Calculation of Gradients and Optimization</b></h2>\n",
        "\n",
        "<b>[POINTS: 2]</b> \n",
        "\n",
        "In this section, we move to the optimization process. We will be calculating the gradients and use them to update the trainable parameters of the model with the help of an optimizer. \n",
        "We will define a function `train()` which takes four parameters: model, inputs, outputs, and optimizer. It returns the current loss of the model and its predicted output labels.\n",
        "\n",
        "<h3><b>Task:</b></h3>\n",
        "<b>[POINTS: 2]</b> \n",
        "\n",
        "(2 lines of code)\n",
        "\n",
        "Compute gradients with the help GradientTape (for automatic differentiation) and apply the gradients to update the weights of the model using the Adam optimizer set below. \n",
        "\n",
        "Perform backward propagation from the calculated loss and update model parameters using optimizer. Be sure to remove previously calculated gradients.\n",
        "\n",
        "**Hint:**\n",
        "Use backward() method and step() method from loss and optimizer respectively."
      ]
    },
    {
      "cell_type": "code",
      "execution_count": 21,
      "metadata": {
        "id": "GD9myzXl4u7S"
      },
      "outputs": [],
      "source": [
        "device = torch.device('cuda:0' if torch.cuda.is_available() else 'cpu')\n",
        "\n",
        "model = model.to(device)\n",
        "\n",
        "LEARNING_RATE = 0.001\n",
        "optimizer = torch.optim.Adam(model.parameters(), lr=LEARNING_RATE)"
      ]
    },
    {
      "cell_type": "code",
      "execution_count": 22,
      "metadata": {
        "id": "G7CeaKMxi9Ga"
      },
      "outputs": [],
      "source": [
        "### Ex-4-Task-1\n",
        "\n",
        "def train(model: nn.Module, inputs, outputs, optimizer: torch.optim.Optimizer):\n",
        "    \"\"\"\n",
        "    A function for training a model which performs both gradient computation \n",
        "    and weight update.\n",
        "    \n",
        "    Parameters\n",
        "    ----------\n",
        "    model: CNNModel\n",
        "    The model for training, should be in train mode.\n",
        "\n",
        "    inputs: tensor\n",
        "    Tensor of features or independent data(samples)\n",
        "\n",
        "    outputs: tensor\n",
        "    Tensor of actual labels or dependent data\n",
        "                   \n",
        "    Returns:\n",
        "    -------\n",
        "    current_loss: tensor, float32\n",
        "    loss of the current training step\n",
        "\n",
        "    y_predicted: tensor, float32\n",
        "    Prediciton by the model at the current training step\n",
        "    \"\"\"\n",
        "\n",
        "    optimizer.zero_grad()\n",
        "   \n",
        "    y_predicted = model(inputs)\n",
        "    y = outputs\n",
        "    current_loss = loss(y, y_predicted)\n",
        "\n",
        "    # Exercise 4 \n",
        "    ### BEGIN SOLUTION\n",
        "    current_loss.backward()\n",
        "    optimizer.step()\n",
        "    ### END SOLUTION\n",
        "    \n",
        "    return current_loss, y_predicted"
      ]
    },
    {
      "cell_type": "code",
      "execution_count": 23,
      "metadata": {
        "id": "LXK2fAXnjaBf"
      },
      "outputs": [],
      "source": [
        "# INTENTIONALLY LEFT BLANK"
      ]
    },
    {
      "cell_type": "markdown",
      "metadata": {
        "id": "S8CulOGwUISC"
      },
      "source": [
        "<h2><b>Exercise 5: Training and Evaluation</b></h2>\n",
        "\n",
        "<b>[POINTS: 4]</b>\n",
        "\n",
        "For the final part, you will be training the model on the training dataset. You will be marked on the test accuracy that you receive. Now here, you will perform the training process with the hyperparameters like number of epochs, batch size and learning rate.The records of the training accuracy in each epoch as well as the test accuracy in each epoch are stored in variable named `train_acc_per_epoch` and `test_acc_per_epoch` respectively.\n",
        "\n",
        "To get the feel of how your optimization is working, we have printed the value of total loss and accuracy at each epoch for both the training and test sets. You can tweak the number of epochs, batch size and learning rate to observe the changes in training as well. To start off, you can use the default values set by us."
      ]
    },
    {
      "cell_type": "markdown",
      "metadata": {
        "id": "hG11ck13DK0y"
      },
      "source": [
        "**Criteria for the distribution of the marks is:**\n",
        "\n",
        "Level 2 : Test accuracy more than 60 % -> Full marks\n",
        "\n",
        "Level 1 : Test accuracy between 50%-60 % -> 50% marks\n",
        "\n",
        "Accuracy less than 50 % : No marks\n",
        "\n",
        "You have no tasks as such for this section. You can check out the training process and predictions below  by just executing the cells."
      ]
    },
    {
      "cell_type": "code",
      "execution_count": 24,
      "metadata": {
        "id": "P33Aapr8k7H8"
      },
      "outputs": [],
      "source": [
        "batch_size = 128\n",
        "num_epochs = 10"
      ]
    },
    {
      "cell_type": "code",
      "execution_count": 25,
      "metadata": {
        "id": "Pjr2YFLjk8yu"
      },
      "outputs": [],
      "source": [
        "# creating dataloader of samples from the dataset\n",
        "train_loader = torch.utils.data.DataLoader(trainset, batch_size=batch_size, shuffle=True)\n",
        "test_loader = torch.utils.data.DataLoader(testset, batch_size=batch_size)"
      ]
    },
    {
      "cell_type": "code",
      "execution_count": 26,
      "metadata": {
        "colab": {
          "base_uri": "https://localhost:8080/"
        },
        "id": "-rPmck5Rk-jK",
        "outputId": "73827d5d-ef67-4579-ac77-3d0c7f0489c6"
      },
      "outputs": [
        {
          "output_type": "stream",
          "name": "stdout",
          "text": [
            "Training\n",
            "\n",
            "Epoch: 1\tTrain Loss: 1.4508866568660492\tTrain Accuracy: 0.4790840793753524\n",
            "\t\tTest Loss:     1.1357279269001153\tTest Accuracy: 0.5983979430379747\n",
            "\n",
            "\n",
            "Epoch: 2\tTrain Loss: 1.0403393827131033\tTrain Accuracy: 0.6278812341068102\n",
            "\t\tTest Loss:     0.9396722686441639\tTest Accuracy: 0.6651503164556962\n",
            "\n",
            "\n",
            "Epoch: 3\tTrain Loss: 0.8608656793909\tTrain Accuracy: 0.6954164003472194\n",
            "\t\tTest Loss:     0.8504305527180056\tTest Accuracy: 0.7010482594936709\n",
            "\n",
            "\n",
            "Epoch: 4\tTrain Loss: 0.7461343198786001\tTrain Accuracy: 0.7371523337595908\n",
            "\t\tTest Loss:     0.7681303378901904\tTest Accuracy: 0.7295292721518988\n",
            "\n",
            "\n",
            "Epoch: 5\tTrain Loss: 0.6497396790158109\tTrain Accuracy: 0.7718909846242431\n",
            "\t\tTest Loss:     0.7445216126079801\tTest Accuracy: 0.7434731012658228\n",
            "\n",
            "\n",
            "Epoch: 6\tTrain Loss: 0.5770465945038954\tTrain Accuracy: 0.7959638747107952\n",
            "\t\tTest Loss:     0.7457466676265379\tTest Accuracy: 0.7459454113924051\n",
            "\n",
            "\n",
            "Epoch: 7\tTrain Loss: 0.49762593114467535\tTrain Accuracy: 0.825715313329721\n",
            "\t\tTest Loss:     0.7402080082440678\tTest Accuracy: 0.7570213607594937\n",
            "\n",
            "\n",
            "Epoch: 8\tTrain Loss: 0.43471593205886117\tTrain Accuracy: 0.8468949808489026\n",
            "\t\tTest Loss:     0.720832724359971\tTest Accuracy: 0.7576147151898734\n",
            "\n",
            "\n",
            "Epoch: 9\tTrain Loss: 0.376335402583832\tTrain Accuracy: 0.8672634271709511\n",
            "\t\tTest Loss:     0.7480579192125345\tTest Accuracy: 0.7592958860759493\n",
            "\n",
            "\n",
            "Epoch: 10\tTrain Loss: 0.32061979795813256\tTrain Accuracy: 0.8858096227621484\n",
            "\t\tTest Loss:     0.8068968412242358\tTest Accuracy: 0.7644382911392406\n",
            "\n"
          ]
        }
      ],
      "source": [
        "### Ex-5-Task-1\n",
        "\n",
        "\n",
        "\n",
        "train_acc_per_epoch = []\n",
        "test_acc_per_epoch = []\n",
        "\n",
        "print(\"Training\")\n",
        "\n",
        "for i in range(num_epochs):\n",
        "    train_loss = []\n",
        "    train_acc = []\n",
        "    model.train()\n",
        "    for num, (x_batch, y_batch) in enumerate(train_loader):\n",
        "        x_batch, y_batch = x_batch.to(device), y_batch.to(device)\n",
        "        losses, pred = train(model, x_batch, y_batch, optimizer) \n",
        "        train_loss.append(losses.item())\n",
        "        train_acc.append((y_batch == pred.argmax(dim=-1)).float().mean().item())\n",
        "    \n",
        "    test_loss = []\n",
        "    test_acc = []\n",
        "    model.eval()\n",
        "    with torch.no_grad():\n",
        "        for x_batch, y_batch in test_loader:\n",
        "            x_batch, y_batch = x_batch.to(device), y_batch.to(device)\n",
        "            test_pred = model(x_batch)\n",
        "            test_loss.append(loss(y_batch, test_pred).item())\n",
        "            test_acc.append((y_batch == test_pred.argmax(dim=-1)).float().mean().item())\n",
        "    \n",
        "    print('\\nEpoch: {}\\tTrain Loss: {}\\tTrain Accuracy: {}\\n\\t\\tTest Loss: \\\n",
        "    {}\\tTest Accuracy: {}\\n'.format(\n",
        "         i+1, np.mean(train_loss), np.mean(train_acc), np.mean(test_loss), \n",
        "         np.mean(test_acc)\n",
        "    ))\n",
        "\n",
        "    # tracking accuracy in each epoch for plot\n",
        "    train_acc_per_epoch.append(np.mean(train_acc))\n",
        "    test_acc_per_epoch.append(np.mean(test_acc))\n",
        "\n",
        "# To save the trained model for later use\n",
        "export_file = 'cifar.pth'\n",
        "torch.save(model, export_file)\n",
        "\n",
        "with open(\"test_acc.txt\", \"wb\") as fp:\n",
        "    pickle.dump(test_acc, fp)\n",
        "\n",
        "#### UPLOAD test_acc.txt ALONG WITH YOUR SUBMISSION"
      ]
    },
    {
      "cell_type": "markdown",
      "metadata": {
        "id": "_OZyacWj9yPN"
      },
      "source": [
        "Alright! You have completed all your tasks. Now, you can check your training \n",
        "\n",
        "1.   List item\n",
        "2.   List item\n",
        "\n",
        "and validation accuracy here. It's time for us to evaluate the model and give you marks on the basis of the accuracy your model achieves on the test set. For a visualization of your accuracy, you can checkout the plot below."
      ]
    },
    {
      "cell_type": "code",
      "execution_count": 27,
      "metadata": {
        "colab": {
          "base_uri": "https://localhost:8080/",
          "height": 317
        },
        "id": "ypctu_cYISpw",
        "outputId": "689b78cb-ae3e-4db2-840a-936a53387dd5"
      },
      "outputs": [
        {
          "output_type": "display_data",
          "data": {
            "text/plain": [
              "<Figure size 432x288 with 1 Axes>"
            ],
            "image/png": "[encoded data removed]"
          },
          "metadata": {
            "needs_background": "light"
          }
        },
        {
          "output_type": "display_data",
          "data": {
            "text/plain": [
              "<Figure size 432x288 with 0 Axes>"
            ]
          },
          "metadata": {}
        }
      ],
      "source": [
        "### Ex-5-Task-2\n",
        "\n",
        "\n",
        "plt.plot(range(0,num_epochs), train_acc_per_epoch, 'b', label='Training Accuracy')\n",
        "plt.plot(range(0,num_epochs), test_acc_per_epoch, 'r', label='Test Accuracy')\n",
        "plt.title('Training and Test Accuracy')\n",
        "plt.xlabel('Epochs ',fontsize=16)\n",
        "plt.ylabel('Loss',fontsize=16)\n",
        "plt.legend()\n",
        "plt.figure()\n",
        "plt.show()"
      ]
    },
    {
      "cell_type": "code",
      "execution_count": 28,
      "metadata": {
        "id": "PdL5f1uN9TBL"
      },
      "outputs": [],
      "source": [
        "# INTENTIONALLY LEFT BLANK"
      ]
    },
    {
      "cell_type": "code",
      "execution_count": 29,
      "metadata": {
        "id": "hDmfeIcP_0kb"
      },
      "outputs": [],
      "source": [
        "# INTENTIONALLY LEFT BLANK"
      ]
    },
    {
      "cell_type": "markdown",
      "metadata": {
        "id": "CAYN6jnhMD6M"
      },
      "source": [
        "<h2><b>Predicting the labels for test_set</b></h2>\n",
        "\n",
        "Now that you have checked the model performance on both the train and test set, in this section you'll be even more clear with what the model has predicted for your test data. We create a `predict` function that passes the inputs through the model and print the predicted labels. We then print the actual and predicted labels for two samples of the test_dataset."
      ]
    },
    {
      "cell_type": "code",
      "execution_count": 30,
      "metadata": {
        "id": "EhMLfTe4Iyzt"
      },
      "outputs": [],
      "source": [
        "def predict(inputs):\n",
        "    \"\"\"\n",
        "    This function predicts the predicted outputs for the given test input sample\n",
        "\n",
        "    Parameters\n",
        "    ------------\n",
        "    inputs : tensor, float32\n",
        "    test input sample\n",
        "\n",
        "    Returns:\n",
        "    -------------\n",
        "    predicted: tensor, float32\n",
        "    Predicitons for each class by the model \n",
        "    \"\"\"\n",
        "    export_file = 'cifar.pth'\n",
        "    cifar_model = torch.load(export_file).to(device)\n",
        "    predicted = cifar_model(inputs.to(device))\n",
        "    return predicted"
      ]
    },
    {
      "cell_type": "code",
      "execution_count": 31,
      "metadata": {
        "colab": {
          "base_uri": "https://localhost:8080/"
        },
        "id": "ggCwIyl1I2MV",
        "outputId": "4cee04f5-6a8d-441d-a66a-54da5df67459"
      },
      "outputs": [
        {
          "output_type": "stream",
          "name": "stdout",
          "text": [
            "Predicted labels for first five samples of the first batch: tensor([3, 8, 8, 0, 6], device='cuda:0')\n",
            "Actual labels for first five samples of the first batch: tensor([3, 8, 8, 0, 6])\n"
          ]
        }
      ],
      "source": [
        "for sample, label in test_loader:\n",
        "    pred = predict(sample)\n",
        "    first_five_pred = pred[0:5]\n",
        "    print(\"Predicted labels for first five samples of the first batch:\",torch.argmax(first_five_pred, dim=-1))\n",
        "    print(\"Actual labels for first five samples of the first batch:\", label[0:5])\n",
        "    break"
      ]
    },
    {
      "cell_type": "code",
      "execution_count": 31,
      "metadata": {
        "id": "hBfo_CcDrTEI"
      },
      "outputs": [],
      "source": []
    }
  ],
  "metadata": {
    "accelerator": "GPU",
    "colab": {
      "provenance": []
    },
    "kernelspec": {
      "display_name": "Python 3 (ipykernel)",
      "language": "python",
      "name": "python3"
    },
    "language_info": {
      "codemirror_mode": {
        "name": "ipython",
        "version": 3
      },
      "file_extension": ".py",
      "mimetype": "text/x-python",
      "name": "python",
      "nbconvert_exporter": "python",
      "pygments_lexer": "ipython3",
      "version": "3.7.3"
    },
    "widgets": {
      "application/vnd.jupyter.widget-state+json": {
        "1ef83d9baf33424b9329b86eb08f8384": {
          "model_module": "@jupyter-widgets/controls",
          "model_name": "HBoxModel",
          "model_module_version": "1.5.0",
          "state": {
            "_dom_classes": [],
            "_model_module": "@jupyter-widgets/controls",
            "_model_module_version": "1.5.0",
            "_model_name": "HBoxModel",
            "_view_count": null,
            "_view_module": "@jupyter-widgets/controls",
            "_view_module_version": "1.5.0",
            "_view_name": "HBoxView",
            "box_style": "",
            "children": [
              "IPY_MODEL_bbad8d6a30554f4e9132a1e8e757d6a7",
              "IPY_MODEL_ddb51d8c2113441f8190a751f206e80c",
              "IPY_MODEL_64a13f28b73c404c96b9c524f8a5cce2"
            ],
            "layout": "IPY_MODEL_e147c44568d643dcbbfe98d616194401"
          }
        },
        "bbad8d6a30554f4e9132a1e8e757d6a7": {
          "model_module": "@jupyter-widgets/controls",
          "model_name": "HTMLModel",
          "model_module_version": "1.5.0",
          "state": {
            "_dom_classes": [],
            "_model_module": "@jupyter-widgets/controls",
            "_model_module_version": "1.5.0",
            "_model_name": "HTMLModel",
            "_view_count": null,
            "_view_module": "@jupyter-widgets/controls",
            "_view_module_version": "1.5.0",
            "_view_name": "HTMLView",
            "description": "",
            "description_tooltip": null,
            "layout": "IPY_MODEL_43b1b2e09d2f426182b04081129e5d7c",
            "placeholder": "​",
            "style": "IPY_MODEL_12bf7222f0f24bca8873da041f1d5045",
            "value": "100%"
          }
        },
        "ddb51d8c2113441f8190a751f206e80c": {
          "model_module": "@jupyter-widgets/controls",
          "model_name": "FloatProgressModel",
          "model_module_version": "1.5.0",
          "state": {
            "_dom_classes": [],
            "_model_module": "@jupyter-widgets/controls",
            "_model_module_version": "1.5.0",
            "_model_name": "FloatProgressModel",
            "_view_count": null,
            "_view_module": "@jupyter-widgets/controls",
            "_view_module_version": "1.5.0",
            "_view_name": "ProgressView",
            "bar_style": "success",
            "description": "",
            "description_tooltip": null,
            "layout": "IPY_MODEL_b38f0d4181ce47a0b245f92c60005395",
            "max": 170498071,
            "min": 0,
            "orientation": "horizontal",
            "style": "IPY_MODEL_00f2da3ad47b4a23944389fd1e4f23fe",
            "value": 170498071
          }
        },
        "64a13f28b73c404c96b9c524f8a5cce2": {
          "model_module": "@jupyter-widgets/controls",
          "model_name": "HTMLModel",
          "model_module_version": "1.5.0",
          "state": {
            "_dom_classes": [],
            "_model_module": "@jupyter-widgets/controls",
            "_model_module_version": "1.5.0",
            "_model_name": "HTMLModel",
            "_view_count": null,
            "_view_module": "@jupyter-widgets/controls",
            "_view_module_version": "1.5.0",
            "_view_name": "HTMLView",
            "description": "",
            "description_tooltip": null,
            "layout": "IPY_MODEL_ecc5158313af42b8bc622b1952122e5a",
            "placeholder": "​",
            "style": "IPY_MODEL_c516e92db73a46c18406b788814615e9",
            "value": " 170498071/170498071 [00:13&lt;00:00, 15125674.26it/s]"
          }
        },
        "e147c44568d643dcbbfe98d616194401": {
          "model_module": "@jupyter-widgets/base",
          "model_name": "LayoutModel",
          "model_module_version": "1.2.0",
          "state": {
            "_model_module": "@jupyter-widgets/base",
            "_model_module_version": "1.2.0",
            "_model_name": "LayoutModel",
            "_view_count": null,
            "_view_module": "@jupyter-widgets/base",
            "_view_module_version": "1.2.0",
            "_view_name": "LayoutView",
            "align_content": null,
            "align_items": null,
            "align_self": null,
            "border": null,
            "bottom": null,
            "display": null,
            "flex": null,
            "flex_flow": null,
            "grid_area": null,
            "grid_auto_columns": null,
            "grid_auto_flow": null,
            "grid_auto_rows": null,
            "grid_column": null,
            "grid_gap": null,
            "grid_row": null,
            "grid_template_areas": null,
            "grid_template_columns": null,
            "grid_template_rows": null,
            "height": null,
            "justify_content": null,
            "justify_items": null,
            "left": null,
            "margin": null,
            "max_height": null,
            "max_width": null,
            "min_height": null,
            "min_width": null,
            "object_fit": null,
            "object_position": null,
            "order": null,
            "overflow": null,
            "overflow_x": null,
            "overflow_y": null,
            "padding": null,
            "right": null,
            "top": null,
            "visibility": null,
            "width": null
          }
        },
        "43b1b2e09d2f426182b04081129e5d7c": {
          "model_module": "@jupyter-widgets/base",
          "model_name": "LayoutModel",
          "model_module_version": "1.2.0",
          "state": {
            "_model_module": "@jupyter-widgets/base",
            "_model_module_version": "1.2.0",
            "_model_name": "LayoutModel",
            "_view_count": null,
            "_view_module": "@jupyter-widgets/base",
            "_view_module_version": "1.2.0",
            "_view_name": "LayoutView",
            "align_content": null,
            "align_items": null,
            "align_self": null,
            "border": null,
            "bottom": null,
            "display": null,
            "flex": null,
            "flex_flow": null,
            "grid_area": null,
            "grid_auto_columns": null,
            "grid_auto_flow": null,
            "grid_auto_rows": null,
            "grid_column": null,
            "grid_gap": null,
            "grid_row": null,
            "grid_template_areas": null,
            "grid_template_columns": null,
            "grid_template_rows": null,
            "height": null,
            "justify_content": null,
            "justify_items": null,
            "left": null,
            "margin": null,
            "max_height": null,
            "max_width": null,
            "min_height": null,
            "min_width": null,
            "object_fit": null,
            "object_position": null,
            "order": null,
            "overflow": null,
            "overflow_x": null,
            "overflow_y": null,
            "padding": null,
            "right": null,
            "top": null,
            "visibility": null,
            "width": null
          }
        },
        "12bf7222f0f24bca8873da041f1d5045": {
          "model_module": "@jupyter-widgets/controls",
          "model_name": "DescriptionStyleModel",
          "model_module_version": "1.5.0",
          "state": {
            "_model_module": "@jupyter-widgets/controls",
            "_model_module_version": "1.5.0",
            "_model_name": "DescriptionStyleModel",
            "_view_count": null,
            "_view_module": "@jupyter-widgets/base",
            "_view_module_version": "1.2.0",
            "_view_name": "StyleView",
            "description_width": ""
          }
        },
        "b38f0d4181ce47a0b245f92c60005395": {
          "model_module": "@jupyter-widgets/base",
          "model_name": "LayoutModel",
          "model_module_version": "1.2.0",
          "state": {
            "_model_module": "@jupyter-widgets/base",
            "_model_module_version": "1.2.0",
            "_model_name": "LayoutModel",
            "_view_count": null,
            "_view_module": "@jupyter-widgets/base",
            "_view_module_version": "1.2.0",
            "_view_name": "LayoutView",
            "align_content": null,
            "align_items": null,
            "align_self": null,
            "border": null,
            "bottom": null,
            "display": null,
            "flex": null,
            "flex_flow": null,
            "grid_area": null,
            "grid_auto_columns": null,
            "grid_auto_flow": null,
            "grid_auto_rows": null,
            "grid_column": null,
            "grid_gap": null,
            "grid_row": null,
            "grid_template_areas": null,
            "grid_template_columns": null,
            "grid_template_rows": null,
            "height": null,
            "justify_content": null,
            "justify_items": null,
            "left": null,
            "margin": null,
            "max_height": null,
            "max_width": null,
            "min_height": null,
            "min_width": null,
            "object_fit": null,
            "object_position": null,
            "order": null,
            "overflow": null,
            "overflow_x": null,
            "overflow_y": null,
            "padding": null,
            "right": null,
            "top": null,
            "visibility": null,
            "width": null
          }
        },
        "00f2da3ad47b4a23944389fd1e4f23fe": {
          "model_module": "@jupyter-widgets/controls",
          "model_name": "ProgressStyleModel",
          "model_module_version": "1.5.0",
          "state": {
            "_model_module": "@jupyter-widgets/controls",
            "_model_module_version": "1.5.0",
            "_model_name": "ProgressStyleModel",
            "_view_count": null,
            "_view_module": "@jupyter-widgets/base",
            "_view_module_version": "1.2.0",
            "_view_name": "StyleView",
            "bar_color": null,
            "description_width": ""
          }
        },
        "ecc5158313af42b8bc622b1952122e5a": {
          "model_module": "@jupyter-widgets/base",
          "model_name": "LayoutModel",
          "model_module_version": "1.2.0",
          "state": {
            "_model_module": "@jupyter-widgets/base",
            "_model_module_version": "1.2.0",
            "_model_name": "LayoutModel",
            "_view_count": null,
            "_view_module": "@jupyter-widgets/base",
            "_view_module_version": "1.2.0",
            "_view_name": "LayoutView",
            "align_content": null,
            "align_items": null,
            "align_self": null,
            "border": null,
            "bottom": null,
            "display": null,
            "flex": null,
            "flex_flow": null,
            "grid_area": null,
            "grid_auto_columns": null,
            "grid_auto_flow": null,
            "grid_auto_rows": null,
            "grid_column": null,
            "grid_gap": null,
            "grid_row": null,
            "grid_template_areas": null,
            "grid_template_columns": null,
            "grid_template_rows": null,
            "height": null,
            "justify_content": null,
            "justify_items": null,
            "left": null,
            "margin": null,
            "max_height": null,
            "max_width": null,
            "min_height": null,
            "min_width": null,
            "object_fit": null,
            "object_position": null,
            "order": null,
            "overflow": null,
            "overflow_x": null,
            "overflow_y": null,
            "padding": null,
            "right": null,
            "top": null,
            "visibility": null,
            "width": null
          }
        },
        "c516e92db73a46c18406b788814615e9": {
          "model_module": "@jupyter-widgets/controls",
          "model_name": "DescriptionStyleModel",
          "model_module_version": "1.5.0",
          "state": {
            "_model_module": "@jupyter-widgets/controls",
            "_model_module_version": "1.5.0",
            "_model_name": "DescriptionStyleModel",
            "_view_count": null,
            "_view_module": "@jupyter-widgets/base",
            "_view_module_version": "1.2.0",
            "_view_name": "StyleView",
            "description_width": ""
          }
        }
      }
    }
  },
  "nbformat": 4,
  "nbformat_minor": 0
}