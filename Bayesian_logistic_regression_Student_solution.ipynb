{
  "cells": [
    {
      "cell_type": "markdown",
      "metadata": {
        "deletable": false,
        "editable": false,
        "id": "p9phsHOLDFPd",
        "nbgrader": {
          "cell_type": "markdown",
          "checksum": "5d993880e28d973afbd161eebabb1499",
          "grade": false,
          "grade_id": "cell-e1e946de39c15485",
          "locked": true,
          "schema_version": 3,
          "solution": false
        }
      },
      "source": [
        "# Bayesian Logistic Regression\n",
        "\n",
        "---\n",
        "\n",
        "<b><div style=\"text-align: right\">[TOTAL POINTS: 20]</div></b>\n",
        "\n",
        "In previous reads of this unit, you learned bayesian approach for parameter estimation on linear regression model and MLE for logistic regression. In this assignment, your task is to build a __bayesian logistic regression model__ on binary classification problem. Don't fret, all the theory related to bayesian parameter estimation for logistic regression is present alongside the code blocks. Let's get started.\n",
        "\n",
        "## Learning Objective\n",
        "\n",
        "By the end of this assignment, student should be able to:\n",
        "\n",
        "- Develop theoritical understanding of bayesian logistic regression.\n",
        "\n",
        "- Implement functions to compute negative log posterior, normalized gradient and hessian matrix, required for computing bayesian logistic regression.\n",
        "\n",
        "- Finally, use above mentioned base functions to implement bayesian logistic regression model."
      ]
    },
    {
      "cell_type": "markdown",
      "metadata": {
        "deletable": false,
        "editable": false,
        "id": "7YWVzlq8DFPg",
        "nbgrader": {
          "cell_type": "markdown",
          "checksum": "68d372953571cef521fa8630afdb09bb",
          "grade": false,
          "grade_id": "cell-cc6b895ec950a3cc",
          "locked": true,
          "schema_version": 3,
          "solution": false
        }
      },
      "source": [
        "## Basic Imports and Settings"
      ]
    },
    {
      "cell_type": "code",
      "execution_count": 1,
      "metadata": {
        "deletable": false,
        "editable": false,
        "id": "gwsDSA-vDFPh",
        "nbgrader": {
          "cell_type": "code",
          "checksum": "dd0870417c5042181ffc9827df3e34f8",
          "grade": false,
          "grade_id": "cell-3653fdc5ee1456ca",
          "locked": true,
          "schema_version": 3,
          "solution": false
        }
      },
      "outputs": [],
      "source": [
        "# Importing required libraries for data generation and visualization\n",
        "import numpy as np\n",
        "import pandas as pd\n",
        "import matplotlib.pyplot as plt\n",
        "import sys\n",
        "\n",
        "# MPL settings\n",
        "plt.rcParams.update({\n",
        "    'figure.figsize':(12,8),\n",
        "    'font.size': 16,\n",
        "})\n",
        "\n",
        "# Defining random state of variable\n",
        "RANDOM_STATE=100"
      ]
    },
    {
      "cell_type": "markdown",
      "metadata": {
        "deletable": false,
        "editable": false,
        "id": "0qbnhfFBDFPm",
        "nbgrader": {
          "cell_type": "markdown",
          "checksum": "7cab822456993720ebb7afd96468f11e",
          "grade": false,
          "grade_id": "cell-fe492237fdafe809",
          "locked": true,
          "schema_version": 3,
          "solution": false
        }
      },
      "source": [
        "## Dataset\n",
        "\n",
        "### Exercise 1: Generating Synthetic Dataset\n",
        "\n",
        "<b><div style=\"text-align: right\">[POINTS: UNGRADED]</div></b>\n",
        "\n",
        "The logistic regression model created in this assignment is trained and tested on a _synthetic classification dataset_. Your first task is regarding the generation of synthetic dataset.\n",
        "\n",
        "__Task:__\n",
        "\n",
        "1. Import ```sklearn.datasets.make_classification``` method. \n",
        "\n",
        "2. Generate a synthetic binary classification dataset using ```sklearn's make_classifcation``` method. Store the independent features in variable ```X_data``` and target features in ```y_data```.\n",
        "\n",
        "  The characteristics of the data or parameter passed are as:\n",
        "  - Number of samples = 300\n",
        "  - Number of features = 2\n",
        "  - Number of informative features = 2\n",
        "  - Number of redundant features = 0\n",
        "  - ```shift``` = 50\n",
        "  - ```class_sep``` = 1.2\n",
        "\n",
        "NOTE: Use the ```RANDOM_STATE``` constant as random_state when generating the synthetic data in ```make_classification``` method.\n",
        "\n",
        "3. Next, Store the dataset in a Pandas DataFrame named ```syn_df```. Each column must be a feature or target value. The column names must be ```feature_1, feature_2,``` and ```target``` for independent features and target, respectively.\n",
        "\n",
        "The ```X_data, y_data``` and ```syn_df``` must be of shape (300,2), (300,) and (300,3) respectively, with the number of samples ($n$)=300 number of features ($m$) = 2."
      ]
    },
    {
      "cell_type": "code",
      "execution_count": 2,
      "metadata": {
        "deletable": false,
        "editable": false,
        "id": "9CAwa2Z6DFPm",
        "nbgrader": {
          "cell_type": "code",
          "checksum": "77c27dfa94b39d458482b760d12678f7",
          "grade": false,
          "grade_id": "cell-21f885fa2746b994",
          "locked": true,
          "schema_version": 3,
          "solution": false
        }
      },
      "outputs": [],
      "source": [
        "# Variables to store the dataset\n",
        "X_data, y_data, syn_df = None, None, None"
      ]
    },
    {
      "cell_type": "code",
      "execution_count": 3,
      "metadata": {
        "deletable": false,
        "id": "FMb7mYUqDFPq",
        "nbgrader": {
          "cell_type": "code",
          "checksum": "12fcf1f40f5c7d34e074608f440a8876",
          "grade": false,
          "grade_id": "cell-994cdc00586fa643",
          "locked": false,
          "schema_version": 3,
          "solution": true
        },
        "tags": [
          "Ex-1-Task-1"
        ]
      },
      "outputs": [],
      "source": [
        "### Ex-1-Task-1\n",
        "\n",
        "### BEGIN SOLUTION\n",
        "# your code here\n",
        "from sklearn.datasets import make_classification\n",
        "X_data, y_data = make_classification(n_samples =300, n_features =2, n_informative =2,n_redundant=0,shift=50, class_sep =1.2, random_state = RANDOM_STATE)\n",
        "column_values = ['feature_1', 'feature_2', 'target']\n",
        "syn_df = pd.DataFrame(data = np.concatenate((X_data, y_data.reshape(300,1)), axis=1), \n",
        "                  columns = column_values)\n",
        "# raise NotImplementedError\n",
        "### END SOLUTION"
      ]
    },
    {
      "cell_type": "code",
      "execution_count": 4,
      "metadata": {
        "deletable": false,
        "editable": false,
        "id": "BqTCQz86DFPu",
        "nbgrader": {
          "cell_type": "code",
          "checksum": "0ed27f9ea450cd0f64033c0029dddb1f",
          "grade": true,
          "grade_id": "cell-0f3f033e478951fd",
          "locked": true,
          "points": 0,
          "schema_version": 3,
          "solution": false
        },
        "tags": [
          "Ex-1-Task-1"
        ]
      },
      "outputs": [],
      "source": [
        "assert X_data is not None and y_data is not None and syn_df is not None,\\\n",
        "'The feature matrix and/or target vector and/or dataframe is empty '\n",
        "\n",
        "assert X_data.shape == (300,2), 'Wrong dimension of input feature matrix'\n",
        "assert y_data.shape == (300,), 'Wrong dimension of target vector'\n",
        "assert syn_df.shape == (300,3), 'Wrong dimension of dataframe'\n"
      ]
    },
    {
      "cell_type": "markdown",
      "metadata": {
        "deletable": false,
        "editable": false,
        "id": "O96y0rzLDFPx",
        "nbgrader": {
          "cell_type": "markdown",
          "checksum": "fbcd401eba889f1a4b17b92d4fac9eaf",
          "grade": false,
          "grade_id": "cell-6519cebbbce1106e",
          "locked": true,
          "schema_version": 3,
          "solution": false
        }
      },
      "source": [
        "## Part 1: EDA and preprocessing\n",
        "\n",
        "Starting with the EDA, we require to know about the number of samples, features/target and type. Using ```.info()``` property display all the above mentioned properties of the dataset. "
      ]
    },
    {
      "cell_type": "code",
      "execution_count": 5,
      "metadata": {
        "deletable": false,
        "editable": false,
        "id": "pdw5OrunDFPy",
        "nbgrader": {
          "cell_type": "code",
          "checksum": "80ea476359f7a94e55812e0c111c5137",
          "grade": false,
          "grade_id": "cell-0d74757336db5a03",
          "locked": true,
          "schema_version": 3,
          "solution": false
        },
        "colab": {
          "base_uri": "https://localhost:8080/"
        },
        "outputId": "66b98147-6f61-4d7c-eb9b-f81bddb1c838"
      },
      "outputs": [
        {
          "output_type": "stream",
          "name": "stdout",
          "text": [
            "<class 'pandas.core.frame.DataFrame'>\n",
            "RangeIndex: 300 entries, 0 to 299\n",
            "Data columns (total 3 columns):\n",
            " #   Column     Non-Null Count  Dtype  \n",
            "---  ------     --------------  -----  \n",
            " 0   feature_1  300 non-null    float64\n",
            " 1   feature_2  300 non-null    float64\n",
            " 2   target     300 non-null    float64\n",
            "dtypes: float64(3)\n",
            "memory usage: 7.2 KB\n"
          ]
        }
      ],
      "source": [
        "# Information regarding the synthetic data\n",
        "syn_df.info()"
      ]
    },
    {
      "cell_type": "markdown",
      "metadata": {
        "deletable": false,
        "editable": false,
        "id": "NU9IDjhADFP2",
        "nbgrader": {
          "cell_type": "markdown",
          "checksum": "9d25266c6576498df15924749f47388d",
          "grade": false,
          "grade_id": "cell-7bb12a92abd2ee78",
          "locked": true,
          "schema_version": 3,
          "solution": false
        }
      },
      "source": [
        "As you can see synthetic dataset generated contains only two numeric feature. Which of the following should be conducted for this data?\n",
        "\n",
        "a. categorical feature transformation.\n",
        "\n",
        "b. feature selection. so performing \n",
        "\n",
        "<details>    \n",
        "<summary>\n",
        "    <font size=\"3\" color=\"darkgreen\"><b> Answer</b></font>\n",
        "</summary>\n",
        "<p>     \n",
        "<ul>\n",
        "</ul>\n",
        "</p>\n",
        "\n",
        "- None of them. No proper reason to conduct categorical variable transformation on an all numeric dataset. Also with only two features, feature selection process is unneccesary. \n",
        "\n",
        "Next, let's look if the data is imbalanced."
      ]
    },
    {
      "cell_type": "code",
      "execution_count": 6,
      "metadata": {
        "deletable": false,
        "editable": false,
        "id": "QV4NBALiDFP3",
        "nbgrader": {
          "cell_type": "code",
          "checksum": "6528cbc1eebce57dbf8522725ce6aa31",
          "grade": false,
          "grade_id": "cell-529e635c5c74a447",
          "locked": true,
          "schema_version": 3,
          "solution": false
        },
        "colab": {
          "base_uri": "https://localhost:8080/"
        },
        "outputId": "fbd060d4-386d-48c8-ce33-3fd7b7e7a6a4"
      },
      "outputs": [
        {
          "output_type": "execute_result",
          "data": {
            "text/plain": [
              "1.0    151\n",
              "0.0    149\n",
              "Name: target, dtype: int64"
            ]
          },
          "metadata": {},
          "execution_count": 6
        }
      ],
      "source": [
        "# Checking count of samples with respect to class\n",
        "syn_df['target'].value_counts()"
      ]
    },
    {
      "cell_type": "markdown",
      "metadata": {
        "deletable": false,
        "editable": false,
        "id": "Ial_eX2bDFP7",
        "nbgrader": {
          "cell_type": "markdown",
          "checksum": "28be93acbae6bc35b1257a8e22a3d1c5",
          "grade": false,
          "grade_id": "cell-6dc7ea3f0e3fcf42",
          "locked": true,
          "schema_version": 3,
          "solution": false
        }
      },
      "source": [
        "As expected the synthetic dataset generated using sklearn is __balanced__. Which of the following evaluation metric can be used for this classification problem?\n",
        "\n",
        "a. Accuracy.\n",
        "\n",
        "b. F1-score.\n",
        "\n",
        "<details>    \n",
        "<summary>\n",
        "    <font size=\"3\" color=\"darkgreen\"><b> Answer</b></font>\n",
        "</summary>\n",
        "<p>     \n",
        "<ul>\n",
        "</ul>\n",
        "</p>\n",
        "\n",
        "- Both of them. As there is no imbalance in the data, both accuracy and f1-score evaluates. (No misleading values.)\n",
        "\n",
        "Next, let's look at the distribution of the features."
      ]
    },
    {
      "cell_type": "code",
      "execution_count": 7,
      "metadata": {
        "deletable": false,
        "editable": false,
        "id": "dQYoc9qzDFP8",
        "nbgrader": {
          "cell_type": "code",
          "checksum": "3f77f1edfff905dcab0b1f3c7fc49599",
          "grade": false,
          "grade_id": "cell-bd05ed6403f18a8c",
          "locked": true,
          "schema_version": 3,
          "solution": false
        },
        "colab": {
          "base_uri": "https://localhost:8080/",
          "height": 253
        },
        "outputId": "f5785db4-a353-4a3e-e040-35c41643a076"
      },
      "outputs": [
        {
          "output_type": "display_data",
          "data": {
            "text/plain": [
              "<Figure size 864x288 with 2 Axes>"
            ],
            "image/png": "[encoded data removed]"
          },
          "metadata": {
            "needs_background": "light"
          }
        }
      ],
      "source": [
        "# Distribution of the features\n",
        "\n",
        "syn_df[['feature_1', 'feature_2']].hist(figsize=(12,4), bins='auto')\n",
        "plt.show()"
      ]
    },
    {
      "cell_type": "markdown",
      "metadata": {
        "deletable": false,
        "editable": false,
        "id": "vmbcY6P1DFP_",
        "nbgrader": {
          "cell_type": "markdown",
          "checksum": "f8f45b521b016873ea6591baa3e8b319",
          "grade": false,
          "grade_id": "cell-2ac6eb60d12d36fa",
          "locked": true,
          "schema_version": 3,
          "solution": false
        }
      },
      "source": [
        "Normally distributed features results in better performance of logistic regression model. Mathematical transformation techniques are viable for changing the feature distribution. However, let's scatterplot the dataset and to check if the transformation is necessary."
      ]
    },
    {
      "cell_type": "code",
      "execution_count": 8,
      "metadata": {
        "deletable": false,
        "editable": false,
        "id": "7tCVZqCrDFQA",
        "nbgrader": {
          "cell_type": "code",
          "checksum": "c97973164d33c0ce15a034ea92d2676d",
          "grade": false,
          "grade_id": "cell-00e61927678282da",
          "locked": true,
          "schema_version": 3,
          "solution": false
        },
        "colab": {
          "base_uri": "https://localhost:8080/",
          "height": 453
        },
        "outputId": "78ea7a6a-d059-4a25-f074-87ffa6019193"
      },
      "outputs": [
        {
          "output_type": "display_data",
          "data": {
            "text/plain": [
              "<Figure size 864x576 with 1 Axes>"
            ],
            "image/png": "[encoded data removed]"
          },
          "metadata": {
            "needs_background": "light"
          }
        }
      ],
      "source": [
        "# Visualization\n",
        "plt.figure(figsize=(12,8))\n",
        "# Plotting class 0 data\n",
        "plt.plot(X_data[:,0][y_data==0], X_data[:,1][y_data==0], 'bs', label='Class 0')\n",
        "\n",
        "# Plotting class 1 data\n",
        "plt.plot(X_data[:,0][y_data==1], X_data[:,1][y_data==1], 'g^', label='Class 1')\n",
        "\n",
        "# labeling plot\n",
        "plt.xlabel(syn_df.columns[0])\n",
        "plt.ylabel(syn_df.columns[1])\n",
        "plt.title('Synthetic binary classification dataset')\n",
        "plt.legend()\n",
        "plt.show()"
      ]
    },
    {
      "cell_type": "markdown",
      "metadata": {
        "deletable": false,
        "editable": false,
        "id": "cfXwRdPqDFQD",
        "nbgrader": {
          "cell_type": "markdown",
          "checksum": "4422ed3001a85ec0d87dae4f7f9239fa",
          "grade": false,
          "grade_id": "cell-43b94e9e00578471",
          "locked": true,
          "schema_version": 3,
          "solution": false
        }
      },
      "source": [
        "From the above visualization, we find the dataset being __separable by a linear line__, i.e. separable using logistic regression model. As the dataset is already separable by logistic regression model, mathematical transformation isn't necessary.\n",
        "\n",
        "However, We require converting the data into correct dimension. To be exact, padded input feature matrix,\n",
        "$\n",
        " \\it{X} = \n",
        "\\begin{pmatrix}\n",
        "\\mathbf{x}_1^T  \\\\ \n",
        "\\mathbf{x}_2^T \\\\\n",
        ".\\\\. \\\\.\\\\\n",
        "\\mathbf{x}_n^T  \\\\\n",
        "\\end{pmatrix} =\n",
        " \\begin{pmatrix}\n",
        "  1 & x_{1,1} & \\cdots & x_{1,m} \\\\\n",
        "  1 & x_{2,1} & \\cdots & x_{2,m} \\\\\n",
        "  \\vdots  & \\vdots  & \\ddots & \\vdots  \\\\\n",
        "  1 & x_{n,1} & \\cdots & x_{n,m}\n",
        " \\end{pmatrix}_{\\text{(n $\\times$ (m+1))}}$, and target vector\n",
        "$\\mathbf{y}=\\begin{pmatrix}\n",
        "y_1 \\\\\n",
        "y_2 \\\\\n",
        "\\vdots \\\\\n",
        "y_n\n",
        "\\end{pmatrix}_{\\text{(n $\\times$ 1)}}$  for effective vector computation hypothesis for logistic regression model.\n",
        "\n",
        "Also, though this synthetic data has feature magnitudes around same range, you will be conducting feature scaling. Discussion on why the features are scaled is present in the last section of this assignment."
      ]
    },
    {
      "cell_type": "markdown",
      "metadata": {
        "deletable": false,
        "editable": false,
        "id": "VhW4dm05DFQE",
        "nbgrader": {
          "cell_type": "markdown",
          "checksum": "091f9ab561e5bdcfdb0d5212982d4394",
          "grade": false,
          "grade_id": "cell-1645c9ea03057b3f",
          "locked": true,
          "schema_version": 3,
          "solution": false
        }
      },
      "source": [
        "### Exercise 2: Feature scaling and Conversion the data into proper dimension plus train-test split\n",
        "\n",
        "<b><div style=\"text-align: right\">[POINTS: 2]</div></b>\n",
        "\n",
        "Logistic regression is prone to feature magnitude, scaling the features is essential. In this exercise you are doing the following:\n",
        "\n",
        "- __Tasks__\n",
        "\n",
        " __[Task 1: Points: 1]__\n",
        " 1. Scale the feature matrix, store in ```X_mat_norm```. Use ```sklearn.preprocessing.MinMaxScaler``` for scaling.\n",
        " \n",
        " __[Task 2: Points: 1]__\n",
        " 2. Pad the feature matrix ```X_mat_norm``` with column of ones, and store in ```X_mat_pad```. Reshape the dimension target vector ```y_data``` and store in ```y_vec```. \n",
        " 3. Finally, split the dataset with test_size = 0.2."
      ]
    },
    {
      "cell_type": "code",
      "execution_count": 9,
      "metadata": {
        "deletable": false,
        "editable": false,
        "id": "dr2Gl4y6DFQE",
        "nbgrader": {
          "cell_type": "code",
          "checksum": "a99c076bf7343d31e0f9363de27116f2",
          "grade": false,
          "grade_id": "cell-88abbc4ffe4afd09",
          "locked": true,
          "schema_version": 3,
          "solution": false
        }
      },
      "outputs": [],
      "source": [
        "## Variable to store the scaled feature vector.\n",
        "X_mat_norm = None\n",
        "\n",
        "## Variables to store the matrix and vector.\n",
        "X_mat_pad, y_vec = None, None\n",
        "\n",
        "## Variable to store train test data\n",
        "X_train, X_test, y_train, y_test = None, None, None, None"
      ]
    },
    {
      "cell_type": "code",
      "execution_count": 10,
      "metadata": {
        "deletable": false,
        "id": "eIf-q457DFQH",
        "nbgrader": {
          "cell_type": "code",
          "checksum": "248394f7114ca710e1cdd552e1f410c6",
          "grade": false,
          "grade_id": "cell-2b51d5c28530adf1",
          "locked": false,
          "schema_version": 3,
          "solution": true
        },
        "tags": [
          "Ex-2-Task-1"
        ]
      },
      "outputs": [],
      "source": [
        "### Ex-2-Task-1\n",
        "\n",
        "### BEGIN SOLUTION\n",
        "# your code here\n",
        "from sklearn.preprocessing import MinMaxScaler\n",
        "from sklearn.model_selection import train_test_split\n",
        "\n",
        "scaler = MinMaxScaler()\n",
        "scaler.fit(X_data)\n",
        "X_mat_norm = scaler.transform(X_data)\n",
        "# raise NotImplementedError\n",
        "### END SOLUTION"
      ]
    },
    {
      "cell_type": "code",
      "execution_count": 11,
      "metadata": {
        "deletable": false,
        "editable": false,
        "id": "ZEInFSkHDFQO",
        "nbgrader": {
          "cell_type": "code",
          "checksum": "d44ec70d6559bebfe3ff8e9f591287d1",
          "grade": true,
          "grade_id": "cell-9e001aae97f4db79",
          "locked": true,
          "points": 0,
          "schema_version": 3,
          "solution": false
        },
        "tags": [
          "Ex-2-Task-1"
        ]
      },
      "outputs": [],
      "source": [
        "assert X_mat_norm is not None, 'X_mat_norm is empty'\n"
      ]
    },
    {
      "cell_type": "code",
      "execution_count": 12,
      "metadata": {
        "deletable": false,
        "id": "dpDDmpr_DFQR",
        "nbgrader": {
          "cell_type": "code",
          "checksum": "4229ead8e454e3d4e27e2efaa84c12f3",
          "grade": false,
          "grade_id": "cell-486ac27fa99a0018",
          "locked": false,
          "schema_version": 3,
          "solution": true
        },
        "tags": [
          "Ex-2-Task-2"
        ]
      },
      "outputs": [],
      "source": [
        "### Ex-2-Task-2\n",
        "\n",
        "### BEGIN SOLUTION\n",
        "# your code here\n",
        "X_mat_pad, y_vec = np.insert(X_mat_norm, 0, 1, axis=1), y_data.reshape(300,1)\n",
        "X_train, X_test, y_train, y_test = train_test_split(X_mat_pad, y_vec, test_size=0.2, random_state=RANDOM_STATE)\n",
        "# raise NotImplementedError\n",
        "### END SOLUTION"
      ]
    },
    {
      "cell_type": "code",
      "execution_count": 13,
      "metadata": {
        "deletable": false,
        "editable": false,
        "id": "HBmEGxOeDFQU",
        "nbgrader": {
          "cell_type": "code",
          "checksum": "b8d3de9ec6bfae8e25eb0a142b00ba7e",
          "grade": true,
          "grade_id": "cell-d9bcefbd04ebb3bd",
          "locked": true,
          "points": 1,
          "schema_version": 3,
          "solution": false
        },
        "tags": [
          "Ex-2-Task-2"
        ]
      },
      "outputs": [],
      "source": [
        "assert X_mat_pad is not None and y_vec is not None , 'X_mat_pad or y_vec is empty'\n",
        "assert X_mat_pad.shape == (300,3) and y_vec.shape == (300,1), 'Wrong shape'\n"
      ]
    },
    {
      "cell_type": "markdown",
      "metadata": {
        "deletable": false,
        "editable": false,
        "id": "3iDVAXvZDFQX",
        "nbgrader": {
          "cell_type": "markdown",
          "checksum": "0b8d88e795938d5d17670bf4bba48ffd",
          "grade": false,
          "grade_id": "cell-99db3247951bf729",
          "locked": true,
          "schema_version": 3,
          "solution": false
        }
      },
      "source": [
        "## Changes after scaling and train_test_split"
      ]
    },
    {
      "cell_type": "code",
      "execution_count": 14,
      "metadata": {
        "deletable": false,
        "editable": false,
        "id": "IpCQMUXnDFQY",
        "nbgrader": {
          "cell_type": "code",
          "checksum": "35eb7a076e919dc02f9ba2cdd77c4043",
          "grade": false,
          "grade_id": "cell-11253c0097369842",
          "locked": true,
          "schema_version": 3,
          "solution": false
        },
        "colab": {
          "base_uri": "https://localhost:8080/",
          "height": 451
        },
        "outputId": "ce66cd95-81f8-45dd-f138-7b62d0f0e7ea"
      },
      "outputs": [
        {
          "output_type": "display_data",
          "data": {
            "text/plain": [
              "<Figure size 864x576 with 1 Axes>"
            ],
            "image/png": "[encoded data removed]"
          },
          "metadata": {
            "needs_background": "light"
          }
        }
      ],
      "source": [
        "# Visualization after scaling\n",
        "\n",
        "plt.figure(figsize=(12,8))\n",
        "# Plotting class 0 data\n",
        "plt.plot(X_mat_pad[:,1][y_data==0], X_mat_pad[:,2][y_data==0], 'bs', label='Class 0')\n",
        "\n",
        "# Plotting class 1 data\n",
        "plt.plot(X_mat_pad[:,1][y_data==1], X_mat_pad[:,2][y_data==1], 'g^', label='Class 1')\n",
        "\n",
        "# labeling plot\n",
        "plt.xlabel(syn_df.columns[0])\n",
        "plt.ylabel(syn_df.columns[1])\n",
        "plt.title('Synthetic binary classification dataset, scaled')\n",
        "plt.legend()\n",
        "plt.show()"
      ]
    },
    {
      "cell_type": "markdown",
      "metadata": {
        "deletable": false,
        "editable": false,
        "id": "pOpzSXK-DFQb",
        "nbgrader": {
          "cell_type": "markdown",
          "checksum": "22d8613c2964129ae1857beb9214b76d",
          "grade": false,
          "grade_id": "cell-511717631be06f38",
          "locked": true,
          "schema_version": 3,
          "solution": false
        }
      },
      "source": [
        "After minmax scaling, notice that range of feature value is between 0 and 1. However, the shape of data clusters hasn't changed. Next, let's see the class label count after train test split for both training and test set."
      ]
    },
    {
      "cell_type": "code",
      "execution_count": 15,
      "metadata": {
        "deletable": false,
        "editable": false,
        "id": "HzP8D5IwDFQb",
        "nbgrader": {
          "cell_type": "code",
          "checksum": "530e8e02ba299dbd10b633d61b420c37",
          "grade": false,
          "grade_id": "cell-4740de5db0f66824",
          "locked": true,
          "schema_version": 3,
          "solution": false
        },
        "colab": {
          "base_uri": "https://localhost:8080/",
          "height": 227
        },
        "outputId": "e4c23e7b-2a67-4093-bdd2-93cd15de6136"
      },
      "outputs": [
        {
          "output_type": "execute_result",
          "data": {
            "text/plain": [
              "Text(0.5, 1.0, 'Count of class in test set')"
            ]
          },
          "metadata": {},
          "execution_count": 15
        },
        {
          "output_type": "display_data",
          "data": {
            "text/plain": [
              "<Figure size 1296x360 with 2 Axes>"
            ],
            "image/png": "[encoded data removed]"
          },
          "metadata": {
            "needs_background": "light"
          }
        }
      ],
      "source": [
        "plt.figure(figsize=(18,5))\n",
        "plt.subplot(121)\n",
        "plt.hist(y_train)\n",
        "plt.title('Count of class in train set')\n",
        "plt.subplot(122)\n",
        "plt.hist(y_test)\n",
        "plt.title('Count of class in test set')"
      ]
    },
    {
      "cell_type": "markdown",
      "metadata": {
        "deletable": false,
        "editable": false,
        "id": "yrgJDtgJDFQe",
        "nbgrader": {
          "cell_type": "markdown",
          "checksum": "9b222197f4ff3c398c0c2984452ef175",
          "grade": false,
          "grade_id": "cell-c346a2cb646cbe75",
          "locked": true,
          "schema_version": 3,
          "solution": false
        }
      },
      "source": [
        "As seen in the histograms - no imbalance of class in either train or test set. Thus, stratified sampling isn't required. This concludes EDA and preprocessing part of the assignment."
      ]
    },
    {
      "cell_type": "markdown",
      "metadata": {
        "deletable": false,
        "editable": false,
        "id": "MKnOD3rDDFQf",
        "nbgrader": {
          "cell_type": "markdown",
          "checksum": "44e3c996f3170578dc398ec9d3e126fe",
          "grade": false,
          "grade_id": "cell-658a50d5724bcd11",
          "locked": true,
          "schema_version": 3,
          "solution": false
        }
      },
      "source": [
        "## Part 2: Implementation of bayesian logistic regression\n",
        "\n",
        "This section contains the theory and implemenation portion of bayesian logistic regression model. Your task is to implement multiple functions required for developing bayesian logistic regression model. It's highly advised that you __read the theory portions__ present above the implementation throughly before starting to code."
      ]
    },
    {
      "cell_type": "markdown",
      "metadata": {
        "deletable": false,
        "editable": false,
        "id": "3emF_-aBDFQg",
        "nbgrader": {
          "cell_type": "markdown",
          "checksum": "2f11bcd1581ce6a29d3269f6ff96504a",
          "grade": false,
          "grade_id": "cell-2335cab94efccb2a",
          "locked": true,
          "schema_version": 3,
          "solution": false
        }
      },
      "source": [
        "### Bayesian inference for logistic regression\n",
        "\n",
        "First, let's assume we have a binary classification dataset given by $\\mathcal{D} = \\{(\\mathbf{x}_i, y_i), i \\in \\{1, \\cdots, n\\}\\}, y_i \\in \\{0,1\\}$. As a quick review, logistic regression gives the probability of positive class given feature vector computed using __hypothesis function__ as:\n",
        "\n",
        "$$\n",
        "\\boxed{P(y_i=1|\\mathbf{x}_i,\\boldsymbol \\beta)= h_i = \\underbrace{\\frac{e^{(\\mathbf{x}_i^T\\boldsymbol \\beta)}}{1+e^{(\\mathbf{x}_i^T\\boldsymbol \\beta)}}}_{\\sigma(\\mathbf{x})} = \\frac{1}{1+e^{-(\\mathbf{x}_i^T\\boldsymbol \\beta)}}} \\tag{1}\n",
        "$$\n",
        "\n",
        "Where, $\\beta$ is the parameter of the model, $y_i$ and $\\mathbf{x}_i$ is the $i^{th}$ true target class and covariate vector, and $\\sigma(x)$ is the sigmoid function.\n",
        "\n",
        "Unlike point estimation method such as MLE and MAP, bayesian estimation gives the probability distribution over the parameter $\\boldsymbol \\beta$, i.e. posterior distribution. Next, for the  computation the posterior distribution we use bayes theorem as:\n",
        "\n",
        "$$\n",
        "\\boxed{p(\\boldsymbol \\beta \\vert \\mathcal{D}) = \\frac{p(\\mathcal D \\vert \\boldsymbol \\beta ) p(\\boldsymbol \\beta) }{\\underbrace{p(\\mathcal D)}_{\\text{constant}} }\\propto p(\\mathcal D \\vert \\boldsymbol \\beta ) p(\\boldsymbol \\beta)} \\tag{2}\n",
        "$$\n",
        "\n",
        "Or,\n",
        "\n",
        "$$\n",
        "\\text{Posterior} = \\text{Constant} \\times \\text{Likelihood} \\times \\text{Prior}\n",
        "$$\n",
        "\n",
        "Where, the constant normalization term, __evidence__ is given as:\n",
        "\n",
        "$$\n",
        "\\boxed{P(\\mathcal{D}) = \\int_{\\boldsymbol \\beta' \\in B} p(\\mathcal D \\vert \\boldsymbol \\beta' ) p(\\boldsymbol \\beta') d\\boldsymbol \\beta'} \\tag{3}\n",
        "$$\n",
        "\n",
        "Along with that, for prediction of future data points one require computing the __predictive distribution__ $p(y_i \\vert \\mathcal{D})$, written in the form of marginalization over paramters $\\boldsymbol \\beta$ as:\n",
        "\n",
        "$$\n",
        "\\boxed{p(y_i \\vert \\mathcal D) = \\int p(y_i \\vert \\mathbf{x}_i, \\boldsymbol \\beta) \\ p(\\boldsymbol \\beta \\vert \\mathcal D) \\ d\\boldsymbol \\beta} \\tag{4}\n",
        "$$\n",
        "\n",
        "Unfortunately, __bayesian inference for logistic regression model is intractable__. Precisely, evaluation of posterior distribution requires computing the normalization (evidence) term comprising the likelihood function and prior. Since, the __likelihood function__ $P(\\mathbf{y}|\\it{X}, \\boldsymbol \\beta)$ of logistic regression model  given in terms of __bernoulli distribution__ as,\n",
        "\n",
        "$$\n",
        "\\boxed{p(\\mathcal D \\vert \\boldsymbol \\beta ) = p(\\mathbf{y} \\vert \\it{X}, \\boldsymbol \\beta) =  \\prod_{i=1}^n p(y_i \\vert \\mathbf{x}_i, \\boldsymbol \\beta)\n",
        "= \\prod_{i=1}^nh_i^{y_i}(1-h_i)^{1-y_i}} \\tag{5} \n",
        "$$\n",
        "\n",
        "comprises of product of sigmoid functions (transcendental function) for every data point, there is no closed-form solution for the evidence. Consequently, there's no closed-form solution for posterior distribution and also the predictive function.\n",
        "\n",
        "Note: The dimension for weight vector is:\n",
        "\n",
        "$$\\boldsymbol \\beta = \\begin{pmatrix}\n",
        "\\beta_0 \\\\\n",
        "\\beta_1 \\\\\n",
        "\\vdots \\\\\n",
        "\\beta_m \n",
        "\\end{pmatrix}_{\\text{((m+1) $\\times$ 1)}},\n",
        "$$\n",
        "\n"
      ]
    },
    {
      "cell_type": "markdown",
      "metadata": {
        "deletable": false,
        "editable": false,
        "id": "VFKKkSZ4DFQh",
        "nbgrader": {
          "cell_type": "markdown",
          "checksum": "e7a331342539929012d553400096d231",
          "grade": false,
          "grade_id": "cell-db6e6d809db0b98d",
          "locked": true,
          "schema_version": 3,
          "solution": false
        }
      },
      "source": [
        "### Exercise 3: Define functions for calculating sigmoid and hypothesis function\n",
        "\n",
        "<b><div style=\"text-align: right\">[POINTS: 2]</div></b>\n",
        "\n",
        "**Task:** \n",
        "- Define a lambda function to compute sigmoid value given an input ```x```. Store the function in ```sigmoid```. __[Task 1: Points:1]__\n",
        "- Define a function named ```calculate_hypothesis``` to compute the hypothesis function of logistic regression model. __[Task 2: Points:1]__\n",
        "\n",
        "Note: the hypothesis of logistic regression model must be on shape ```(n,1)```."
      ]
    },
    {
      "cell_type": "code",
      "execution_count": null,
      "metadata": {
        "deletable": false,
        "editable": false,
        "id": "IQ6T_D4zDFQh",
        "nbgrader": {
          "cell_type": "code",
          "checksum": "492d952003a7d192d74769e9627d0261",
          "grade": false,
          "grade_id": "cell-158063b2eeec675e",
          "locked": true,
          "schema_version": 3,
          "solution": false
        }
      },
      "outputs": [],
      "source": [
        "# Variable to store sigmoid function\n",
        "sigmoid = None"
      ]
    },
    {
      "cell_type": "code",
      "execution_count": 16,
      "metadata": {
        "deletable": false,
        "id": "tG8BWDHODFQk",
        "nbgrader": {
          "cell_type": "code",
          "checksum": "e3176e6dfbd0da46f12fefbc605cf86b",
          "grade": false,
          "grade_id": "cell-177c51b0059c5e84",
          "locked": false,
          "schema_version": 3,
          "solution": true
        },
        "tags": [
          "Ex-3-Task-1"
        ]
      },
      "outputs": [],
      "source": [
        "### Ex-3-Task-1\n",
        "\n",
        "### BEGIN SOLUTION\n",
        "# your code here\n",
        "sigmoid =  lambda x : 1/(1+np.exp(-x))\n",
        "# raise NotImplementedError\n",
        "### END SOLUTION"
      ]
    },
    {
      "cell_type": "code",
      "execution_count": 17,
      "metadata": {
        "deletable": false,
        "editable": false,
        "id": "4fmj3dpqDFQn",
        "nbgrader": {
          "cell_type": "code",
          "checksum": "bd165b080bdaad2f9ffcfdd4578f20e8",
          "grade": true,
          "grade_id": "cell-da2374029c091107",
          "locked": true,
          "points": 1,
          "schema_version": 3,
          "solution": false
        },
        "tags": [
          "Ex-3-Task-1"
        ]
      },
      "outputs": [],
      "source": [
        "assert sigmoid is not None, 'Please initialize sigmoid function'\n"
      ]
    },
    {
      "cell_type": "code",
      "execution_count": 18,
      "metadata": {
        "deletable": false,
        "id": "MmGy2GwjDFQq",
        "nbgrader": {
          "cell_type": "code",
          "checksum": "fd65f050898843ba43ac7bc2ae81192a",
          "grade": false,
          "grade_id": "cell-85916135f1a1a0e9",
          "locked": false,
          "schema_version": 3,
          "solution": true
        },
        "tags": [
          "Ex-3-Task-2"
        ]
      },
      "outputs": [],
      "source": [
        "### Ex-3-Task-2\n",
        "def calculate_hypothesis(input_feat, beta):\n",
        "    '''\n",
        "    Computes the hypothesis function of logistic regression model\n",
        "    \n",
        "    Parameters\n",
        "    ----------\n",
        "    input_feat: np.array, shape:(n,m+1)\n",
        "                padded input matrix\n",
        "        \n",
        "    beta: np.array, shape: (m+1,1)\n",
        "           weight coefficients vector\n",
        "        \n",
        "    Returns\n",
        "    -------\n",
        "    hyp: np.array, shape:(n,1)\n",
        "            hypothesis/predicted value of logistic regression model\n",
        "    '''\n",
        "    ### BEGIN SOLUTION\n",
        "    # your code here\n",
        "    z =  np.matmul(input_feat, beta)\n",
        "    hyp = sigmoid(z)\n",
        "    # raise NotImplementedError\n",
        "    ### END SOLUTION\n",
        "    \n",
        "    return hyp"
      ]
    },
    {
      "cell_type": "code",
      "execution_count": 19,
      "metadata": {
        "deletable": false,
        "editable": false,
        "id": "xXQHYRifDFQs",
        "nbgrader": {
          "cell_type": "code",
          "checksum": "32b760ff913b188434c057ada1deda18",
          "grade": true,
          "grade_id": "cell-dff4ca50e5f45bad",
          "locked": true,
          "points": 1,
          "schema_version": 3,
          "solution": false
        },
        "tags": [
          "Ex-3-Task-2"
        ]
      },
      "outputs": [],
      "source": [
        "assert calculate_hypothesis(np.ones((5,2)), np.ones((2,1))).shape == (5,1), 'wrong dimension of the hypothesis vector'\n"
      ]
    },
    {
      "cell_type": "markdown",
      "metadata": {
        "deletable": false,
        "editable": false,
        "id": "ypXQeG4FDFQv",
        "nbgrader": {
          "cell_type": "markdown",
          "checksum": "9128bfe00b3cc156dccf581f23de345f",
          "grade": false,
          "grade_id": "cell-26bf2270658b5dda",
          "locked": true,
          "schema_version": 3,
          "solution": false
        }
      },
      "source": [
        "### Laplace Approximation\n",
        "\n",
        "One way of solving this intractability is using __Laplace Approximation__. Discussing about laplace transformation in-depth is beyond the scope of ML level 2 course. If you are interested, go through the book \"Pattern Recognition and Machine Learning\" by Christopher M. Bishop, page 213-216.\n",
        "\n",
        "In short, laplace approximation finds the Gaussian approximation to a probability density function.\n",
        "Where, \n",
        "- The __mean__ is equal to __mode of the pdf or log transformed pdf__, as log transformation is monotonically increasing function.\n",
        "- The __covariance__ is equal to __inverse of hessian matrix of negative log transformed pdf__.\n",
        "\n",
        "We use laplace approximation to __find the Gaussian approximation for the posterior distribution__ of logistic regression model and then compute the predictive distribution accordingly.\n",
        "\n",
        "The first step of bayesian inference of parameters is assumption of the prior distribution."
      ]
    },
    {
      "cell_type": "markdown",
      "metadata": {
        "deletable": false,
        "editable": false,
        "id": "ldOwlNiVDFQv",
        "nbgrader": {
          "cell_type": "markdown",
          "checksum": "50cdde32e71aae0b26642ca06cd965e8",
          "grade": false,
          "grade_id": "cell-090011bbc11c6224",
          "locked": true,
          "schema_version": 3,
          "solution": false
        }
      },
      "source": [
        "## Selecting prior distribution\n",
        "\n",
        "Since, we are finding Gaussian approximation of the posterior distribution, let's assume a __Gaussian prior__ of form:\n",
        "\n",
        "$$\n",
        "p(\\boldsymbol \\beta) \\sim \\mathcal{N}(\\boldsymbol \\beta \\vert \\mathbf{m}_0, \\mathbf{S}_0)\n",
        "$$\n",
        "\n",
        "The formula being:\n",
        "\n",
        "$$\n",
        "\\boxed{p(\\boldsymbol \\beta) = \\frac{1}{(2\\pi)^{m/2}(|\\mathbf{S}_0|)^{1/2}}\\exp(-\\frac{1}{2}(\\boldsymbol \\beta-\\mathbf{m}_0)^T\\mathbf{S}_0^{-1}(\\boldsymbol \\beta-\\mathbf{m}_0))} \\tag{6}\n",
        "$$\n",
        "\n",
        "where, \n",
        "$ \\mathbf{m}_0 = \\begin{pmatrix}\n",
        "m_0 \\\\\n",
        "m_1 \\\\\n",
        "\\vdots \\\\\n",
        "m_m \\\\\n",
        "\\end{pmatrix}_{\\text{((m+1)$\\times$1)}}$,\n",
        "$\\mathbf{S}_0 = \\begin{pmatrix}\n",
        "S_{00} & S_{01} & \\cdots & S_{0m} \\\\\n",
        "S_{10} & S_{11} & \\cdots & S_{1m} \\\\\n",
        "\\vdots & \\vdots & \\ddots & \\vdots \\\\\n",
        "S_{m0} & S_{m1} & \\cdots & S_{mm} \\\\\n",
        "\\end{pmatrix}_{\\text{((m+1)$\\times$(m+1))}}$ are the mean vector and covariance matrix of the prior distribution respectively."
      ]
    },
    {
      "cell_type": "markdown",
      "metadata": {
        "deletable": false,
        "editable": false,
        "id": "sl4nJjW9DFQw",
        "nbgrader": {
          "cell_type": "markdown",
          "checksum": "6aa5f191a974f06ab9df24f2abd2b4ff",
          "grade": false,
          "grade_id": "cell-077b0baf29ac0cab",
          "locked": true,
          "schema_version": 3,
          "solution": false
        }
      },
      "source": [
        "### Exercise 4: Specify paramaters of prior distribution\n",
        "\n",
        "<b><div style=\"text-align: right\">[POINTS: 1]</div></b>\n",
        "\n",
        "**Task:** \n",
        "- Initialize the paramaters as mean vector ```m_0``` and covariance matrix ```S_0``` of the prior distribution such that it is __multivariate standard normal__. Note: assume __features are uncorrelated__, this will affect the covariance matrix.\n",
        "\n",
        "Note: The shape of the mean vector and covariance matrix $\\mathbf{m}_0$ must be ```(m+1,1)``` and ```(m+1,m+1)```. \n",
        "\n",
        "Hint: Use ```.shape``` function to extract dimension of padded input feature. This will be useful for initializing parameters of the prior distribution."
      ]
    },
    {
      "cell_type": "code",
      "execution_count": 20,
      "metadata": {
        "deletable": false,
        "editable": false,
        "id": "J37ea0KTDFQx",
        "nbgrader": {
          "cell_type": "code",
          "checksum": "8d0209d29161391b016b9c0981c0daef",
          "grade": false,
          "grade_id": "cell-8b234b052e629930",
          "locked": true,
          "schema_version": 3,
          "solution": false
        }
      },
      "outputs": [],
      "source": [
        "# Variables to store mean vector and covariance matrix.\n",
        "m_0, S_0 = None, None"
      ]
    },
    {
      "cell_type": "code",
      "execution_count": 21,
      "metadata": {
        "deletable": false,
        "id": "Pk7NX1QQDFQ0",
        "nbgrader": {
          "cell_type": "code",
          "checksum": "675d55c8a6221f6a16ce0ca936bf5daa",
          "grade": false,
          "grade_id": "cell-7171b8eb5e6d4cec",
          "locked": false,
          "schema_version": 3,
          "solution": true
        },
        "tags": [
          "Ex-4-Task-1"
        ]
      },
      "outputs": [],
      "source": [
        "### Ex-4-Task-1\n",
        "\n",
        "### BEGIN SOLUTION\n",
        "# your code here\n",
        "m_0 = np.zeros((X_train.shape[1],1))\n",
        "S_0 = np.identity(X_train.shape[1])\n",
        "# raise NotImplementedError\n",
        "### END SOLUTION\n"
      ]
    },
    {
      "cell_type": "code",
      "execution_count": 22,
      "metadata": {
        "deletable": false,
        "editable": false,
        "id": "Jgef0cLIDFQ3",
        "nbgrader": {
          "cell_type": "code",
          "checksum": "3cda10789c71327e1b3ccac1ec655bac",
          "grade": true,
          "grade_id": "cell-b8d5488fdb089e9d",
          "locked": true,
          "points": 1,
          "schema_version": 3,
          "solution": false
        },
        "tags": [
          "Ex-4-Task-1"
        ]
      },
      "outputs": [],
      "source": [
        "assert m_0 is not None and S_0 is not None, 'Initialize mean vector and covariance matrix'\n"
      ]
    },
    {
      "cell_type": "markdown",
      "metadata": {
        "deletable": false,
        "editable": false,
        "id": "hkQQ57WNDFQ5",
        "nbgrader": {
          "cell_type": "markdown",
          "checksum": "3cb0690f7fd5845c074c10ef6a29450e",
          "grade": false,
          "grade_id": "cell-057566a1b7b8d262",
          "locked": true,
          "schema_version": 3,
          "solution": false
        }
      },
      "source": [
        "## Calculating the posterior distribution\n",
        "\n",
        "Next step comprehends the calculation of the posterior distribution of logistic regression model. Using equation 2, 5 and 6, we get the posterior distribution as:\n",
        "\n",
        "$$\n",
        "p(\\boldsymbol \\beta \\vert \\mathcal{D}) = \\frac{\\prod_{i=1}^nh_i^{y_i}(1-h_i)^{1-y_i} \\times \\frac{1}{(2\\pi)^{m/2}(|\\mathbf{S}_0|)^{1/2}}\\exp(-\\frac{1}{2}(\\boldsymbol \\beta-\\mathbf{m}_0)^T\\mathbf{S}_0^{-1}(\\boldsymbol \\beta-\\mathbf{m}_0))}{\\int_{\\boldsymbol \\beta' \\in B} p(\\mathcal D \\vert \\boldsymbol \\beta' ) p(\\boldsymbol \\beta') d\\boldsymbol \\beta'}\n",
        "$$\n",
        "\n",
        "## Approximating posterior distribution using laplace approximation\n",
        "\n",
        "Laplace approximation requires finding log-transformation of the posterior distribution. The resulting equation is in the form:\n",
        "\n",
        "$$\n",
        "\\boxed{\\ln p(\\boldsymbol \\beta \\vert \\mathcal{D}) = -\\frac{1}{2}(\\underbrace{\\boldsymbol \\beta - \\mathbf{m}_0)^T \\mathbf{S}_0^{-1}(\\boldsymbol \\beta - \\mathbf{m}_0}_{w^TAw \\ \\text{form}}) + \\underbrace{\\sum_{i=1}^n\\{y_i \\ln h_i + (1-y_i) \\ln (1-h_i)\\}}_{\\text{vector-matrix form} \\ : \\ \\mathbf{h}^T\\mathbf{y}+(1-\\mathbf{h})^T(1-\\mathbf{y})}  + \\text{const}} \\tag{7}\n",
        "$$\n",
        "\n",
        "Where, $\\mathbf{h}=\\begin{pmatrix}\n",
        "h_1 \\\\\n",
        "h_2 \\\\\n",
        "\\vdots \\\\\n",
        "h_n\n",
        "\\end{pmatrix}_{\\text{(n x 1)}}$\n",
        "\n",
        "The constant term is irrelavent for finding the mean and covaraince. Now, let's compute the mean and variance of the Gaussian approximation. \n",
        "\n",
        "- The mean is the mode of $\\ln p(\\boldsymbol \\beta \\vert \\mathcal{D})$. If you recall finding the mode of a pdf is equivalent to __MAP estimation__. So,\n",
        "\n",
        "$$\n",
        "\\boxed{\\mathbf{m}_N = \\boldsymbol \\beta_{\\text{MAP}}} \\tag{8}\n",
        "$$\n",
        "\n",
        "- The covariance is equal to the inverse of the hessian matrix of negative log-posterior distribution. Solving we get the covariance as:\n",
        "\n",
        "$$\n",
        "\\mathbf{S}_N = -\\nabla \\nabla \\ln p(\\boldsymbol \\beta \\vert \\mathcal{D}) = \\mathbf{S}_0^{-1} + \\sum_{i=1}^n h_i(1-h_i)\\mathbf{x}\\mathbf{x}^T $$\n",
        "\n",
        "$$\n",
        "\\boxed{\\mathbf{S}_N =\\underbrace{\\mathbf{S}_0^{-1} + X^T W X}_{\\text{vector-matrix form}}}\\tag{9}\n",
        "$$\n",
        "\n",
        "Where, $W = \\begin{pmatrix}\n",
        "h_1(1-h_1) & 0 & \\cdots & 0 \\\\\n",
        "0 &h_2(1-h_2) & \\cdots & 0 \\\\\n",
        "\\vdots & \\vdots & \\ddots & 0 \\\\\n",
        "0 & 0 & \\cdots & h_n(1-h_n) \n",
        "\\end{pmatrix}_{\\text{(n x n)}}$, is a diagonal matrix with $h_i(1-h_i)$ diagonal element on $i^{th}$ row.\n",
        "\n",
        "Therefore, the Gaussian approximation to the posterior distribution is:\n",
        "\n",
        "$$\n",
        "\\boxed{q(\\boldsymbol \\beta) \\sim \\mathcal{N}(\\boldsymbol \\beta \\vert \\boldsymbol \\beta_{\\text{MAP}},\\mathbf{S}_N)} \\tag{10}\n",
        "$$\n",
        "\n",
        "Finding the parameters of the Gaussian approximated posterior requires implementation of multiple functions, say for finding the MAP estimate and covariance feature matrix."
      ]
    },
    {
      "cell_type": "markdown",
      "metadata": {
        "deletable": false,
        "editable": false,
        "id": "fVP1h9lADFQ6",
        "nbgrader": {
          "cell_type": "markdown",
          "checksum": "37f2fe67631f6786cdc32fb9c95dc215",
          "grade": false,
          "grade_id": "cell-fb0a8fab4c0eb67c",
          "locked": true,
          "schema_version": 3,
          "solution": false
        }
      },
      "source": [
        "### Exercise 5: Define function to calculate negative log posterior function.\n",
        "\n",
        "<b><div style=\"text-align: right\">[POINTS: 3]</div></b>\n",
        "\n",
        "For finding mean of posterior, MAP estimate. For that we require defining the negative log posterior that will be passed to ```scipy.optimize.minimize``` (as we did in programming of MLE).\n",
        "\n",
        "**Task:**\n",
        "- Define function ```calculate_neg_log_posterior``` that:\n",
        " 1. Computes the hypothesis given input feature and weight coefficients.\n",
        " 2. Computes the 1st and 2nd term present in R.H.S of equation 7 (No need to worry about the constant term). \n",
        " 3. Adds the two terms to compute the log posterior distribution and returns the __negative__ log posterior distribution.\n",
        " \n",
        "Note:\n",
        "-  ```scipy.optimize.minimize``` reshapes beta parameter to (m+1,) automatically. You must __reshape the beta parameter into shape (m+1,1) at the start of the function__. \n",
        "- __Compute $\\ln(x+\\epsilon)$ instead of $\\ln(x)$__ when implementing the function, where $\\epsilon$ is minute value. This is done such that $log(0)$ doesn't occur.\n",
        "- __Use dot product for vectorized computations__ of terms. Refrain from using sums or loops.\n",
        "- The __log-posterior value must be in shape ```(1,)```__ containing a single float value. If the shape of log-posterior is ```(1,1)``` use ```np.ravel()```."
      ]
    },
    {
      "cell_type": "code",
      "execution_count": 23,
      "metadata": {
        "deletable": false,
        "editable": false,
        "id": "367oPqdzDFQ6",
        "nbgrader": {
          "cell_type": "code",
          "checksum": "e27e33db5c8e42d364b7ac3336cf5145",
          "grade": false,
          "grade_id": "cell-dc775e67b334999e",
          "locked": true,
          "schema_version": 3,
          "solution": false
        }
      },
      "outputs": [],
      "source": [
        "# Epsilon value (Use when computing the log transformed value)\n",
        "eps = 1e-10"
      ]
    },
    {
      "cell_type": "code",
      "execution_count": 25,
      "metadata": {
        "deletable": false,
        "id": "XyNgjr1hDFQ9",
        "nbgrader": {
          "cell_type": "code",
          "checksum": "6e94718c0cac2c75451d1bce3490c6f4",
          "grade": false,
          "grade_id": "cell-0ac2cce82b516941",
          "locked": false,
          "schema_version": 3,
          "solution": true
        },
        "tags": [
          "Ex-5-Task-1"
        ]
      },
      "outputs": [],
      "source": [
        "### Ex-5-Task-1\n",
        "\n",
        "def calculate_neg_log_posterior(beta, input_feat, mean_prior, cov_prior, true_label):\n",
        "    '''\n",
        "    Computes the negative log posterior of logistic regression model\n",
        "    \n",
        "    Parameters\n",
        "    ----------\n",
        "    beta: np.array, shape: (m+1,1)(when used in scipy.optimize.minimize, shape:(m+1,))\n",
        "            weight coefficients vector\n",
        "            \n",
        "    input_feat: np.array, shape:(n,m+1)\n",
        "                padded input matrix\n",
        "    \n",
        "    mean_prior: np.array, shape:(m+1,)\n",
        "                mean vector of the prior distribution\n",
        "    \n",
        "    cov_prior: np.array, shape:(m+1,m+1)\n",
        "                covariance matrix of the prior distribution\n",
        "                \n",
        "    true_label: np.array, shape: (n,1)\n",
        "                vector of true label (y)\n",
        "    Returns\n",
        "    -------\n",
        "    neg_log_posterior: np.array, shape:(1,)\n",
        "                        negative log posterior of logistic regression\n",
        "    '''\n",
        "    ### BEGIN SOLUTION\n",
        "    # your code here\n",
        "    beta = np.ravel(beta)\n",
        "    beta = beta.reshape(beta.size,1)\n",
        "\n",
        "    mean_prior = mean_prior.reshape(mean_prior.size,1)\n",
        "    hyp = calculate_hypothesis(input_feat, beta)\n",
        "    \n",
        "    first_term = -1/2*np.matmul(np.matmul((beta-mean_prior).T , np.linalg.inv(cov_prior)), (beta-mean_prior))\n",
        "    second_term  = np.matmul(np.log(hyp+eps).T, true_label) + np.matmul(np.log(1-hyp+eps).T, (1-true_label))\n",
        "    neg_log_posterior = np.ravel(- (first_term + second_term))\n",
        "    # raise NotImplementedError\n",
        "    ### END SOLUTION\n",
        "    \n",
        "    return neg_log_posterior\n",
        "\n"
      ]
    },
    {
      "cell_type": "code",
      "execution_count": 26,
      "metadata": {
        "deletable": false,
        "editable": false,
        "id": "kr_JRO0UDFQ_",
        "nbgrader": {
          "cell_type": "code",
          "checksum": "bf1b4b7d413d013737dd2a035eda1d43",
          "grade": true,
          "grade_id": "cell-ecd5c796a0530809",
          "locked": true,
          "points": 9,
          "schema_version": 3,
          "solution": false
        },
        "tags": [
          "Ex-5-Task-1"
        ]
      },
      "outputs": [],
      "source": [
        "assert calculate_neg_log_posterior(np.ones((3,1)), np.ones((5,3)), np.ones((3,1)),\n",
        "                                   np.identity(3), np.ones((5,1))).shape == (1,),\\\n",
        "        'Wrong dimension of negative log posterior'\n"
      ]
    },
    {
      "cell_type": "markdown",
      "metadata": {
        "deletable": false,
        "editable": false,
        "id": "WjqS0SRqDFRB",
        "nbgrader": {
          "cell_type": "markdown",
          "checksum": "1c1b26626c9bbc2b50166eaf65f0db53",
          "grade": false,
          "grade_id": "cell-3384aedee1abcbfc",
          "locked": true,
          "schema_version": 3,
          "solution": false
        }
      },
      "source": [
        "### Gradient of negative log posterior\n",
        "\n",
        "As stated previously, we will be using scipy's ```optimize.minimize``` function to find the MAP estimate, which is equal to mean of the Gaussian approximated posterior. In this programming, the method used for minimization is __Broyden–Fletcher–Goldfarb–Shanno(BFGS)__ algorithm. Discussing BFGS is beyond the scope of this course. If you want learn more, click [here]( https://en.wikipedia.org/wiki/Broyden%E2%80%93Fletcher%E2%80%93Goldfarb%E2%80%93Shanno_algorithm) to direct to BFGS wikipedia page.\n",
        "\n",
        "Main point is BFGS requires __normalized gradient__ of the function, which is being solved. Therefore, we require finding the normalized gradient of negative log posterior. The gradient of the negative log posterior is:\n",
        "\n",
        "$$\n",
        "\\boxed{-\\nabla\\ln p(\\boldsymbol \\beta \\vert \\mathcal{D}) = \\mathbf{S}_0^{-1}(\\boldsymbol \\beta - \\mathbf{m}_0) + X^T(\\mathbf{h} - \\mathbf{y})} \\tag{11}\n",
        "$$\n",
        "\n",
        "If you have confusion regarding equation 11, refer to reads of MLE for multivariate Gaussian and logistic regression to see how 1st and 2nd term derived, respectively. Next step is to normalize the gradient matrix that will be conducted using ```sklearn``` package.\n"
      ]
    },
    {
      "cell_type": "markdown",
      "metadata": {
        "deletable": false,
        "editable": false,
        "id": "75unyISJDFRC",
        "nbgrader": {
          "cell_type": "markdown",
          "checksum": "abeafd26873551aec12239563a6a58d1",
          "grade": false,
          "grade_id": "cell-b2224f66f3f98102",
          "locked": true,
          "schema_version": 3,
          "solution": false
        }
      },
      "source": [
        "### Exercise 6: Define function to calculate the normalized gradient of the Gaussian approximated posterior distribution.\n",
        "\n",
        "<b><div style=\"text-align: right\">[POINTS: 3]</div></b>\n",
        "\n",
        "__Tasks:__\n",
        "- Define a function named ```calculate_normalized_gradient``` that: \n",
        " 1. Computes the hypothesis given given input feature and weight coefficients.\n",
        " 2. Computes the gradient vector, using equation 11.\n",
        "     - The gradient vector shape is ```(m+1,1)```.\n",
        " - Finally, computes normalizes the gradient vector and returns it.\n",
        "     - Note: We are using ```sklearn.preprocessing.normalize``` to normalize the vector that require a row vector for proper normalization. Be sure to __convert the dimension of gradient vector to ```(1,m+1)``` before normalizing__.\n",
        "     - However, the __final dimension of the normalized gradient vector must be of shape ```(m+1,)```__. Use ```np.ravel()``` at the end.\n",
        "     \n",
        "Note:\n",
        "- Reshape beta to shape ```(m+1,1)``` at the start like you did in the previous exercise."
      ]
    },
    {
      "cell_type": "code",
      "execution_count": 27,
      "metadata": {
        "deletable": false,
        "id": "_Njw-uD4DFRD",
        "nbgrader": {
          "cell_type": "code",
          "checksum": "cdb8831cdce5db6dad09b0b57738dc1e",
          "grade": false,
          "grade_id": "cell-944597c07907b6c6",
          "locked": false,
          "schema_version": 3,
          "solution": true
        },
        "tags": [
          "Ex-6-Task-1"
        ]
      },
      "outputs": [],
      "source": [
        "### Ex-6-Task-1\n",
        "\n",
        "from sklearn.preprocessing import normalize\n",
        "\n",
        "def calculate_normalized_gradient(beta, input_feat, mean_prior, cov_prior, true_label):\n",
        "    '''\n",
        "    Computes the covariance of the Gaussian approximated posterior distribution\n",
        "    \n",
        "    Parameters\n",
        "    ----------\n",
        "    beta: np.array, shape: (m+1,1)(when used in scipy.optimize.minimize, shape:(m+1,))\n",
        "            weight coefficients vector\n",
        "            \n",
        "    input_feat: np.array, shape:(n,m+1)\n",
        "                padded input matrix\n",
        "    \n",
        "    mean_prior: np.array, shape:(m+1,)\n",
        "                mean vector of the prior distribution\n",
        "    \n",
        "    cov_prior: np.array, shape:(m+1,m+1)\n",
        "                covariance matrix of the prior distribution\n",
        "                \n",
        "    true_label: np.array, shape: (n,1)\n",
        "                vector of true label (y)\n",
        "                \n",
        "    Returns\n",
        "    -------\n",
        "    norm_grad_neg_log_post: np.array, shape:(m+1,)\n",
        "                            normalized gradient vector of negative log post\n",
        "    '''\n",
        "    ### BEGIN SOLUTION\n",
        "    # your code here\n",
        "    beta = beta.reshape(beta.shape[0],1)\n",
        "    mean_prior = mean_prior.reshape(mean_prior.shape[0],1)\n",
        "    hyp = calculate_hypothesis(input_feat, beta)\n",
        "    grad_neg_log_post = np.matmul(np.linalg.inv(cov_prior) , (beta - mean_prior)) + np.matmul(input_feat.T, (hyp- true_label))\n",
        "    norm_grad_neg_log_post = np.ravel(normalize(grad_neg_log_post.T).T)\n",
        "    # raise NotImplementedError\n",
        "    ### END SOLUTION\n",
        "    \n",
        "    return norm_grad_neg_log_post\n",
        "\n"
      ]
    },
    {
      "cell_type": "code",
      "execution_count": 28,
      "metadata": {
        "deletable": false,
        "editable": false,
        "id": "oM1KjBCdDFRG",
        "nbgrader": {
          "cell_type": "code",
          "checksum": "6b7051dba196135e32f5ac6a73f29933",
          "grade": true,
          "grade_id": "cell-f02adb5c7134cd27",
          "locked": true,
          "points": 3,
          "schema_version": 3,
          "solution": false
        },
        "tags": [
          "Ex-6-Task-1"
        ]
      },
      "outputs": [],
      "source": [
        "assert calculate_normalized_gradient(np.ones((3,1)), np.ones((5,3)), np.ones((3,1)),\n",
        "                                   np.identity(3), np.ones((5,1))).shape == (3,),\\\n",
        "        'Wrong dimension of normalized gradient'\n"
      ]
    },
    {
      "cell_type": "markdown",
      "metadata": {
        "deletable": false,
        "editable": false,
        "id": "4AKO_GHoDFRJ",
        "nbgrader": {
          "cell_type": "markdown",
          "checksum": "f4ab304bc42f1c2870cfca6b950b4e28",
          "grade": false,
          "grade_id": "cell-fac2846bb43ad27a",
          "locked": true,
          "schema_version": 3,
          "solution": false
        }
      },
      "source": [
        "### Exercise 7: Define function to calculate the covariance matrix of the Gaussian approximated posterior distribution.\n",
        "\n",
        "Next we require function to compute the covariance matrix.\n",
        "\n",
        "<b><div style=\"text-align: right\">[POINTS: 2]</div></b>\n",
        "\n",
        "**Task:**\n",
        "- Define a function named ```calculate_posterior_covariance``` that:\n",
        " 1. Computes the hypothesis, given input feature and weight coefficients.\n",
        " 2. Computes the W diagonal matrix present in R.H.S of equation 9. \n",
        " 3. Finally, computes the covariance and returns it."
      ]
    },
    {
      "cell_type": "code",
      "execution_count": 29,
      "metadata": {
        "deletable": false,
        "id": "vRQTrPSfDFRJ",
        "nbgrader": {
          "cell_type": "code",
          "checksum": "487339363aff2804eb10ff5dd3b68da1",
          "grade": false,
          "grade_id": "cell-e994932289c3bd6c",
          "locked": false,
          "schema_version": 3,
          "solution": true
        },
        "tags": [
          "Ex-7-Task-1"
        ]
      },
      "outputs": [],
      "source": [
        "### Ex-7-Task-1\n",
        "\n",
        "def calculate_posterior_covariance(beta, input_feat, cov_prior):\n",
        "    '''\n",
        "    Computes the covariance of the Gaussian approximated posterior distribution\n",
        "    \n",
        "    Parameters\n",
        "    ----------\n",
        "    beta: np.array, shape: (m+1,1)\n",
        "            weight coefficients vector\n",
        "            \n",
        "    input_feat: np.array, shape:(n,m+1)\n",
        "                padded input matrix\n",
        "    \n",
        "    cov_prior: np.array, shape:(m+1,m+1)\n",
        "                covariance matrix of the prior distribution\n",
        "    Returns\n",
        "    -------\n",
        "    cov: np.array, shape:(m+1, m+1)\n",
        "         covariance of the Gaussian approxmated posterior\n",
        "    '''\n",
        "    ### BEGIN SOLUTION\n",
        "    # your code here\n",
        "    hyp = calculate_hypothesis(input_feat, beta)\n",
        "    W_diag = hyp * (1-hyp)\n",
        "    W = np.zeros((W_diag.size, W_diag.size))\n",
        "    np.fill_diagonal(W, W_diag)\n",
        "    cov  = np.linalg.inv(cov_prior) + np.matmul(np.matmul(input_feat.T,W), input_feat)\n",
        "    # raise NotImplementedError\n",
        "    ### END SOLUTION\n",
        "    return cov\n",
        "\n"
      ]
    },
    {
      "cell_type": "code",
      "execution_count": 30,
      "metadata": {
        "deletable": false,
        "editable": false,
        "id": "GPIkuOT4DFRM",
        "nbgrader": {
          "cell_type": "code",
          "checksum": "8b0ea0ae33ebfd42fd024450b1e83749",
          "grade": true,
          "grade_id": "cell-214d2ee7e2825c3f",
          "locked": true,
          "points": 2,
          "schema_version": 3,
          "solution": false
        },
        "tags": [
          "Ex-7-Task-1"
        ]
      },
      "outputs": [],
      "source": [
        "assert calculate_posterior_covariance(np.ones((3,1)), np.ones((5,3)),\n",
        "                                   np.identity(3)).shape == (3,3),\\\n",
        "        'Wrong dimension of covariance matrix'\n",
        "\n"
      ]
    },
    {
      "cell_type": "markdown",
      "metadata": {
        "deletable": false,
        "editable": false,
        "id": "Lqyb-NV8DFRO",
        "nbgrader": {
          "cell_type": "markdown",
          "checksum": "2c6e0838849b6ce26efbd39401a83036",
          "grade": false,
          "grade_id": "cell-e43a7fafb7ffa01d",
          "locked": true,
          "schema_version": 3,
          "solution": false
        }
      },
      "source": [
        "### Exercise 8: Define function to compute the mean and variance of Gaussian approximate posterior distribution.\n",
        "\n",
        "Using both functions defined from exercise 5 to 7 compute the mean and varaince of Gaussian approximate posterior distribution.\n",
        "<b><div style=\"text-align: right\">[POINTS: 2]</div></b>\n",
        "\n",
        "__Tasks__:\n",
        " - Define a function named ```calculate_approx_params``` that:\n",
        "   1. Computes the mean of the Gaussian approximate posterior and store it in variable ```mean_post```.\n",
        "     - Use ```scipy.optimize.minimize``` to optimize the negative log posterior function, __use method ```BFGS```__. Note: __```jac``` parameter must be the normalized gradient calculating function__.\n",
        "     - Note: ```scipy.optimize.minimize``` returns a dictionary, where the parameter that minimizes the objective function is stored as value of key `x`(Map estimate). __Reshape the MAP estimate to shape (m+1,1)__.\n",
        "   2. Computes the covariance of the Gaussian approximate posterior and store it in variable ```cov_post```.\n",
        "   3. Finally, return both variable ```mean_post, cov_post```."
      ]
    },
    {
      "cell_type": "code",
      "execution_count": 31,
      "metadata": {
        "deletable": false,
        "id": "BfS94waNDFRO",
        "nbgrader": {
          "cell_type": "code",
          "checksum": "48008988978fe7a47c6482377cea3fdf",
          "grade": false,
          "grade_id": "cell-090c8a09a43f485e",
          "locked": false,
          "schema_version": 3,
          "solution": true
        },
        "tags": [
          "Ex-8-Task-1"
        ]
      },
      "outputs": [],
      "source": [
        "### Ex-8-Task-1\n",
        "\n",
        "from scipy import optimize\n",
        "\n",
        "def calculate_approx_params(beta, input_feat, mean_prior, cov_prior, true_label):\n",
        "    '''\n",
        "    Computes the parameters of the Gaussian approximated posterior distribution\n",
        "    \n",
        "    Parameters\n",
        "    ----------\n",
        "    beta: np.array, shape: (m+1,1)\n",
        "            weight coefficients vector\n",
        "            \n",
        "    input_feat: np.array, shape:(n,m+1)\n",
        "                padded input matrix\n",
        "    \n",
        "    mean_prior: np.array, shape:(m+1,)\n",
        "                mean vector of the prior distribution\n",
        "    \n",
        "    cov_prior: np.array, shape:(m+1,m+1)\n",
        "                covariance matrix of the prior distribution\n",
        "                \n",
        "    true_label: np.array, shape: (n,1)\n",
        "                vector of true label (y)\n",
        "                \n",
        "    Returns\n",
        "    -------\n",
        "    mean_post: np.array, shape:(m+1,1)\n",
        "               MAP estimate, mean of Gaussian approximated posterior\n",
        "    \n",
        "    cov_post: np.array, shape:(m+1,m+1)\n",
        "              Covariance of Gaussian approximated posterior\n",
        "                \n",
        "    '''\n",
        "    ### BEGIN SOLUTION\n",
        "    # your code here\n",
        "    optimized = optimize.minimize(\n",
        "                    fun=calculate_neg_log_posterior, \n",
        "                    args=(input_feat, mean_prior, cov_prior, true_label),\n",
        "                    x0 = beta,\n",
        "                    method=\"BFGS\", jac=calculate_normalized_gradient)\n",
        "    map_estimate = optimized['x']\n",
        "    mean_post = map_estimate.reshape(map_estimate.size,1)\n",
        "    cov_post = calculate_posterior_covariance(beta, input_feat, cov_prior)\n",
        "    # raise NotImplementedError\n",
        "    ### END SOLUTION\n",
        "    return mean_post, cov_post"
      ]
    },
    {
      "cell_type": "code",
      "execution_count": 32,
      "metadata": {
        "deletable": false,
        "editable": false,
        "id": "bZM9kjr_DFRQ",
        "nbgrader": {
          "cell_type": "code",
          "checksum": "b424316a5bac5414297eebc8c5f7d4ff",
          "grade": true,
          "grade_id": "cell-b4f641eba1e759da",
          "locked": true,
          "points": 2,
          "schema_version": 3,
          "solution": false
        },
        "tags": [
          "Ex-8-Task-1"
        ]
      },
      "outputs": [],
      "source": [
        "assert calculate_approx_params(np.ones((3,1)), np.ones((5,3)), np.ones((3,1)),\n",
        "                                   np.identity(3), np.ones((5,1)))[0].shape == (3,1),\\\n",
        "                                'wrong shape of mean vector'\n",
        "\n",
        "assert calculate_approx_params(np.ones((3,1)), np.ones((5,3)), np.ones((3,1)),\n",
        "                                   np.identity(3), np.ones((5,1)))[1].shape == (3,3),\\\n",
        "                                'wrong shape of covariance matrix'\n"
      ]
    },
    {
      "cell_type": "markdown",
      "metadata": {
        "deletable": false,
        "editable": false,
        "id": "LeMRa_goDFRT",
        "nbgrader": {
          "cell_type": "markdown",
          "checksum": "ec95a7249e5455d2191b01911c091c1d",
          "grade": false,
          "grade_id": "cell-062125e25c228e17",
          "locked": true,
          "schema_version": 3,
          "solution": false
        }
      },
      "source": [
        "### Predictive distribution\n",
        "\n",
        "Now that you have obtained the gaussian approximation to posterior distribution, next step is marginalizing with respect to this distribution for making predictions.\n",
        "\n",
        "#### Marginalizing with respect to posterior distribution\n",
        "\n",
        "The predictive distribution for class $C=1$ for given input feature vector $\\mathbf{x}$, is obtained by marginalizing w.r.to Gaussian approximated posterior.\n",
        "\n",
        "$$p(C=1 \\vert \\mathbf{x},\\mathbf{y}) = \\int p(C=1 \\vert \\mathbf{x}, \\boldsymbol \\beta)p(\\boldsymbol \\beta \\vert \\mathbf{y})d\\boldsymbol \\beta = \\int \\sigma(\\mathbf{x}^T \\boldsymbol \\beta)q(\\boldsymbol \\beta)d\\boldsymbol \\beta\\tag{12} \n",
        "$$ \n",
        "\n",
        "The probability for class $C=0$ is $p(C=0 \\vert \\mathbf{x},\\mathbf{y}) = 1-p(C = 1 \\vert \\mathbf{x},\\mathbf{y})$. \n",
        "\n",
        "To evaluate this predictive distribution, equation 12, we first recall that hypothesis $\\sigma(\\mathbf{x}^T \\boldsymbol \\beta)$ depends on $\\boldsymbol \\beta$ through its projection onto $X$. Mathematically,\n",
        "\n",
        "$$\n",
        "\\sigma(\\mathbf{x}^T \\boldsymbol \\beta) = \\int \\delta(a- \\mathbf{x}^T \\boldsymbol \\beta)\\sigma(a)da \\tag{13}\n",
        "$$\n",
        "\n",
        "Where, $a = \\mathbf{x}^T \\boldsymbol \\beta$, $\\delta(.)$ is the Dirac delta function. From equation 12 and 13, we get:\n",
        "\n",
        "$$\n",
        "\\int \\sigma(\\mathbf{x}^T \\boldsymbol \\beta)q(\\boldsymbol \\beta)d\\boldsymbol \\beta = \\int \\sigma(a)p(a)da \\tag{14}\n",
        "$$\n",
        "\n",
        "Where, $p(a)=\\int \\delta(a- \\mathbf{x}^T \\boldsymbol \\beta)q(\\boldsymbol \\beta)d\\boldsymbol \\beta $\n",
        "\n",
        "We can evaluate $p(a)$ by noting that the delta function imposes a linear constraint on w and so forms a marginal distribution from the joint distribution $q(\\boldsymbol \\beta)$ by integrating out all directions orthogonal to $X$. Because q(w) is Gaussian, so the marginal distribution will also be Gaussian. We can evaluate the mean and covariance of $p(a)$ distribution by taking moments, and interchanging the order of integration over a and w. (Bishop C. M., 2006). So the mean($\\mu_a$) and variance ($v_a^2$) of $p(a)$ per feature vector is as:\n",
        "\n",
        "$$\\boxed{\\mu_a = \\mathbf{x}^T \\beta_{\\text{MAP}}} \\tag{15}$$\n",
        "\n",
        "$$\\boxed{v_a^2 = \\mathbf{x}^T \\mathbf{S}_N \\mathbf{x}} \\tag{16}$$\n",
        "\n",
        "So the approximation of the predictive distribution is:\n",
        "\n",
        "$$p(C_1 \\vert \\mathbf{x},\\mathbf{y}) = \\int{\\sigma(a)p(a) da} = \\int \\sigma(a) \\mathcal{N}(a \\vert \\mu_a,v_a^2) da \\tag{17} $$\n",
        "\n",
        "Equation 17 cannot be evaluated analytically because of the presence of sigmoid function. We can solve this intractability by approximating the sigmoid function with __re-scaled probit function__,  $\\Phi(\\lambda a)$. In short, probit function is the cumulative distribution function of a standard normal Gaussian and has similar shape to sigmoid function. Here, approximating sigmoid with probit function requires both of the function to have same slope at the origin, meaning the scaling factor of probit function, $\\lambda = \\pi/8$(Bishop C. M., 2006). \n",
        "\n",
        "To know more about probit transformation, read section 4.3.5 Probit regression, \"Pattern Recognition and Machine Learning\" by Christopher M. Bishop. \n",
        "\n",
        "The advantage of using probit function is that its convolution with a Gaussian can be expressed as another probit function. Specifically, the formula for expressing convolution as another probit is given as:\n",
        "\n",
        "$$\\int \\Phi(\\lambda a)\\mathcal{N}(a \\vert \\mu,v^2) da = \\Phi (\\frac{\\mu}{(\\lambda^{-2}+ v^2)^{1/2}})  \\tag{18}$$\n",
        "\n",
        "Applying approximation of $\\sigma(a) \\approx \\Phi(\\lambda a) $ equation can be rewritten as:\n",
        "\n",
        "$$\\int \\sigma(a) \\mathcal{N}(a \\vert \\mu,v^2) da \\approx \\sigma(\\kappa ( v^2)\\mu) \\tag{19}$$\n",
        "\n",
        "Where, $$\\boxed{\\kappa(  v^2) = (1+\\pi  v^2/8)^{-1/2}} \\tag{20}$$ \n",
        "\n",
        "Finally, from equation 17 and 19, we find the predictive distribution as:\n",
        "\n",
        "$$\\boxed{p(C=1 \\vert \\mathbf{x},\\mathbf{y}) = \\sigma(\\kappa (\\sigma_a^2) \\mu_a)} \\tag{21}$$"
      ]
    },
    {
      "cell_type": "markdown",
      "metadata": {
        "deletable": false,
        "editable": false,
        "id": "BIb9JwWBDFRT",
        "nbgrader": {
          "cell_type": "markdown",
          "checksum": "a5aee37c376f1e3b7d2fc2e6f23613e6",
          "grade": false,
          "grade_id": "cell-4501a39b7d7d8a11",
          "locked": true,
          "schema_version": 3,
          "solution": false
        }
      },
      "source": [
        "### Exercise 9:  Define function to compute the prediction (positive class probability) of bayesian logistic regression model.\n",
        "\n",
        "<b><div style=\"text-align: right\">[POINTS: 3]</div></b>\n",
        "\n",
        "- __Tasks__:\n",
        " - Define function named ```prediction``` that: __[Task 2: Points 2]__\n",
        "   1. Compute the __mean and variance vectors__ (not single values) of distribution $p(\\mathbf{a})$ and stores it in variables ```mu_a, v2_a```, respectively.\n",
        "    - Use vectorization for computation of mean vector.\n",
        "    - Vectorization for computing variance vector is cumbersome, instead\n",
        "        - Define function ```calculate_v2``` that calculates the sample wise variance. __[Task 1: Points 1]__\n",
        "        - Use ```numpy.apply_along_axis``` function to pass row slice (data sample) to ```calculate_v2``` function for computing the variance vector.\n",
        "   2. Compute the $\\kappa(v^2)$  vector and store it in variable ```kappa_v2_a```.\n",
        "   3. Finally compute the prediction vector for C=1 class and return the prediction, stored in variable ```predicted_prob```. (Hint: Just multiply ```*``` $\\kappa$ and mean vector, don't perform matrix multiplication).\n",
        "   \n",
        "Note: the shape of mean, variance, kappa and prediction vector should be ```(n,1)```. Reshape the vectors as required."
      ]
    },
    {
      "cell_type": "code",
      "execution_count": 33,
      "metadata": {
        "deletable": false,
        "id": "-ZQWO-IfDFRU",
        "nbgrader": {
          "cell_type": "code",
          "checksum": "dc6d8052b9257daab30466efdb7acec9",
          "grade": false,
          "grade_id": "cell-9d09a76997a084e4",
          "locked": false,
          "schema_version": 3,
          "solution": true
        },
        "tags": [
          "Ex-9-Task-1"
        ]
      },
      "outputs": [],
      "source": [
        "### Ex-9-Task-1\n",
        "def calculate_v2(input_feat, cov_post):\n",
        "    '''\n",
        "    Computes the sample wise variance of the p(a)\n",
        "    \n",
        "    Parameters\n",
        "    ----------     \n",
        "    input_feat: np.array, shape:(m+1,)\n",
        "                padded input feature vector\n",
        "    \n",
        "    cov_post: np.array, shape:(m+1,m+1)\n",
        "              Covariance of Gaussian approximated posterior\n",
        "                \n",
        "    Returns\n",
        "    -------\n",
        "    samp_v2: np.float\n",
        "             Variance of p(a) per sample\n",
        "    \n",
        "    '''\n",
        "    ### BEGIN SOLUTION\n",
        "    # your code here\n",
        "    input_feat= input_feat.reshape(input_feat.size,1)\n",
        "    samp_v2 = np.matmul(np.matmul(input_feat.T, cov_post), input_feat).flatten()[0]\n",
        "    # raise NotImplementedError\n",
        "    ### END SOLUTION\n",
        "    return samp_v2"
      ]
    },
    {
      "cell_type": "code",
      "execution_count": 34,
      "metadata": {
        "deletable": false,
        "editable": false,
        "id": "pTHee3VDDFRW",
        "nbgrader": {
          "cell_type": "code",
          "checksum": "51802900680a8be1fc8d18470cc69cde",
          "grade": true,
          "grade_id": "cell-68e4547c4f629316",
          "locked": true,
          "points": 1,
          "schema_version": 3,
          "solution": false
        },
        "tags": [
          "Ex-9-Task-1"
        ]
      },
      "outputs": [],
      "source": [
        "assert type(calculate_v2(np.ones(3), np.ones((3,3)))) == np.float64, 'Wrong format of variance'\n"
      ]
    },
    {
      "cell_type": "code",
      "execution_count": 35,
      "metadata": {
        "deletable": false,
        "id": "njMBgkj-DFRa",
        "nbgrader": {
          "cell_type": "code",
          "checksum": "3546857a781d9cdc375f9c19d32404af",
          "grade": false,
          "grade_id": "cell-7cf4cd2f184b9663",
          "locked": false,
          "schema_version": 3,
          "solution": true
        },
        "tags": [
          "Ex-9-Task-2"
        ]
      },
      "outputs": [],
      "source": [
        "### Ex-9-Task-2\n",
        "\n",
        "def prediction(input_feat, mean_post, cov_post):\n",
        "    '''\n",
        "    Computes the parameters of the Gaussian approximated posterior distribution\n",
        "    \n",
        "    Parameters\n",
        "    ----------\n",
        "            \n",
        "    input_feat: np.array, shape:(n,m+1)\n",
        "                padded input matrix\n",
        "    \n",
        "    mean_post: np.array, shape:(m+1,1)\n",
        "               MAP estimate, mean of Gaussian approximated posterior\n",
        "    \n",
        "    cov_post: np.array, shape:(m+1,m+1)\n",
        "              Covariance of Gaussian approximated posterior\n",
        "                \n",
        "    Returns\n",
        "    -------\n",
        "    predicted_prob: np.array, shape:(n,1)\n",
        "                    Probability of the feature being of class=1.\n",
        "                \n",
        "    '''\n",
        "    ### BEGIN SOLUTION\n",
        "    # your code here\n",
        "    mu_a = input_feat @ mean_post\n",
        "    v2_a = np.apply_along_axis(calculate_v2, 1, input_feat, cov_post).reshape(-1,1)\n",
        "    kappa_v2_a = np.power(1./ (np.pi * v2_a/8), -0.5)\n",
        "    predicted_prob = kappa_v2_a * mu_a\n",
        "    # raise NotImplementedError\n",
        "    ### END SOLUTION\n",
        "    \n",
        "    return predicted_prob"
      ]
    },
    {
      "cell_type": "code",
      "execution_count": 36,
      "metadata": {
        "deletable": false,
        "editable": false,
        "id": "LSxcToGaDFRd",
        "nbgrader": {
          "cell_type": "code",
          "checksum": "266251f23ecb280f3e57ef7a1ec64ef0",
          "grade": true,
          "grade_id": "cell-27b4d9763d8981a1",
          "locked": true,
          "points": 2,
          "schema_version": 3,
          "solution": false
        },
        "tags": [
          "Ex-9-Task-2"
        ]
      },
      "outputs": [],
      "source": [
        "assert prediction(np.ones((5,2)), np.ones((2,1)), np.identity(2)).shape == (5,1), 'wrong dimension of prediction vector'\n"
      ]
    },
    {
      "cell_type": "markdown",
      "metadata": {
        "deletable": false,
        "editable": false,
        "id": "lIDPMryKDFRg",
        "nbgrader": {
          "cell_type": "markdown",
          "checksum": "569b3271fc64c8fac26f4a44dc588b5a",
          "grade": false,
          "grade_id": "cell-5a0cebd8881f720d",
          "locked": true,
          "schema_version": 3,
          "solution": false
        }
      },
      "source": [
        "### Exercise 10: Train the model and compute predictions.\n",
        "\n",
        "<b><div style=\"text-align: right\">[POINTS: 2]</div></b>\n",
        "\n",
        "__Tasks__:\n",
        " 1. Initialize guess of weight ```beta_initial``` where all elements equal to 1. Then, Train the model using training set. i.e. find the parameters of the posterior distribution and store the mean and covariance in ```m_N, S_N``` respectively. __[Task 1: points:1]__\n",
        " 2. Compute the predictions for both train and test size. Store the predictions in ```y_pred_train, y_pred_test``` for training and test set respectively. Note: ```prediction``` function returns the probability not the prediction. Use condition to compute the prediction, for example: some threshold. __[Task 2: points:1]__"
      ]
    },
    {
      "cell_type": "code",
      "execution_count": 37,
      "metadata": {
        "deletable": false,
        "editable": false,
        "id": "mMLOrlj5DFRh",
        "nbgrader": {
          "cell_type": "code",
          "checksum": "a7a475aa7a27994634a51ff8f55e3bb2",
          "grade": false,
          "grade_id": "cell-d47d6c48e3b66203",
          "locked": true,
          "schema_version": 3,
          "solution": false
        }
      },
      "outputs": [],
      "source": [
        "# Variable to store initial guess of weight coefficient\n",
        "beta_initial = None\n",
        "\n",
        "# Variable to store parameters of posterior distribution\n",
        "m_N, S_N = None, None\n",
        "\n",
        "# Variable to store predictions\n",
        "y_pred_train, y_pred_test = None, None"
      ]
    },
    {
      "cell_type": "code",
      "execution_count": 38,
      "metadata": {
        "deletable": false,
        "id": "abaoAAbSDFRj",
        "nbgrader": {
          "cell_type": "code",
          "checksum": "42a22eb113e227799db1b956fa201acc",
          "grade": false,
          "grade_id": "cell-68921ae1f1a5515c",
          "locked": false,
          "schema_version": 3,
          "solution": true
        },
        "tags": [
          "Ex-10-Task-1"
        ]
      },
      "outputs": [],
      "source": [
        "### Ex-10-Task-1\n",
        "\n",
        "### BEGIN SOLUTION\n",
        "# your code here\n",
        "beta_initial = np.ones((X_train.shape[1],1))\n",
        "m_N, S_N = calculate_approx_params(beta_initial, X_train, m_0, S_0, y_train)\n",
        "# raise NotImplementedError\n",
        "### END SOLUTION"
      ]
    },
    {
      "cell_type": "code",
      "execution_count": 39,
      "metadata": {
        "deletable": false,
        "editable": false,
        "id": "98C_6u9wDFRn",
        "nbgrader": {
          "cell_type": "code",
          "checksum": "48686fc31f99f6f2e4a9d64ca614b925",
          "grade": true,
          "grade_id": "cell-17ece03102678e36",
          "locked": true,
          "points": 1,
          "schema_version": 3,
          "solution": false
        },
        "tags": [
          "Ex-10-Task-1"
        ]
      },
      "outputs": [],
      "source": [
        "assert beta_initial is not None, 'Initialize guess of weight coefficient'\n",
        "assert m_N is not None and S_N is not None, 'Compute mean vector and covariance matrix'\n"
      ]
    },
    {
      "cell_type": "code",
      "execution_count": 40,
      "metadata": {
        "deletable": false,
        "id": "kHaHbImaDFRp",
        "nbgrader": {
          "cell_type": "code",
          "checksum": "1b12cbc31a2146e1375b413f9acb8794",
          "grade": false,
          "grade_id": "cell-52887a02ea4a3701",
          "locked": false,
          "schema_version": 3,
          "solution": true
        },
        "tags": [
          "Ex-10-Task-2"
        ]
      },
      "outputs": [],
      "source": [
        "### Ex-10-Task-2\n",
        "\n",
        "### BEGIN SOLUTION\n",
        "# your code here\n",
        "y_pred_train, y_pred_test  = prediction(X_train, m_N, S_N), prediction(X_test, m_N, S_N)\n",
        "y_pred_train, y_pred_test = (y_pred_train >0.5)*1,   (y_pred_test>0.5)*1\n",
        "# raise NotImplementedError\n",
        "### END SOLUTION"
      ]
    },
    {
      "cell_type": "code",
      "execution_count": 41,
      "metadata": {
        "deletable": false,
        "editable": false,
        "id": "H6cGiPlaDFRs",
        "nbgrader": {
          "cell_type": "code",
          "checksum": "048da86658e2611c4c0375bc3b927a16",
          "grade": true,
          "grade_id": "cell-1f78d9403a187d3a",
          "locked": true,
          "points": 1,
          "schema_version": 3,
          "solution": false
        },
        "tags": [
          "Ex-10-Task-2"
        ]
      },
      "outputs": [],
      "source": [
        "assert y_pred_test is not None and y_pred_train is not None, 'Compute predictions for train and test sets'"
      ]
    },
    {
      "cell_type": "markdown",
      "metadata": {
        "deletable": false,
        "editable": false,
        "id": "_Zp93NY_DFRv",
        "nbgrader": {
          "cell_type": "markdown",
          "checksum": "3cde517a4fb8bc3d7a9a52366ae2c9f2",
          "grade": false,
          "grade_id": "cell-506ee1f827909d87",
          "locked": true,
          "schema_version": 3,
          "solution": false
        }
      },
      "source": [
        "## Evaluation and decision boundary\n",
        "\n",
        "First, let's look at the posterior distribution of the parameters of the model. As we know, plotting the multivariate Gaussian distribution of three features is impossible to visualize (requires four dimensional plot), let's plot 2d univariate Gaussian plot per parameter."
      ]
    },
    {
      "cell_type": "code",
      "execution_count": 42,
      "metadata": {
        "deletable": false,
        "editable": false,
        "id": "hZl39f5kDFRw",
        "nbgrader": {
          "cell_type": "code",
          "checksum": "c153c24cd70525819efb37e5824647e6",
          "grade": false,
          "grade_id": "cell-4ec310f6350b679c",
          "locked": true,
          "schema_version": 3,
          "solution": false
        },
        "colab": {
          "base_uri": "https://localhost:8080/",
          "height": 213
        },
        "outputId": "572ab8a2-f119-4385-cf1b-1b8b7c3262fc"
      },
      "outputs": [
        {
          "output_type": "execute_result",
          "data": {
            "text/plain": [
              "[]"
            ]
          },
          "metadata": {},
          "execution_count": 42
        },
        {
          "output_type": "display_data",
          "data": {
            "text/plain": [
              "<Figure size 1152x288 with 3 Axes>"
            ],
            "image/png": "[encoded data removed]"
          },
          "metadata": {
            "needs_background": "light"
          }
        }
      ],
      "source": [
        "from scipy import stats\n",
        "\n",
        "# Mean and Varaince of Beta_0\n",
        "mean1 = m_N[0]\n",
        "var1 = S_N[0, 0]\n",
        "\n",
        "# Mean and Varaince of Beta_1\n",
        "mean2 = m_N[1]\n",
        "var2 = S_N[1, 1]\n",
        "\n",
        "# Mean and Varaince of Beta_2\n",
        "mean3 = m_N[2]\n",
        "var3 = S_N[2, 2]\n",
        "\n",
        "# Generating subplots\n",
        "fig, (ax1, ax2, ax3) = plt.subplots(1, 3, figsize=(16, 4))\n",
        "\n",
        "# Values for plot\n",
        "x1_v = np.linspace(mean1-4*np.sqrt(var1), mean1+4*np.sqrt(var1), 100)\n",
        "m1_h = stats.norm.pdf(mean1, mean1, np.sqrt(var1))\n",
        "x2_v = np.linspace(mean2-4*np.sqrt(var2), mean2+4*np.sqrt(var2), 100)\n",
        "m2_h = stats.norm.pdf(mean2, mean2, np.sqrt(var2))\n",
        "x3_v = np.linspace(mean3-4*np.sqrt(var3), mean3+4*np.sqrt(var3), 100)\n",
        "m3_h = stats.norm.pdf(mean3, mean3, np.sqrt(var3))\n",
        "\n",
        "# Posterior of beta_0\n",
        "ax1.plot(x1_v, stats.norm.pdf(x1_v, mean1, np.sqrt(var1)))\n",
        "ax1.vlines(mean1, 0, m1_h, color='red')\n",
        "ax1.tick_params(axis='both', labelsize=10)\n",
        "ax1.set_title(r'Posterior distribution of $\\beta_0$', fontsize=12)\n",
        "ax1.set_ylim(0)\n",
        "\n",
        "# Posterior of beta_1\n",
        "ax2.plot(x2_v, stats.norm.pdf(x2_v, mean2, np.sqrt(var2)))\n",
        "ax2.vlines(mean2, 0, m2_h, color='red')\n",
        "ax2.tick_params(axis='both', labelsize=10)\n",
        "ax2.set_title(r'Posterior distribution of $\\beta_1$', fontsize=12)\n",
        "ax2.set_ylim(0)\n",
        "\n",
        "# Posterior of beta_2\n",
        "ax3.plot(x3_v, stats.norm.pdf(x3_v, mean3, np.sqrt(var3)))\n",
        "ax3.vlines(mean3, 0, m3_h, color='red')\n",
        "ax3.tick_params(axis='both', labelsize=10)\n",
        "ax3.set_title(r'Posterior distribution of $\\beta_2$', fontsize=12)\n",
        "ax3.set_ylim(0)\n",
        "\n",
        "plt.plot()"
      ]
    },
    {
      "cell_type": "markdown",
      "metadata": {
        "deletable": false,
        "editable": false,
        "id": "9EHPsCKJDFRz",
        "nbgrader": {
          "cell_type": "markdown",
          "checksum": "236326efdba9ee605be36959c1a5d58c",
          "grade": false,
          "grade_id": "cell-2479a8d5d30b151b",
          "locked": true,
          "schema_version": 3,
          "solution": false
        }
      },
      "source": [
        "The above plots show the individual posterior distribution of the parameters of the logistic regression model. The red vertical lines are the mean of the distribution (```m_N```). \n",
        "\n",
        "From the training, the mean and covariance of posterior distribution given the data are:"
      ]
    },
    {
      "cell_type": "code",
      "execution_count": 43,
      "metadata": {
        "deletable": false,
        "editable": false,
        "id": "-p38DZ8uDFRz",
        "nbgrader": {
          "cell_type": "code",
          "checksum": "17ce53d264e31d3fd89236f5ca7bd7aa",
          "grade": false,
          "grade_id": "cell-97b454ff0feb4667",
          "locked": true,
          "schema_version": 3,
          "solution": false
        },
        "colab": {
          "base_uri": "https://localhost:8080/"
        },
        "outputId": "bcf2faa9-0828-4311-eb80-28804e91ebfe"
      },
      "outputs": [
        {
          "output_type": "stream",
          "name": "stdout",
          "text": [
            "Mean of posterior distribution:\n",
            " [[-2.61094422]\n",
            " [-1.3601705 ]\n",
            " [ 6.95465141]]\n",
            "Covariance of posterior distribution:\n",
            " [[26.61946201 12.04766774 11.7469238 ]\n",
            " [12.04766774  7.89580383  5.55795226]\n",
            " [11.7469238   5.55795226  7.49759299]]\n"
          ]
        }
      ],
      "source": [
        "print(f'Mean of posterior distribution:\\n {m_N}')\n",
        "print(f'Covariance of posterior distribution:\\n {S_N}')"
      ]
    },
    {
      "cell_type": "markdown",
      "metadata": {
        "deletable": false,
        "editable": false,
        "id": "FKmCytS0DFR1",
        "nbgrader": {
          "cell_type": "markdown",
          "checksum": "6f9df48734ef1a26ce809f192257aa42",
          "grade": false,
          "grade_id": "cell-d0a7ea29a72de3cd",
          "locked": true,
          "schema_version": 3,
          "solution": false
        }
      },
      "source": [
        "Now, let's evaluate trained bayesian logistic regression model using ```sklearn.metrics.classification_report```."
      ]
    },
    {
      "cell_type": "code",
      "execution_count": 44,
      "metadata": {
        "deletable": false,
        "editable": false,
        "id": "UgHO2WCMDFR1",
        "nbgrader": {
          "cell_type": "code",
          "checksum": "625fdef6378b17b7ea374b0a9bc3d6f1",
          "grade": false,
          "grade_id": "cell-924c7a54e1ff8151",
          "locked": true,
          "schema_version": 3,
          "solution": false
        },
        "colab": {
          "base_uri": "https://localhost:8080/"
        },
        "outputId": "037b08c2-4097-4192-c447-b684a7d51b35"
      },
      "outputs": [
        {
          "output_type": "stream",
          "name": "stdout",
          "text": [
            "----------------------------for training---------------------------\n",
            "              precision    recall  f1-score   support\n",
            "\n",
            "           0       0.98      0.98      0.98       116\n",
            "           1       0.98      0.98      0.98       124\n",
            "\n",
            "    accuracy                           0.98       240\n",
            "   macro avg       0.98      0.98      0.98       240\n",
            "weighted avg       0.98      0.98      0.98       240\n",
            "\n",
            "----------------------------for testing---------------------------\n",
            "              precision    recall  f1-score   support\n",
            "\n",
            "           0       1.00      1.00      1.00        33\n",
            "           1       1.00      1.00      1.00        27\n",
            "\n",
            "    accuracy                           1.00        60\n",
            "   macro avg       1.00      1.00      1.00        60\n",
            "weighted avg       1.00      1.00      1.00        60\n",
            "\n"
          ]
        }
      ],
      "source": [
        "from sklearn.metrics import classification_report\n",
        "\n",
        "print('----------------------------for training---------------------------')\n",
        "print(classification_report(y_train, y_pred_train))\n",
        "\n",
        "print('----------------------------for testing---------------------------')\n",
        "print(classification_report(y_test, y_pred_test))"
      ]
    },
    {
      "cell_type": "markdown",
      "metadata": {
        "deletable": false,
        "editable": false,
        "id": "1uHr1FxQDFR5",
        "nbgrader": {
          "cell_type": "markdown",
          "checksum": "a1c5995a302064c6e0156de5dfceb4f8",
          "grade": false,
          "grade_id": "cell-15f21674177ad6c3",
          "locked": true,
          "schema_version": 3,
          "solution": false
        }
      },
      "source": [
        "Since the synthetic data was linearly separable the model is performing exceptionally with around 98% accuracy.  Now. let's plot the decision boundary of the model."
      ]
    },
    {
      "cell_type": "code",
      "execution_count": 45,
      "metadata": {
        "deletable": false,
        "editable": false,
        "id": "254VUcgrDFR5",
        "nbgrader": {
          "cell_type": "code",
          "checksum": "6e07990f55c577d5457deecb384d2e2c",
          "grade": false,
          "grade_id": "cell-e3658c4c64d8a212",
          "locked": true,
          "schema_version": 3,
          "solution": false
        },
        "colab": {
          "base_uri": "https://localhost:8080/",
          "height": 293
        },
        "outputId": "595f4bce-c136-48ca-ca5f-a73c07767dab"
      },
      "outputs": [
        {
          "output_type": "display_data",
          "data": {
            "text/plain": [
              "<Figure size 1080x432 with 2 Axes>"
            ],
            "image/png": "[encoded data removed]"
          },
          "metadata": {
            "needs_background": "light"
          }
        }
      ],
      "source": [
        "# Generating independent features\n",
        "x1_points = np.linspace(-0.05,1.05, 1000)\n",
        "x2_points = np.linspace(-0.05,1.05, 1000)\n",
        "\n",
        "# Generating grid of values\n",
        "x1,x2 = np.meshgrid(x1_points,x2_points)\n",
        "\n",
        "# Changing dimension (Required for vectorized operations)\n",
        "X_values = np.column_stack((x1.ravel(),x2.ravel()))\n",
        "\n",
        "X_sample = np.c_[np.ones(X_values.shape[0]),X_values]\n",
        "\n",
        "# Computing hypothesis function and prediction\n",
        "y_pred = prediction(X_sample, m_N, S_N)\n",
        "y_pred = y_pred.reshape(x1.shape)\n",
        "\n",
        "\n",
        "# Plotting the datapoints (helps in visualization)\n",
        "fig, (ax1,ax2) = plt.subplots(1,2, figsize=(15,6))\n",
        "ax1.plot(X_mat_pad[:,1][np.ravel(y_vec)==0], X_mat_pad[:,2][np.ravel(y_vec)==0], 'bs', label='class 0')\n",
        "ax1.plot(X_mat_pad[:,1][np.ravel(y_vec)==1], X_mat_pad[:,2][np.ravel(y_vec)==1], 'g^', label='class 1')\n",
        "ax1.set_xlabel(syn_df.columns[0], fontsize=12)\n",
        "ax1.set_ylabel(syn_df.columns[1], fontsize=12)\n",
        "ax1.set_title('Prediction probability', fontsize=12)\n",
        "ax1.legend()\n",
        "\n",
        "# Plotting the prediction probability\n",
        "ax1.contourf(x1, x2, y_pred, cmap=plt.cm.brg, alpha=0.2)\n",
        "\n",
        "# Plotting the datapoints (helps in visualization)\n",
        "ax2.plot(X_mat_pad[:,1][np.ravel(y_vec)==0], X_mat_pad[:,2][np.ravel(y_vec)==0], 'bs', label='class 0')\n",
        "ax2.plot(X_mat_pad[:,1][np.ravel(y_vec)==1], X_mat_pad[:,2][np.ravel(y_vec)==1], 'g^', label='class 1')\n",
        "ax2.set_xlabel(syn_df.columns[0], fontsize=12)\n",
        "ax2.set_ylabel(syn_df.columns[1], fontsize=12)\n",
        "ax2.set_title('Decision boundary', fontsize=12)\n",
        "ax1.legend()\n",
        "\n",
        "# Plotting the prediction probability\n",
        "ax2.contourf(x1, x2, np.round(y_pred), cmap=plt.cm.brg, alpha=0.2)\n",
        "plt.show()"
      ]
    },
    {
      "cell_type": "markdown",
      "metadata": {
        "deletable": false,
        "editable": false,
        "id": "HDNw6wE-DFR7",
        "nbgrader": {
          "cell_type": "markdown",
          "checksum": "e0a1b4b396b3fa3aba3f9d80e7846e54",
          "grade": false,
          "grade_id": "cell-b5e2a455b6c4968b",
          "locked": true,
          "schema_version": 3,
          "solution": false
        }
      },
      "source": [
        "On the left side is the plot of the prediction probability, aka confidence. The confidence between region of two classes is lower(shown by red) than the confidence near the data cluster(shown by green and blue). On the right we have the decision boundary of the trained model, which as expected is a linear line separating the data."
      ]
    },
    {
      "cell_type": "markdown",
      "metadata": {
        "deletable": false,
        "editable": false,
        "id": "FW4VevYKDFR8",
        "nbgrader": {
          "cell_type": "markdown",
          "checksum": "250f78395ff9e866a22342d9657d50d9",
          "grade": false,
          "grade_id": "cell-a0a3212b82dde3b5",
          "locked": true,
          "schema_version": 3,
          "solution": false
        }
      },
      "source": [
        "## Why feature scaling?\n",
        "\n",
        "We conducted feature scaling at the start of this assignment. But why? Let's train the bayesian logistic regression model with using feature scaling and see the results."
      ]
    },
    {
      "cell_type": "code",
      "execution_count": 46,
      "metadata": {
        "deletable": false,
        "editable": false,
        "id": "YiCIAkXzDFR8",
        "nbgrader": {
          "cell_type": "code",
          "checksum": "e7fba8ad81b05c68a973d72a1f213766",
          "grade": false,
          "grade_id": "cell-896efe818ef3b250",
          "locked": true,
          "schema_version": 3,
          "solution": false
        },
        "colab": {
          "base_uri": "https://localhost:8080/"
        },
        "outputId": "c02de96d-8a13-4cd8-8fac-f1ef9c42da5b"
      },
      "outputs": [
        {
          "output_type": "stream",
          "name": "stdout",
          "text": [
            "              precision    recall  f1-score   support\n",
            "\n",
            "      -212.0       0.00      0.00      0.00         0\n",
            "      -205.0       0.00      0.00      0.00         0\n",
            "      -203.0       0.00      0.00      0.00         0\n",
            "      -199.0       0.00      0.00      0.00         0\n",
            "      -197.0       0.00      0.00      0.00         0\n",
            "      -182.0       0.00      0.00      0.00         0\n",
            "      -174.0       0.00      0.00      0.00         0\n",
            "      -172.0       0.00      0.00      0.00         0\n",
            "      -170.0       0.00      0.00      0.00         0\n",
            "      -169.0       0.00      0.00      0.00         0\n",
            "      -167.0       0.00      0.00      0.00         0\n",
            "      -164.0       0.00      0.00      0.00         0\n",
            "      -160.0       0.00      0.00      0.00         0\n",
            "      -157.0       0.00      0.00      0.00         0\n",
            "      -156.0       0.00      0.00      0.00         0\n",
            "      -152.0       0.00      0.00      0.00         0\n",
            "      -150.0       0.00      0.00      0.00         0\n",
            "      -146.0       0.00      0.00      0.00         0\n",
            "      -144.0       0.00      0.00      0.00         0\n",
            "      -142.0       0.00      0.00      0.00         0\n",
            "      -141.0       0.00      0.00      0.00         0\n",
            "      -140.0       0.00      0.00      0.00         0\n",
            "      -138.0       0.00      0.00      0.00         0\n",
            "      -136.0       0.00      0.00      0.00         0\n",
            "      -135.0       0.00      0.00      0.00         0\n",
            "      -133.0       0.00      0.00      0.00         0\n",
            "      -130.0       0.00      0.00      0.00         0\n",
            "      -128.0       0.00      0.00      0.00         0\n",
            "      -127.0       0.00      0.00      0.00         0\n",
            "      -126.0       0.00      0.00      0.00         0\n",
            "      -124.0       0.00      0.00      0.00         0\n",
            "      -123.0       0.00      0.00      0.00         0\n",
            "      -121.0       0.00      0.00      0.00         0\n",
            "      -120.0       0.00      0.00      0.00         0\n",
            "      -114.0       0.00      0.00      0.00         0\n",
            "      -112.0       0.00      0.00      0.00         0\n",
            "      -109.0       0.00      0.00      0.00         0\n",
            "      -108.0       0.00      0.00      0.00         0\n",
            "      -104.0       0.00      0.00      0.00         0\n",
            "      -101.0       0.00      0.00      0.00         0\n",
            "      -100.0       0.00      0.00      0.00         0\n",
            "       -96.0       0.00      0.00      0.00         0\n",
            "       -93.0       0.00      0.00      0.00         0\n",
            "       -90.0       0.00      0.00      0.00         0\n",
            "       -89.0       0.00      0.00      0.00         0\n",
            "       -88.0       0.00      0.00      0.00         0\n",
            "       -83.0       0.00      0.00      0.00         0\n",
            "       -79.0       0.00      0.00      0.00         0\n",
            "       -75.0       0.00      0.00      0.00         0\n",
            "       -74.0       0.00      0.00      0.00         0\n",
            "       -70.0       0.00      0.00      0.00         0\n",
            "       -67.0       0.00      0.00      0.00         0\n",
            "       -64.0       0.00      0.00      0.00         0\n",
            "       -63.0       0.00      0.00      0.00         0\n",
            "       -60.0       0.00      0.00      0.00         0\n",
            "       -57.0       0.00      0.00      0.00         0\n",
            "       -56.0       0.00      0.00      0.00         0\n",
            "       -54.0       0.00      0.00      0.00         0\n",
            "       -53.0       0.00      0.00      0.00         0\n",
            "       -52.0       0.00      0.00      0.00         0\n",
            "       -51.0       0.00      0.00      0.00         0\n",
            "       -50.0       0.00      0.00      0.00         0\n",
            "       -49.0       0.00      0.00      0.00         0\n",
            "       -47.0       0.00      0.00      0.00         0\n",
            "       -45.0       0.00      0.00      0.00         0\n",
            "       -44.0       0.00      0.00      0.00         0\n",
            "       -43.0       0.00      0.00      0.00         0\n",
            "       -42.0       0.00      0.00      0.00         0\n",
            "       -41.0       0.00      0.00      0.00         0\n",
            "       -40.0       0.00      0.00      0.00         0\n",
            "       -39.0       0.00      0.00      0.00         0\n",
            "       -37.0       0.00      0.00      0.00         0\n",
            "       -36.0       0.00      0.00      0.00         0\n",
            "       -35.0       0.00      0.00      0.00         0\n",
            "       -34.0       0.00      0.00      0.00         0\n",
            "       -33.0       0.00      0.00      0.00         0\n",
            "       -30.0       0.00      0.00      0.00         0\n",
            "       -29.0       0.00      0.00      0.00         0\n",
            "       -27.0       0.00      0.00      0.00         0\n",
            "       -26.0       0.00      0.00      0.00         0\n",
            "       -25.0       0.00      0.00      0.00         0\n",
            "       -22.0       0.00      0.00      0.00         0\n",
            "       -21.0       0.00      0.00      0.00         0\n",
            "       -17.0       0.00      0.00      0.00         0\n",
            "       -16.0       0.00      0.00      0.00         0\n",
            "       -15.0       0.00      0.00      0.00         0\n",
            "       -14.0       0.00      0.00      0.00         0\n",
            "       -12.0       0.00      0.00      0.00         0\n",
            "       -11.0       0.00      0.00      0.00         0\n",
            "       -10.0       0.00      0.00      0.00         0\n",
            "        -9.0       0.00      0.00      0.00         0\n",
            "        -8.0       0.00      0.00      0.00         0\n",
            "        -7.0       0.00      0.00      0.00         0\n",
            "        -5.0       0.00      0.00      0.00         0\n",
            "        -4.0       0.00      0.00      0.00         0\n",
            "        -3.0       0.00      0.00      0.00         0\n",
            "        -2.0       0.00      0.00      0.00         0\n",
            "        -1.0       0.00      0.00      0.00         0\n",
            "         0.0       1.00      0.01      0.03       149\n",
            "         1.0       1.00      0.01      0.01       151\n",
            "         3.0       0.00      0.00      0.00         0\n",
            "         4.0       0.00      0.00      0.00         0\n",
            "         5.0       0.00      0.00      0.00         0\n",
            "         6.0       0.00      0.00      0.00         0\n",
            "         7.0       0.00      0.00      0.00         0\n",
            "         8.0       0.00      0.00      0.00         0\n",
            "         9.0       0.00      0.00      0.00         0\n",
            "        10.0       0.00      0.00      0.00         0\n",
            "        11.0       0.00      0.00      0.00         0\n",
            "        13.0       0.00      0.00      0.00         0\n",
            "        15.0       0.00      0.00      0.00         0\n",
            "        17.0       0.00      0.00      0.00         0\n",
            "        18.0       0.00      0.00      0.00         0\n",
            "        20.0       0.00      0.00      0.00         0\n",
            "        21.0       0.00      0.00      0.00         0\n",
            "        23.0       0.00      0.00      0.00         0\n",
            "        24.0       0.00      0.00      0.00         0\n",
            "        25.0       0.00      0.00      0.00         0\n",
            "        26.0       0.00      0.00      0.00         0\n",
            "        27.0       0.00      0.00      0.00         0\n",
            "        28.0       0.00      0.00      0.00         0\n",
            "        30.0       0.00      0.00      0.00         0\n",
            "        32.0       0.00      0.00      0.00         0\n",
            "        33.0       0.00      0.00      0.00         0\n",
            "        36.0       0.00      0.00      0.00         0\n",
            "        37.0       0.00      0.00      0.00         0\n",
            "        38.0       0.00      0.00      0.00         0\n",
            "        39.0       0.00      0.00      0.00         0\n",
            "        41.0       0.00      0.00      0.00         0\n",
            "        42.0       0.00      0.00      0.00         0\n",
            "        44.0       0.00      0.00      0.00         0\n",
            "        47.0       0.00      0.00      0.00         0\n",
            "        51.0       0.00      0.00      0.00         0\n",
            "        53.0       0.00      0.00      0.00         0\n",
            "        54.0       0.00      0.00      0.00         0\n",
            "        55.0       0.00      0.00      0.00         0\n",
            "        59.0       0.00      0.00      0.00         0\n",
            "        60.0       0.00      0.00      0.00         0\n",
            "        61.0       0.00      0.00      0.00         0\n",
            "        64.0       0.00      0.00      0.00         0\n",
            "        66.0       0.00      0.00      0.00         0\n",
            "        67.0       0.00      0.00      0.00         0\n",
            "        68.0       0.00      0.00      0.00         0\n",
            "        69.0       0.00      0.00      0.00         0\n",
            "        79.0       0.00      0.00      0.00         0\n",
            "        82.0       0.00      0.00      0.00         0\n",
            "        84.0       0.00      0.00      0.00         0\n",
            "        86.0       0.00      0.00      0.00         0\n",
            "        87.0       0.00      0.00      0.00         0\n",
            "        88.0       0.00      0.00      0.00         0\n",
            "        90.0       0.00      0.00      0.00         0\n",
            "        91.0       0.00      0.00      0.00         0\n",
            "        95.0       0.00      0.00      0.00         0\n",
            "        97.0       0.00      0.00      0.00         0\n",
            "        98.0       0.00      0.00      0.00         0\n",
            "       100.0       0.00      0.00      0.00         0\n",
            "       103.0       0.00      0.00      0.00         0\n",
            "       105.0       0.00      0.00      0.00         0\n",
            "       106.0       0.00      0.00      0.00         0\n",
            "       109.0       0.00      0.00      0.00         0\n",
            "       110.0       0.00      0.00      0.00         0\n",
            "       111.0       0.00      0.00      0.00         0\n",
            "       112.0       0.00      0.00      0.00         0\n",
            "       113.0       0.00      0.00      0.00         0\n",
            "       114.0       0.00      0.00      0.00         0\n",
            "       115.0       0.00      0.00      0.00         0\n",
            "       118.0       0.00      0.00      0.00         0\n",
            "       119.0       0.00      0.00      0.00         0\n",
            "       120.0       0.00      0.00      0.00         0\n",
            "       121.0       0.00      0.00      0.00         0\n",
            "       123.0       0.00      0.00      0.00         0\n",
            "       124.0       0.00      0.00      0.00         0\n",
            "       125.0       0.00      0.00      0.00         0\n",
            "       126.0       0.00      0.00      0.00         0\n",
            "       130.0       0.00      0.00      0.00         0\n",
            "       132.0       0.00      0.00      0.00         0\n",
            "       133.0       0.00      0.00      0.00         0\n",
            "       134.0       0.00      0.00      0.00         0\n",
            "       135.0       0.00      0.00      0.00         0\n",
            "       137.0       0.00      0.00      0.00         0\n",
            "       138.0       0.00      0.00      0.00         0\n",
            "       140.0       0.00      0.00      0.00         0\n",
            "       142.0       0.00      0.00      0.00         0\n",
            "       144.0       0.00      0.00      0.00         0\n",
            "       145.0       0.00      0.00      0.00         0\n",
            "       146.0       0.00      0.00      0.00         0\n",
            "       147.0       0.00      0.00      0.00         0\n",
            "       150.0       0.00      0.00      0.00         0\n",
            "       151.0       0.00      0.00      0.00         0\n",
            "       152.0       0.00      0.00      0.00         0\n",
            "       153.0       0.00      0.00      0.00         0\n",
            "       154.0       0.00      0.00      0.00         0\n",
            "       155.0       0.00      0.00      0.00         0\n",
            "       156.0       0.00      0.00      0.00         0\n",
            "       166.0       0.00      0.00      0.00         0\n",
            "       167.0       0.00      0.00      0.00         0\n",
            "       173.0       0.00      0.00      0.00         0\n",
            "       180.0       0.00      0.00      0.00         0\n",
            "\n",
            "    accuracy                           0.01       300\n",
            "   macro avg       0.01      0.00      0.00       300\n",
            "weighted avg       1.00      0.01      0.02       300\n",
            "\n"
          ]
        },
        {
          "output_type": "stream",
          "name": "stderr",
          "text": [
            "/usr/local/lib/python3.7/dist-packages/sklearn/metrics/_classification.py:1318: UndefinedMetricWarning: Recall and F-score are ill-defined and being set to 0.0 in labels with no true samples. Use `zero_division` parameter to control this behavior.\n",
            "  _warn_prf(average, modifier, msg_start, len(result))\n",
            "/usr/local/lib/python3.7/dist-packages/sklearn/metrics/_classification.py:1318: UndefinedMetricWarning: Recall and F-score are ill-defined and being set to 0.0 in labels with no true samples. Use `zero_division` parameter to control this behavior.\n",
            "  _warn_prf(average, modifier, msg_start, len(result))\n",
            "/usr/local/lib/python3.7/dist-packages/sklearn/metrics/_classification.py:1318: UndefinedMetricWarning: Recall and F-score are ill-defined and being set to 0.0 in labels with no true samples. Use `zero_division` parameter to control this behavior.\n",
            "  _warn_prf(average, modifier, msg_start, len(result))\n"
          ]
        }
      ],
      "source": [
        "# Unscaled data\n",
        "X_unscaled = np.c_[np.ones(X_data.shape[0]), X_data]\n",
        "\n",
        "m_N_unscaled, S_N_unscaled = calculate_approx_params(beta_initial, X_unscaled, m_0, S_0, y_vec)\n",
        "\n",
        "y_unscaled_pred = np.round(prediction(X_unscaled, m_N_unscaled, S_N_unscaled))\n",
        "\n",
        "# Accuracy\n",
        "print(classification_report(y_vec, y_unscaled_pred))"
      ]
    },
    {
      "cell_type": "markdown",
      "metadata": {
        "deletable": false,
        "editable": false,
        "id": "20Skd8__DFR_",
        "nbgrader": {
          "cell_type": "markdown",
          "checksum": "fb5fa7e3792aab4cb99be5104e3526aa",
          "grade": false,
          "grade_id": "cell-7ee3c598e0cbef7e",
          "locked": true,
          "schema_version": 3,
          "solution": false
        }
      },
      "source": [
        "By using unscaled features, the accuracy has dropped from 98% to 76%. Let's check the decision boundary."
      ]
    },
    {
      "cell_type": "code",
      "execution_count": 47,
      "metadata": {
        "deletable": false,
        "editable": false,
        "id": "Y9zYY3bSDFR_",
        "nbgrader": {
          "cell_type": "code",
          "checksum": "97645e5e48acfbfb05d5fc8d72b7d7e4",
          "grade": false,
          "grade_id": "cell-db2ccaac4ad5ae15",
          "locked": true,
          "schema_version": 3,
          "solution": false
        },
        "colab": {
          "base_uri": "https://localhost:8080/",
          "height": 296
        },
        "outputId": "f9e7ad5f-b388-418b-d183-fbce37434570"
      },
      "outputs": [
        {
          "output_type": "display_data",
          "data": {
            "text/plain": [
              "<Figure size 432x288 with 1 Axes>"
            ],
            "image/png": "[encoded data removed]"
          },
          "metadata": {
            "needs_background": "light"
          }
        }
      ],
      "source": [
        "# Generating independent features\n",
        "x1_points = np.linspace(46,54.2, 1000)\n",
        "x2_points = np.linspace(46.7,53.2, 1000)\n",
        "\n",
        "# Generating grid of values\n",
        "x1,x2 = np.meshgrid(x1_points,x2_points)\n",
        "\n",
        "# Changing dimension (Required for vectorized operations)\n",
        "X_values = np.column_stack((x1.ravel(),x2.ravel()))\n",
        "\n",
        "X_sample = np.c_[np.ones(X_values.shape[0]),X_values]\n",
        "\n",
        "y_unscaled_pred = np.round(prediction(X_sample, m_N_unscaled, S_N_unscaled))\n",
        "\n",
        "# Plotting the datapoints (helps in visualization)\n",
        "plt.plot(X_unscaled[:,1][np.ravel(y_vec)==0], X_unscaled[:,2][np.ravel(y_vec)==0], 'bs', label='class 0')\n",
        "plt.plot(X_unscaled[:,1][np.ravel(y_vec)==1], X_unscaled[:,2][np.ravel(y_vec)==1], 'g^', label='class 1')\n",
        "plt.xlabel(syn_df.columns[0])\n",
        "plt.ylabel(syn_df.columns[1])\n",
        "plt.title('Decision boundary')\n",
        "plt.legend()\n",
        "\n",
        "# Plotting the decision boundary\n",
        "plt.contourf(x1, x2, y_unscaled_pred.reshape(x1.shape), cmap=plt.cm.brg, alpha=0.2)\n",
        "plt.show()"
      ]
    },
    {
      "cell_type": "markdown",
      "metadata": {
        "deletable": false,
        "editable": false,
        "id": "qt9RvhooDFSD",
        "nbgrader": {
          "cell_type": "markdown",
          "checksum": "625b238277a57c7b073c1e26a6015cbb",
          "grade": false,
          "grade_id": "cell-b92bbfb17e9efabc",
          "locked": true,
          "schema_version": 3,
          "solution": false
        }
      },
      "source": [
        "See the decision boundary is unable to separate the two classes. The BFGS algorithm that we used fails to converge due to unscaled feature, resulting in suboptimal decision boundary. Remember: your data must always be ready for any algorithm, so it is highly advised that you always scale the features. "
      ]
    },
    {
      "cell_type": "markdown",
      "metadata": {
        "deletable": false,
        "editable": false,
        "id": "rHGl63ynDFSD",
        "nbgrader": {
          "cell_type": "markdown",
          "checksum": "a71b532ff3d9026bc5e04dc8d376e4d2",
          "grade": false,
          "grade_id": "cell-609fdd38741aa904",
          "locked": true,
          "schema_version": 3,
          "solution": false
        }
      },
      "source": [
        "## Additional Resources\n",
        "\n",
        "- Book\n",
        " - Bishop C. M. (2006), Pattern recognition and machine learning, \n",
        "   - Check Topic: Chapter 4, Section 4.4, 4.5 contains information regarding laplace approximation and bayesian logistic regression respectively."
      ]
    },
    {
      "cell_type": "code",
      "source": [
        ""
      ],
      "metadata": {
        "id": "_4jydMKFFOBH"
      },
      "execution_count": null,
      "outputs": []
    }
  ],
  "metadata": {
    "colab": {
      "collapsed_sections": [
        "3emF_-aBDFQg",
        "VFKKkSZ4DFQh",
        "ypXQeG4FDFQv",
        "sl4nJjW9DFQw",
        "fVP1h9lADFQ6",
        "WjqS0SRqDFRB",
        "75unyISJDFRC",
        "4AKO_GHoDFRJ",
        "Lqyb-NV8DFRO",
        "LeMRa_goDFRT",
        "BIb9JwWBDFRT",
        "lIDPMryKDFRg"
      ],
      "name": "Bayesian_logistic_regression_Student_solution.ipynb",
      "provenance": []
    },
    "kernelspec": {
      "display_name": "Python 3 (ipykernel)",
      "language": "python",
      "name": "python3"
    },
    "language_info": {
      "codemirror_mode": {
        "name": "ipython",
        "version": 3
      },
      "file_extension": ".py",
      "mimetype": "text/x-python",
      "name": "python",
      "nbconvert_exporter": "python",
      "pygments_lexer": "ipython3",
      "version": "3.7.3"
    }
  },
  "nbformat": 4,
  "nbformat_minor": 0
}