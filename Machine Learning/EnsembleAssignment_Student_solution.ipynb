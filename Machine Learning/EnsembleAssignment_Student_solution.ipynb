{
  "cells": [
    {
      "cell_type": "markdown",
      "metadata": {
        "deletable": false,
        "editable": false,
        "id": "2PO8PExZwsGd",
        "nbgrader": {
          "cell_type": "markdown",
          "checksum": "f7f8a87a9f6db06c8e8b8a128d575484",
          "grade": false,
          "grade_id": "cell-07f7a8784a17e6a5",
          "locked": true,
          "schema_version": 3,
          "solution": false,
          "task": false
        }
      },
      "source": [
        "# AirBnB guest arrival prediction using tree-based methods\n",
        "\n",
        "\n",
        "\n",
        "<b><div style=\"text-align: right\">[TOTAL POINTS: 9]</div></b>\n",
        "\n",
        "The assignment is divided into three different levels: Level1, Level2, and Level3.\n",
        "\n",
        "## Learning Objective(Level 1)\n",
        "\n",
        "<b><div style=\"text-align: right\">[POINTS: 4]</div></b>\n",
        "\n",
        "By the end of this assignment, a student should be able to\n",
        "\n",
        "- Apply necessary preprocessing steps on the data to make it suitable for training.\n",
        "\n",
        "- Train Bagging Classifier, Random Forest Classifier, XGBoost Classifier.\n",
        "\n",
        "- Fine-tune and monitor the performance of XGBoost.\n",
        "\n",
        "\n",
        "\n",
        "Let's start with the problem description of level1.\n",
        "In this assignment, you will train different ensemble models to predict whether the customer will cancel the booking or not. For a tourism-based country like Nepal, hospitality is a major source of income. The given data represents booking information made by foreign customers via AirBnB for the year 2018. Your task in level1 is to use this data to predict whether the customer will cancel the booking or not.\n"
      ]
    },
    {
      "cell_type": "markdown",
      "metadata": {
        "deletable": false,
        "editable": false,
        "id": "Epa9-UlFwsGi",
        "nbgrader": {
          "cell_type": "markdown",
          "checksum": "0294ba34b6949a3460fc5f3e395bbbc1",
          "grade": false,
          "grade_id": "cell-efbfcf6cef60da2e",
          "locked": true,
          "schema_version": 3,
          "solution": false,
          "task": false
        }
      },
      "source": [
        "## Dataset Description:\n",
        "\n",
        "The dataset, **AirBnB customer arrival prediction**, contains information regarding booking in the hotel, and includes features like such as meal, arrival date(date of booking), car parking space in hotel, etc. All features are listed below.\n",
        "\n",
        "Note: The given dataset is a modification of [Hotel booking demand datasets](https://www.sciencedirect.com/science/article/pii/S2352340918315191) collected by **Nuano et al.** and is availabe under [Creative Commons 4.0](https://creativecommons.org/licenses/by/4.0/).\n",
        "\n",
        "**Number of Instances:** 119,386 \\\n",
        "**Number of Attributes:** 25 **Input Features** + 1 **Target**(__is_canceled__)\n",
        "\n",
        "### Attribute Information:\n",
        "The detail information of each attribute is listed as:\n",
        "\n",
        "* **hotel** - Type of hotel resort or city\n",
        "* **is_canceled** - The label column. This indicates whether the guests canceled their booking or they checked-in\n",
        "* **lead_time** - Number of days that elapsed between the entering date of the booking into the PMS and the arrival date\n",
        "* **arrival_date_year** - year of the arrival date\n",
        "* **arrival_date_month** - Month of arrival date with 12 categories: “January” to “December” expressed in numbers. 1 indicates January, and 12 indicate December. \n",
        "* **arrival_date_week_number** - Week number of the arrival date\n",
        "* **arrival_date_day_of_month** - Day of the month of the arrival date\n",
        "* **stays_in_weekend_nights** - Number of weekend nights (Saturday or Sunday) the guest stayed or booked to stay at the hotel.\n",
        "* **stays_in_week_nights** - Number of week nights (Monday to Friday) the guest stayed or booked to stay at the hotel\n",
        "* **meal** - Type of meal booked. \n",
        "* **country** - Country of origin. Categories are represented in the ISO 3155–3:2013 format\n",
        "* **market_segment** - Market segment designation. In categories, the term \"TA\" means \"Travel Agents\" and \"TO\" means \"Tour Operators\"\n",
        "* **distribution_channel** - Booking distribution channel. The term \"TA\" means \"Travel Agents\" and \"TO\" means \"Tour Operators\"\n",
        "* **is_repeated_guest** - Value indicating if the booking name was from a repeated guest (1) or not (0)\n",
        "* **reserved_room_type** - Code of room type reserved. \n",
        "* **assigned_room_type** - Code for the type of room assigned to the booking. Sometimes the assigned room type differs from the reserved room type due to hotel operation reasons (e.g., overbooking) or by customer request.\n",
        "* **booking_changes** - Number of changes/amendments made to the booking from the moment the booking was entered on the PMS until the moment of check-in or cancellation\n",
        "* **deposit_type** - Indication on if the customer deposited to guarantee the booking.\n",
        "* **agent** - ID of the travel agency that made the booking\n",
        "* **days_in_waiting_list** - Number of days the booking was on the waiting list before it was confirmed to the customer. \n",
        "* **customer_type** - Type of booking. One of Contract, Group, Transient, and Transient-party.\n",
        "* **adr** - Average Daily Rate\n",
        "* **required_car_parking_spaces** - Number of car parking spaces required by the customer.\n",
        "* **total_of_special_requests** - Number of special requests made by the customer (e.g. twin bed or high floor)\n",
        "* **total_guests** - Total number of guests(includes adults, children, and babies)\n",
        "* **net_booking_cancelled** - A difference between the total number of the previous booking canceled and the previous booking not canceled before this booking. A positive value means that the customer did not cancel most of the previous booking."
      ]
    },
    {
      "cell_type": "markdown",
      "metadata": {
        "deletable": false,
        "editable": false,
        "id": "VssZ8Kf_wsGm",
        "nbgrader": {
          "cell_type": "markdown",
          "checksum": "a2e702129c88a9379910c3afba966c44",
          "grade": false,
          "grade_id": "cell-1376b6668cc0b7e3",
          "locked": true,
          "schema_version": 3,
          "solution": false,
          "task": false
        }
      },
      "source": [
        "### Import libraries"
      ]
    },
    {
      "cell_type": "code",
      "execution_count": 1,
      "metadata": {
        "deletable": false,
        "editable": false,
        "id": "XM9q2-0ZwsGp",
        "nbgrader": {
          "cell_type": "code",
          "checksum": "e7dabe83fb818c087ddde93f145acc34",
          "grade": false,
          "grade_id": "cell-8aaadd6d8208e92f",
          "locked": true,
          "schema_version": 3,
          "solution": false,
          "task": false
        }
      },
      "outputs": [],
      "source": [
        "import pandas as pd\n",
        "import numpy as np\n",
        "import pickle\n",
        "from matplotlib import pyplot as plt\n",
        "\n",
        "RANDOM_STATE = 7\n",
        "np.random.seed(RANDOM_STATE)"
      ]
    },
    {
      "cell_type": "markdown",
      "metadata": {
        "deletable": false,
        "editable": false,
        "id": "pEDgsWu_wsG5",
        "nbgrader": {
          "cell_type": "markdown",
          "checksum": "280a979d45c3059ea2bf611656cd6a99",
          "grade": false,
          "grade_id": "cell-24b969ae9447e0d8",
          "locked": true,
          "schema_version": 3,
          "solution": false,
          "task": false
        }
      },
      "source": [
        "### Load csv file"
      ]
    },
    {
      "cell_type": "code",
      "execution_count": 2,
      "metadata": {
        "deletable": false,
        "editable": false,
        "id": "_ELsyzGxwsG7",
        "nbgrader": {
          "cell_type": "code",
          "checksum": "e15e679f7b304b91742b0bfa20c904b2",
          "grade": false,
          "grade_id": "cell-e94bfbaf67531051",
          "locked": true,
          "schema_version": 3,
          "solution": false,
          "task": false
        },
        "colab": {
          "base_uri": "https://localhost:8080/",
          "height": 386
        },
        "outputId": "c76cdbfa-0cdd-4f2f-c6a1-e51831b84814"
      },
      "outputs": [
        {
          "output_type": "execute_result",
          "data": {
            "text/plain": [
              "          hotel  is_canceled  lead_time  arrival_date_year arrival_date_month  \\\n",
              "0  Resort Hotel            0        342               2015               July   \n",
              "1  Resort Hotel            0        737               2015               July   \n",
              "2  Resort Hotel            0          7               2015               July   \n",
              "3  Resort Hotel            0         13               2015               July   \n",
              "4  Resort Hotel            0         14               2015               July   \n",
              "\n",
              "   arrival_date_week_number  arrival_date_day_of_month  \\\n",
              "0                        27                          1   \n",
              "1                        27                          1   \n",
              "2                        27                          1   \n",
              "3                        27                          1   \n",
              "4                        27                          1   \n",
              "\n",
              "   stays_in_weekend_nights  stays_in_week_nights meal  ... booking_changes  \\\n",
              "0                        0                     0  NaN  ...               3   \n",
              "1                        0                     0   BB  ...               4   \n",
              "2                        0                     1   BB  ...               0   \n",
              "3                        0                     1  NaN  ...               0   \n",
              "4                        0                     2   BB  ...               0   \n",
              "\n",
              "  deposit_type  agent  days_in_waiting_list customer_type   adr  \\\n",
              "0   No Deposit    NaN                     0     Transient   0.0   \n",
              "1   No Deposit    NaN                     0     Transient   0.0   \n",
              "2   No Deposit    NaN                     0     Transient  75.0   \n",
              "3   No Deposit  304.0                     0     Transient  75.0   \n",
              "4   No Deposit  240.0                     0     Transient  98.0   \n",
              "\n",
              "   required_car_parking_spaces total_of_special_requests  total_guests  \\\n",
              "0                            0                         0           2.0   \n",
              "1                            0                         0           2.0   \n",
              "2                            0                         0           1.0   \n",
              "3                            0                         0           1.0   \n",
              "4                            0                         1           2.0   \n",
              "\n",
              "   net_booking_cancelled  \n",
              "0                      0  \n",
              "1                      0  \n",
              "2                      0  \n",
              "3                      0  \n",
              "4                      0  \n",
              "\n",
              "[5 rows x 26 columns]"
            ],
            "text/html": [
              "\n",
              "  <div id=\"df-836affd8-de95-438e-9ce0-8c41e2a972df\">\n",
              "    <div class=\"colab-df-container\">\n",
              "      <div>\n",
              "<style scoped>\n",
              "    .dataframe tbody tr th:only-of-type {\n",
              "        vertical-align: middle;\n",
              "    }\n",
              "\n",
              "    .dataframe tbody tr th {\n",
              "        vertical-align: top;\n",
              "    }\n",
              "\n",
              "    .dataframe thead th {\n",
              "        text-align: right;\n",
              "    }\n",
              "</style>\n",
              "<table border=\"1\" class=\"dataframe\">\n",
              "  <thead>\n",
              "    <tr style=\"text-align: right;\">\n",
              "      <th></th>\n",
              "      <th>hotel</th>\n",
              "      <th>is_canceled</th>\n",
              "      <th>lead_time</th>\n",
              "      <th>arrival_date_year</th>\n",
              "      <th>arrival_date_month</th>\n",
              "      <th>arrival_date_week_number</th>\n",
              "      <th>arrival_date_day_of_month</th>\n",
              "      <th>stays_in_weekend_nights</th>\n",
              "      <th>stays_in_week_nights</th>\n",
              "      <th>meal</th>\n",
              "      <th>...</th>\n",
              "      <th>booking_changes</th>\n",
              "      <th>deposit_type</th>\n",
              "      <th>agent</th>\n",
              "      <th>days_in_waiting_list</th>\n",
              "      <th>customer_type</th>\n",
              "      <th>adr</th>\n",
              "      <th>required_car_parking_spaces</th>\n",
              "      <th>total_of_special_requests</th>\n",
              "      <th>total_guests</th>\n",
              "      <th>net_booking_cancelled</th>\n",
              "    </tr>\n",
              "  </thead>\n",
              "  <tbody>\n",
              "    <tr>\n",
              "      <th>0</th>\n",
              "      <td>Resort Hotel</td>\n",
              "      <td>0</td>\n",
              "      <td>342</td>\n",
              "      <td>2015</td>\n",
              "      <td>July</td>\n",
              "      <td>27</td>\n",
              "      <td>1</td>\n",
              "      <td>0</td>\n",
              "      <td>0</td>\n",
              "      <td>NaN</td>\n",
              "      <td>...</td>\n",
              "      <td>3</td>\n",
              "      <td>No Deposit</td>\n",
              "      <td>NaN</td>\n",
              "      <td>0</td>\n",
              "      <td>Transient</td>\n",
              "      <td>0.0</td>\n",
              "      <td>0</td>\n",
              "      <td>0</td>\n",
              "      <td>2.0</td>\n",
              "      <td>0</td>\n",
              "    </tr>\n",
              "    <tr>\n",
              "      <th>1</th>\n",
              "      <td>Resort Hotel</td>\n",
              "      <td>0</td>\n",
              "      <td>737</td>\n",
              "      <td>2015</td>\n",
              "      <td>July</td>\n",
              "      <td>27</td>\n",
              "      <td>1</td>\n",
              "      <td>0</td>\n",
              "      <td>0</td>\n",
              "      <td>BB</td>\n",
              "      <td>...</td>\n",
              "      <td>4</td>\n",
              "      <td>No Deposit</td>\n",
              "      <td>NaN</td>\n",
              "      <td>0</td>\n",
              "      <td>Transient</td>\n",
              "      <td>0.0</td>\n",
              "      <td>0</td>\n",
              "      <td>0</td>\n",
              "      <td>2.0</td>\n",
              "      <td>0</td>\n",
              "    </tr>\n",
              "    <tr>\n",
              "      <th>2</th>\n",
              "      <td>Resort Hotel</td>\n",
              "      <td>0</td>\n",
              "      <td>7</td>\n",
              "      <td>2015</td>\n",
              "      <td>July</td>\n",
              "      <td>27</td>\n",
              "      <td>1</td>\n",
              "      <td>0</td>\n",
              "      <td>1</td>\n",
              "      <td>BB</td>\n",
              "      <td>...</td>\n",
              "      <td>0</td>\n",
              "      <td>No Deposit</td>\n",
              "      <td>NaN</td>\n",
              "      <td>0</td>\n",
              "      <td>Transient</td>\n",
              "      <td>75.0</td>\n",
              "      <td>0</td>\n",
              "      <td>0</td>\n",
              "      <td>1.0</td>\n",
              "      <td>0</td>\n",
              "    </tr>\n",
              "    <tr>\n",
              "      <th>3</th>\n",
              "      <td>Resort Hotel</td>\n",
              "      <td>0</td>\n",
              "      <td>13</td>\n",
              "      <td>2015</td>\n",
              "      <td>July</td>\n",
              "      <td>27</td>\n",
              "      <td>1</td>\n",
              "      <td>0</td>\n",
              "      <td>1</td>\n",
              "      <td>NaN</td>\n",
              "      <td>...</td>\n",
              "      <td>0</td>\n",
              "      <td>No Deposit</td>\n",
              "      <td>304.0</td>\n",
              "      <td>0</td>\n",
              "      <td>Transient</td>\n",
              "      <td>75.0</td>\n",
              "      <td>0</td>\n",
              "      <td>0</td>\n",
              "      <td>1.0</td>\n",
              "      <td>0</td>\n",
              "    </tr>\n",
              "    <tr>\n",
              "      <th>4</th>\n",
              "      <td>Resort Hotel</td>\n",
              "      <td>0</td>\n",
              "      <td>14</td>\n",
              "      <td>2015</td>\n",
              "      <td>July</td>\n",
              "      <td>27</td>\n",
              "      <td>1</td>\n",
              "      <td>0</td>\n",
              "      <td>2</td>\n",
              "      <td>BB</td>\n",
              "      <td>...</td>\n",
              "      <td>0</td>\n",
              "      <td>No Deposit</td>\n",
              "      <td>240.0</td>\n",
              "      <td>0</td>\n",
              "      <td>Transient</td>\n",
              "      <td>98.0</td>\n",
              "      <td>0</td>\n",
              "      <td>1</td>\n",
              "      <td>2.0</td>\n",
              "      <td>0</td>\n",
              "    </tr>\n",
              "  </tbody>\n",
              "</table>\n",
              "<p>5 rows × 26 columns</p>\n",
              "</div>\n",
              "      <button class=\"colab-df-convert\" onclick=\"convertToInteractive('df-836affd8-de95-438e-9ce0-8c41e2a972df')\"\n",
              "              title=\"Convert this dataframe to an interactive table.\"\n",
              "              style=\"display:none;\">\n",
              "        \n",
              "  <svg xmlns=\"http://www.w3.org/2000/svg\" height=\"24px\"viewBox=\"0 0 24 24\"\n",
              "       width=\"24px\">\n",
              "    <path d=\"M0 0h24v24H0V0z\" fill=\"none\"/>\n",
              "    <path d=\"M18.56 5.44l.94 2.06.94-2.06 2.06-.94-2.06-.94-.94-2.06-.94 2.06-2.06.94zm-11 1L8.5 8.5l.94-2.06 2.06-.94-2.06-.94L8.5 2.5l-.94 2.06-2.06.94zm10 10l.94 2.06.94-2.06 2.06-.94-2.06-.94-.94-2.06-.94 2.06-2.06.94z\"/><path d=\"M17.41 7.96l-1.37-1.37c-.4-.4-.92-.59-1.43-.59-.52 0-1.04.2-1.43.59L10.3 9.45l-7.72 7.72c-.78.78-.78 2.05 0 2.83L4 21.41c.39.39.9.59 1.41.59.51 0 1.02-.2 1.41-.59l7.78-7.78 2.81-2.81c.8-.78.8-2.07 0-2.86zM5.41 20L4 18.59l7.72-7.72 1.47 1.35L5.41 20z\"/>\n",
              "  </svg>\n",
              "      </button>\n",
              "      \n",
              "  <style>\n",
              "    .colab-df-container {\n",
              "      display:flex;\n",
              "      flex-wrap:wrap;\n",
              "      gap: 12px;\n",
              "    }\n",
              "\n",
              "    .colab-df-convert {\n",
              "      background-color: #E8F0FE;\n",
              "      border: none;\n",
              "      border-radius: 50%;\n",
              "      cursor: pointer;\n",
              "      display: none;\n",
              "      fill: #1967D2;\n",
              "      height: 32px;\n",
              "      padding: 0 0 0 0;\n",
              "      width: 32px;\n",
              "    }\n",
              "\n",
              "    .colab-df-convert:hover {\n",
              "      background-color: #E2EBFA;\n",
              "      box-shadow: 0px 1px 2px rgba(60, 64, 67, 0.3), 0px 1px 3px 1px rgba(60, 64, 67, 0.15);\n",
              "      fill: #174EA6;\n",
              "    }\n",
              "\n",
              "    [theme=dark] .colab-df-convert {\n",
              "      background-color: #3B4455;\n",
              "      fill: #D2E3FC;\n",
              "    }\n",
              "\n",
              "    [theme=dark] .colab-df-convert:hover {\n",
              "      background-color: #434B5C;\n",
              "      box-shadow: 0px 1px 3px 1px rgba(0, 0, 0, 0.15);\n",
              "      filter: drop-shadow(0px 1px 2px rgba(0, 0, 0, 0.3));\n",
              "      fill: #FFFFFF;\n",
              "    }\n",
              "  </style>\n",
              "\n",
              "      <script>\n",
              "        const buttonEl =\n",
              "          document.querySelector('#df-836affd8-de95-438e-9ce0-8c41e2a972df button.colab-df-convert');\n",
              "        buttonEl.style.display =\n",
              "          google.colab.kernel.accessAllowed ? 'block' : 'none';\n",
              "\n",
              "        async function convertToInteractive(key) {\n",
              "          const element = document.querySelector('#df-836affd8-de95-438e-9ce0-8c41e2a972df');\n",
              "          const dataTable =\n",
              "            await google.colab.kernel.invokeFunction('convertToInteractive',\n",
              "                                                     [key], {});\n",
              "          if (!dataTable) return;\n",
              "\n",
              "          const docLinkHtml = 'Like what you see? Visit the ' +\n",
              "            '<a target=\"_blank\" href=https://colab.research.google.com/notebooks/data_table.ipynb>data table notebook</a>'\n",
              "            + ' to learn more about interactive tables.';\n",
              "          element.innerHTML = '';\n",
              "          dataTable['output_type'] = 'display_data';\n",
              "          await google.colab.output.renderOutput(dataTable, element);\n",
              "          const docLink = document.createElement('div');\n",
              "          docLink.innerHTML = docLinkHtml;\n",
              "          element.appendChild(docLink);\n",
              "        }\n",
              "      </script>\n",
              "    </div>\n",
              "  </div>\n",
              "  "
            ]
          },
          "metadata": {},
          "execution_count": 2
        }
      ],
      "source": [
        "df= pd.read_csv(\"https://drive.google.com/uc?id=1Gqk7mPLeXlx7mo8iQZM0TpcNmnyFa-LD\", index_col = 0)\n",
        "df.head()"
      ]
    },
    {
      "cell_type": "markdown",
      "metadata": {
        "deletable": false,
        "editable": false,
        "id": "-PYR9djVwsHG",
        "nbgrader": {
          "cell_type": "markdown",
          "checksum": "4bc860d3d7d42438946fd99db9f763cf",
          "grade": false,
          "grade_id": "cell-6b18126a4854d153",
          "locked": true,
          "schema_version": 3,
          "solution": false,
          "task": false
        }
      },
      "source": [
        "## Preprocessing\n",
        "### Identification of features with missing values\n",
        "Let's find out if the columns in our dataset has any misssing values."
      ]
    },
    {
      "cell_type": "code",
      "execution_count": 3,
      "metadata": {
        "deletable": false,
        "editable": false,
        "id": "Rkd1RjvSwsHI",
        "nbgrader": {
          "cell_type": "code",
          "checksum": "896555bd445bdf2270f179fbb7ca552b",
          "grade": false,
          "grade_id": "cell-b4b33f9f363968d7",
          "locked": true,
          "schema_version": 3,
          "solution": false,
          "task": false
        },
        "colab": {
          "base_uri": "https://localhost:8080/"
        },
        "outputId": "14dee7a6-99c4-4fa9-fccc-85d8d41921ab"
      },
      "outputs": [
        {
          "output_type": "execute_result",
          "data": {
            "text/plain": [
              "hotel                              0\n",
              "is_canceled                        0\n",
              "lead_time                          0\n",
              "arrival_date_year                  0\n",
              "arrival_date_month                 0\n",
              "arrival_date_week_number           0\n",
              "arrival_date_day_of_month          0\n",
              "stays_in_weekend_nights            0\n",
              "stays_in_week_nights               0\n",
              "meal                           11939\n",
              "country                          488\n",
              "market_segment                     0\n",
              "distribution_channel           11939\n",
              "is_repeated_guest                  0\n",
              "reserved_room_type                 0\n",
              "assigned_room_type             11939\n",
              "booking_changes                    0\n",
              "deposit_type                       0\n",
              "agent                          16340\n",
              "days_in_waiting_list               0\n",
              "customer_type                      0\n",
              "adr                                0\n",
              "required_car_parking_spaces        0\n",
              "total_of_special_requests          0\n",
              "total_guests                       4\n",
              "net_booking_cancelled              0\n",
              "dtype: int64"
            ]
          },
          "metadata": {},
          "execution_count": 3
        }
      ],
      "source": [
        "df.isnull().sum()"
      ]
    },
    {
      "cell_type": "markdown",
      "metadata": {
        "deletable": false,
        "editable": false,
        "id": "oY3mhFEOwsHQ",
        "nbgrader": {
          "cell_type": "markdown",
          "checksum": "c39d55a079531160aae79f50afaef532",
          "grade": false,
          "grade_id": "cell-0fa66ac9d0129824",
          "locked": true,
          "schema_version": 3,
          "solution": false,
          "task": false
        }
      },
      "source": [
        "We can see that columns `agent`, `assigned_room_type`, `distribution_channel`, `meal`, `country`, and `total_guests` have missing values.\n",
        "\n",
        "Since only four instances in the column `total_guests` have missing value, we will drop them."
      ]
    },
    {
      "cell_type": "code",
      "execution_count": 4,
      "metadata": {
        "deletable": false,
        "editable": false,
        "id": "UKdOTd4BwsHS",
        "nbgrader": {
          "cell_type": "code",
          "checksum": "49e452cee1b383d62a1d14b544bba2ba",
          "grade": false,
          "grade_id": "cell-0658ae9dff5838f4",
          "locked": true,
          "schema_version": 3,
          "solution": false,
          "task": false
        }
      },
      "outputs": [],
      "source": [
        "# removing all rows that have missing values in total_guests column\n",
        "df.dropna(how='any', subset=['total_guests'], inplace=True)"
      ]
    },
    {
      "cell_type": "markdown",
      "metadata": {
        "deletable": false,
        "editable": false,
        "id": "85mnhFDXwsHb",
        "nbgrader": {
          "cell_type": "markdown",
          "checksum": "b3e70ed8cb44ea86286e0bb2f2b94eaa",
          "grade": false,
          "grade_id": "cell-86c773ad37636294",
          "locked": true,
          "schema_version": 3,
          "solution": false,
          "task": false
        }
      },
      "source": [
        "We will impute rest of the features with mode."
      ]
    },
    {
      "cell_type": "code",
      "execution_count": 5,
      "metadata": {
        "deletable": false,
        "editable": false,
        "id": "WVSifF4qwsHc",
        "nbgrader": {
          "cell_type": "code",
          "checksum": "6fe2fceeabaef5f62ae778a602220393",
          "grade": false,
          "grade_id": "cell-ba231c76e63aebc1",
          "locked": true,
          "schema_version": 3,
          "solution": false,
          "task": false
        }
      },
      "outputs": [],
      "source": [
        "missing_features = ['agent', 'assigned_room_type', 'distribution_channel', 'meal', 'country']\n",
        "for feature in missing_features:\n",
        "    df[feature].fillna(df[feature].mode()[0], inplace = True)"
      ]
    },
    {
      "cell_type": "markdown",
      "metadata": {
        "deletable": false,
        "editable": false,
        "id": "RQEJ1XRCwsHl",
        "nbgrader": {
          "cell_type": "markdown",
          "checksum": "7b43801791a6abda95427849b1cb91f4",
          "grade": false,
          "grade_id": "cell-9c70daa05ee0fc45",
          "locked": true,
          "schema_version": 3,
          "solution": false,
          "task": false
        }
      },
      "source": [
        "Until now, we have imputed all the missing values in the dataset."
      ]
    },
    {
      "cell_type": "markdown",
      "metadata": {
        "deletable": false,
        "editable": false,
        "id": "LYANbhhZwsHm",
        "nbgrader": {
          "cell_type": "markdown",
          "checksum": "3f8026d7b6b2e60abf945d927cab6633",
          "grade": false,
          "grade_id": "cell-034cdf27d4021ee4",
          "locked": true,
          "schema_version": 3,
          "solution": false,
          "task": false
        }
      },
      "source": [
        "### Feature generation\n",
        "\n",
        "Here we will combine features `arrival_date_month` and `arrival_date_year` to generate a new feature `month`."
      ]
    },
    {
      "cell_type": "code",
      "execution_count": 6,
      "metadata": {
        "deletable": false,
        "editable": false,
        "id": "AeWZtrUJwsHn",
        "nbgrader": {
          "cell_type": "code",
          "checksum": "557e53c67c54549b885d7ed1e90a54bd",
          "grade": false,
          "grade_id": "cell-b608b12ac2d9d2d4",
          "locked": true,
          "schema_version": 3,
          "solution": false,
          "task": false
        },
        "colab": {
          "base_uri": "https://localhost:8080/"
        },
        "outputId": "5b0d6a21-1806-4f04-ea18-ec7b0df133cd"
      },
      "outputs": [
        {
          "output_type": "execute_result",
          "data": {
            "text/plain": [
              "array([2015, 2016, 2017])"
            ]
          },
          "metadata": {},
          "execution_count": 6
        }
      ],
      "source": [
        "df['arrival_date_year'].unique()"
      ]
    },
    {
      "cell_type": "code",
      "execution_count": 7,
      "metadata": {
        "deletable": false,
        "editable": false,
        "id": "_ZXwBZH7wsHu",
        "nbgrader": {
          "cell_type": "code",
          "checksum": "b31f68ddbd785907bdd27c4bae7b2ecc",
          "grade": false,
          "grade_id": "cell-af60eb808bab599d",
          "locked": true,
          "schema_version": 3,
          "solution": false,
          "task": false
        },
        "colab": {
          "base_uri": "https://localhost:8080/"
        },
        "outputId": "2d5da42b-5b79-4617-b079-689b27a4cec2"
      },
      "outputs": [
        {
          "output_type": "execute_result",
          "data": {
            "text/plain": [
              "array(['July', 'August', 'September', 'October', 'November', 'December',\n",
              "       'January', 'February', 'March', 'April', 'May', 'June'],\n",
              "      dtype=object)"
            ]
          },
          "metadata": {},
          "execution_count": 7
        }
      ],
      "source": [
        "df['arrival_date_month'].unique()"
      ]
    },
    {
      "cell_type": "markdown",
      "metadata": {
        "deletable": false,
        "editable": false,
        "id": "dIPIGG8LwsH1",
        "nbgrader": {
          "cell_type": "markdown",
          "checksum": "c3e7241f95749484f760cfc99e757e00",
          "grade": false,
          "grade_id": "cell-40928221e2b7bd58",
          "locked": true,
          "schema_version": 3,
          "solution": false,
          "task": false
        }
      },
      "source": [
        "In the feature `month`,  we will consider Jan, 2015 as 0, Feb, 2015 as 1, and so on. So this feature will represent the month number starting from Jan, 2015."
      ]
    },
    {
      "cell_type": "code",
      "execution_count": 8,
      "metadata": {
        "deletable": false,
        "editable": false,
        "id": "beVp5g3ZwsH2",
        "nbgrader": {
          "cell_type": "code",
          "checksum": "249e679b563812bbdbe2b0fd033e40e3",
          "grade": false,
          "grade_id": "cell-dad3284a72cc9d72",
          "locked": true,
          "schema_version": 3,
          "solution": false,
          "task": false
        }
      },
      "outputs": [],
      "source": [
        "replace_year = {2015:0, 2016: 12, 2017:24}\n",
        "replace_month= {'Januray':0, 'February': 1, 'March': 2, 'April': 3, 'May': 4, 'June': 5, 'July': 6, 'August': 7, 'September': 8, 'October': 9, 'November': 10, 'December': 11}"
      ]
    },
    {
      "cell_type": "code",
      "execution_count": 9,
      "metadata": {
        "deletable": false,
        "editable": false,
        "id": "L3Q3b4atwsH9",
        "nbgrader": {
          "cell_type": "code",
          "checksum": "d5f0637933f570a0c6abae6a78c18ed8",
          "grade": false,
          "grade_id": "cell-d6b991b3165c322e",
          "locked": true,
          "schema_version": 3,
          "solution": false,
          "task": false
        },
        "colab": {
          "base_uri": "https://localhost:8080/",
          "height": 386
        },
        "outputId": "7d363c58-1874-4db1-8c2d-3fbe970bd482"
      },
      "outputs": [
        {
          "output_type": "execute_result",
          "data": {
            "text/plain": [
              "          hotel  is_canceled  lead_time  arrival_date_year arrival_date_month  \\\n",
              "0  Resort Hotel            0        342                  0                  6   \n",
              "1  Resort Hotel            0        737                  0                  6   \n",
              "2  Resort Hotel            0          7                  0                  6   \n",
              "3  Resort Hotel            0         13                  0                  6   \n",
              "4  Resort Hotel            0         14                  0                  6   \n",
              "\n",
              "   arrival_date_week_number  arrival_date_day_of_month  \\\n",
              "0                        27                          1   \n",
              "1                        27                          1   \n",
              "2                        27                          1   \n",
              "3                        27                          1   \n",
              "4                        27                          1   \n",
              "\n",
              "   stays_in_weekend_nights  stays_in_week_nights meal  ... deposit_type  \\\n",
              "0                        0                     0   BB  ...   No Deposit   \n",
              "1                        0                     0   BB  ...   No Deposit   \n",
              "2                        0                     1   BB  ...   No Deposit   \n",
              "3                        0                     1   BB  ...   No Deposit   \n",
              "4                        0                     2   BB  ...   No Deposit   \n",
              "\n",
              "   agent days_in_waiting_list  customer_type   adr  \\\n",
              "0    9.0                    0      Transient   0.0   \n",
              "1    9.0                    0      Transient   0.0   \n",
              "2    9.0                    0      Transient  75.0   \n",
              "3  304.0                    0      Transient  75.0   \n",
              "4  240.0                    0      Transient  98.0   \n",
              "\n",
              "  required_car_parking_spaces  total_of_special_requests total_guests  \\\n",
              "0                           0                          0          2.0   \n",
              "1                           0                          0          2.0   \n",
              "2                           0                          0          1.0   \n",
              "3                           0                          0          1.0   \n",
              "4                           0                          1          2.0   \n",
              "\n",
              "   net_booking_cancelled  month  \n",
              "0                      0      0  \n",
              "1                      0      0  \n",
              "2                      0      0  \n",
              "3                      0      0  \n",
              "4                      0      0  \n",
              "\n",
              "[5 rows x 27 columns]"
            ],
            "text/html": [
              "\n",
              "  <div id=\"df-0168d043-1a5a-4187-be96-c1736c04d212\">\n",
              "    <div class=\"colab-df-container\">\n",
              "      <div>\n",
              "<style scoped>\n",
              "    .dataframe tbody tr th:only-of-type {\n",
              "        vertical-align: middle;\n",
              "    }\n",
              "\n",
              "    .dataframe tbody tr th {\n",
              "        vertical-align: top;\n",
              "    }\n",
              "\n",
              "    .dataframe thead th {\n",
              "        text-align: right;\n",
              "    }\n",
              "</style>\n",
              "<table border=\"1\" class=\"dataframe\">\n",
              "  <thead>\n",
              "    <tr style=\"text-align: right;\">\n",
              "      <th></th>\n",
              "      <th>hotel</th>\n",
              "      <th>is_canceled</th>\n",
              "      <th>lead_time</th>\n",
              "      <th>arrival_date_year</th>\n",
              "      <th>arrival_date_month</th>\n",
              "      <th>arrival_date_week_number</th>\n",
              "      <th>arrival_date_day_of_month</th>\n",
              "      <th>stays_in_weekend_nights</th>\n",
              "      <th>stays_in_week_nights</th>\n",
              "      <th>meal</th>\n",
              "      <th>...</th>\n",
              "      <th>deposit_type</th>\n",
              "      <th>agent</th>\n",
              "      <th>days_in_waiting_list</th>\n",
              "      <th>customer_type</th>\n",
              "      <th>adr</th>\n",
              "      <th>required_car_parking_spaces</th>\n",
              "      <th>total_of_special_requests</th>\n",
              "      <th>total_guests</th>\n",
              "      <th>net_booking_cancelled</th>\n",
              "      <th>month</th>\n",
              "    </tr>\n",
              "  </thead>\n",
              "  <tbody>\n",
              "    <tr>\n",
              "      <th>0</th>\n",
              "      <td>Resort Hotel</td>\n",
              "      <td>0</td>\n",
              "      <td>342</td>\n",
              "      <td>0</td>\n",
              "      <td>6</td>\n",
              "      <td>27</td>\n",
              "      <td>1</td>\n",
              "      <td>0</td>\n",
              "      <td>0</td>\n",
              "      <td>BB</td>\n",
              "      <td>...</td>\n",
              "      <td>No Deposit</td>\n",
              "      <td>9.0</td>\n",
              "      <td>0</td>\n",
              "      <td>Transient</td>\n",
              "      <td>0.0</td>\n",
              "      <td>0</td>\n",
              "      <td>0</td>\n",
              "      <td>2.0</td>\n",
              "      <td>0</td>\n",
              "      <td>0</td>\n",
              "    </tr>\n",
              "    <tr>\n",
              "      <th>1</th>\n",
              "      <td>Resort Hotel</td>\n",
              "      <td>0</td>\n",
              "      <td>737</td>\n",
              "      <td>0</td>\n",
              "      <td>6</td>\n",
              "      <td>27</td>\n",
              "      <td>1</td>\n",
              "      <td>0</td>\n",
              "      <td>0</td>\n",
              "      <td>BB</td>\n",
              "      <td>...</td>\n",
              "      <td>No Deposit</td>\n",
              "      <td>9.0</td>\n",
              "      <td>0</td>\n",
              "      <td>Transient</td>\n",
              "      <td>0.0</td>\n",
              "      <td>0</td>\n",
              "      <td>0</td>\n",
              "      <td>2.0</td>\n",
              "      <td>0</td>\n",
              "      <td>0</td>\n",
              "    </tr>\n",
              "    <tr>\n",
              "      <th>2</th>\n",
              "      <td>Resort Hotel</td>\n",
              "      <td>0</td>\n",
              "      <td>7</td>\n",
              "      <td>0</td>\n",
              "      <td>6</td>\n",
              "      <td>27</td>\n",
              "      <td>1</td>\n",
              "      <td>0</td>\n",
              "      <td>1</td>\n",
              "      <td>BB</td>\n",
              "      <td>...</td>\n",
              "      <td>No Deposit</td>\n",
              "      <td>9.0</td>\n",
              "      <td>0</td>\n",
              "      <td>Transient</td>\n",
              "      <td>75.0</td>\n",
              "      <td>0</td>\n",
              "      <td>0</td>\n",
              "      <td>1.0</td>\n",
              "      <td>0</td>\n",
              "      <td>0</td>\n",
              "    </tr>\n",
              "    <tr>\n",
              "      <th>3</th>\n",
              "      <td>Resort Hotel</td>\n",
              "      <td>0</td>\n",
              "      <td>13</td>\n",
              "      <td>0</td>\n",
              "      <td>6</td>\n",
              "      <td>27</td>\n",
              "      <td>1</td>\n",
              "      <td>0</td>\n",
              "      <td>1</td>\n",
              "      <td>BB</td>\n",
              "      <td>...</td>\n",
              "      <td>No Deposit</td>\n",
              "      <td>304.0</td>\n",
              "      <td>0</td>\n",
              "      <td>Transient</td>\n",
              "      <td>75.0</td>\n",
              "      <td>0</td>\n",
              "      <td>0</td>\n",
              "      <td>1.0</td>\n",
              "      <td>0</td>\n",
              "      <td>0</td>\n",
              "    </tr>\n",
              "    <tr>\n",
              "      <th>4</th>\n",
              "      <td>Resort Hotel</td>\n",
              "      <td>0</td>\n",
              "      <td>14</td>\n",
              "      <td>0</td>\n",
              "      <td>6</td>\n",
              "      <td>27</td>\n",
              "      <td>1</td>\n",
              "      <td>0</td>\n",
              "      <td>2</td>\n",
              "      <td>BB</td>\n",
              "      <td>...</td>\n",
              "      <td>No Deposit</td>\n",
              "      <td>240.0</td>\n",
              "      <td>0</td>\n",
              "      <td>Transient</td>\n",
              "      <td>98.0</td>\n",
              "      <td>0</td>\n",
              "      <td>1</td>\n",
              "      <td>2.0</td>\n",
              "      <td>0</td>\n",
              "      <td>0</td>\n",
              "    </tr>\n",
              "  </tbody>\n",
              "</table>\n",
              "<p>5 rows × 27 columns</p>\n",
              "</div>\n",
              "      <button class=\"colab-df-convert\" onclick=\"convertToInteractive('df-0168d043-1a5a-4187-be96-c1736c04d212')\"\n",
              "              title=\"Convert this dataframe to an interactive table.\"\n",
              "              style=\"display:none;\">\n",
              "        \n",
              "  <svg xmlns=\"http://www.w3.org/2000/svg\" height=\"24px\"viewBox=\"0 0 24 24\"\n",
              "       width=\"24px\">\n",
              "    <path d=\"M0 0h24v24H0V0z\" fill=\"none\"/>\n",
              "    <path d=\"M18.56 5.44l.94 2.06.94-2.06 2.06-.94-2.06-.94-.94-2.06-.94 2.06-2.06.94zm-11 1L8.5 8.5l.94-2.06 2.06-.94-2.06-.94L8.5 2.5l-.94 2.06-2.06.94zm10 10l.94 2.06.94-2.06 2.06-.94-2.06-.94-.94-2.06-.94 2.06-2.06.94z\"/><path d=\"M17.41 7.96l-1.37-1.37c-.4-.4-.92-.59-1.43-.59-.52 0-1.04.2-1.43.59L10.3 9.45l-7.72 7.72c-.78.78-.78 2.05 0 2.83L4 21.41c.39.39.9.59 1.41.59.51 0 1.02-.2 1.41-.59l7.78-7.78 2.81-2.81c.8-.78.8-2.07 0-2.86zM5.41 20L4 18.59l7.72-7.72 1.47 1.35L5.41 20z\"/>\n",
              "  </svg>\n",
              "      </button>\n",
              "      \n",
              "  <style>\n",
              "    .colab-df-container {\n",
              "      display:flex;\n",
              "      flex-wrap:wrap;\n",
              "      gap: 12px;\n",
              "    }\n",
              "\n",
              "    .colab-df-convert {\n",
              "      background-color: #E8F0FE;\n",
              "      border: none;\n",
              "      border-radius: 50%;\n",
              "      cursor: pointer;\n",
              "      display: none;\n",
              "      fill: #1967D2;\n",
              "      height: 32px;\n",
              "      padding: 0 0 0 0;\n",
              "      width: 32px;\n",
              "    }\n",
              "\n",
              "    .colab-df-convert:hover {\n",
              "      background-color: #E2EBFA;\n",
              "      box-shadow: 0px 1px 2px rgba(60, 64, 67, 0.3), 0px 1px 3px 1px rgba(60, 64, 67, 0.15);\n",
              "      fill: #174EA6;\n",
              "    }\n",
              "\n",
              "    [theme=dark] .colab-df-convert {\n",
              "      background-color: #3B4455;\n",
              "      fill: #D2E3FC;\n",
              "    }\n",
              "\n",
              "    [theme=dark] .colab-df-convert:hover {\n",
              "      background-color: #434B5C;\n",
              "      box-shadow: 0px 1px 3px 1px rgba(0, 0, 0, 0.15);\n",
              "      filter: drop-shadow(0px 1px 2px rgba(0, 0, 0, 0.3));\n",
              "      fill: #FFFFFF;\n",
              "    }\n",
              "  </style>\n",
              "\n",
              "      <script>\n",
              "        const buttonEl =\n",
              "          document.querySelector('#df-0168d043-1a5a-4187-be96-c1736c04d212 button.colab-df-convert');\n",
              "        buttonEl.style.display =\n",
              "          google.colab.kernel.accessAllowed ? 'block' : 'none';\n",
              "\n",
              "        async function convertToInteractive(key) {\n",
              "          const element = document.querySelector('#df-0168d043-1a5a-4187-be96-c1736c04d212');\n",
              "          const dataTable =\n",
              "            await google.colab.kernel.invokeFunction('convertToInteractive',\n",
              "                                                     [key], {});\n",
              "          if (!dataTable) return;\n",
              "\n",
              "          const docLinkHtml = 'Like what you see? Visit the ' +\n",
              "            '<a target=\"_blank\" href=https://colab.research.google.com/notebooks/data_table.ipynb>data table notebook</a>'\n",
              "            + ' to learn more about interactive tables.';\n",
              "          element.innerHTML = '';\n",
              "          dataTable['output_type'] = 'display_data';\n",
              "          await google.colab.output.renderOutput(dataTable, element);\n",
              "          const docLink = document.createElement('div');\n",
              "          docLink.innerHTML = docLinkHtml;\n",
              "          element.appendChild(docLink);\n",
              "        }\n",
              "      </script>\n",
              "    </div>\n",
              "  </div>\n",
              "  "
            ]
          },
          "metadata": {},
          "execution_count": 9
        }
      ],
      "source": [
        "df['arrival_date_year'] = df['arrival_date_year'].replace(replace_year)\n",
        "df['arrival_date_month'] = df['arrival_date_month'].replace(replace_month)\n",
        "df['month'] = df['arrival_date_year']+df['arrival_date_year']\n",
        "# df.drop(['arrival_date_year', 'arrival_date_year'], axis = 1, inplace = True)\n",
        "df.head()"
      ]
    },
    {
      "cell_type": "markdown",
      "metadata": {
        "deletable": false,
        "editable": false,
        "id": "-MNF119rwsIC",
        "nbgrader": {
          "cell_type": "markdown",
          "checksum": "fe14669c48888decd3156cfc53b3f4cc",
          "grade": false,
          "grade_id": "cell-0c38f70723ae519e",
          "locked": true,
          "schema_version": 3,
          "solution": false,
          "task": false
        }
      },
      "source": [
        "### Label Encoding\n",
        "\n",
        "All categorical features are encoded with label encoding.\n"
      ]
    },
    {
      "cell_type": "code",
      "execution_count": 10,
      "metadata": {
        "deletable": false,
        "editable": false,
        "id": "sMblbXeEwsIE",
        "nbgrader": {
          "cell_type": "code",
          "checksum": "28b35d6bc8a3c03d012a1f9536ddc682",
          "grade": false,
          "grade_id": "cell-ebe3b5cf96137618",
          "locked": true,
          "schema_version": 3,
          "solution": false,
          "task": false
        },
        "colab": {
          "base_uri": "https://localhost:8080/",
          "height": 299
        },
        "outputId": "ffac0170-0b9b-463e-ab87-9289201afeb8"
      },
      "outputs": [
        {
          "output_type": "execute_result",
          "data": {
            "text/plain": [
              "   hotel  is_canceled  lead_time  arrival_date_year  arrival_date_month  \\\n",
              "0      1            0        342                  0                   7   \n",
              "1      1            0        737                  0                   7   \n",
              "2      1            0          7                  0                   7   \n",
              "3      1            0         13                  0                   7   \n",
              "4      1            0         14                  0                   7   \n",
              "\n",
              "   arrival_date_week_number  arrival_date_day_of_month  \\\n",
              "0                        27                          1   \n",
              "1                        27                          1   \n",
              "2                        27                          1   \n",
              "3                        27                          1   \n",
              "4                        27                          1   \n",
              "\n",
              "   stays_in_weekend_nights  stays_in_week_nights  meal  ...  deposit_type  \\\n",
              "0                        0                     0     0  ...             0   \n",
              "1                        0                     0     0  ...             0   \n",
              "2                        0                     1     0  ...             0   \n",
              "3                        0                     1     0  ...             0   \n",
              "4                        0                     2     0  ...             0   \n",
              "\n",
              "   agent  days_in_waiting_list  customer_type   adr  \\\n",
              "0    9.0                     0              2   0.0   \n",
              "1    9.0                     0              2   0.0   \n",
              "2    9.0                     0              2  75.0   \n",
              "3  304.0                     0              2  75.0   \n",
              "4  240.0                     0              2  98.0   \n",
              "\n",
              "   required_car_parking_spaces  total_of_special_requests  total_guests  \\\n",
              "0                            0                          0           2.0   \n",
              "1                            0                          0           2.0   \n",
              "2                            0                          0           1.0   \n",
              "3                            0                          0           1.0   \n",
              "4                            0                          1           2.0   \n",
              "\n",
              "   net_booking_cancelled  month  \n",
              "0                      0      0  \n",
              "1                      0      0  \n",
              "2                      0      0  \n",
              "3                      0      0  \n",
              "4                      0      0  \n",
              "\n",
              "[5 rows x 27 columns]"
            ],
            "text/html": [
              "\n",
              "  <div id=\"df-a9271382-b044-4795-8a27-d5eb919e52b3\">\n",
              "    <div class=\"colab-df-container\">\n",
              "      <div>\n",
              "<style scoped>\n",
              "    .dataframe tbody tr th:only-of-type {\n",
              "        vertical-align: middle;\n",
              "    }\n",
              "\n",
              "    .dataframe tbody tr th {\n",
              "        vertical-align: top;\n",
              "    }\n",
              "\n",
              "    .dataframe thead th {\n",
              "        text-align: right;\n",
              "    }\n",
              "</style>\n",
              "<table border=\"1\" class=\"dataframe\">\n",
              "  <thead>\n",
              "    <tr style=\"text-align: right;\">\n",
              "      <th></th>\n",
              "      <th>hotel</th>\n",
              "      <th>is_canceled</th>\n",
              "      <th>lead_time</th>\n",
              "      <th>arrival_date_year</th>\n",
              "      <th>arrival_date_month</th>\n",
              "      <th>arrival_date_week_number</th>\n",
              "      <th>arrival_date_day_of_month</th>\n",
              "      <th>stays_in_weekend_nights</th>\n",
              "      <th>stays_in_week_nights</th>\n",
              "      <th>meal</th>\n",
              "      <th>...</th>\n",
              "      <th>deposit_type</th>\n",
              "      <th>agent</th>\n",
              "      <th>days_in_waiting_list</th>\n",
              "      <th>customer_type</th>\n",
              "      <th>adr</th>\n",
              "      <th>required_car_parking_spaces</th>\n",
              "      <th>total_of_special_requests</th>\n",
              "      <th>total_guests</th>\n",
              "      <th>net_booking_cancelled</th>\n",
              "      <th>month</th>\n",
              "    </tr>\n",
              "  </thead>\n",
              "  <tbody>\n",
              "    <tr>\n",
              "      <th>0</th>\n",
              "      <td>1</td>\n",
              "      <td>0</td>\n",
              "      <td>342</td>\n",
              "      <td>0</td>\n",
              "      <td>7</td>\n",
              "      <td>27</td>\n",
              "      <td>1</td>\n",
              "      <td>0</td>\n",
              "      <td>0</td>\n",
              "      <td>0</td>\n",
              "      <td>...</td>\n",
              "      <td>0</td>\n",
              "      <td>9.0</td>\n",
              "      <td>0</td>\n",
              "      <td>2</td>\n",
              "      <td>0.0</td>\n",
              "      <td>0</td>\n",
              "      <td>0</td>\n",
              "      <td>2.0</td>\n",
              "      <td>0</td>\n",
              "      <td>0</td>\n",
              "    </tr>\n",
              "    <tr>\n",
              "      <th>1</th>\n",
              "      <td>1</td>\n",
              "      <td>0</td>\n",
              "      <td>737</td>\n",
              "      <td>0</td>\n",
              "      <td>7</td>\n",
              "      <td>27</td>\n",
              "      <td>1</td>\n",
              "      <td>0</td>\n",
              "      <td>0</td>\n",
              "      <td>0</td>\n",
              "      <td>...</td>\n",
              "      <td>0</td>\n",
              "      <td>9.0</td>\n",
              "      <td>0</td>\n",
              "      <td>2</td>\n",
              "      <td>0.0</td>\n",
              "      <td>0</td>\n",
              "      <td>0</td>\n",
              "      <td>2.0</td>\n",
              "      <td>0</td>\n",
              "      <td>0</td>\n",
              "    </tr>\n",
              "    <tr>\n",
              "      <th>2</th>\n",
              "      <td>1</td>\n",
              "      <td>0</td>\n",
              "      <td>7</td>\n",
              "      <td>0</td>\n",
              "      <td>7</td>\n",
              "      <td>27</td>\n",
              "      <td>1</td>\n",
              "      <td>0</td>\n",
              "      <td>1</td>\n",
              "      <td>0</td>\n",
              "      <td>...</td>\n",
              "      <td>0</td>\n",
              "      <td>9.0</td>\n",
              "      <td>0</td>\n",
              "      <td>2</td>\n",
              "      <td>75.0</td>\n",
              "      <td>0</td>\n",
              "      <td>0</td>\n",
              "      <td>1.0</td>\n",
              "      <td>0</td>\n",
              "      <td>0</td>\n",
              "    </tr>\n",
              "    <tr>\n",
              "      <th>3</th>\n",
              "      <td>1</td>\n",
              "      <td>0</td>\n",
              "      <td>13</td>\n",
              "      <td>0</td>\n",
              "      <td>7</td>\n",
              "      <td>27</td>\n",
              "      <td>1</td>\n",
              "      <td>0</td>\n",
              "      <td>1</td>\n",
              "      <td>0</td>\n",
              "      <td>...</td>\n",
              "      <td>0</td>\n",
              "      <td>304.0</td>\n",
              "      <td>0</td>\n",
              "      <td>2</td>\n",
              "      <td>75.0</td>\n",
              "      <td>0</td>\n",
              "      <td>0</td>\n",
              "      <td>1.0</td>\n",
              "      <td>0</td>\n",
              "      <td>0</td>\n",
              "    </tr>\n",
              "    <tr>\n",
              "      <th>4</th>\n",
              "      <td>1</td>\n",
              "      <td>0</td>\n",
              "      <td>14</td>\n",
              "      <td>0</td>\n",
              "      <td>7</td>\n",
              "      <td>27</td>\n",
              "      <td>1</td>\n",
              "      <td>0</td>\n",
              "      <td>2</td>\n",
              "      <td>0</td>\n",
              "      <td>...</td>\n",
              "      <td>0</td>\n",
              "      <td>240.0</td>\n",
              "      <td>0</td>\n",
              "      <td>2</td>\n",
              "      <td>98.0</td>\n",
              "      <td>0</td>\n",
              "      <td>1</td>\n",
              "      <td>2.0</td>\n",
              "      <td>0</td>\n",
              "      <td>0</td>\n",
              "    </tr>\n",
              "  </tbody>\n",
              "</table>\n",
              "<p>5 rows × 27 columns</p>\n",
              "</div>\n",
              "      <button class=\"colab-df-convert\" onclick=\"convertToInteractive('df-a9271382-b044-4795-8a27-d5eb919e52b3')\"\n",
              "              title=\"Convert this dataframe to an interactive table.\"\n",
              "              style=\"display:none;\">\n",
              "        \n",
              "  <svg xmlns=\"http://www.w3.org/2000/svg\" height=\"24px\"viewBox=\"0 0 24 24\"\n",
              "       width=\"24px\">\n",
              "    <path d=\"M0 0h24v24H0V0z\" fill=\"none\"/>\n",
              "    <path d=\"M18.56 5.44l.94 2.06.94-2.06 2.06-.94-2.06-.94-.94-2.06-.94 2.06-2.06.94zm-11 1L8.5 8.5l.94-2.06 2.06-.94-2.06-.94L8.5 2.5l-.94 2.06-2.06.94zm10 10l.94 2.06.94-2.06 2.06-.94-2.06-.94-.94-2.06-.94 2.06-2.06.94z\"/><path d=\"M17.41 7.96l-1.37-1.37c-.4-.4-.92-.59-1.43-.59-.52 0-1.04.2-1.43.59L10.3 9.45l-7.72 7.72c-.78.78-.78 2.05 0 2.83L4 21.41c.39.39.9.59 1.41.59.51 0 1.02-.2 1.41-.59l7.78-7.78 2.81-2.81c.8-.78.8-2.07 0-2.86zM5.41 20L4 18.59l7.72-7.72 1.47 1.35L5.41 20z\"/>\n",
              "  </svg>\n",
              "      </button>\n",
              "      \n",
              "  <style>\n",
              "    .colab-df-container {\n",
              "      display:flex;\n",
              "      flex-wrap:wrap;\n",
              "      gap: 12px;\n",
              "    }\n",
              "\n",
              "    .colab-df-convert {\n",
              "      background-color: #E8F0FE;\n",
              "      border: none;\n",
              "      border-radius: 50%;\n",
              "      cursor: pointer;\n",
              "      display: none;\n",
              "      fill: #1967D2;\n",
              "      height: 32px;\n",
              "      padding: 0 0 0 0;\n",
              "      width: 32px;\n",
              "    }\n",
              "\n",
              "    .colab-df-convert:hover {\n",
              "      background-color: #E2EBFA;\n",
              "      box-shadow: 0px 1px 2px rgba(60, 64, 67, 0.3), 0px 1px 3px 1px rgba(60, 64, 67, 0.15);\n",
              "      fill: #174EA6;\n",
              "    }\n",
              "\n",
              "    [theme=dark] .colab-df-convert {\n",
              "      background-color: #3B4455;\n",
              "      fill: #D2E3FC;\n",
              "    }\n",
              "\n",
              "    [theme=dark] .colab-df-convert:hover {\n",
              "      background-color: #434B5C;\n",
              "      box-shadow: 0px 1px 3px 1px rgba(0, 0, 0, 0.15);\n",
              "      filter: drop-shadow(0px 1px 2px rgba(0, 0, 0, 0.3));\n",
              "      fill: #FFFFFF;\n",
              "    }\n",
              "  </style>\n",
              "\n",
              "      <script>\n",
              "        const buttonEl =\n",
              "          document.querySelector('#df-a9271382-b044-4795-8a27-d5eb919e52b3 button.colab-df-convert');\n",
              "        buttonEl.style.display =\n",
              "          google.colab.kernel.accessAllowed ? 'block' : 'none';\n",
              "\n",
              "        async function convertToInteractive(key) {\n",
              "          const element = document.querySelector('#df-a9271382-b044-4795-8a27-d5eb919e52b3');\n",
              "          const dataTable =\n",
              "            await google.colab.kernel.invokeFunction('convertToInteractive',\n",
              "                                                     [key], {});\n",
              "          if (!dataTable) return;\n",
              "\n",
              "          const docLinkHtml = 'Like what you see? Visit the ' +\n",
              "            '<a target=\"_blank\" href=https://colab.research.google.com/notebooks/data_table.ipynb>data table notebook</a>'\n",
              "            + ' to learn more about interactive tables.';\n",
              "          element.innerHTML = '';\n",
              "          dataTable['output_type'] = 'display_data';\n",
              "          await google.colab.output.renderOutput(dataTable, element);\n",
              "          const docLink = document.createElement('div');\n",
              "          docLink.innerHTML = docLinkHtml;\n",
              "          element.appendChild(docLink);\n",
              "        }\n",
              "      </script>\n",
              "    </div>\n",
              "  </div>\n",
              "  "
            ]
          },
          "metadata": {},
          "execution_count": 10
        }
      ],
      "source": [
        "from sklearn.preprocessing import LabelEncoder\n",
        "\n",
        "\n",
        "cat_vars = [var for var in df.columns if df[var].dtypes=='O']\n",
        "df[cat_vars] = df[cat_vars].astype(str).apply(LabelEncoder().fit_transform)\n",
        "df.head()"
      ]
    },
    {
      "cell_type": "markdown",
      "metadata": {
        "deletable": false,
        "editable": false,
        "id": "3gv7QJLkwsIN",
        "nbgrader": {
          "cell_type": "markdown",
          "checksum": "45ec4911f01801f503262ad6cde95120",
          "grade": false,
          "grade_id": "cell-63009ab9120d68aa",
          "locked": true,
          "schema_version": 3,
          "solution": false,
          "task": false
        }
      },
      "source": [
        "### Train-Test Split\n",
        "\n",
        "Before performing train-test split let's check the class distribution."
      ]
    },
    {
      "cell_type": "code",
      "execution_count": 11,
      "metadata": {
        "deletable": false,
        "editable": false,
        "id": "YPhv7xg2wsIO",
        "nbgrader": {
          "cell_type": "code",
          "checksum": "fc81b76594175d04d9ffb5a8093043b3",
          "grade": false,
          "grade_id": "cell-4c3c82852baf6e8c",
          "locked": true,
          "schema_version": 3,
          "solution": false,
          "task": false
        },
        "colab": {
          "base_uri": "https://localhost:8080/",
          "height": 279
        },
        "outputId": "eecb9a26-ce26-4137-e38b-d6b397406fa6"
      },
      "outputs": [
        {
          "output_type": "execute_result",
          "data": {
            "text/plain": [
              "<matplotlib.axes._subplots.AxesSubplot at 0x7ff46e96c510>"
            ]
          },
          "metadata": {},
          "execution_count": 11
        },
        {
          "output_type": "display_data",
          "data": {
            "text/plain": [
              "<Figure size 432x288 with 1 Axes>"
            ],
            "image/png": "[encoded data removed]"
          },
          "metadata": {
            "needs_background": "light"
          }
        }
      ],
      "source": [
        "df['is_canceled'].value_counts().plot(kind = 'bar')"
      ]
    },
    {
      "cell_type": "markdown",
      "metadata": {
        "deletable": false,
        "editable": false,
        "id": "idp18pfRwsIW",
        "nbgrader": {
          "cell_type": "markdown",
          "checksum": "b48bb06128c0bb670a337fc1bb203d56",
          "grade": false,
          "grade_id": "cell-13717f78e9b4e741",
          "locked": true,
          "schema_version": 3,
          "solution": false,
          "task": false
        }
      },
      "source": [
        "We see that the dataset is imbalanced. This forces us to:\n",
        "- Set `stratify` to `y` while splitting the dataset so that the proportion of `is_canceled = 0`, and `is_canceled = 1` remains constant in the training and test dataset.\n",
        "- Use metric like f1 score to assess the performance of our model"
      ]
    },
    {
      "cell_type": "code",
      "execution_count": 12,
      "metadata": {
        "deletable": false,
        "editable": false,
        "id": "ioN2runWwsIX",
        "nbgrader": {
          "cell_type": "code",
          "checksum": "b7731b5f441ff773a3ba118574999408",
          "grade": false,
          "grade_id": "cell-8684ac95ede2a433",
          "locked": true,
          "schema_version": 3,
          "solution": false,
          "task": false
        }
      },
      "outputs": [],
      "source": [
        "from sklearn.model_selection import train_test_split\n",
        "\n",
        "\n",
        "RANDOM_STATE = 7\n",
        "y= df['is_canceled']\n",
        "X = df.drop('is_canceled', axis = 1)\n",
        "X_train, X_test, y_train, y_test = train_test_split(X, y, test_size = 0.2, stratify = y, random_state = RANDOM_STATE)"
      ]
    },
    {
      "cell_type": "markdown",
      "metadata": {
        "deletable": false,
        "editable": false,
        "id": "-FH86C_ewsId",
        "nbgrader": {
          "cell_type": "markdown",
          "checksum": "bba3e1a34b7691d8619eae1ec4ebbcdd",
          "grade": false,
          "grade_id": "cell-905fcb117aad61f6",
          "locked": true,
          "schema_version": 3,
          "solution": false,
          "task": false
        }
      },
      "source": [
        "## Bagging\n",
        "\n",
        "### Exercise 1: Training Bagging Classifier\n",
        "<b><div style=\"text-align: right\">[POINTS: 1]</div></b>\n",
        "\n",
        "---\n",
        "\n",
        "\n",
        "**Task:** \n",
        "-  Instantiate BaggingClassifier in the variable `bagging` with __n_estimators__ set to 100 and  __random_state__ set to RANDOM_STATE"
      ]
    },
    {
      "cell_type": "code",
      "execution_count": 13,
      "metadata": {
        "deletable": false,
        "id": "v4WnJLOCwsIe",
        "nbgrader": {
          "cell_type": "code",
          "checksum": "390823431cb81a65a7c86e05f1c9a504",
          "grade": false,
          "grade_id": "cell-b035578ba9f37360",
          "locked": false,
          "schema_version": 3,
          "solution": true,
          "task": false
        },
        "tags": [
          "Ex-1-Task-1"
        ],
        "colab": {
          "base_uri": "https://localhost:8080/"
        },
        "outputId": "1be47942-8b1b-4515-d751-024d22cf69c4"
      },
      "outputs": [
        {
          "output_type": "stream",
          "name": "stdout",
          "text": [
            "Train f1_score: 0.9960933002773003\n",
            "Test f1_score: 0.8899704649635516\n"
          ]
        }
      ],
      "source": [
        "### Ex-1-Task-1\n",
        "\n",
        "from sklearn.ensemble import BaggingClassifier\n",
        "from sklearn.metrics import f1_score\n",
        "\n",
        "\n",
        "bagging = None\n",
        "### BEGIN SOLUTION\n",
        "# your code here\n",
        "bagging = BaggingClassifier(n_estimators=100, random_state=RANDOM_STATE)\n",
        "# Random forest\n",
        "# raise NotImplementedError\n",
        "### END SOLUTION\n",
        "bagging.fit(X_train, y_train)\n",
        "print(\"Train f1_score:\", f1_score(y_train, bagging.predict(X_train), average = 'weighted'))\n",
        "print(\"Test f1_score:\", f1_score(y_test, bagging.predict(X_test), average = 'weighted'))"
      ]
    },
    {
      "cell_type": "code",
      "execution_count": 14,
      "metadata": {
        "deletable": false,
        "editable": false,
        "id": "pTrHUGX7wsIm",
        "nbgrader": {
          "cell_type": "code",
          "checksum": "7b4cc6939d96357b820d35147109a930",
          "grade": true,
          "grade_id": "cell-4abb817fcb9f3fd8",
          "locked": true,
          "points": 1,
          "schema_version": 3,
          "solution": false,
          "task": false
        },
        "tags": [
          "Ex-1-Task-1"
        ]
      },
      "outputs": [],
      "source": [
        "assert bagging is not None"
      ]
    },
    {
      "cell_type": "markdown",
      "metadata": {
        "deletable": false,
        "editable": false,
        "id": "7aoaNQUYwsIs",
        "nbgrader": {
          "cell_type": "markdown",
          "checksum": "10fca3d9fe7aa9fbffdea39306d3a84d",
          "grade": false,
          "grade_id": "cell-93661e0a4d78d9c6",
          "locked": true,
          "schema_version": 3,
          "solution": false,
          "task": false
        }
      },
      "source": [
        "## Random Forest\n",
        "\n",
        "### Exercise 2: Training Random Forest Classifier\n",
        "<b><div style=\"text-align: right\">[POINTS: 1]</div></b>\n",
        "\n",
        "---\n",
        "\n",
        "\n",
        "**Task:** \n",
        "-  Instantiate RandomForestClassifier in the variable `rf` with __n_estimators__ set to 100, and  __random_state__ set to RANDOM_STATE"
      ]
    },
    {
      "cell_type": "code",
      "execution_count": 15,
      "metadata": {
        "deletable": false,
        "id": "6XDrmqnkwsIt",
        "nbgrader": {
          "cell_type": "code",
          "checksum": "91595f945ef5796a71208ccae3b2e21b",
          "grade": false,
          "grade_id": "cell-495dd9906e2fa3a6",
          "locked": false,
          "schema_version": 3,
          "solution": true,
          "task": false
        },
        "tags": [
          "Ex-2-Task-1"
        ],
        "colab": {
          "base_uri": "https://localhost:8080/"
        },
        "outputId": "e09aa938-df81-42a3-f72a-3b1aa18957ad"
      },
      "outputs": [
        {
          "output_type": "stream",
          "name": "stdout",
          "text": [
            "Train f1_score: 0.9961141563536368\n",
            "Test f1_score: 0.8942566123377529\n"
          ]
        }
      ],
      "source": [
        "### Ex-2-Task-1\n",
        "\n",
        "from sklearn.ensemble import RandomForestClassifier\n",
        "\n",
        "rf = None\n",
        "### BEGIN SOLUTION\n",
        "# your code here\n",
        "rf = RandomForestClassifier(n_estimators=100, random_state=RANDOM_STATE)\n",
        "\n",
        "# raise NotImplementedError\n",
        "### END SOLUTION\n",
        "rf.fit(X_train, y_train)\n",
        "print(\"Train f1_score:\", f1_score(y_train, rf.predict(X_train), average = 'weighted'))\n",
        "print(\"Test f1_score:\", f1_score(y_test, rf.predict(X_test), average = 'weighted'))"
      ]
    },
    {
      "cell_type": "code",
      "execution_count": 16,
      "metadata": {
        "deletable": false,
        "editable": false,
        "id": "SuRcc3LHwsIy",
        "nbgrader": {
          "cell_type": "code",
          "checksum": "965b6177c8fc27e520ff4ae242ce348d",
          "grade": true,
          "grade_id": "cell-2cbd41b766162a73",
          "locked": true,
          "points": 1,
          "schema_version": 3,
          "solution": false,
          "task": false
        },
        "tags": [
          "Ex-2-Task-1"
        ]
      },
      "outputs": [],
      "source": [
        "assert rf is not None"
      ]
    },
    {
      "cell_type": "markdown",
      "metadata": {
        "deletable": false,
        "editable": false,
        "id": "HrCu3Pp-wsI5",
        "nbgrader": {
          "cell_type": "markdown",
          "checksum": "ceea308dac698346faf96641653f5648",
          "grade": false,
          "grade_id": "cell-8680bae94e0b8faf",
          "locked": true,
          "schema_version": 3,
          "solution": false,
          "task": false
        }
      },
      "source": [
        "## XGBoost\n",
        "\n",
        "### Exercise 3: XGBoost Training\n",
        "<b><div style=\"text-align: right\">[POINTS: 1]</div></b>\n",
        "\n",
        "---\n",
        "Here we will train XGBoost with most of the parameters left to default.\n",
        "\n",
        "**Task:** \n",
        "-  Instantiate XGBClassifier in the variable `xgb` with __n_estimators__ set to 100 and __random_state__ set to RANDOM_STATE\n"
      ]
    },
    {
      "cell_type": "markdown",
      "metadata": {
        "id": "1CF0GrU96Zp3"
      },
      "source": [
        "## Error around this cell"
      ]
    },
    {
      "cell_type": "code",
      "execution_count": 17,
      "metadata": {
        "deletable": false,
        "id": "JTDajYP9wsI6",
        "nbgrader": {
          "cell_type": "code",
          "checksum": "902cf406b95a5f31c72d3aa5d81bb1d6",
          "grade": false,
          "grade_id": "cell-9070fe216cafb265",
          "locked": false,
          "schema_version": 3,
          "solution": true,
          "task": false
        },
        "tags": [
          "Ex-3-Task-1"
        ],
        "colab": {
          "base_uri": "https://localhost:8080/"
        },
        "outputId": "6ca09c46-4412-4592-cd9f-29e451c7e18b"
      },
      "outputs": [
        {
          "output_type": "stream",
          "name": "stdout",
          "text": [
            "XGBClassifer with default parameters:\n",
            "\n",
            "XGBClassifier(random_state=7)\n"
          ]
        }
      ],
      "source": [
        "### Ex-3-Task-1\n",
        "\n",
        "from xgboost import XGBClassifier\n",
        "\n",
        "\n",
        "xgb = None\n",
        "### BEGIN SOLUTION\n",
        "# your code here\n",
        "xgb = XGBClassifier(n_estimators=100, random_state=RANDOM_STATE)\n",
        "\n",
        "# raise NotImplementedError\n",
        "### END SOLUTION\n",
        "xgb.fit(X_train, y_train)\n",
        "print(\"XGBClassifer with default parameters:\\n\")\n",
        "print(xgb)"
      ]
    },
    {
      "cell_type": "code",
      "execution_count": 18,
      "metadata": {
        "deletable": false,
        "editable": false,
        "id": "co-fgNlBwsI_",
        "nbgrader": {
          "cell_type": "code",
          "checksum": "24cfb6fad2b1d72567e2b893e89f7604",
          "grade": true,
          "grade_id": "cell-f3b03e893eedfef4",
          "locked": true,
          "points": 1,
          "schema_version": 3,
          "solution": false,
          "task": false
        },
        "tags": [
          "Ex-3-Task-1"
        ]
      },
      "outputs": [],
      "source": [
        "assert xgb is not None"
      ]
    },
    {
      "cell_type": "markdown",
      "metadata": {
        "deletable": false,
        "editable": false,
        "id": "2MfIlj_wwsJE",
        "nbgrader": {
          "cell_type": "markdown",
          "checksum": "f130a7d40b1ee9a3660c48a0b5c72473",
          "grade": false,
          "grade_id": "cell-a90137b98eb00dd1",
          "locked": true,
          "schema_version": 3,
          "solution": false,
          "task": false
        }
      },
      "source": [
        "### Model Evaluation\n"
      ]
    },
    {
      "cell_type": "code",
      "execution_count": 19,
      "metadata": {
        "deletable": false,
        "editable": false,
        "id": "aAU-U1zAwsJF",
        "nbgrader": {
          "cell_type": "code",
          "checksum": "35f7609b23eb449cbf651b8b40b0b2ff",
          "grade": false,
          "grade_id": "cell-81881a49a238d8ef",
          "locked": true,
          "schema_version": 3,
          "solution": false,
          "task": false
        },
        "colab": {
          "base_uri": "https://localhost:8080/"
        },
        "outputId": "10760fdc-3549-4942-f8ad-1b8a073655fb"
      },
      "outputs": [
        {
          "output_type": "stream",
          "name": "stdout",
          "text": [
            "Train f1_score: 0.8411529574306595\n",
            "Test f1_score: 0.8421695275032451\n"
          ]
        }
      ],
      "source": [
        "print(\"Train f1_score:\", f1_score(y_train, xgb.predict(X_train), average = 'weighted'))\n",
        "print(\"Test f1_score:\", f1_score(y_test, xgb.predict(X_test), average = 'weighted'))"
      ]
    },
    {
      "cell_type": "markdown",
      "metadata": {
        "deletable": false,
        "editable": false,
        "id": "Cp8cVcgkwsJL",
        "nbgrader": {
          "cell_type": "markdown",
          "checksum": "1bca7aadf0756b0974bda3c44e1d2abb",
          "grade": false,
          "grade_id": "cell-80e77d38218e7c7d",
          "locked": true,
          "schema_version": 3,
          "solution": false,
          "task": false
        }
      },
      "source": [
        "### Tree Visualization\n",
        "\n",
        "### Exercise 4: Plot the tree structure\n",
        "<b><div style=\"text-align: right\">[UNGRADED]</div></b>\n",
        "\n",
        "---\n",
        "Plot the tree structure in the cell below. You can use `plot_tree()` or `to_graphviz()` method provided by xgboost to plot the tree.\n",
        "\n",
        "**Task:** \n",
        "-  Your task is to plot the 20th tree and answer the quiz below.\n",
        "\n"
      ]
    },
    {
      "cell_type": "code",
      "execution_count": 29,
      "metadata": {
        "deletable": false,
        "id": "48H5N7r-wsJM",
        "nbgrader": {
          "cell_type": "code",
          "checksum": "87f62c5d8568dc1eb993a59be3a1d757",
          "grade": false,
          "grade_id": "cell-7404e01a7c17571f",
          "locked": false,
          "schema_version": 3,
          "solution": true,
          "task": false
        },
        "tags": [
          "Ex-4-Task-1"
        ],
        "colab": {
          "base_uri": "https://localhost:8080/",
          "height": 553
        },
        "outputId": "5b0dd216-2cc2-4656-839d-f8479759b334"
      },
      "outputs": [
        {
          "output_type": "execute_result",
          "data": {
            "text/plain": [
              "<graphviz.dot.Digraph at 0x7ff463fcdf50>"
            ],
            "image/svg+xml": "<?xml version=\"1.0\" encoding=\"UTF-8\" standalone=\"no\"?>\n<!DOCTYPE svg PUBLIC \"-//W3C//DTD SVG 1.1//EN\"\n \"http://www.w3.org/Graphics/SVG/1.1/DTD/svg11.dtd\">\n<!-- Generated by graphviz version 2.40.1 (20161225.0304)\n -->\n<!-- Title: %3 Pages: 1 -->\n<svg width=\"1125pt\" height=\"305pt\"\n viewBox=\"0.00 0.00 1125.39 305.00\" xmlns=\"http://www.w3.org/2000/svg\" xmlns:xlink=\"http://www.w3.org/1999/xlink\">\n<g id=\"graph0\" class=\"graph\" transform=\"scale(1 1) rotate(0) translate(4 301)\">\n<title>%3</title>\n<polygon fill=\"#ffffff\" stroke=\"transparent\" points=\"-4,4 -4,-301 1121.3852,-301 1121.3852,4 -4,4\"/>\n<!-- 0 -->\n<g id=\"node1\" class=\"node\">\n<title>0</title>\n<ellipse fill=\"none\" stroke=\"#000000\" cx=\"566.1926\" cy=\"-279\" rx=\"129.1772\" ry=\"18\"/>\n<text text-anchor=\"middle\" x=\"566.1926\" y=\"-275.3\" font-family=\"Times,serif\" font-size=\"14.00\" fill=\"#000000\">required_car_parking_spaces&lt;1</text>\n</g>\n<!-- 1 -->\n<g id=\"node2\" class=\"node\">\n<title>1</title>\n<ellipse fill=\"none\" stroke=\"#000000\" cx=\"485.1926\" cy=\"-192\" rx=\"59.5901\" ry=\"18\"/>\n<text text-anchor=\"middle\" x=\"485.1926\" y=\"-188.3\" font-family=\"Times,serif\" font-size=\"14.00\" fill=\"#000000\">country&lt;135</text>\n</g>\n<!-- 0&#45;&gt;1 -->\n<g id=\"edge1\" class=\"edge\">\n<title>0&#45;&gt;1</title>\n<path fill=\"none\" stroke=\"#0000ff\" d=\"M549.4094,-260.9735C537.5235,-248.2072 521.4298,-230.9214 508.3273,-216.8484\"/>\n<polygon fill=\"#0000ff\" stroke=\"#0000ff\" points=\"510.7775,-214.3437 501.4016,-209.4097 505.6542,-219.1136 510.7775,-214.3437\"/>\n<text text-anchor=\"middle\" x=\"566.6926\" y=\"-231.8\" font-family=\"Times,serif\" font-size=\"14.00\" fill=\"#000000\">yes, missing</text>\n</g>\n<!-- 2 -->\n<g id=\"node3\" class=\"node\">\n<title>2</title>\n<ellipse fill=\"none\" stroke=\"#000000\" cx=\"675.1926\" cy=\"-192\" rx=\"61.99\" ry=\"18\"/>\n<text text-anchor=\"middle\" x=\"675.1926\" y=\"-188.3\" font-family=\"Times,serif\" font-size=\"14.00\" fill=\"#000000\">lead_time&lt;18</text>\n</g>\n<!-- 0&#45;&gt;2 -->\n<g id=\"edge2\" class=\"edge\">\n<title>0&#45;&gt;2</title>\n<path fill=\"none\" stroke=\"#ff0000\" d=\"M588.5134,-261.1843C605.0411,-247.9925 627.7201,-229.8909 645.7346,-215.5123\"/>\n<polygon fill=\"#ff0000\" stroke=\"#ff0000\" points=\"648.0122,-218.1727 653.6445,-209.199 643.6454,-212.7017 648.0122,-218.1727\"/>\n<text text-anchor=\"middle\" x=\"636.1926\" y=\"-231.8\" font-family=\"Times,serif\" font-size=\"14.00\" fill=\"#000000\">no</text>\n</g>\n<!-- 3 -->\n<g id=\"node4\" class=\"node\">\n<title>3</title>\n<ellipse fill=\"none\" stroke=\"#000000\" cx=\"275.1926\" cy=\"-105\" rx=\"81.7856\" ry=\"18\"/>\n<text text-anchor=\"middle\" x=\"275.1926\" y=\"-101.3\" font-family=\"Times,serif\" font-size=\"14.00\" fill=\"#000000\">market_segment&lt;6</text>\n</g>\n<!-- 1&#45;&gt;3 -->\n<g id=\"edge3\" class=\"edge\">\n<title>1&#45;&gt;3</title>\n<path fill=\"none\" stroke=\"#0000ff\" d=\"M450.0433,-177.4382C415.2758,-163.0345 361.8087,-140.8838 323.1516,-124.8687\"/>\n<polygon fill=\"#0000ff\" stroke=\"#0000ff\" points=\"324.2413,-121.5317 313.6631,-120.9378 321.562,-127.9987 324.2413,-121.5317\"/>\n<text text-anchor=\"middle\" x=\"428.6926\" y=\"-144.8\" font-family=\"Times,serif\" font-size=\"14.00\" fill=\"#000000\">yes, missing</text>\n</g>\n<!-- 4 -->\n<g id=\"node5\" class=\"node\">\n<title>4</title>\n<ellipse fill=\"none\" stroke=\"#000000\" cx=\"485.1926\" cy=\"-105\" rx=\"61.99\" ry=\"18\"/>\n<text text-anchor=\"middle\" x=\"485.1926\" y=\"-101.3\" font-family=\"Times,serif\" font-size=\"14.00\" fill=\"#000000\">lead_time&lt;22</text>\n</g>\n<!-- 1&#45;&gt;4 -->\n<g id=\"edge4\" class=\"edge\">\n<title>1&#45;&gt;4</title>\n<path fill=\"none\" stroke=\"#ff0000\" d=\"M485.1926,-173.9735C485.1926,-162.1918 485.1926,-146.5607 485.1926,-133.1581\"/>\n<polygon fill=\"#ff0000\" stroke=\"#ff0000\" points=\"488.6927,-133.0033 485.1926,-123.0034 481.6927,-133.0034 488.6927,-133.0033\"/>\n<text text-anchor=\"middle\" x=\"493.1926\" y=\"-144.8\" font-family=\"Times,serif\" font-size=\"14.00\" fill=\"#000000\">no</text>\n</g>\n<!-- 5 -->\n<g id=\"node10\" class=\"node\">\n<title>5</title>\n<ellipse fill=\"none\" stroke=\"#000000\" cx=\"675.1926\" cy=\"-105\" rx=\"83.3857\" ry=\"18\"/>\n<text text-anchor=\"middle\" x=\"675.1926\" y=\"-101.3\" font-family=\"Times,serif\" font-size=\"14.00\" fill=\"#000000\">leaf=&#45;0.116070107</text>\n</g>\n<!-- 2&#45;&gt;5 -->\n<g id=\"edge9\" class=\"edge\">\n<title>2&#45;&gt;5</title>\n<path fill=\"none\" stroke=\"#0000ff\" d=\"M675.1926,-173.9735C675.1926,-162.1918 675.1926,-146.5607 675.1926,-133.1581\"/>\n<polygon fill=\"#0000ff\" stroke=\"#0000ff\" points=\"678.6927,-133.0033 675.1926,-123.0034 671.6927,-133.0034 678.6927,-133.0033\"/>\n<text text-anchor=\"middle\" x=\"710.6926\" y=\"-144.8\" font-family=\"Times,serif\" font-size=\"14.00\" fill=\"#000000\">yes, missing</text>\n</g>\n<!-- 6 -->\n<g id=\"node11\" class=\"node\">\n<title>6</title>\n<ellipse fill=\"none\" stroke=\"#000000\" cx=\"850.1926\" cy=\"-105\" rx=\"59.5901\" ry=\"18\"/>\n<text text-anchor=\"middle\" x=\"850.1926\" y=\"-101.3\" font-family=\"Times,serif\" font-size=\"14.00\" fill=\"#000000\">country&lt;134</text>\n</g>\n<!-- 2&#45;&gt;6 -->\n<g id=\"edge10\" class=\"edge\">\n<title>2&#45;&gt;6</title>\n<path fill=\"none\" stroke=\"#ff0000\" d=\"M707.7621,-176.5765C720.9672,-170.2686 736.3419,-162.8549 750.1926,-156 770.3644,-146.0168 792.6876,-134.6617 811.1159,-125.2042\"/>\n<polygon fill=\"#ff0000\" stroke=\"#ff0000\" points=\"812.8002,-128.2738 820.0936,-120.589 809.5997,-122.0483 812.8002,-128.2738\"/>\n<text text-anchor=\"middle\" x=\"786.1926\" y=\"-144.8\" font-family=\"Times,serif\" font-size=\"14.00\" fill=\"#000000\">no</text>\n</g>\n<!-- 7 -->\n<g id=\"node6\" class=\"node\">\n<title>7</title>\n<ellipse fill=\"none\" stroke=\"#000000\" cx=\"83.1926\" cy=\"-18\" rx=\"83.3857\" ry=\"18\"/>\n<text text-anchor=\"middle\" x=\"83.1926\" y=\"-14.3\" font-family=\"Times,serif\" font-size=\"14.00\" fill=\"#000000\">leaf=&#45;0.101879396</text>\n</g>\n<!-- 3&#45;&gt;7 -->\n<g id=\"edge5\" class=\"edge\">\n<title>3&#45;&gt;7</title>\n<path fill=\"none\" stroke=\"#0000ff\" d=\"M239.0789,-88.636C207.7023,-74.4184 162.1149,-53.7617 128.3368,-38.456\"/>\n<polygon fill=\"#0000ff\" stroke=\"#0000ff\" points=\"129.6975,-35.23 119.1444,-34.2907 126.8084,-41.606 129.6975,-35.23\"/>\n<text text-anchor=\"middle\" x=\"226.6926\" y=\"-57.8\" font-family=\"Times,serif\" font-size=\"14.00\" fill=\"#000000\">yes, missing</text>\n</g>\n<!-- 8 -->\n<g id=\"node7\" class=\"node\">\n<title>8</title>\n<ellipse fill=\"none\" stroke=\"#000000\" cx=\"275.1926\" cy=\"-18\" rx=\"90.1842\" ry=\"18\"/>\n<text text-anchor=\"middle\" x=\"275.1926\" y=\"-14.3\" font-family=\"Times,serif\" font-size=\"14.00\" fill=\"#000000\">leaf=0.00783878472</text>\n</g>\n<!-- 3&#45;&gt;8 -->\n<g id=\"edge6\" class=\"edge\">\n<title>3&#45;&gt;8</title>\n<path fill=\"none\" stroke=\"#ff0000\" d=\"M275.1926,-86.9735C275.1926,-75.1918 275.1926,-59.5607 275.1926,-46.1581\"/>\n<polygon fill=\"#ff0000\" stroke=\"#ff0000\" points=\"278.6927,-46.0033 275.1926,-36.0034 271.6927,-46.0034 278.6927,-46.0033\"/>\n<text text-anchor=\"middle\" x=\"283.1926\" y=\"-57.8\" font-family=\"Times,serif\" font-size=\"14.00\" fill=\"#000000\">no</text>\n</g>\n<!-- 9 -->\n<g id=\"node8\" class=\"node\">\n<title>9</title>\n<ellipse fill=\"none\" stroke=\"#000000\" cx=\"472.1926\" cy=\"-18\" rx=\"88.2844\" ry=\"18\"/>\n<text text-anchor=\"middle\" x=\"472.1926\" y=\"-14.3\" font-family=\"Times,serif\" font-size=\"14.00\" fill=\"#000000\">leaf=&#45;0.0260522515</text>\n</g>\n<!-- 4&#45;&gt;9 -->\n<g id=\"edge7\" class=\"edge\">\n<title>4&#45;&gt;9</title>\n<path fill=\"none\" stroke=\"#0000ff\" d=\"M482.499,-86.9735C480.7385,-75.1918 478.4028,-59.5607 476.4001,-46.1581\"/>\n<polygon fill=\"#0000ff\" stroke=\"#0000ff\" points=\"479.8223,-45.3763 474.8828,-36.0034 472.8991,-46.4108 479.8223,-45.3763\"/>\n<text text-anchor=\"middle\" x=\"515.6926\" y=\"-57.8\" font-family=\"Times,serif\" font-size=\"14.00\" fill=\"#000000\">yes, missing</text>\n</g>\n<!-- 10 -->\n<g id=\"node9\" class=\"node\">\n<title>10</title>\n<ellipse fill=\"none\" stroke=\"#000000\" cx=\"664.1926\" cy=\"-18\" rx=\"85.2851\" ry=\"18\"/>\n<text text-anchor=\"middle\" x=\"664.1926\" y=\"-14.3\" font-family=\"Times,serif\" font-size=\"14.00\" fill=\"#000000\">leaf=0.0508308597</text>\n</g>\n<!-- 4&#45;&gt;10 -->\n<g id=\"edge8\" class=\"edge\">\n<title>4&#45;&gt;10</title>\n<path fill=\"none\" stroke=\"#ff0000\" d=\"M517.1942,-89.4461C546.1162,-75.3891 588.9302,-54.58 620.9027,-39.0404\"/>\n<polygon fill=\"#ff0000\" stroke=\"#ff0000\" points=\"622.5662,-42.1234 630.0302,-34.6041 619.5062,-35.8276 622.5662,-42.1234\"/>\n<text text-anchor=\"middle\" x=\"594.1926\" y=\"-57.8\" font-family=\"Times,serif\" font-size=\"14.00\" fill=\"#000000\">no</text>\n</g>\n<!-- 11 -->\n<g id=\"node12\" class=\"node\">\n<title>11</title>\n<ellipse fill=\"none\" stroke=\"#000000\" cx=\"850.1926\" cy=\"-18\" rx=\"83.3857\" ry=\"18\"/>\n<text text-anchor=\"middle\" x=\"850.1926\" y=\"-14.3\" font-family=\"Times,serif\" font-size=\"14.00\" fill=\"#000000\">leaf=&#45;0.124655835</text>\n</g>\n<!-- 6&#45;&gt;11 -->\n<g id=\"edge11\" class=\"edge\">\n<title>6&#45;&gt;11</title>\n<path fill=\"none\" stroke=\"#0000ff\" d=\"M850.1926,-86.9735C850.1926,-75.1918 850.1926,-59.5607 850.1926,-46.1581\"/>\n<polygon fill=\"#0000ff\" stroke=\"#0000ff\" points=\"853.6927,-46.0033 850.1926,-36.0034 846.6927,-46.0034 853.6927,-46.0033\"/>\n<text text-anchor=\"middle\" x=\"885.6926\" y=\"-57.8\" font-family=\"Times,serif\" font-size=\"14.00\" fill=\"#000000\">yes, missing</text>\n</g>\n<!-- 12 -->\n<g id=\"node13\" class=\"node\">\n<title>12</title>\n<ellipse fill=\"none\" stroke=\"#000000\" cx=\"1034.1926\" cy=\"-18\" rx=\"83.3857\" ry=\"18\"/>\n<text text-anchor=\"middle\" x=\"1034.1926\" y=\"-14.3\" font-family=\"Times,serif\" font-size=\"14.00\" fill=\"#000000\">leaf=&#45;0.137200758</text>\n</g>\n<!-- 6&#45;&gt;12 -->\n<g id=\"edge12\" class=\"edge\">\n<title>6&#45;&gt;12</title>\n<path fill=\"none\" stroke=\"#ff0000\" d=\"M882.6646,-89.6464C912.5249,-75.5277 957.0472,-54.4764 990.1128,-38.8421\"/>\n<polygon fill=\"#ff0000\" stroke=\"#ff0000\" points=\"992.0005,-41.8211 999.5448,-34.3824 989.0083,-35.4928 992.0005,-41.8211\"/>\n<text text-anchor=\"middle\" x=\"961.1926\" y=\"-57.8\" font-family=\"Times,serif\" font-size=\"14.00\" fill=\"#000000\">no</text>\n</g>\n</g>\n</svg>\n"
          },
          "metadata": {},
          "execution_count": 29
        },
        {
          "output_type": "display_data",
          "data": {
            "text/plain": [
              "<Figure size 432x288 with 1 Axes>"
            ],
            "image/png": "[encoded data removed]"
          },
          "metadata": {
            "needs_background": "light"
          }
        }
      ],
      "source": [
        "### Ex-4-Task-1\n",
        "from xgboost import plot_tree, to_graphviz\n",
        "\n",
        "\n",
        "# Plot the tree\n",
        "\n",
        "### BEGIN SOLUTION\n",
        "# your code here\n",
        "\n",
        "plot_tree(xgb, num_trees=20)\n",
        "to_graphviz(xgb, num_trees=20)\n",
        "\n",
        "# raise NotImplementedError\n",
        "### END SOLUTION"
      ]
    },
    {
      "cell_type": "markdown",
      "metadata": {
        "deletable": false,
        "editable": false,
        "id": "k8q56l8mwsJT",
        "nbgrader": {
          "cell_type": "markdown",
          "checksum": "832d3b9c5bbfbfd6a63119c5c207db1d",
          "grade": false,
          "grade_id": "cell-265ab053a0a86503",
          "locked": true,
          "schema_version": 3,
          "solution": false,
          "task": false
        }
      },
      "source": [
        "#### Q1: Based on the tree plotted above, which of the following feature is a root node in the 20th tree?\n",
        "<b><div style=\"text-align: right\">[UNGRADED]</div></b>\n",
        "\n",
        "---\n",
        "Select the best option.\n",
        "\n",
        "1. deposit_type\n",
        "\n",
        "2. adr\n",
        "\n",
        "3. net_booking_cancelled\n",
        "\n",
        "4. required_car_parking_spaces\n",
        "\n",
        "5. total_of_special_requests\n",
        "\n",
        "\n",
        "__Task:__\n",
        "You just need to put the correct option number on the variable `correct_option1`.\n",
        "If your answer is deposit_type, assign `correct_option1 = 1` and so on."
      ]
    },
    {
      "cell_type": "code",
      "execution_count": 30,
      "metadata": {
        "deletable": false,
        "id": "iRdTM9nUwsJV",
        "nbgrader": {
          "cell_type": "code",
          "checksum": "24d0e8dca640d1aa21fe9427808402b2",
          "grade": false,
          "grade_id": "cell-ccab3ae4d6d9cbfa",
          "locked": false,
          "schema_version": 3,
          "solution": true,
          "task": false
        },
        "tags": [
          "Ex-4-Task-2"
        ]
      },
      "outputs": [],
      "source": [
        "### Ex-4-Task-2\n",
        "correct_option1 = None\n",
        "### BEGIN SOLUTION\n",
        "# your code here\n",
        "correct_option1 = 4\n",
        "# raise NotImplementedError\n",
        "### END SOLUTION"
      ]
    },
    {
      "cell_type": "code",
      "execution_count": 25,
      "metadata": {
        "deletable": false,
        "editable": false,
        "id": "_e2b1h8JwsJb",
        "nbgrader": {
          "cell_type": "code",
          "checksum": "32a245d53298069b2e4b8bffd043a4a7",
          "grade": true,
          "grade_id": "cell-45cc414e80d2f81c",
          "locked": true,
          "points": 0,
          "schema_version": 3,
          "solution": false,
          "task": false
        },
        "tags": [
          "Ex-4-Task-2"
        ]
      },
      "outputs": [],
      "source": [
        "assert correct_option1 is not None"
      ]
    },
    {
      "cell_type": "markdown",
      "metadata": {
        "deletable": false,
        "editable": false,
        "id": "C0bjxiIhwsJg",
        "nbgrader": {
          "cell_type": "markdown",
          "checksum": "5df529774d86c13599b182617a2eeb16",
          "grade": false,
          "grade_id": "cell-242babac02f7b8d7",
          "locked": true,
          "schema_version": 3,
          "solution": false,
          "task": false
        }
      },
      "source": [
        "### Feature importance\n",
        "\n",
        "### Exercise 5: Plot the feature importance\n",
        "<b><div style=\"text-align: right\">[UNGRADED]</div></b>\n",
        "\n",
        "---\n",
        "XGBoost provides the `feature_importance()` method to plot the importance of each feature. Based on the feature_importance plot, you need to answer the quiz below.\n",
        "\n",
        "**Task:** \n",
        "-  Plot the feature importance of the model `xgb`.\n",
        "\n"
      ]
    },
    {
      "cell_type": "code",
      "execution_count": 31,
      "metadata": {
        "deletable": false,
        "id": "Ed50WkR6wsJi",
        "nbgrader": {
          "cell_type": "code",
          "checksum": "2c8584cbcaec783ba6ad5082f175fc94",
          "grade": false,
          "grade_id": "cell-592367a614fc5be2",
          "locked": false,
          "schema_version": 3,
          "solution": true,
          "task": false
        },
        "tags": [
          "Ex-5-Task-1"
        ],
        "colab": {
          "base_uri": "https://localhost:8080/",
          "height": 713
        },
        "outputId": "6204082f-031d-4276-b90b-f45509401ae7"
      },
      "outputs": [
        {
          "output_type": "display_data",
          "data": {
            "text/plain": [
              "<Figure size 3000x1800 with 1 Axes>"
            ],
            "image/png": "[encoded data removed]"
          },
          "metadata": {
            "needs_background": "light"
          }
        }
      ],
      "source": [
        "### Ex-5-Task-1\n",
        "from xgboost import plot_importance\n",
        "fig, ax = plt.subplots(figsize=(10,6), dpi=300)\n",
        "None # plot_importance(.....)\n",
        "### BEGIN SOLUTION\n",
        "# your code here\n",
        "plot_importance(xgb, ax=ax)\n",
        "# raise NotImplementedError\n",
        "### END SOLUTION\n",
        "plt.show()"
      ]
    },
    {
      "cell_type": "markdown",
      "metadata": {
        "deletable": false,
        "editable": false,
        "id": "bf1yeatOwsJm",
        "nbgrader": {
          "cell_type": "markdown",
          "checksum": "59afbefad3b748f381b3611ec4f55ba7",
          "grade": false,
          "grade_id": "cell-6c179d84151f969f",
          "locked": true,
          "schema_version": 3,
          "solution": false,
          "task": false
        }
      },
      "source": [
        "#### Q2: Based on the gain, which of the following is the most important feature?\n",
        "<b><div style=\"text-align: right\">[UNGRADED]</div></b>\n",
        "\n",
        "\n",
        "---\n",
        "Select the best option.\n",
        "\n",
        "1. lead_time\n",
        "\n",
        "2. country\n",
        "\n",
        "3. adr\n",
        "\n",
        "4. net_booking_cancelled\n",
        "\n",
        "5. required_car_parking_spaces\n",
        "\n",
        "6. deposit_type\n",
        "\n",
        "\n",
        "__Task:__\n",
        "You just need to put the correct option number on the variable `correct_option2`.\n",
        "If your answer is lead_time, assign `correct_option2 = 1` and so on."
      ]
    },
    {
      "cell_type": "code",
      "execution_count": 27,
      "metadata": {
        "deletable": false,
        "id": "9FsVeR4uwsJr",
        "nbgrader": {
          "cell_type": "code",
          "checksum": "7c4e6f77355ce847f75ac302b8b9249e",
          "grade": false,
          "grade_id": "cell-23b208ba0033d71a",
          "locked": false,
          "schema_version": 3,
          "solution": true,
          "task": false
        },
        "tags": [
          "Ex-5-Task-2"
        ]
      },
      "outputs": [],
      "source": [
        "### Ex-5-Task-2\n",
        "correct_option2 = None\n",
        "### BEGIN SOLUTION\n",
        "# your code here\n",
        "correct_option2 = 2\n",
        "# raise NotImplementedError\n",
        "### END SOLUTION"
      ]
    },
    {
      "cell_type": "code",
      "execution_count": 28,
      "metadata": {
        "deletable": false,
        "editable": false,
        "id": "MZ9XNIl7wsJ0",
        "nbgrader": {
          "cell_type": "code",
          "checksum": "b2c98a78b400002d8ec98c38a8dd20d7",
          "grade": true,
          "grade_id": "cell-8548c5efe934897a",
          "locked": true,
          "points": 0,
          "schema_version": 3,
          "solution": false,
          "task": false
        },
        "tags": [
          "Ex-5-Task-2"
        ]
      },
      "outputs": [],
      "source": [
        "assert correct_option2 is not None"
      ]
    },
    {
      "cell_type": "markdown",
      "metadata": {
        "id": "r4jBHfvEwsJ5"
      },
      "source": [
        "### Parallelization\n",
        "\n",
        "### Exercise 6: Multithreading\n",
        "<b><div style=\"text-align: right\">[UNGRADED]</div></b>\n",
        "\n",
        "---\n",
        "As already discussed in the theoretical part, XGBoost is known for parallelization and distributed computing. Here we are going to instantiate XGBoost with its support for multithreading. You can refer to the documentation of XGBoost on how to set the number of threads to the number of cores.\n",
        "\n",
        "**Task:**  \n",
        "- Instantiate a XGBClassifier() to variable `model` with __random_state__ set to RANDOM_STATE and set the number of threads to number of cores.\n",
        "\n"
      ]
    },
    {
      "cell_type": "code",
      "execution_count": 32,
      "metadata": {
        "deletable": false,
        "id": "4fxzfOVawsJ6",
        "nbgrader": {
          "cell_type": "code",
          "checksum": "be1aa3ceb7a5ed2c4ceebcb02236ccdb",
          "grade": false,
          "grade_id": "cell-90c19bb67bce3a9c",
          "locked": false,
          "schema_version": 3,
          "solution": true,
          "task": false
        },
        "tags": [
          "Ex-6-Task-1"
        ]
      },
      "outputs": [],
      "source": [
        "### Ex-6-Task-1\n",
        "model = None\n",
        "### BEGIN SOLUTION\n",
        "# your code here\n",
        "model = XGBClassifier(n_estimators = 100, random_state = RANDOM_STATE, njobs = -1)\n",
        "\n",
        "# raise NotImplementedError\n",
        "### END SOLUTION"
      ]
    },
    {
      "cell_type": "code",
      "execution_count": null,
      "metadata": {
        "deletable": false,
        "editable": false,
        "id": "9ApKHxgqwsKA",
        "nbgrader": {
          "cell_type": "code",
          "checksum": "2c6b6de750e323cc93d784fc072af9b0",
          "grade": true,
          "grade_id": "cell-77990162525d4207",
          "locked": true,
          "points": 0,
          "schema_version": 3,
          "solution": false,
          "task": false
        },
        "tags": [
          "Ex-6-Task-1"
        ]
      },
      "outputs": [],
      "source": [
        "### INTENTIONALLY LEFT BLANK"
      ]
    },
    {
      "cell_type": "markdown",
      "metadata": {
        "deletable": false,
        "editable": false,
        "id": "UPh-UJB7wsKF",
        "nbgrader": {
          "cell_type": "markdown",
          "checksum": "b046f7aef926457d8ffa76090722654b",
          "grade": false,
          "grade_id": "cell-fa5f60ec3d43e6d5",
          "locked": true,
          "schema_version": 3,
          "solution": false,
          "task": false
        }
      },
      "source": [
        "### Performance Monitoring and learning curve\n",
        "\n",
        "For performance monitoring, we define a function `learning_curve()` which plots the log loss for each boosting iteration for training and validation dataset. \n",
        "\n",
        "Note: Here, test data is used for validation, but it is good practice to have a separate validation set."
      ]
    },
    {
      "cell_type": "code",
      "execution_count": 33,
      "metadata": {
        "deletable": false,
        "editable": false,
        "id": "pKJo8Fk3wsKF",
        "nbgrader": {
          "cell_type": "code",
          "checksum": "89e6bea7b6223b4157e5b0f7f7c120f2",
          "grade": false,
          "grade_id": "cell-8108ed82c8f44441",
          "locked": true,
          "schema_version": 3,
          "solution": false,
          "task": false
        }
      },
      "outputs": [],
      "source": [
        "def learning_curve(model, X_train, y_train, X_test, y_test):\n",
        "    \"\"\"\n",
        "    A function to plot the learning curve.\n",
        "    \n",
        "    Paramters:\n",
        "    ---------\n",
        "    model: object\n",
        "           An object instantiated with XGBoost classifier\n",
        "    X_train: array like\n",
        "             Training features\n",
        "    y_train: array like\n",
        "             Training labels\n",
        "    X_test: array like\n",
        "            Validation features\n",
        "    y_test: array like\n",
        "            Validation labels\n",
        "            \n",
        "    Returns:\n",
        "    --------\n",
        "    None\n",
        "    \n",
        "            \n",
        "    \"\"\"\n",
        "    eval_set = [(X_train, y_train),(X_test, y_test)]\n",
        "    model.fit(X_train, y_train, eval_metric = [\"logloss\"], eval_set = eval_set, verbose = False)\n",
        "    print(\"F1 Score Train: \",f1_score(y_train, model.predict(X_train), average = 'weighted'))\n",
        "    print(\"F1 Score Test: \",f1_score(y_test, model.predict(X_test), average = 'weighted'))\n",
        "    results = model.evals_result()\n",
        "    num_tree = len(results['validation_0']['logloss'])\n",
        "    plt.figure(figsize = (8,8))\n",
        "    plt.plot(range(0, num_tree), results['validation_0']['logloss'], label = 'Training')\n",
        "    plt.plot(range(0, num_tree), results['validation_1']['logloss'], label = 'Validation')\n",
        "    plt.legend()\n",
        "    plt.xlabel(\"Number of trees\")\n",
        "    plt.ylabel(\"Log loss\")\n",
        "    plt.title(\"Learning Curve\")\n",
        "    plt.show()\n",
        "\n"
      ]
    },
    {
      "cell_type": "markdown",
      "metadata": {
        "deletable": false,
        "editable": false,
        "id": "C56MY88twsKI",
        "nbgrader": {
          "cell_type": "markdown",
          "checksum": "870caf6b331df5b6c8054b42a7d75b53",
          "grade": false,
          "grade_id": "cell-f63ef012dc1b7da3",
          "locked": true,
          "schema_version": 3,
          "solution": false,
          "task": false
        }
      },
      "source": [
        "### Exercise 7: Learning Curve\n",
        "<b><div style=\"text-align: right\">[UNGRADED]</div></b>\n",
        "\n",
        "---\n",
        "A function `learning_curve()` is defined above. Use this function to plot the learning curve for the training and validation dataset. Here we will be using the test set for validation.\n",
        "**Task:**  \n",
        "- Instantiate a XGBClassifier() to variable `model` with __n_estimators__ set to 100 , __max_depth__ set to 4, and __random_state__ set to RANDOM_STATE.\n",
        "-  Use the function `learning_curve()` to plot the learning curve of the model `xgb`. We have already instantiated `xgb` a few cells back.\n"
      ]
    },
    {
      "cell_type": "code",
      "execution_count": 34,
      "metadata": {
        "deletable": false,
        "id": "7aq5FtPYwsKJ",
        "nbgrader": {
          "cell_type": "code",
          "checksum": "234c91da0fca039b4c5e692d4d9577f7",
          "grade": false,
          "grade_id": "cell-d3604250f303b2de",
          "locked": false,
          "schema_version": 3,
          "solution": true,
          "task": false
        },
        "tags": [
          "Ex-7-Task-1"
        ],
        "colab": {
          "base_uri": "https://localhost:8080/",
          "height": 548
        },
        "outputId": "646ed048-6611-4c17-8e86-05b08187b111"
      },
      "outputs": [
        {
          "output_type": "stream",
          "name": "stdout",
          "text": [
            "F1 Score Train:  0.8411529574306595\n",
            "F1 Score Test:  0.8421695275032451\n"
          ]
        },
        {
          "output_type": "display_data",
          "data": {
            "text/plain": [
              "<Figure size 576x576 with 1 Axes>"
            ],
            "image/png": "[encoded data removed]"
          },
          "metadata": {
            "needs_background": "light"
          }
        }
      ],
      "source": [
        "### Ex-7-Task-1\n",
        "model = None\n",
        "# Plot learning curve\n",
        "### BEGIN SOLUTION\n",
        "# your code here\n",
        "model = XGBClassifier(n_estimators = 100, random_state = RANDOM_STATE, max_depth = 4)\n",
        "learning_curve(xgb, X_train, y_train, X_test, y_test)\n",
        "# raise NotImplementedError\n",
        "### END SOLUTION"
      ]
    },
    {
      "cell_type": "markdown",
      "metadata": {
        "deletable": false,
        "editable": false,
        "id": "inOMafAZwsKM",
        "nbgrader": {
          "cell_type": "markdown",
          "checksum": "1b64a50e4233c7746fd5a1f889b80390",
          "grade": false,
          "grade_id": "cell-752ba7a103e50450",
          "locked": true,
          "schema_version": 3,
          "solution": false,
          "task": false
        }
      },
      "source": [
        "#### Q3: Recalling evaluation results of random forest trained few cells above and analyzing the above learning curve shows that our xgboost model is  ____?\n",
        "<b><div style=\"text-align: right\">[UNGRADED]</div></b>\n",
        "\n",
        "---\n",
        "Select the best option.\n",
        "\n",
        "1. optimally fitted\n",
        "\n",
        "2. overfitted\n",
        "\n",
        "3. underfitted\n",
        "\n",
        "\n",
        "__Task:__\n",
        "You just need to put the correct option number on the variable `correct_option3`.\n",
        "If your answer is overfitted, assign `correct_option3 = 2` and so on."
      ]
    },
    {
      "cell_type": "code",
      "execution_count": 35,
      "metadata": {
        "deletable": false,
        "id": "9xDBfdZSAxQ-",
        "nbgrader": {
          "cell_type": "code",
          "checksum": "513cfe81ccc49e5ee4b835e636e05488",
          "grade": false,
          "grade_id": "cell-9168700a9e95e753",
          "locked": false,
          "schema_version": 3,
          "solution": true,
          "task": false
        },
        "tags": [
          "Ex-7-Task-2"
        ]
      },
      "outputs": [],
      "source": [
        "### Ex-7-Task-2\n",
        "correct_option3 = None\n",
        "### BEGIN SOLUTION\n",
        "# your code here\n",
        "correct_option3 = 2\n",
        "\n",
        "# raise NotImplementedError\n",
        "### END SOLUTION"
      ]
    },
    {
      "cell_type": "code",
      "execution_count": 36,
      "metadata": {
        "deletable": false,
        "editable": false,
        "id": "EqvwXBIpwsKN",
        "nbgrader": {
          "cell_type": "code",
          "checksum": "a7db82b57f3d89156a93633bca3c1e51",
          "grade": true,
          "grade_id": "cell-680e212f211f9eae",
          "locked": true,
          "points": 0,
          "schema_version": 3,
          "solution": false,
          "task": false
        },
        "tags": [
          "Ex-7-Task-2"
        ]
      },
      "outputs": [],
      "source": [
        "assert correct_option3 is not None"
      ]
    },
    {
      "cell_type": "markdown",
      "metadata": {
        "deletable": false,
        "editable": false,
        "id": "bfLb4QKawsKX",
        "nbgrader": {
          "cell_type": "markdown",
          "checksum": "1795de9ba30206736841cbfa9aec9f2a",
          "grade": false,
          "grade_id": "cell-ae5d7743776fa417",
          "locked": true,
          "schema_version": 3,
          "solution": false,
          "task": false
        }
      },
      "source": [
        "### Exercise 8: Improving performance\n",
        "<b><div style=\"text-align: right\">[POINTS: 1]</div></b>\n",
        "\n",
        "---\n",
        "Based on your answer, if the model is overfitted, under fitted, or optimally fitted, you need to perform a few experiments and improve its performance. The test f1-score of the model should be above 89.00%\n",
        "\n",
        "Hint: If the model is overfitted, you can perform shrinkage, reduce the depth of the tree, apply regularization, etc. Similarly, if the model is under fitted, you can increase the number of iterations and the tree depth.\n",
        "\n",
        "**Task:**  \n",
        "- Instantiate a XGBClassifier() to variable `model` with the parameters you think are suitable for improving performance.\n",
        "- Note: The test f1 score of your model should be equal or above 0.8900 to get the marks.\n"
      ]
    },
    {
      "cell_type": "code",
      "execution_count": 37,
      "metadata": {
        "deletable": false,
        "id": "-hgayJeYwsKY",
        "nbgrader": {
          "cell_type": "code",
          "checksum": "e5f371d76cd7dac23d08b4bfae553092",
          "grade": false,
          "grade_id": "cell-c6c3726bbeeded05",
          "locked": false,
          "schema_version": 3,
          "solution": true,
          "task": false
        },
        "tags": [
          "Ex-8-Task-1"
        ],
        "colab": {
          "base_uri": "https://localhost:8080/"
        },
        "outputId": "4d70dacd-8205-4be2-edd4-ee41fc856eaf"
      },
      "outputs": [
        {
          "output_type": "stream",
          "name": "stdout",
          "text": [
            "Train f1_score: 0.9875192893747735\n",
            "Test f1_score: 0.8928262660391122\n"
          ]
        }
      ],
      "source": [
        "### Ex-8-Task-1\n",
        "model = None\n",
        "### BEGIN SOLUTION\n",
        "# your code here\n",
        "model = XGBClassifier(n_estimators = 100, random_state = RANDOM_STATE, n_jobs = -1 , max_depth = 20)\n",
        "\n",
        "# raise NotImplementedError\n",
        "### END SOLUTION\n",
        "model.fit(X_train, y_train)\n",
        "pickle.dump(model, open(\"model.pickle.dat\", \"wb\"))\n",
        "\n",
        "print(\"Train f1_score:\", f1_score(y_train, model.predict(X_train), average = 'weighted'))\n",
        "print(\"Test f1_score:\", f1_score(y_test, model.predict(X_test), average = 'weighted'))"
      ]
    },
    {
      "cell_type": "code",
      "execution_count": 38,
      "metadata": {
        "deletable": false,
        "editable": false,
        "id": "KK6gIaq9wsKc",
        "nbgrader": {
          "cell_type": "code",
          "checksum": "c7a2165d724025bb5284e1b6e9e9d2c0",
          "grade": true,
          "grade_id": "cell-18ef62f4ca805457",
          "locked": true,
          "points": 1,
          "schema_version": 3,
          "solution": false,
          "task": false
        },
        "tags": [
          "Ex-8-Task-1"
        ]
      },
      "outputs": [],
      "source": [
        "### INTENTIONALLY LEFT BLANK"
      ]
    },
    {
      "cell_type": "markdown",
      "metadata": {
        "deletable": false,
        "editable": false,
        "id": "2EPPp2jWwsKg",
        "nbgrader": {
          "cell_type": "markdown",
          "checksum": "71f6dc878e6e62d4e3c933b5bfa94449",
          "grade": false,
          "grade_id": "cell-6ab792baf95be725",
          "locked": true,
          "schema_version": 3,
          "solution": false,
          "task": false
        }
      },
      "source": [
        "### Model Tuning\n",
        "\n",
        "A function `tuning_curve()` is defined, which tunes the xgboost . Here `param_name` is the name of the parameter, and `param_range` is the corresponding range of the parameter's value. This function plot the log loss for different value of these parameters. The plot has a vertical line with a central dot corresponding to each value of the parameter.  The vertical length represents the standard deviation of log loss for three cross-fold validation. Similarly, the central dot represents the mean log loss for three cross-fold validation."
      ]
    },
    {
      "cell_type": "code",
      "execution_count": 39,
      "metadata": {
        "deletable": false,
        "editable": false,
        "id": "eg_vu2BBwsKg",
        "nbgrader": {
          "cell_type": "code",
          "checksum": "4d4b5859b25869099aee7f7411054874",
          "grade": false,
          "grade_id": "cell-fcd0aa29a62fdc7c",
          "locked": true,
          "schema_version": 3,
          "solution": false,
          "task": false
        }
      },
      "outputs": [],
      "source": [
        "from sklearn.model_selection import cross_validate\n",
        "from sklearn.model_selection import StratifiedKFold\n",
        "\n",
        "\n",
        "def tuning_curve(param_name, param_range):\n",
        "    \"\"\"\n",
        "    A function to perform hyperparameter tuning.\n",
        "    \n",
        "    A 3 fold stratified cross validation is performed for each value of parameter.\n",
        "    \n",
        "    \n",
        "    Parameters:\n",
        "    ----------\n",
        "    param_name: str\n",
        "                Name of the parameter on which to perform hyperparamter tuning.\n",
        "    param_range: list\n",
        "                 Range of parameter to perform grid search\n",
        "                 \n",
        "    Returns:\n",
        "    -------\n",
        "    None\n",
        "    \"\"\"\n",
        "    mean = []\n",
        "    std = []\n",
        "    for n in param_range:\n",
        "        arg = dict()\n",
        "        arg[param_name] = n\n",
        "        model = XGBClassifier(random_state = RANDOM_STATE,n_jobs = -1,  **arg)\n",
        "        skfold = StratifiedKFold(n_splits=3, shuffle=True, random_state=RANDOM_STATE)\n",
        "        scores = cross_validate(model, X_train, y_train, scoring = ['neg_log_loss'], cv = skfold)\n",
        "        mean_temp = np.abs(scores['test_neg_log_loss']).mean()\n",
        "        mean.append(mean_temp)\n",
        "        std_temp = np.abs(scores['test_neg_log_loss']).std()/2.0\n",
        "        std.append(std_temp)\n",
        "    plt.errorbar(param_range, mean, std, fmt = 'o') \n",
        "    plt.xlabel(\"{}\".format(param_name))\n",
        "    plt.ylabel(\"{}\".format(\"Log loss\"))\n",
        "    plt.title(\"Cross Validation Score\")\n",
        "    plt.show()\n",
        "\n"
      ]
    },
    {
      "cell_type": "markdown",
      "metadata": {
        "deletable": false,
        "editable": false,
        "id": "M46PQhAKwsKj",
        "nbgrader": {
          "cell_type": "markdown",
          "checksum": "ed766f124344524470343438331e7072",
          "grade": false,
          "grade_id": "cell-7abdb069e9449f28",
          "locked": true,
          "schema_version": 3,
          "solution": false,
          "task": false
        }
      },
      "source": [
        "### Exercise 9: Tuning L1-Regularization term.\n",
        "<b><div style=\"text-align: right\">[UNGRADED]</div></b>\n",
        "\n",
        "---\n",
        "A function `tuning_curve()` is defined above. Use this function to tune L1 regularization term in the range $[0, 0.4, 1, 5, 10]$\n",
        "\n",
        "**Task:**  \n",
        "- Use function `tuning_curve()` to tune the parameter `reg_alpha` in the range $[0, 0.4, 1, 5, 10]$ and answer the following quiz.\n"
      ]
    },
    {
      "cell_type": "code",
      "execution_count": 40,
      "metadata": {
        "deletable": false,
        "id": "o_ES-JPNwsKl",
        "nbgrader": {
          "cell_type": "code",
          "checksum": "52d80fd0a0f208e0f067c0fe5aca4886",
          "grade": false,
          "grade_id": "cell-e76c5f3f70d295d3",
          "locked": false,
          "schema_version": 3,
          "solution": true,
          "task": false
        },
        "tags": [
          "Ex-9-Task-1"
        ],
        "colab": {
          "base_uri": "https://localhost:8080/",
          "height": 296
        },
        "outputId": "b8d9409f-4b91-44b4-9135-228a30aef9ef"
      },
      "outputs": [
        {
          "output_type": "display_data",
          "data": {
            "text/plain": [
              "<Figure size 432x288 with 1 Axes>"
            ],
            "image/png": "[encoded data removed]"
          },
          "metadata": {
            "needs_background": "light"
          }
        }
      ],
      "source": [
        "### Ex-9-Task-1\n",
        "\n",
        "None # Call function tuning_curve() to tune reg_alpha in the given range\n",
        "\n",
        "### BEGIN SOLUTION\n",
        "# your code here\n",
        "tuning_curve('reg_alpha', [0, 0.4, 1.5, 10])\n",
        "# raise NotImplementedError\n",
        "### END SOLUTION"
      ]
    },
    {
      "cell_type": "markdown",
      "metadata": {
        "deletable": false,
        "editable": false,
        "id": "eciMTlsjwsKo",
        "nbgrader": {
          "cell_type": "markdown",
          "checksum": "f6db85897e9f7633b0afa7255a9f3cde",
          "grade": false,
          "grade_id": "cell-e947185a223b2ed4",
          "locked": true,
          "schema_version": 3,
          "solution": false,
          "task": false
        }
      },
      "source": [
        "#### Q4: From the above curve, which of the following value of reg_alpha yields the best performance?\n",
        "<b><div style=\"text-align: right\">[UNGRADED]</div></b>\n",
        "\n",
        "---\n",
        "\n",
        "Select the best option.\n",
        "\n",
        "1. 0\n",
        "\n",
        "2. 0.4\n",
        "\n",
        "3. 1\n",
        "\n",
        "4. 5\n",
        "\n",
        "5. 10\n",
        "\n",
        "\n",
        "__Task:__\n",
        "You just need to put the correct option number on the variable `correct_option4`.\n",
        "If your answer is 1, assign `correct_option4 = 3` and so on.\n",
        "\n"
      ]
    },
    {
      "cell_type": "code",
      "execution_count": 41,
      "metadata": {
        "deletable": false,
        "id": "05rB4PBzwsKo",
        "nbgrader": {
          "cell_type": "code",
          "checksum": "1df35f2e0ccd3afbb48c11f0258e35bf",
          "grade": false,
          "grade_id": "cell-e6f79de5d9099766",
          "locked": false,
          "schema_version": 3,
          "solution": true,
          "task": false
        },
        "tags": [
          "Ex-9-Task-2"
        ]
      },
      "outputs": [],
      "source": [
        "### Ex-9-Task-2\n",
        "correct_option4 = None\n",
        "### BEGIN SOLUTION\n",
        "# your code here\n",
        "correct_option4 = 3\n",
        "\n",
        "# raise NotImplementedError\n",
        "### END SOLUTION"
      ]
    },
    {
      "cell_type": "code",
      "execution_count": 42,
      "metadata": {
        "deletable": false,
        "editable": false,
        "id": "YvRtF_WRwsKr",
        "nbgrader": {
          "cell_type": "code",
          "checksum": "5f2b6f1b9d602ee2cbb3429b39ecd557",
          "grade": true,
          "grade_id": "cell-2f34af50e3ed0e9d",
          "locked": true,
          "points": 0,
          "schema_version": 3,
          "solution": false,
          "task": false
        },
        "tags": [
          "Ex-9-Task-2"
        ]
      },
      "outputs": [],
      "source": [
        "assert correct_option4 is not None"
      ]
    },
    {
      "cell_type": "markdown",
      "metadata": {
        "deletable": false,
        "editable": false,
        "id": "Yie7qnu3wsKv",
        "nbgrader": {
          "cell_type": "markdown",
          "checksum": "e04704b3820c9528f1471a4ec735ca75",
          "grade": false,
          "grade_id": "cell-37b52dd2aa626f09",
          "locked": true,
          "schema_version": 3,
          "solution": false,
          "task": false
        }
      },
      "source": [
        "__Congratulation!!!!!!!!!!!!!__\n",
        "\n",
        "__You have completed level 1__"
      ]
    },
    {
      "cell_type": "markdown",
      "metadata": {
        "deletable": false,
        "editable": false,
        "id": "IX6VJobpwsKw",
        "nbgrader": {
          "cell_type": "markdown",
          "checksum": "21148ea71a2c3fffcd750d9a0850a18e",
          "grade": false,
          "grade_id": "cell-b667e8e8b3636142",
          "locked": true,
          "schema_version": 3,
          "solution": false,
          "task": false
        }
      },
      "source": [
        "## Level 2+3\n",
        "\n",
        "## Learning Objective (Level2+Level 3)\n",
        "<b><div style=\"text-align: right\">[POINTS: 6]</div></b>\n",
        "\n",
        "- Implement Gradient Boosting Regressor from scratch.\n",
        "\n",
        "- Compare the performance of gradient boosting regressor implement from scratch with Sklearn's gradient boosting regressor.\n",
        "\n"
      ]
    },
    {
      "cell_type": "markdown",
      "metadata": {
        "deletable": false,
        "editable": false,
        "id": "V5t25PcIwsKx",
        "nbgrader": {
          "cell_type": "markdown",
          "checksum": "b539f0638b77ac797b9f2443444155c4",
          "grade": false,
          "grade_id": "cell-db838318b41e3f7d",
          "locked": true,
          "schema_version": 3,
          "solution": false,
          "task": false
        }
      },
      "source": [
        "### Dataset Description\n",
        "\n",
        "We will use a synthetic dataset for this part. A synthetic dataset is generated using Sklearn's `make_regression()` method.\n",
        "\n",
        "---\n",
        "Number of Instances: 100\n",
        "\n",
        "Number of Attributes:4\n",
        "\n",
        "---\n",
        "The features are labeled `x1`, `x2`,`x3`,`x4`, and the output value is labeled `target`.\n"
      ]
    },
    {
      "cell_type": "code",
      "execution_count": 43,
      "metadata": {
        "deletable": false,
        "editable": false,
        "id": "MDvsa8egwsKx",
        "nbgrader": {
          "cell_type": "code",
          "checksum": "5aefc0504f5a9945cdec95c008966c62",
          "grade": false,
          "grade_id": "cell-d43477defd50fd3b",
          "locked": true,
          "schema_version": 3,
          "solution": false,
          "task": false
        },
        "colab": {
          "base_uri": "https://localhost:8080/",
          "height": 206
        },
        "outputId": "b629904b-6979-49b6-a7ff-540c6eb5dd34"
      },
      "outputs": [
        {
          "output_type": "execute_result",
          "data": {
            "text/plain": [
              "         x1        x2        x3        x4      target\n",
              "0 -0.192855 -1.778013  0.735027  0.331974   55.859210\n",
              "1  0.396565  1.171393  0.097020  0.973093  119.860365\n",
              "2  1.503319 -0.212733  1.438240  0.108648  166.927654\n",
              "3 -0.000890 -1.754724  0.002066 -0.788923  -71.091021\n",
              "4  0.032820  0.407516 -0.465937  1.690526  138.727129"
            ],
            "text/html": [
              "\n",
              "  <div id=\"df-048c4532-0c41-428f-807b-420c84aea5c5\">\n",
              "    <div class=\"colab-df-container\">\n",
              "      <div>\n",
              "<style scoped>\n",
              "    .dataframe tbody tr th:only-of-type {\n",
              "        vertical-align: middle;\n",
              "    }\n",
              "\n",
              "    .dataframe tbody tr th {\n",
              "        vertical-align: top;\n",
              "    }\n",
              "\n",
              "    .dataframe thead th {\n",
              "        text-align: right;\n",
              "    }\n",
              "</style>\n",
              "<table border=\"1\" class=\"dataframe\">\n",
              "  <thead>\n",
              "    <tr style=\"text-align: right;\">\n",
              "      <th></th>\n",
              "      <th>x1</th>\n",
              "      <th>x2</th>\n",
              "      <th>x3</th>\n",
              "      <th>x4</th>\n",
              "      <th>target</th>\n",
              "    </tr>\n",
              "  </thead>\n",
              "  <tbody>\n",
              "    <tr>\n",
              "      <th>0</th>\n",
              "      <td>-0.192855</td>\n",
              "      <td>-1.778013</td>\n",
              "      <td>0.735027</td>\n",
              "      <td>0.331974</td>\n",
              "      <td>55.859210</td>\n",
              "    </tr>\n",
              "    <tr>\n",
              "      <th>1</th>\n",
              "      <td>0.396565</td>\n",
              "      <td>1.171393</td>\n",
              "      <td>0.097020</td>\n",
              "      <td>0.973093</td>\n",
              "      <td>119.860365</td>\n",
              "    </tr>\n",
              "    <tr>\n",
              "      <th>2</th>\n",
              "      <td>1.503319</td>\n",
              "      <td>-0.212733</td>\n",
              "      <td>1.438240</td>\n",
              "      <td>0.108648</td>\n",
              "      <td>166.927654</td>\n",
              "    </tr>\n",
              "    <tr>\n",
              "      <th>3</th>\n",
              "      <td>-0.000890</td>\n",
              "      <td>-1.754724</td>\n",
              "      <td>0.002066</td>\n",
              "      <td>-0.788923</td>\n",
              "      <td>-71.091021</td>\n",
              "    </tr>\n",
              "    <tr>\n",
              "      <th>4</th>\n",
              "      <td>0.032820</td>\n",
              "      <td>0.407516</td>\n",
              "      <td>-0.465937</td>\n",
              "      <td>1.690526</td>\n",
              "      <td>138.727129</td>\n",
              "    </tr>\n",
              "  </tbody>\n",
              "</table>\n",
              "</div>\n",
              "      <button class=\"colab-df-convert\" onclick=\"convertToInteractive('df-048c4532-0c41-428f-807b-420c84aea5c5')\"\n",
              "              title=\"Convert this dataframe to an interactive table.\"\n",
              "              style=\"display:none;\">\n",
              "        \n",
              "  <svg xmlns=\"http://www.w3.org/2000/svg\" height=\"24px\"viewBox=\"0 0 24 24\"\n",
              "       width=\"24px\">\n",
              "    <path d=\"M0 0h24v24H0V0z\" fill=\"none\"/>\n",
              "    <path d=\"M18.56 5.44l.94 2.06.94-2.06 2.06-.94-2.06-.94-.94-2.06-.94 2.06-2.06.94zm-11 1L8.5 8.5l.94-2.06 2.06-.94-2.06-.94L8.5 2.5l-.94 2.06-2.06.94zm10 10l.94 2.06.94-2.06 2.06-.94-2.06-.94-.94-2.06-.94 2.06-2.06.94z\"/><path d=\"M17.41 7.96l-1.37-1.37c-.4-.4-.92-.59-1.43-.59-.52 0-1.04.2-1.43.59L10.3 9.45l-7.72 7.72c-.78.78-.78 2.05 0 2.83L4 21.41c.39.39.9.59 1.41.59.51 0 1.02-.2 1.41-.59l7.78-7.78 2.81-2.81c.8-.78.8-2.07 0-2.86zM5.41 20L4 18.59l7.72-7.72 1.47 1.35L5.41 20z\"/>\n",
              "  </svg>\n",
              "      </button>\n",
              "      \n",
              "  <style>\n",
              "    .colab-df-container {\n",
              "      display:flex;\n",
              "      flex-wrap:wrap;\n",
              "      gap: 12px;\n",
              "    }\n",
              "\n",
              "    .colab-df-convert {\n",
              "      background-color: #E8F0FE;\n",
              "      border: none;\n",
              "      border-radius: 50%;\n",
              "      cursor: pointer;\n",
              "      display: none;\n",
              "      fill: #1967D2;\n",
              "      height: 32px;\n",
              "      padding: 0 0 0 0;\n",
              "      width: 32px;\n",
              "    }\n",
              "\n",
              "    .colab-df-convert:hover {\n",
              "      background-color: #E2EBFA;\n",
              "      box-shadow: 0px 1px 2px rgba(60, 64, 67, 0.3), 0px 1px 3px 1px rgba(60, 64, 67, 0.15);\n",
              "      fill: #174EA6;\n",
              "    }\n",
              "\n",
              "    [theme=dark] .colab-df-convert {\n",
              "      background-color: #3B4455;\n",
              "      fill: #D2E3FC;\n",
              "    }\n",
              "\n",
              "    [theme=dark] .colab-df-convert:hover {\n",
              "      background-color: #434B5C;\n",
              "      box-shadow: 0px 1px 3px 1px rgba(0, 0, 0, 0.15);\n",
              "      filter: drop-shadow(0px 1px 2px rgba(0, 0, 0, 0.3));\n",
              "      fill: #FFFFFF;\n",
              "    }\n",
              "  </style>\n",
              "\n",
              "      <script>\n",
              "        const buttonEl =\n",
              "          document.querySelector('#df-048c4532-0c41-428f-807b-420c84aea5c5 button.colab-df-convert');\n",
              "        buttonEl.style.display =\n",
              "          google.colab.kernel.accessAllowed ? 'block' : 'none';\n",
              "\n",
              "        async function convertToInteractive(key) {\n",
              "          const element = document.querySelector('#df-048c4532-0c41-428f-807b-420c84aea5c5');\n",
              "          const dataTable =\n",
              "            await google.colab.kernel.invokeFunction('convertToInteractive',\n",
              "                                                     [key], {});\n",
              "          if (!dataTable) return;\n",
              "\n",
              "          const docLinkHtml = 'Like what you see? Visit the ' +\n",
              "            '<a target=\"_blank\" href=https://colab.research.google.com/notebooks/data_table.ipynb>data table notebook</a>'\n",
              "            + ' to learn more about interactive tables.';\n",
              "          element.innerHTML = '';\n",
              "          dataTable['output_type'] = 'display_data';\n",
              "          await google.colab.output.renderOutput(dataTable, element);\n",
              "          const docLink = document.createElement('div');\n",
              "          docLink.innerHTML = docLinkHtml;\n",
              "          element.appendChild(docLink);\n",
              "        }\n",
              "      </script>\n",
              "    </div>\n",
              "  </div>\n",
              "  "
            ]
          },
          "metadata": {},
          "execution_count": 43
        }
      ],
      "source": [
        "from sklearn.datasets import make_regression\n",
        "\n",
        "\n",
        "RANDOM_STATE = 7\n",
        "X, y = make_regression(n_samples=100, n_features=4, n_informative=3, bias = 2,noise=0.05, random_state = RANDOM_STATE)\n",
        "df = pd.DataFrame(X, columns = ['x1', 'x2', 'x3', 'x4'])\n",
        "df['target']= y\n",
        "df.head()"
      ]
    },
    {
      "cell_type": "markdown",
      "metadata": {
        "deletable": false,
        "editable": false,
        "id": "L9fe-DOjwsK1",
        "nbgrader": {
          "cell_type": "markdown",
          "checksum": "399d77eb89f479cc6592ab8166537fb2",
          "grade": false,
          "grade_id": "cell-bd14aeadf62f03f4",
          "locked": true,
          "schema_version": 3,
          "solution": false,
          "task": false
        }
      },
      "source": [
        "### Scatter plot"
      ]
    },
    {
      "cell_type": "markdown",
      "metadata": {
        "deletable": false,
        "editable": false,
        "id": "gCJllXViwsK1",
        "nbgrader": {
          "cell_type": "markdown",
          "checksum": "8ba972628ecccef62c8ad3c30e951745",
          "grade": false,
          "grade_id": "cell-0589adfec84c9f9a",
          "locked": true,
          "schema_version": 3,
          "solution": false,
          "task": false
        }
      },
      "source": [
        "If you would like, you could visualize the scatter plot of individual features with respect to the target variable. Moreover, if you like to understand better the distribution of the data, you can experiment yourself."
      ]
    },
    {
      "cell_type": "code",
      "execution_count": 44,
      "metadata": {
        "deletable": false,
        "editable": false,
        "id": "EPrD4CUZwsK3",
        "nbgrader": {
          "cell_type": "code",
          "checksum": "eb3e326074439174f2d87861e2c753c3",
          "grade": false,
          "grade_id": "cell-397b9432fd9d4d86",
          "locked": true,
          "schema_version": 3,
          "solution": false,
          "task": false
        },
        "colab": {
          "base_uri": "https://localhost:8080/",
          "height": 281
        },
        "outputId": "a58cb2cb-5a96-468a-9865-ee1d0579905e"
      },
      "outputs": [
        {
          "output_type": "display_data",
          "data": {
            "text/plain": [
              "<Figure size 432x288 with 1 Axes>"
            ],
            "image/png": "[encoded data removed]"
          },
          "metadata": {
            "needs_background": "light"
          }
        }
      ],
      "source": [
        "# Perform experiment to understand data distribution if needed.\n",
        "plt.scatter(X[:,0], y)\n",
        "plt.ylabel(\"Output/independent variable\")\n",
        "plt.xlabel(\"Input/dependet variable\")\n",
        "plt.show()"
      ]
    },
    {
      "cell_type": "markdown",
      "metadata": {
        "deletable": false,
        "editable": false,
        "id": "HQxBrCMAwsK7",
        "nbgrader": {
          "cell_type": "markdown",
          "checksum": "cabfee13e8f5fb63e9b1d3af87a202d6",
          "grade": false,
          "grade_id": "cell-f3f5e12329749570",
          "locked": true,
          "schema_version": 3,
          "solution": false,
          "task": false
        }
      },
      "source": [
        "### Train Test Split\n",
        "As usual, we will keep 80% of the data for training and the rest for testing."
      ]
    },
    {
      "cell_type": "code",
      "execution_count": 45,
      "metadata": {
        "deletable": false,
        "editable": false,
        "id": "sHr2YzgbwsK8",
        "nbgrader": {
          "cell_type": "code",
          "checksum": "21828956dbeee82cc99280c096467dd5",
          "grade": false,
          "grade_id": "cell-8dda2947d86adb91",
          "locked": true,
          "schema_version": 3,
          "solution": false,
          "task": false
        }
      },
      "outputs": [],
      "source": [
        "from sklearn.model_selection import train_test_split\n",
        "\n",
        "\n",
        "X_train, X_test, y_train, y_test = train_test_split(X, y, test_size = 0.2, random_state = RANDOM_STATE)"
      ]
    },
    {
      "cell_type": "markdown",
      "metadata": {
        "deletable": false,
        "editable": false,
        "id": "OdD_9-8twsK_",
        "nbgrader": {
          "cell_type": "markdown",
          "checksum": "3dd35b77bb9cf09bb1fe20e213809b06",
          "grade": false,
          "grade_id": "cell-2e777240a07996e8",
          "locked": true,
          "schema_version": 3,
          "solution": false,
          "task": false
        }
      },
      "source": [
        "## Gradient Boosting Regressor from scratch\n",
        "In this section, we will implement a gradient boosting regressor from scratch. Each base learner will be a decision tree. For this, we will use Sklearn's `DecisionTreeRegressor()` object.\n",
        "\n",
        "Here is a pseudo-code for gradient boosting regressor.\n",
        "```\n",
        "Algorithm:\n",
        "```\n",
        "> 1. initialize $F_0= \\frac{1}{N}\\sum_{i=1}^N y_i$\n",
        "2. for $t=1$ to $M$ do\n",
        "3. > calculate negative gradients $-g(\\mathbf{x_i})$; where $-g(\\mathbf{x_i})= -\\frac{\\partial L(y_i, F(\\mathbf{x_i}))}{\\partial F(\\mathbf{x_i})}\\bigg{|}_{F = F_{t-1}}$\n",
        "4. > fit a base-learner model $h$ to negative gradients $-g(\\mathbf{x_i})$\n",
        "5. > update the function: $F_t=F_{t-1} + \\alpha h(\\mathbf{x})$; where $\\alpha$ is a shrinkage\n",
        "6. end for"
      ]
    },
    {
      "cell_type": "markdown",
      "metadata": {
        "deletable": false,
        "editable": false,
        "id": "078dpGJLwsLA",
        "nbgrader": {
          "cell_type": "markdown",
          "checksum": "def6f6ac365797d3e3401f146966d377",
          "grade": false,
          "grade_id": "cell-07955f911d589c73",
          "locked": true,
          "schema_version": 3,
          "solution": false,
          "task": false
        }
      },
      "source": [
        "Below is a skeleton class for the gradient boosting regressor. We have already defined a constructor for initializing different attributes like `learning_rate`, `max_depth` of each tree, and `n_estimators` for the number of boosting iterations. The attribute `estimators` is a list of each trained base learner.\n",
        "\n",
        "### Exercise 10: Gradient Boosting Regressor from scratch\n",
        "<b><div style=\"text-align: right\">[POINTS: 1+3+1]</div></b>\n",
        "\n",
        "---\n",
        "This exercise is divided into three different tasks. Through these three tasks, you will create a gradient boosting regressor.\n",
        "\n",
        "**Task 1: Computation of negative gradient** \n",
        "<b><div style=\"text-align: right\">[POINTS: 1]</div></b>\n",
        "\n",
        "We have defined a static method `negative_gradient` which should return the negative gradient when actual label $y$ and predicted label $\\hat{y}$ are given. You need to complete this function.\n",
        "\n",
        "-  Your task is to assign the negative gradient the the variable `grad`. Suppose we are using the following loss function $$L(y,\\hat{y})= \\frac{1}{2}(y-\\hat{y})^2$$ \n",
        "where, $y$ is the actual label and $\\hat{y}$ is the predicted label.\n",
        "\n",
        "\n",
        "**Task 2: Fit the model** \n",
        "\n",
        "<b><div style=\"text-align: right\">[POINTS: 3]</div></b>\n",
        "\n",
        "\n",
        "In this task, we are going to fit our model with the training dataset. We have defined a function `fit(X,y)` in the class `Gradient_Boosting_Regressor` where, X is the training features, and y is the training label. As already discussed in the reading material, the first prediction is the average of output label. Here we have defined two attributes, `average` and `base_prediction`. `base_prediction` is a vector of average value with a length equal to the number of instances in the training data. \n",
        "\n",
        "\n",
        "- Compute the negative_gradient using the above defined function and put it in the variable `pseduo_residual`.\n",
        "- Instantiate a decision tree regressor(from sklearn) on variable `tree` setting `max_depth` to the variable provided in the class constructor and setting `random_state` to RANDOM_STATE.\n",
        "- Fit the tree on input X and pseudo_residual as a target.\n",
        "- Update `base_prediction` with the prediction of the current tree. Note: The prediction of each tree should be downscaled by shrinkage. Please replace 0 with your own code.\n",
        "\n",
        "**Task 3: Prediction by model** \n",
        "\n",
        "<b><div style=\"text-align: right\">[POINTS: 1]</div></b>\n",
        "\n",
        "\n",
        "In this exercise, we are going to make a prediction based on the input data. We have defined a function `predict(X)` in the class `Gradient_Boosting_Regressor` where, X is a feature for which we want to make a prediction. Here we have initialized the variable `predictions` by the average value of the training label. We want to return the final prediction made by the model.\n",
        "\n",
        "\n",
        "- The average prediction is already assigned to the variable `predictions`. Your task is to add the predictions made by each estimator to the variable `predictions`. Please replace 0 with your code.\n",
        "\n",
        "\n",
        "The last method, `staged_predict()` is a generator that returns the prediction for each boosting iterations."
      ]
    },
    {
      "cell_type": "code",
      "execution_count": 49,
      "metadata": {
        "deletable": false,
        "id": "NOP9uMawwsLA",
        "nbgrader": {
          "cell_type": "code",
          "checksum": "7e5642f650a4491a4895763b403b7b29",
          "grade": false,
          "grade_id": "cell-a577ca77eb16fb05",
          "locked": false,
          "schema_version": 3,
          "solution": true,
          "task": false
        },
        "tags": [
          "Ex-10-Task-1"
        ]
      },
      "outputs": [],
      "source": [
        "### Ex-10-Task-1\n",
        "\n",
        "from sklearn.tree import DecisionTreeRegressor\n",
        "\n",
        "class Gradient_Boosting_Regressor:\n",
        "    \"\"\"\n",
        "    Gradient boosting for regression.\n",
        "    \n",
        "    This implementation uses a mean square error loss function.\n",
        "    \n",
        "    Parameters:\n",
        "    ----------\n",
        "    learning_rate: int\n",
        "                   Learning rate or shrinkage parameter (the default is 0.1)\n",
        "    max_depth: int\n",
        "               Maximum allowed depth for each tree (the default value is 4)\n",
        "    n_estimators: int\n",
        "                  The total number of boosting operations (the default value is 5)  \n",
        "                   \n",
        "    \"\"\"\n",
        "    def __init__(self, learning_rate = 0.1, max_depth = 3, n_estimators = 5):\n",
        "        self.learning_rate = learning_rate\n",
        "        self.max_depth = max_depth\n",
        "        self.n_estimators = n_estimators\n",
        "        self.estimators = []\n",
        "        \n",
        "        \n",
        "    @staticmethod\n",
        "    def negative_gradient(y, y_pred):\n",
        "        \"\"\"Compute and return the negative gradient. \"\"\"\n",
        "        grad = None\n",
        "        \n",
        "        grad = y-y_pred\n",
        "        \n",
        "        return grad\n",
        "    \n",
        "    \n",
        "    def fit(self, X, y):\n",
        "        \"\"\"Fit the model on data X and y\"\"\"\n",
        "        self.average = np.mean(y)\n",
        "        self.base_prediction = np.array([np.mean(y)]*len(y))\n",
        "        \n",
        "        for estimators in range(self.n_estimators):\n",
        "            pseudo_residuals = None\n",
        "            tree = None \n",
        "            None # tree.fit(...)\n",
        "            self.base_prediction += 0 # None ########### WHAT IS THE USE OF THIS LINE?\n",
        "            ### BEGIN SOLUTION\n",
        "            # your code here\n",
        "            pseudo_residuals = self.negative_gradient(y, self.base_prediction)\n",
        "            tree = DecisionTreeRegressor(max_depth = self.max_depth, random_state = RANDOM_STATE)\n",
        "            tree.fit(X, pseudo_residuals)\n",
        "            self.base_prediction += tree.predict(X)\n",
        "            # raise NotImplementedError\n",
        "            ### END SOLUTION\n",
        "            self.estimators.append(tree)\n",
        "            \n",
        "            \n",
        "    def predict(self, X):\n",
        "        \"\"\"Make prediction by the model on data X.\"\"\"\n",
        "        predictions = np.array([self.average]*X.shape[0])\n",
        "        for estimator in self.estimators:\n",
        "            predictions += 0 # None\n",
        "            \n",
        "            predictions += self.learning_rate*estimator.predict(X)\n",
        "            \n",
        "        return predictions\n",
        "    \n",
        "    \n",
        "    def staged_predict(self, X):\n",
        "        \"\"\"A generator which returns the prediction at each boosting iteration.\"\"\"\n",
        "        predictions = np.array([self.average]*X.shape[0])\n",
        "        \n",
        "        for estimator in self.estimators:\n",
        "            predictions += self.learning_rate*estimator.predict(X)\n",
        "            yield predictions\n",
        "\n",
        "        "
      ]
    },
    {
      "cell_type": "code",
      "execution_count": 50,
      "metadata": {
        "deletable": false,
        "editable": false,
        "id": "Y9jBuEOTwsLC",
        "nbgrader": {
          "cell_type": "code",
          "checksum": "6e0d662a4771db4f854363df6da93418",
          "grade": true,
          "grade_id": "cell-b9efbc219be797d3",
          "locked": true,
          "points": 5,
          "schema_version": 3,
          "solution": false,
          "task": false
        },
        "tags": [
          "Ex-10-Task-1"
        ]
      },
      "outputs": [],
      "source": [
        "model = Gradient_Boosting_Regressor()\n",
        "model.fit(X_train, y_train)\n",
        "assert not np.array_equal(model.predict(X_train), np.array([np.mean(y_train)]*len(y_train))), \"Make sure you have implemented the code for fit and predict methods.\"\n"
      ]
    },
    {
      "cell_type": "markdown",
      "metadata": {
        "deletable": false,
        "editable": false,
        "id": "lZQXk1LKwsLK",
        "nbgrader": {
          "cell_type": "markdown",
          "checksum": "f37fc33a70b7a7787b3a386eb36bbe32",
          "grade": false,
          "grade_id": "cell-923533ed49764d9a",
          "locked": true,
          "schema_version": 3,
          "solution": false,
          "task": false
        }
      },
      "source": [
        "## Evaluation and Comparision\n",
        "In this and coming sections, we will first evaluate the gradient boosting regressor that we just built from scratch and then compare it with the Sklearn's gradient boosting regressor."
      ]
    },
    {
      "cell_type": "markdown",
      "metadata": {
        "deletable": false,
        "editable": false,
        "id": "6lBICO5cwsLL",
        "nbgrader": {
          "cell_type": "markdown",
          "checksum": "bf7079289461f0a4521138fd8cb9014f",
          "grade": false,
          "grade_id": "cell-b6c7066b96b6b819",
          "locked": true,
          "schema_version": 3,
          "solution": false,
          "task": false
        }
      },
      "source": [
        "Let's see how our model has performed."
      ]
    },
    {
      "cell_type": "code",
      "execution_count": 51,
      "metadata": {
        "deletable": false,
        "editable": false,
        "id": "eEDtuZTewsLM",
        "nbgrader": {
          "cell_type": "code",
          "checksum": "870eed9ae359e68d63fc4885c9f386b4",
          "grade": false,
          "grade_id": "cell-c2a36747339e6a0f",
          "locked": true,
          "schema_version": 3,
          "solution": false,
          "task": false
        },
        "colab": {
          "base_uri": "https://localhost:8080/"
        },
        "outputId": "ceb45439-6973-4a63-a561-369aa1e4fde0"
      },
      "outputs": [
        {
          "output_type": "stream",
          "name": "stdout",
          "text": [
            "r2_score: 0.168975698405175\n"
          ]
        }
      ],
      "source": [
        "from sklearn.metrics import r2_score\n",
        "\n",
        "custom_gbm = Gradient_Boosting_Regressor(learning_rate = 0.2, max_depth = 3, n_estimators = 4)\n",
        "custom_gbm.fit(X_train, y_train)\n",
        "\n",
        "\n",
        "print(\"r2_score:\", r2_score(y_test, custom_gbm.predict(X_test)))"
      ]
    },
    {
      "cell_type": "markdown",
      "metadata": {
        "deletable": false,
        "editable": false,
        "id": "beLuCubewsLR",
        "nbgrader": {
          "cell_type": "markdown",
          "checksum": "cb1143a69d62ad1171ba71716f7850c8",
          "grade": false,
          "grade_id": "cell-4bbd2fbc84269c97",
          "locked": true,
          "schema_version": 3,
          "solution": false,
          "task": false
        }
      },
      "source": [
        "### Visualization\n",
        "Let's see if the prediction gets improved with the added estimators. Here we will plot the actual and predicted target value."
      ]
    },
    {
      "cell_type": "code",
      "execution_count": 52,
      "metadata": {
        "deletable": false,
        "editable": false,
        "id": "unyAB9CRwsLS",
        "nbgrader": {
          "cell_type": "code",
          "checksum": "87da27857bc3f08915ae8b5a8ac1148a",
          "grade": false,
          "grade_id": "cell-0859ece951bdb673",
          "locked": true,
          "schema_version": 3,
          "solution": false,
          "task": false
        },
        "colab": {
          "base_uri": "https://localhost:8080/",
          "height": 339
        },
        "outputId": "86d867e9-2550-43bf-9139-b0590b86a22d"
      },
      "outputs": [
        {
          "output_type": "display_data",
          "data": {
            "text/plain": [
              "<Figure size 1440x324 with 4 Axes>"
            ],
            "image/png": "[encoded data removed]"
          },
          "metadata": {
            "needs_background": "light"
          }
        }
      ],
      "source": [
        "fig, ax = plt.subplots(1,4, figsize = (20,4.5), sharex = True)\n",
        "fig.suptitle(\"Prediction made by our custom gradient boosting regressor\")\n",
        "for i, pred in enumerate(custom_gbm.staged_predict(X_test)):\n",
        "    ax[i].scatter(y_test, pred, marker = 'o')\n",
        "    ax[i].set_title(\"n_estimators={}; r2_score={:04.2f}\".format(i+1, r2_score(y_test, pred)))\n",
        "    ax[i].set_xlabel(\"Actual value\")\n",
        "    ax[i].set_ylabel(\"Predicted value\")\n",
        "plt.show()"
      ]
    },
    {
      "cell_type": "markdown",
      "metadata": {
        "deletable": false,
        "editable": false,
        "id": "a28anUbpwsLV",
        "nbgrader": {
          "cell_type": "markdown",
          "checksum": "71986ca2206afe668c27ec2ebae9402e",
          "grade": false,
          "grade_id": "cell-95ef400d33ab74e6",
          "locked": true,
          "schema_version": 3,
          "solution": false,
          "task": false
        }
      },
      "source": [
        "#### Q5: With our custom gradient boosting regressor, the prediction has ______ with boosting iteration?\n",
        "<b><div style=\"text-align: right\">[UNGRADED]</div></b>\n",
        "\n",
        "---\n",
        "Select the best option.\n",
        "\n",
        "1. improved\n",
        "\n",
        "2. degraded\n",
        "\n",
        "3. remained same\n",
        "\n",
        "\n",
        "__Task:__\n",
        "You just need to put the correct option number on the variable `correct_option5`.\n",
        "If your answer is degraded, assign `correct_option5 = 1` and so on.\n"
      ]
    },
    {
      "cell_type": "code",
      "execution_count": 53,
      "metadata": {
        "deletable": false,
        "id": "oQv2PyUWwsLV",
        "nbgrader": {
          "cell_type": "code",
          "checksum": "6e494b245f744fad8221ca63fd6468fe",
          "grade": false,
          "grade_id": "cell-76698c8e472078b9",
          "locked": false,
          "schema_version": 3,
          "solution": true,
          "task": false
        },
        "tags": [
          "Ex-10-Task-2"
        ]
      },
      "outputs": [],
      "source": [
        "### Ex-10-Task-2\n",
        "\n",
        "correct_option5 = None\n",
        "### BEGIN SOLUTION\n",
        "# your code here\n",
        "correct_option5 = 3\n",
        "\n",
        "# raise NotImplementedError\n",
        "### END SOLUTION"
      ]
    },
    {
      "cell_type": "code",
      "execution_count": 54,
      "metadata": {
        "deletable": false,
        "editable": false,
        "id": "39wF8tIVwsLa",
        "nbgrader": {
          "cell_type": "code",
          "checksum": "00948eca5c9e17c3728a92fdbe6c08a4",
          "grade": true,
          "grade_id": "cell-f90c0c9bb300b864",
          "locked": true,
          "points": 0,
          "schema_version": 3,
          "solution": false,
          "task": false
        },
        "tags": [
          "Ex-10-Task-2"
        ]
      },
      "outputs": [],
      "source": [
        "assert correct_option5 is not None"
      ]
    },
    {
      "cell_type": "code",
      "source": [
        ""
      ],
      "metadata": {
        "id": "E_5vn2C-O_yw"
      },
      "execution_count": 54,
      "outputs": []
    },
    {
      "cell_type": "markdown",
      "metadata": {
        "deletable": false,
        "editable": false,
        "id": "lOwaWEnOwsLf",
        "nbgrader": {
          "cell_type": "markdown",
          "checksum": "349f8ae66851ebc02513a2233cbcd678",
          "grade": false,
          "grade_id": "cell-b4c1f0242df52fde",
          "locked": true,
          "schema_version": 3,
          "solution": false,
          "task": false
        }
      },
      "source": [
        "### Gradient Boosting Regressor in sklearn\n",
        "Let's see how our model compared with the gradient boosting regressor in sklearn.\n",
        "\n",
        "### Exercise 11: Training Sklearn's GradientBoostingRegressor\n",
        "\n",
        "---\n",
        "<b><div style=\"text-align: right\">[POINTS: Ungraded]</div></b>\n",
        "\n",
        "In this exercise, we are going to train Sklearn's GradientBoostingRegressor.\n",
        "\n",
        "**Task:** \n",
        "- Create an object `gbm` of the `GradientBoostingRegressor` class setting criterion to `squared_error`, n_estimators to 4, max_depth to 3, learning_rate to 0.2 and random_state to RANDOM_STATE.\n",
        "- Fit the object on the training set `X_train`, and `y_train`.\n",
        "\n"
      ]
    },
    {
      "cell_type": "code",
      "execution_count": 55,
      "metadata": {
        "deletable": false,
        "id": "_se8m4-qwsLf",
        "nbgrader": {
          "cell_type": "code",
          "checksum": "c78544f33db6b6b92df21756fe92c68b",
          "grade": false,
          "grade_id": "cell-f5b4d71276ea35b7",
          "locked": false,
          "schema_version": 3,
          "solution": true,
          "task": false
        },
        "tags": [
          "Ex-11-Task-1"
        ],
        "colab": {
          "base_uri": "https://localhost:8080/"
        },
        "outputId": "6568b63f-233b-42d6-c190-b304458a5d94"
      },
      "outputs": [
        {
          "output_type": "stream",
          "name": "stdout",
          "text": [
            "r2_score:  0.5787669653951846\n"
          ]
        }
      ],
      "source": [
        "### Ex-11-Task-1\n",
        "from sklearn.ensemble import GradientBoostingRegressor\n",
        "\n",
        "gbm = None\n",
        "# Fit the model \n",
        "### BEGIN SOLUTION\n",
        "# your code here\n",
        "gbm = GradientBoostingRegressor(learning_rate = 0.2, max_depth = 3, n_estimators = 4, random_state = RANDOM_STATE, criterion='squared_error').fit(X_train, y_train)\n",
        "# raise NotImplementedError\n",
        "### END SOLUTION\n",
        "print(\"r2_score: \", r2_score(y_test, gbm.predict(X_test)))"
      ]
    },
    {
      "cell_type": "code",
      "execution_count": 56,
      "metadata": {
        "deletable": false,
        "editable": false,
        "id": "5P9ZkU5TwsLl",
        "nbgrader": {
          "cell_type": "code",
          "checksum": "b8e4c6c4a2d5c5a97340a89ed735a0ad",
          "grade": true,
          "grade_id": "cell-6e7715fbea42734b",
          "locked": true,
          "points": 0,
          "schema_version": 3,
          "solution": false,
          "task": false
        },
        "tags": [
          "Ex-11-Task-1"
        ]
      },
      "outputs": [],
      "source": [
        "assert gbm is not None"
      ]
    },
    {
      "cell_type": "markdown",
      "metadata": {
        "deletable": false,
        "editable": false,
        "id": "FNI07SztwsLq",
        "nbgrader": {
          "cell_type": "markdown",
          "checksum": "f371ceaa33e64122fcdab4ac0449c32c",
          "grade": false,
          "grade_id": "cell-2b0adfbae73edfa0",
          "locked": true,
          "schema_version": 3,
          "solution": false,
          "task": false
        }
      },
      "source": [
        "### Visualization\n",
        "Let's visualize how the prediction made by Sklearn's gradient boosting regressor looks."
      ]
    },
    {
      "cell_type": "code",
      "execution_count": 57,
      "metadata": {
        "deletable": false,
        "editable": false,
        "id": "ZN1qS2i1wsLq",
        "nbgrader": {
          "cell_type": "code",
          "checksum": "dc84290d44f230922a8fe746ed0c91e6",
          "grade": false,
          "grade_id": "cell-ce8cf5516f17bcbf",
          "locked": true,
          "schema_version": 3,
          "solution": false,
          "task": false
        },
        "colab": {
          "base_uri": "https://localhost:8080/",
          "height": 370
        },
        "outputId": "7c368c8f-ae42-4ceb-8156-ca4a6918d782"
      },
      "outputs": [
        {
          "output_type": "display_data",
          "data": {
            "text/plain": [
              "<Figure size 1440x360 with 4 Axes>"
            ],
            "image/png": "[encoded data removed]"
          },
          "metadata": {
            "needs_background": "light"
          }
        }
      ],
      "source": [
        "fig, ax = plt.subplots(1,4, figsize = (20,5), sharex = True, sharey=True)\n",
        "fig.suptitle(\"Prediction made by sklearn's gradient boosting regressor\")\n",
        "for i, pred in enumerate(gbm.staged_predict(X_test)):\n",
        "    ax[i].scatter(y_test, pred, marker = 'o')\n",
        "    ax[i].set_title(\"n_estimators={}; r2_score={:04.2f}\".format(i+1, r2_score(y_test, pred)))\n",
        "    ax[i].set_xlabel(\"Actual value\")\n",
        "    ax[i].set_ylabel(\"Predicted value\")\n",
        "plt.show()"
      ]
    },
    {
      "cell_type": "markdown",
      "metadata": {
        "deletable": false,
        "editable": false,
        "id": "aQNwznniwsLt",
        "nbgrader": {
          "cell_type": "markdown",
          "checksum": "ffbc5bdcdec31285d2add3308d4c07dd",
          "grade": false,
          "grade_id": "cell-39c8f97d55d679e1",
          "locked": true,
          "schema_version": 3,
          "solution": false,
          "task": false
        }
      },
      "source": [
        "#### Q6: Based on the above two plots, the performance of Sklearn's gradient boosting regressor is ______ our custom gradient boosting regressor?\n",
        "<b><div style=\"text-align: right\">[UNGRADED]</div></b>\n",
        "\n",
        "---\n",
        "Select the best option.\n",
        "\n",
        "1. better than\n",
        "\n",
        "2. worse than\n",
        "\n",
        "3. same as\n",
        "\n",
        "\n",
        "__Task:__\n",
        "You just need to put the correct option number on the variable `correct_option6`.\n",
        "If your answer is same as, assign `correct_option6 = 3` and so on.\n"
      ]
    },
    {
      "cell_type": "code",
      "execution_count": 58,
      "metadata": {
        "deletable": false,
        "id": "h6-7FqRhwsLu",
        "nbgrader": {
          "cell_type": "code",
          "checksum": "2025943f6a17f20a5c2602152e70f651",
          "grade": false,
          "grade_id": "cell-ebdf39b6063cca4b",
          "locked": false,
          "schema_version": 3,
          "solution": true,
          "task": false
        },
        "tags": [
          "Ex-11-Task-2"
        ]
      },
      "outputs": [],
      "source": [
        "### Ex-11-Task-2\n",
        "\n",
        "correct_option6 = None\n",
        "### BEGIN SOLUTION\n",
        "# your code here\n",
        "correct_option6 = 1\n",
        "# raise NotImplementedError\n",
        "### END SOLUTION"
      ]
    },
    {
      "cell_type": "code",
      "execution_count": 59,
      "metadata": {
        "deletable": false,
        "editable": false,
        "id": "JGF7fuyawsL4",
        "nbgrader": {
          "cell_type": "code",
          "checksum": "ea992f7208a9bbecb3ba36330db663cf",
          "grade": true,
          "grade_id": "cell-2c6a58ebdfbd093d",
          "locked": true,
          "points": 0,
          "schema_version": 3,
          "solution": false,
          "task": false
        },
        "tags": [
          "Ex-11-Task-2"
        ]
      },
      "outputs": [],
      "source": [
        "assert correct_option6 is not None"
      ]
    },
    {
      "cell_type": "markdown",
      "metadata": {
        "deletable": false,
        "editable": false,
        "id": "bv3aMhnXwsL7",
        "nbgrader": {
          "cell_type": "markdown",
          "checksum": "77d53610f63cb47e0471f00980b7de87",
          "grade": false,
          "grade_id": "cell-0bbfda43b17a9cd1",
          "locked": true,
          "schema_version": 3,
          "solution": false,
          "task": false
        }
      },
      "source": [
        "### Loss vs. boosting iterations\n",
        "We will plot the value of mse loss at different iterations to visualize how the model's performance has improved. The function `learning_curve()` plots the mse of training and test data at each boosting iteration."
      ]
    },
    {
      "cell_type": "code",
      "execution_count": 60,
      "metadata": {
        "deletable": false,
        "editable": false,
        "id": "IMxRSx_CwsL8",
        "nbgrader": {
          "cell_type": "code",
          "checksum": "e2e7f7c29ef49686b431693297320b51",
          "grade": false,
          "grade_id": "cell-815d662048750719",
          "locked": true,
          "schema_version": 3,
          "solution": false,
          "task": false
        }
      },
      "outputs": [],
      "source": [
        "from sklearn.metrics import mean_squared_error as mse\n",
        "\n",
        "\n",
        "def learning_curve(clf):\n",
        "    train_mse = []\n",
        "    test_mse = []\n",
        "    for pred in clf.staged_predict(X_train):\n",
        "        train_mse.append(mse(y_train, pred))\n",
        "    for pred in clf.staged_predict(X_test):\n",
        "        test_mse.append(mse(y_test, pred))\n",
        "    plt.plot(np.arange(clf.n_estimators)+1, train_mse, 'r', label= \"Training\")\n",
        "    plt.plot(np.arange(clf.n_estimators)+1, test_mse, 'b', label = \"Testing\")\n",
        "    plt.xlabel(\"Iterations\")\n",
        "    plt.ylabel(\"MSE loss\")\n",
        "    plt.legend()\n",
        "    plt.show()"
      ]
    },
    {
      "cell_type": "code",
      "execution_count": 61,
      "metadata": {
        "deletable": false,
        "editable": false,
        "id": "bKa9EcY0wsL-",
        "nbgrader": {
          "cell_type": "code",
          "checksum": "88cb1d93ccf5f37eb5c4eb9b17702897",
          "grade": false,
          "grade_id": "cell-b80c279d4f96b3cd",
          "locked": true,
          "schema_version": 3,
          "solution": false,
          "task": false
        },
        "colab": {
          "base_uri": "https://localhost:8080/",
          "height": 314
        },
        "outputId": "c7e3d364-23e0-4588-c0a8-ba30cfa89b05"
      },
      "outputs": [
        {
          "output_type": "display_data",
          "data": {
            "text/plain": [
              "<Figure size 432x288 with 1 Axes>"
            ],
            "image/png": "[encoded data removed]"
          },
          "metadata": {
            "needs_background": "light"
          }
        },
        {
          "output_type": "stream",
          "name": "stdout",
          "text": [
            "MSE: 7685.927149928592\n",
            "r2_score 0.007324585788913485\n"
          ]
        }
      ],
      "source": [
        "custom_clf = Gradient_Boosting_Regressor(n_estimators = 100, max_depth = 1, learning_rate = 0.1)\n",
        "custom_clf.fit(X_train, y_train)\n",
        "learning_curve(custom_clf)\n",
        "print(\"MSE:\" ,mse(y_test, custom_clf.predict(X_test)))\n",
        "print(\"r2_score\" ,r2_score(y_test, custom_clf.predict(X_test)))"
      ]
    },
    {
      "cell_type": "code",
      "execution_count": 62,
      "metadata": {
        "deletable": false,
        "editable": false,
        "id": "Yx8n8ElVwsMC",
        "nbgrader": {
          "cell_type": "code",
          "checksum": "da38df50a80d5b8b9b162f4d340ea6dc",
          "grade": false,
          "grade_id": "cell-0859ee6d5bae40dd",
          "locked": true,
          "schema_version": 3,
          "solution": false,
          "task": false
        },
        "colab": {
          "base_uri": "https://localhost:8080/",
          "height": 314
        },
        "outputId": "1f741286-d98c-49a2-b113-4235fc3a7cdc"
      },
      "outputs": [
        {
          "output_type": "display_data",
          "data": {
            "text/plain": [
              "<Figure size 432x288 with 1 Axes>"
            ],
            "image/png": "[encoded data removed]"
          },
          "metadata": {
            "needs_background": "light"
          }
        },
        {
          "output_type": "stream",
          "name": "stdout",
          "text": [
            "MSE: 1028.0919898541258\n",
            "r2_score 0.8672168468465088\n"
          ]
        }
      ],
      "source": [
        "clf = GradientBoostingRegressor(n_estimators = 100, max_depth = 1, learning_rate = 0.1, criterion = 'squared_error')\n",
        "clf.fit(X_train, y_train)\n",
        "learning_curve(clf)\n",
        "print(\"MSE:\", mse(y_test, clf.predict(X_test)))\n",
        "print(\"r2_score\", r2_score(y_test, clf.predict(X_test)))"
      ]
    },
    {
      "cell_type": "markdown",
      "metadata": {
        "deletable": false,
        "editable": false,
        "id": "v9EZ-Z1MwsMF",
        "nbgrader": {
          "cell_type": "markdown",
          "checksum": "a58e9dc9c15fbfcffda3e438f3c78367",
          "grade": false,
          "grade_id": "cell-147a5eaca6518f8e",
          "locked": true,
          "schema_version": 3,
          "solution": false,
          "task": false
        }
      },
      "source": [
        "#### Q7: Based on the learning curve, the performance of Sklearn's gradient boosting regressor is ______ our custom gradient boosting regressor?\n",
        "<b><div style=\"text-align: right\">[UNGRADED]</div></b>\n",
        "\n",
        "---\n",
        "\n",
        "Select the best option.\n",
        "\n",
        "1. better than\n",
        "\n",
        "2. worse than\n",
        "\n",
        "3. same as\n",
        "\n",
        "\n",
        "__Task:__\n",
        "You just need to put the correct option number on the variable `correct_option7`.\n",
        "If your answer is same as, assign `correct_option7 = 3` and so on.\n"
      ]
    },
    {
      "cell_type": "code",
      "execution_count": 64,
      "metadata": {
        "deletable": false,
        "id": "46qOOEiywsMF",
        "nbgrader": {
          "cell_type": "code",
          "checksum": "e65fb4bbe66f280fc8c793b01d9d40ac",
          "grade": false,
          "grade_id": "cell-0504746e027897c4",
          "locked": false,
          "schema_version": 3,
          "solution": true,
          "task": false
        },
        "tags": [
          "Ex-11-Task-3"
        ]
      },
      "outputs": [],
      "source": [
        "### Ex-11-Task-3\n",
        "correct_option7 = None\n",
        "### BEGIN SOLUTION\n",
        "# your code here\n",
        "correct_option7 = 1\n",
        "# raise NotImplementedError\n",
        "### END SOLUTION"
      ]
    },
    {
      "cell_type": "code",
      "execution_count": 65,
      "metadata": {
        "deletable": false,
        "editable": false,
        "id": "_YBheC4rwsMH",
        "nbgrader": {
          "cell_type": "code",
          "checksum": "4efa499d42216f44ac571709cf0bd767",
          "grade": true,
          "grade_id": "cell-4e6f62c6129f451d",
          "locked": true,
          "points": 0,
          "schema_version": 3,
          "solution": false,
          "task": false
        },
        "tags": [
          "Ex-11-Task-3"
        ]
      },
      "outputs": [],
      "source": [
        "assert correct_option7 is not None"
      ]
    },
    {
      "cell_type": "markdown",
      "metadata": {
        "deletable": false,
        "editable": false,
        "id": "O7Pq0ki3wsMJ",
        "nbgrader": {
          "cell_type": "markdown",
          "checksum": "fd0292bf7384c664f59fefd81ee78b88",
          "grade": false,
          "grade_id": "cell-33338344697315bb",
          "locked": true,
          "schema_version": 3,
          "solution": false,
          "task": false
        }
      },
      "source": [
        "__Congratulation!!!!!!!!!!!!!__\n",
        "\n",
        "__You have completed the assignment__"
      ]
    }
  ],
  "metadata": {
    "colab": {
      "collapsed_sections": [
        "M46PQhAKwsKj",
        "eciMTlsjwsKo",
        "beLuCubewsLR",
        "a28anUbpwsLV",
        "lOwaWEnOwsLf",
        "FNI07SztwsLq",
        "aQNwznniwsLt",
        "bv3aMhnXwsL7",
        "v9EZ-Z1MwsMF"
      ],
      "name": "EnsembleAssignment_Student_solution.ipynb",
      "provenance": []
    },
    "kernelspec": {
      "display_name": "Python 3 (ipykernel)",
      "language": "python",
      "name": "python3"
    },
    "language_info": {
      "codemirror_mode": {
        "name": "ipython",
        "version": 3
      },
      "file_extension": ".py",
      "mimetype": "text/x-python",
      "name": "python",
      "nbconvert_exporter": "python",
      "pygments_lexer": "ipython3",
      "version": "3.7.3"
    }
  },
  "nbformat": 4,
  "nbformat_minor": 0
}